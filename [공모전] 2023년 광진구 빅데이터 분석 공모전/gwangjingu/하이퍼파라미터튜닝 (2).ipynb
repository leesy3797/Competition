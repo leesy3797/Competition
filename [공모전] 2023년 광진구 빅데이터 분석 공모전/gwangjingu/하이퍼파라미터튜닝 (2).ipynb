{
  "cells": [
    {
      "cell_type": "code",
      "source": [
        "!sudo apt-get install -y fonts-nanum\n",
        "!sudo fc-cache -fv\n",
        "!rm ~/.cache/matplotlib -rf"
      ],
      "metadata": {
        "colab": {
          "base_uri": "https://localhost:8080/"
        },
        "id": "ExWsjcuMBtUi",
        "outputId": "62dd77c6-7b1f-45d0-d95a-7d55937299ed"
      },
      "id": "ExWsjcuMBtUi",
      "execution_count": 16,
      "outputs": [
        {
          "output_type": "stream",
          "name": "stdout",
          "text": [
            "Reading package lists... Done\n",
            "Building dependency tree       \n",
            "Reading state information... Done\n",
            "fonts-nanum is already the newest version (20180306-3).\n",
            "0 upgraded, 0 newly installed, 0 to remove and 24 not upgraded.\n",
            "/usr/share/fonts: caching, new cache contents: 0 fonts, 1 dirs\n",
            "/usr/share/fonts/truetype: caching, new cache contents: 0 fonts, 3 dirs\n",
            "/usr/share/fonts/truetype/humor-sans: caching, new cache contents: 1 fonts, 0 dirs\n",
            "/usr/share/fonts/truetype/liberation: caching, new cache contents: 16 fonts, 0 dirs\n",
            "/usr/share/fonts/truetype/nanum: caching, new cache contents: 10 fonts, 0 dirs\n",
            "/usr/local/share/fonts: caching, new cache contents: 0 fonts, 0 dirs\n",
            "/root/.local/share/fonts: skipping, no such directory\n",
            "/root/.fonts: skipping, no such directory\n",
            "/usr/share/fonts/truetype: skipping, looped directory detected\n",
            "/usr/share/fonts/truetype/humor-sans: skipping, looped directory detected\n",
            "/usr/share/fonts/truetype/liberation: skipping, looped directory detected\n",
            "/usr/share/fonts/truetype/nanum: skipping, looped directory detected\n",
            "/var/cache/fontconfig: cleaning cache directory\n",
            "/root/.cache/fontconfig: not cleaning non-existent cache directory\n",
            "/root/.fontconfig: not cleaning non-existent cache directory\n",
            "fc-cache: succeeded\n"
          ]
        }
      ]
    },
    {
      "cell_type": "markdown",
      "id": "9d86ab88",
      "metadata": {
        "id": "9d86ab88"
      },
      "source": [
        "# 1.라이브러리 및 데이터 로드"
      ]
    },
    {
      "cell_type": "code",
      "execution_count": 17,
      "id": "6a12fc76",
      "metadata": {
        "colab": {
          "base_uri": "https://localhost:8080/",
          "height": 17
        },
        "id": "6a12fc76",
        "outputId": "0dc5e1fc-1bae-4452-cc7a-02671ad48e96"
      },
      "outputs": [
        {
          "output_type": "display_data",
          "data": {
            "text/plain": [
              "<IPython.core.display.HTML object>"
            ],
            "text/html": [
              "<style>.container {width:80% !important;}</style>"
            ]
          },
          "metadata": {}
        }
      ],
      "source": [
        "from IPython.core.display import display, HTML\n",
        "display(HTML(\"<style>.container {width:80% !important;}</style>\"))\n",
        "%matplotlib inline\n",
        "\n",
        "import pandas as pd\n",
        "import matplotlib as mpl\n",
        "import matplotlib.pyplot as plt\n",
        "import seaborn as sns\n",
        "import numpy as np\n",
        "from scipy import stats\n",
        "import warnings\n",
        "warnings.filterwarnings('ignore')\n",
        "\n",
        "mpl.rcParams['figure.figsize'] = (12,8)  #시각화 figure default 설정\n",
        "mpl.rcParams['font.family'] = 'NanumGothic' #폰트 디폴트 설정\n",
        "mpl.rcParams['font.size'] = 10    #폰트 사이즈 디폴트 설정\n",
        "plt.rcParams['axes.unicode_minus'] = False\n",
        "%config InlineBackend.figure_format='retina' # 그래프 글씨 뚜렷"
      ]
    },
    {
      "cell_type": "code",
      "execution_count": 18,
      "id": "13130497",
      "metadata": {
        "colab": {
          "base_uri": "https://localhost:8080/"
        },
        "id": "13130497",
        "outputId": "ab918bd3-fe1e-4b97-c1cd-f7a60792201a"
      },
      "outputs": [
        {
          "output_type": "execute_result",
          "data": {
            "text/plain": [
              "['.config', '최종광진구0502.csv', 'catboost_info', 'sample_data']"
            ]
          },
          "metadata": {},
          "execution_count": 18
        }
      ],
      "source": [
        "import os\n",
        "os.listdir()"
      ]
    },
    {
      "cell_type": "code",
      "execution_count": 19,
      "id": "4c39ece3",
      "metadata": {
        "id": "4c39ece3"
      },
      "outputs": [],
      "source": [
        "df = pd.read_csv('최종광진구0502.csv')"
      ]
    },
    {
      "cell_type": "code",
      "execution_count": 20,
      "id": "1009f1ce",
      "metadata": {
        "scrolled": false,
        "colab": {
          "base_uri": "https://localhost:8080/"
        },
        "id": "1009f1ce",
        "outputId": "274efdcd-735c-4b9c-97e6-6e90c3e95c86"
      },
      "outputs": [
        {
          "output_type": "execute_result",
          "data": {
            "text/plain": [
              "0    87.95\n",
              "1    12.05\n",
              "Name: 전기차충전기유무, dtype: float64"
            ]
          },
          "metadata": {},
          "execution_count": 20
        }
      ],
      "source": [
        "round(df[\"전기차충전기유무\"].value_counts() / df.shape[0] * 100, 2)"
      ]
    },
    {
      "cell_type": "code",
      "source": [
        "df"
      ],
      "metadata": {
        "colab": {
          "base_uri": "https://localhost:8080/",
          "height": 519
        },
        "id": "gupHm01o2cmS",
        "outputId": "7be37b36-7b3d-43c8-c22d-144e10900a4c"
      },
      "id": "gupHm01o2cmS",
      "execution_count": 21,
      "outputs": [
        {
          "output_type": "execute_result",
          "data": {
            "text/plain": [
              "       fid   id           left            top          right         bottom  \\\n",
              "0        1  790  206153.585523  449218.165378  206253.585523  449118.165378   \n",
              "1        2  791  206153.585523  449118.165378  206253.585523  449018.165378   \n",
              "2        3  788  206153.585523  449418.165378  206253.585523  449318.165378   \n",
              "3        4  789  206153.585523  449318.165378  206253.585523  449218.165378   \n",
              "4        5  786  206153.585523  449618.165378  206253.585523  449518.165378   \n",
              "...    ...  ...            ...            ...            ...            ...   \n",
              "1090  1925  780  206153.585523  450218.165378  206253.585523  450118.165378   \n",
              "1091  1927  781  206153.585523  450118.165378  206253.585523  450018.165378   \n",
              "1092  1929  778  206153.585523  450418.165378  206253.585523  450318.165378   \n",
              "1093  1931  779  206153.585523  450318.165378  206253.585523  450218.165378   \n",
              "1094  1933  777  206153.585523  450518.165378  206253.585523  450418.165378   \n",
              "\n",
              "      관광여가오락수  교육수  부동산수  생활서비스수  ...  병원수  어린이집수  학교수_y  공영주차장수  전기차충전기수  \\\n",
              "0           0    0     0       3  ...    0      0      0       0        0   \n",
              "1           7    0     0       3  ...    0      0      0       0        0   \n",
              "2           4    3     1       5  ...    4      1      0       0        0   \n",
              "3           1    0     1       4  ...    0      0      0       0        0   \n",
              "4           0    1     2       5  ...    0      0      0       0        0   \n",
              "...       ...  ...   ...     ...  ...  ...    ...    ...     ...      ...   \n",
              "1090        1    0     0       3  ...    0      2      0       0        0   \n",
              "1091        1    5     0       3  ...    5      0      0       0        0   \n",
              "1092        0    0     0       2  ...    0      2      0       0        0   \n",
              "1093        0    0     2       3  ...    0      0      0       0        0   \n",
              "1094        0    0     0       1  ...    0      0      0       0        0   \n",
              "\n",
              "      급속충전기수  완속충전기수  전기차충전기유무  급속충전기유무  완속충전기유무  \n",
              "0          0       0         0        0        0  \n",
              "1          0       0         0        0        0  \n",
              "2          0       0         0        0        0  \n",
              "3          0       0         0        0        0  \n",
              "4          0       0         0        0        0  \n",
              "...      ...     ...       ...      ...      ...  \n",
              "1090       0       0         0        0        0  \n",
              "1091       0       0         0        0        0  \n",
              "1092       0       0         0        0        0  \n",
              "1093       0       0         0        0        0  \n",
              "1094       0       0         0        0        0  \n",
              "\n",
              "[1095 rows x 41 columns]"
            ],
            "text/html": [
              "\n",
              "  <div id=\"df-852ad930-e097-4fa7-9740-fe13e20641d3\">\n",
              "    <div class=\"colab-df-container\">\n",
              "      <div>\n",
              "<style scoped>\n",
              "    .dataframe tbody tr th:only-of-type {\n",
              "        vertical-align: middle;\n",
              "    }\n",
              "\n",
              "    .dataframe tbody tr th {\n",
              "        vertical-align: top;\n",
              "    }\n",
              "\n",
              "    .dataframe thead th {\n",
              "        text-align: right;\n",
              "    }\n",
              "</style>\n",
              "<table border=\"1\" class=\"dataframe\">\n",
              "  <thead>\n",
              "    <tr style=\"text-align: right;\">\n",
              "      <th></th>\n",
              "      <th>fid</th>\n",
              "      <th>id</th>\n",
              "      <th>left</th>\n",
              "      <th>top</th>\n",
              "      <th>right</th>\n",
              "      <th>bottom</th>\n",
              "      <th>관광여가오락수</th>\n",
              "      <th>교육수</th>\n",
              "      <th>부동산수</th>\n",
              "      <th>생활서비스수</th>\n",
              "      <th>...</th>\n",
              "      <th>병원수</th>\n",
              "      <th>어린이집수</th>\n",
              "      <th>학교수_y</th>\n",
              "      <th>공영주차장수</th>\n",
              "      <th>전기차충전기수</th>\n",
              "      <th>급속충전기수</th>\n",
              "      <th>완속충전기수</th>\n",
              "      <th>전기차충전기유무</th>\n",
              "      <th>급속충전기유무</th>\n",
              "      <th>완속충전기유무</th>\n",
              "    </tr>\n",
              "  </thead>\n",
              "  <tbody>\n",
              "    <tr>\n",
              "      <th>0</th>\n",
              "      <td>1</td>\n",
              "      <td>790</td>\n",
              "      <td>206153.585523</td>\n",
              "      <td>449218.165378</td>\n",
              "      <td>206253.585523</td>\n",
              "      <td>449118.165378</td>\n",
              "      <td>0</td>\n",
              "      <td>0</td>\n",
              "      <td>0</td>\n",
              "      <td>3</td>\n",
              "      <td>...</td>\n",
              "      <td>0</td>\n",
              "      <td>0</td>\n",
              "      <td>0</td>\n",
              "      <td>0</td>\n",
              "      <td>0</td>\n",
              "      <td>0</td>\n",
              "      <td>0</td>\n",
              "      <td>0</td>\n",
              "      <td>0</td>\n",
              "      <td>0</td>\n",
              "    </tr>\n",
              "    <tr>\n",
              "      <th>1</th>\n",
              "      <td>2</td>\n",
              "      <td>791</td>\n",
              "      <td>206153.585523</td>\n",
              "      <td>449118.165378</td>\n",
              "      <td>206253.585523</td>\n",
              "      <td>449018.165378</td>\n",
              "      <td>7</td>\n",
              "      <td>0</td>\n",
              "      <td>0</td>\n",
              "      <td>3</td>\n",
              "      <td>...</td>\n",
              "      <td>0</td>\n",
              "      <td>0</td>\n",
              "      <td>0</td>\n",
              "      <td>0</td>\n",
              "      <td>0</td>\n",
              "      <td>0</td>\n",
              "      <td>0</td>\n",
              "      <td>0</td>\n",
              "      <td>0</td>\n",
              "      <td>0</td>\n",
              "    </tr>\n",
              "    <tr>\n",
              "      <th>2</th>\n",
              "      <td>3</td>\n",
              "      <td>788</td>\n",
              "      <td>206153.585523</td>\n",
              "      <td>449418.165378</td>\n",
              "      <td>206253.585523</td>\n",
              "      <td>449318.165378</td>\n",
              "      <td>4</td>\n",
              "      <td>3</td>\n",
              "      <td>1</td>\n",
              "      <td>5</td>\n",
              "      <td>...</td>\n",
              "      <td>4</td>\n",
              "      <td>1</td>\n",
              "      <td>0</td>\n",
              "      <td>0</td>\n",
              "      <td>0</td>\n",
              "      <td>0</td>\n",
              "      <td>0</td>\n",
              "      <td>0</td>\n",
              "      <td>0</td>\n",
              "      <td>0</td>\n",
              "    </tr>\n",
              "    <tr>\n",
              "      <th>3</th>\n",
              "      <td>4</td>\n",
              "      <td>789</td>\n",
              "      <td>206153.585523</td>\n",
              "      <td>449318.165378</td>\n",
              "      <td>206253.585523</td>\n",
              "      <td>449218.165378</td>\n",
              "      <td>1</td>\n",
              "      <td>0</td>\n",
              "      <td>1</td>\n",
              "      <td>4</td>\n",
              "      <td>...</td>\n",
              "      <td>0</td>\n",
              "      <td>0</td>\n",
              "      <td>0</td>\n",
              "      <td>0</td>\n",
              "      <td>0</td>\n",
              "      <td>0</td>\n",
              "      <td>0</td>\n",
              "      <td>0</td>\n",
              "      <td>0</td>\n",
              "      <td>0</td>\n",
              "    </tr>\n",
              "    <tr>\n",
              "      <th>4</th>\n",
              "      <td>5</td>\n",
              "      <td>786</td>\n",
              "      <td>206153.585523</td>\n",
              "      <td>449618.165378</td>\n",
              "      <td>206253.585523</td>\n",
              "      <td>449518.165378</td>\n",
              "      <td>0</td>\n",
              "      <td>1</td>\n",
              "      <td>2</td>\n",
              "      <td>5</td>\n",
              "      <td>...</td>\n",
              "      <td>0</td>\n",
              "      <td>0</td>\n",
              "      <td>0</td>\n",
              "      <td>0</td>\n",
              "      <td>0</td>\n",
              "      <td>0</td>\n",
              "      <td>0</td>\n",
              "      <td>0</td>\n",
              "      <td>0</td>\n",
              "      <td>0</td>\n",
              "    </tr>\n",
              "    <tr>\n",
              "      <th>...</th>\n",
              "      <td>...</td>\n",
              "      <td>...</td>\n",
              "      <td>...</td>\n",
              "      <td>...</td>\n",
              "      <td>...</td>\n",
              "      <td>...</td>\n",
              "      <td>...</td>\n",
              "      <td>...</td>\n",
              "      <td>...</td>\n",
              "      <td>...</td>\n",
              "      <td>...</td>\n",
              "      <td>...</td>\n",
              "      <td>...</td>\n",
              "      <td>...</td>\n",
              "      <td>...</td>\n",
              "      <td>...</td>\n",
              "      <td>...</td>\n",
              "      <td>...</td>\n",
              "      <td>...</td>\n",
              "      <td>...</td>\n",
              "      <td>...</td>\n",
              "    </tr>\n",
              "    <tr>\n",
              "      <th>1090</th>\n",
              "      <td>1925</td>\n",
              "      <td>780</td>\n",
              "      <td>206153.585523</td>\n",
              "      <td>450218.165378</td>\n",
              "      <td>206253.585523</td>\n",
              "      <td>450118.165378</td>\n",
              "      <td>1</td>\n",
              "      <td>0</td>\n",
              "      <td>0</td>\n",
              "      <td>3</td>\n",
              "      <td>...</td>\n",
              "      <td>0</td>\n",
              "      <td>2</td>\n",
              "      <td>0</td>\n",
              "      <td>0</td>\n",
              "      <td>0</td>\n",
              "      <td>0</td>\n",
              "      <td>0</td>\n",
              "      <td>0</td>\n",
              "      <td>0</td>\n",
              "      <td>0</td>\n",
              "    </tr>\n",
              "    <tr>\n",
              "      <th>1091</th>\n",
              "      <td>1927</td>\n",
              "      <td>781</td>\n",
              "      <td>206153.585523</td>\n",
              "      <td>450118.165378</td>\n",
              "      <td>206253.585523</td>\n",
              "      <td>450018.165378</td>\n",
              "      <td>1</td>\n",
              "      <td>5</td>\n",
              "      <td>0</td>\n",
              "      <td>3</td>\n",
              "      <td>...</td>\n",
              "      <td>5</td>\n",
              "      <td>0</td>\n",
              "      <td>0</td>\n",
              "      <td>0</td>\n",
              "      <td>0</td>\n",
              "      <td>0</td>\n",
              "      <td>0</td>\n",
              "      <td>0</td>\n",
              "      <td>0</td>\n",
              "      <td>0</td>\n",
              "    </tr>\n",
              "    <tr>\n",
              "      <th>1092</th>\n",
              "      <td>1929</td>\n",
              "      <td>778</td>\n",
              "      <td>206153.585523</td>\n",
              "      <td>450418.165378</td>\n",
              "      <td>206253.585523</td>\n",
              "      <td>450318.165378</td>\n",
              "      <td>0</td>\n",
              "      <td>0</td>\n",
              "      <td>0</td>\n",
              "      <td>2</td>\n",
              "      <td>...</td>\n",
              "      <td>0</td>\n",
              "      <td>2</td>\n",
              "      <td>0</td>\n",
              "      <td>0</td>\n",
              "      <td>0</td>\n",
              "      <td>0</td>\n",
              "      <td>0</td>\n",
              "      <td>0</td>\n",
              "      <td>0</td>\n",
              "      <td>0</td>\n",
              "    </tr>\n",
              "    <tr>\n",
              "      <th>1093</th>\n",
              "      <td>1931</td>\n",
              "      <td>779</td>\n",
              "      <td>206153.585523</td>\n",
              "      <td>450318.165378</td>\n",
              "      <td>206253.585523</td>\n",
              "      <td>450218.165378</td>\n",
              "      <td>0</td>\n",
              "      <td>0</td>\n",
              "      <td>2</td>\n",
              "      <td>3</td>\n",
              "      <td>...</td>\n",
              "      <td>0</td>\n",
              "      <td>0</td>\n",
              "      <td>0</td>\n",
              "      <td>0</td>\n",
              "      <td>0</td>\n",
              "      <td>0</td>\n",
              "      <td>0</td>\n",
              "      <td>0</td>\n",
              "      <td>0</td>\n",
              "      <td>0</td>\n",
              "    </tr>\n",
              "    <tr>\n",
              "      <th>1094</th>\n",
              "      <td>1933</td>\n",
              "      <td>777</td>\n",
              "      <td>206153.585523</td>\n",
              "      <td>450518.165378</td>\n",
              "      <td>206253.585523</td>\n",
              "      <td>450418.165378</td>\n",
              "      <td>0</td>\n",
              "      <td>0</td>\n",
              "      <td>0</td>\n",
              "      <td>1</td>\n",
              "      <td>...</td>\n",
              "      <td>0</td>\n",
              "      <td>0</td>\n",
              "      <td>0</td>\n",
              "      <td>0</td>\n",
              "      <td>0</td>\n",
              "      <td>0</td>\n",
              "      <td>0</td>\n",
              "      <td>0</td>\n",
              "      <td>0</td>\n",
              "      <td>0</td>\n",
              "    </tr>\n",
              "  </tbody>\n",
              "</table>\n",
              "<p>1095 rows × 41 columns</p>\n",
              "</div>\n",
              "      <button class=\"colab-df-convert\" onclick=\"convertToInteractive('df-852ad930-e097-4fa7-9740-fe13e20641d3')\"\n",
              "              title=\"Convert this dataframe to an interactive table.\"\n",
              "              style=\"display:none;\">\n",
              "        \n",
              "  <svg xmlns=\"http://www.w3.org/2000/svg\" height=\"24px\"viewBox=\"0 0 24 24\"\n",
              "       width=\"24px\">\n",
              "    <path d=\"M0 0h24v24H0V0z\" fill=\"none\"/>\n",
              "    <path d=\"M18.56 5.44l.94 2.06.94-2.06 2.06-.94-2.06-.94-.94-2.06-.94 2.06-2.06.94zm-11 1L8.5 8.5l.94-2.06 2.06-.94-2.06-.94L8.5 2.5l-.94 2.06-2.06.94zm10 10l.94 2.06.94-2.06 2.06-.94-2.06-.94-.94-2.06-.94 2.06-2.06.94z\"/><path d=\"M17.41 7.96l-1.37-1.37c-.4-.4-.92-.59-1.43-.59-.52 0-1.04.2-1.43.59L10.3 9.45l-7.72 7.72c-.78.78-.78 2.05 0 2.83L4 21.41c.39.39.9.59 1.41.59.51 0 1.02-.2 1.41-.59l7.78-7.78 2.81-2.81c.8-.78.8-2.07 0-2.86zM5.41 20L4 18.59l7.72-7.72 1.47 1.35L5.41 20z\"/>\n",
              "  </svg>\n",
              "      </button>\n",
              "      \n",
              "  <style>\n",
              "    .colab-df-container {\n",
              "      display:flex;\n",
              "      flex-wrap:wrap;\n",
              "      gap: 12px;\n",
              "    }\n",
              "\n",
              "    .colab-df-convert {\n",
              "      background-color: #E8F0FE;\n",
              "      border: none;\n",
              "      border-radius: 50%;\n",
              "      cursor: pointer;\n",
              "      display: none;\n",
              "      fill: #1967D2;\n",
              "      height: 32px;\n",
              "      padding: 0 0 0 0;\n",
              "      width: 32px;\n",
              "    }\n",
              "\n",
              "    .colab-df-convert:hover {\n",
              "      background-color: #E2EBFA;\n",
              "      box-shadow: 0px 1px 2px rgba(60, 64, 67, 0.3), 0px 1px 3px 1px rgba(60, 64, 67, 0.15);\n",
              "      fill: #174EA6;\n",
              "    }\n",
              "\n",
              "    [theme=dark] .colab-df-convert {\n",
              "      background-color: #3B4455;\n",
              "      fill: #D2E3FC;\n",
              "    }\n",
              "\n",
              "    [theme=dark] .colab-df-convert:hover {\n",
              "      background-color: #434B5C;\n",
              "      box-shadow: 0px 1px 3px 1px rgba(0, 0, 0, 0.15);\n",
              "      filter: drop-shadow(0px 1px 2px rgba(0, 0, 0, 0.3));\n",
              "      fill: #FFFFFF;\n",
              "    }\n",
              "  </style>\n",
              "\n",
              "      <script>\n",
              "        const buttonEl =\n",
              "          document.querySelector('#df-852ad930-e097-4fa7-9740-fe13e20641d3 button.colab-df-convert');\n",
              "        buttonEl.style.display =\n",
              "          google.colab.kernel.accessAllowed ? 'block' : 'none';\n",
              "\n",
              "        async function convertToInteractive(key) {\n",
              "          const element = document.querySelector('#df-852ad930-e097-4fa7-9740-fe13e20641d3');\n",
              "          const dataTable =\n",
              "            await google.colab.kernel.invokeFunction('convertToInteractive',\n",
              "                                                     [key], {});\n",
              "          if (!dataTable) return;\n",
              "\n",
              "          const docLinkHtml = 'Like what you see? Visit the ' +\n",
              "            '<a target=\"_blank\" href=https://colab.research.google.com/notebooks/data_table.ipynb>data table notebook</a>'\n",
              "            + ' to learn more about interactive tables.';\n",
              "          element.innerHTML = '';\n",
              "          dataTable['output_type'] = 'display_data';\n",
              "          await google.colab.output.renderOutput(dataTable, element);\n",
              "          const docLink = document.createElement('div');\n",
              "          docLink.innerHTML = docLinkHtml;\n",
              "          element.appendChild(docLink);\n",
              "        }\n",
              "      </script>\n",
              "    </div>\n",
              "  </div>\n",
              "  "
            ]
          },
          "metadata": {},
          "execution_count": 21
        }
      ]
    },
    {
      "cell_type": "markdown",
      "source": [
        "# 2.Hyperparameter Tuning"
      ],
      "metadata": {
        "id": "eskLP76iCdAI"
      },
      "id": "eskLP76iCdAI"
    },
    {
      "cell_type": "code",
      "execution_count": 22,
      "id": "264897dd",
      "metadata": {
        "colab": {
          "base_uri": "https://localhost:8080/"
        },
        "id": "264897dd",
        "outputId": "f86e52b2-f8d4-474a-df8b-8adf8fbd077f"
      },
      "outputs": [
        {
          "output_type": "stream",
          "name": "stdout",
          "text": [
            "Looking in indexes: https://pypi.org/simple, https://us-python.pkg.dev/colab-wheels/public/simple/\n",
            "Requirement already satisfied: catboost in /usr/local/lib/python3.10/dist-packages (1.2)\n",
            "Requirement already satisfied: graphviz in /usr/local/lib/python3.10/dist-packages (from catboost) (0.20.1)\n",
            "Requirement already satisfied: six in /usr/local/lib/python3.10/dist-packages (from catboost) (1.16.0)\n",
            "Requirement already satisfied: plotly in /usr/local/lib/python3.10/dist-packages (from catboost) (5.13.1)\n",
            "Requirement already satisfied: scipy in /usr/local/lib/python3.10/dist-packages (from catboost) (1.10.1)\n",
            "Requirement already satisfied: pandas>=0.24 in /usr/local/lib/python3.10/dist-packages (from catboost) (1.5.3)\n",
            "Requirement already satisfied: matplotlib in /usr/local/lib/python3.10/dist-packages (from catboost) (3.7.1)\n",
            "Requirement already satisfied: numpy>=1.16.0 in /usr/local/lib/python3.10/dist-packages (from catboost) (1.22.4)\n",
            "Requirement already satisfied: python-dateutil>=2.8.1 in /usr/local/lib/python3.10/dist-packages (from pandas>=0.24->catboost) (2.8.2)\n",
            "Requirement already satisfied: pytz>=2020.1 in /usr/local/lib/python3.10/dist-packages (from pandas>=0.24->catboost) (2022.7.1)\n",
            "Requirement already satisfied: pyparsing>=2.3.1 in /usr/local/lib/python3.10/dist-packages (from matplotlib->catboost) (3.0.9)\n",
            "Requirement already satisfied: cycler>=0.10 in /usr/local/lib/python3.10/dist-packages (from matplotlib->catboost) (0.11.0)\n",
            "Requirement already satisfied: fonttools>=4.22.0 in /usr/local/lib/python3.10/dist-packages (from matplotlib->catboost) (4.39.3)\n",
            "Requirement already satisfied: kiwisolver>=1.0.1 in /usr/local/lib/python3.10/dist-packages (from matplotlib->catboost) (1.4.4)\n",
            "Requirement already satisfied: contourpy>=1.0.1 in /usr/local/lib/python3.10/dist-packages (from matplotlib->catboost) (1.0.7)\n",
            "Requirement already satisfied: pillow>=6.2.0 in /usr/local/lib/python3.10/dist-packages (from matplotlib->catboost) (8.4.0)\n",
            "Requirement already satisfied: packaging>=20.0 in /usr/local/lib/python3.10/dist-packages (from matplotlib->catboost) (23.1)\n",
            "Requirement already satisfied: tenacity>=6.2.0 in /usr/local/lib/python3.10/dist-packages (from plotly->catboost) (8.2.2)\n"
          ]
        }
      ],
      "source": [
        "from sklearn.ensemble import RandomForestClassifier\n",
        "from xgboost import XGBClassifier\n",
        "from lightgbm import LGBMClassifier\n",
        "!pip install catboost\n",
        "from catboost import CatBoostClassifier\n",
        "\n",
        "import os\n",
        "import random\n",
        "\n",
        "from sklearn.model_selection import StratifiedKFold\n",
        "from sklearn.model_selection import GridSearchCV, RandomizedSearchCV\n",
        "from sklearn.metrics import confusion_matrix, ConfusionMatrixDisplay, f1_score, accuracy_score, label_ranking_average_precision_score"
      ]
    },
    {
      "cell_type": "code",
      "source": [
        "def seed_everything(seed):\n",
        "    random.seed(seed)\n",
        "    os.environ['PYTHONHASHSEED'] = str(seed)\n",
        "    np.random.seed(seed)\n",
        "seed_everything(100) # Seed 고정"
      ],
      "metadata": {
        "id": "vLP4O3-OHVdx"
      },
      "id": "vLP4O3-OHVdx",
      "execution_count": 23,
      "outputs": []
    },
    {
      "cell_type": "code",
      "source": [
        "# df.head(3)"
      ],
      "metadata": {
        "id": "jOU9hYECFwY6"
      },
      "id": "jOU9hYECFwY6",
      "execution_count": 24,
      "outputs": []
    },
    {
      "cell_type": "code",
      "execution_count": 25,
      "id": "1facd170",
      "metadata": {
        "id": "1facd170"
      },
      "outputs": [],
      "source": [
        "X = df.loc[:,'관광여가오락수':'공영주차장수']\n",
        "y = df['전기차충전기유무']"
      ]
    },
    {
      "cell_type": "code",
      "execution_count": 26,
      "id": "69c0ffec",
      "metadata": {
        "colab": {
          "base_uri": "https://localhost:8080/"
        },
        "id": "69c0ffec",
        "outputId": "f8089a22-d55e-4187-be7e-dbbbdefd51fa"
      },
      "outputs": [
        {
          "output_type": "execute_result",
          "data": {
            "text/plain": [
              "0    963\n",
              "1    132\n",
              "Name: 전기차충전기유무, dtype: int64"
            ]
          },
          "metadata": {},
          "execution_count": 26
        }
      ],
      "source": [
        "y.value_counts()"
      ]
    },
    {
      "cell_type": "code",
      "execution_count": 27,
      "id": "d6ee10b1",
      "metadata": {
        "id": "d6ee10b1"
      },
      "outputs": [],
      "source": [
        "#  predictions = clf.predict(X_test)\n",
        "# >>> cm = confusion_matrix(y_test, predictions, labels=clf.classes_)\n",
        "# >>> disp = ConfusionMatrixDisplay(confusion_matrix=cm,\n",
        "# ...                               display_labels=clf.classes_)"
      ]
    },
    {
      "cell_type": "code",
      "source": [],
      "metadata": {
        "id": "fWMvvfUIl_xe"
      },
      "id": "fWMvvfUIl_xe",
      "execution_count": 27,
      "outputs": []
    },
    {
      "cell_type": "markdown",
      "source": [
        "## 3.0 RandomClassifier"
      ],
      "metadata": {
        "id": "6sckbNv6mAU_"
      },
      "id": "6sckbNv6mAU_"
    },
    {
      "cell_type": "code",
      "source": [
        "rfc = RandomForestClassifier(random_state = 100,\n",
        "                             n_estimators = 1000,\n",
        "                             class_weight= \"balanced\")\n",
        "\n",
        "params = {\"criterion\" :  [\"gini\"],\n",
        "          \"min_samples_leaf\" : [1]}\n",
        "\n",
        "gs_rfc = GridSearchCV(estimator = rfc,\n",
        "                      param_grid = params,\n",
        "                      scoring = 'accuracy',\n",
        "                      refit = True,\n",
        "                      n_jobs = -1,\n",
        "                      verbose = True)\n",
        "\n",
        "gs_rfc.fit(X, y)"
      ],
      "metadata": {
        "colab": {
          "base_uri": "https://localhost:8080/",
          "height": 135
        },
        "outputId": "2bd459ca-9ac5-45c8-e26d-1a5b22fefa80",
        "id": "bp6WmGmnmAVB"
      },
      "execution_count": 28,
      "outputs": [
        {
          "output_type": "stream",
          "name": "stdout",
          "text": [
            "Fitting 5 folds for each of 1 candidates, totalling 5 fits\n"
          ]
        },
        {
          "output_type": "execute_result",
          "data": {
            "text/plain": [
              "GridSearchCV(estimator=RandomForestClassifier(class_weight='balanced',\n",
              "                                              n_estimators=1000,\n",
              "                                              random_state=100),\n",
              "             n_jobs=-1,\n",
              "             param_grid={'criterion': ['gini'], 'min_samples_leaf': [1]},\n",
              "             scoring='accuracy', verbose=True)"
            ],
            "text/html": [
              "<style>#sk-container-id-1 {color: black;background-color: white;}#sk-container-id-1 pre{padding: 0;}#sk-container-id-1 div.sk-toggleable {background-color: white;}#sk-container-id-1 label.sk-toggleable__label {cursor: pointer;display: block;width: 100%;margin-bottom: 0;padding: 0.3em;box-sizing: border-box;text-align: center;}#sk-container-id-1 label.sk-toggleable__label-arrow:before {content: \"▸\";float: left;margin-right: 0.25em;color: #696969;}#sk-container-id-1 label.sk-toggleable__label-arrow:hover:before {color: black;}#sk-container-id-1 div.sk-estimator:hover label.sk-toggleable__label-arrow:before {color: black;}#sk-container-id-1 div.sk-toggleable__content {max-height: 0;max-width: 0;overflow: hidden;text-align: left;background-color: #f0f8ff;}#sk-container-id-1 div.sk-toggleable__content pre {margin: 0.2em;color: black;border-radius: 0.25em;background-color: #f0f8ff;}#sk-container-id-1 input.sk-toggleable__control:checked~div.sk-toggleable__content {max-height: 200px;max-width: 100%;overflow: auto;}#sk-container-id-1 input.sk-toggleable__control:checked~label.sk-toggleable__label-arrow:before {content: \"▾\";}#sk-container-id-1 div.sk-estimator input.sk-toggleable__control:checked~label.sk-toggleable__label {background-color: #d4ebff;}#sk-container-id-1 div.sk-label input.sk-toggleable__control:checked~label.sk-toggleable__label {background-color: #d4ebff;}#sk-container-id-1 input.sk-hidden--visually {border: 0;clip: rect(1px 1px 1px 1px);clip: rect(1px, 1px, 1px, 1px);height: 1px;margin: -1px;overflow: hidden;padding: 0;position: absolute;width: 1px;}#sk-container-id-1 div.sk-estimator {font-family: monospace;background-color: #f0f8ff;border: 1px dotted black;border-radius: 0.25em;box-sizing: border-box;margin-bottom: 0.5em;}#sk-container-id-1 div.sk-estimator:hover {background-color: #d4ebff;}#sk-container-id-1 div.sk-parallel-item::after {content: \"\";width: 100%;border-bottom: 1px solid gray;flex-grow: 1;}#sk-container-id-1 div.sk-label:hover label.sk-toggleable__label {background-color: #d4ebff;}#sk-container-id-1 div.sk-serial::before {content: \"\";position: absolute;border-left: 1px solid gray;box-sizing: border-box;top: 0;bottom: 0;left: 50%;z-index: 0;}#sk-container-id-1 div.sk-serial {display: flex;flex-direction: column;align-items: center;background-color: white;padding-right: 0.2em;padding-left: 0.2em;position: relative;}#sk-container-id-1 div.sk-item {position: relative;z-index: 1;}#sk-container-id-1 div.sk-parallel {display: flex;align-items: stretch;justify-content: center;background-color: white;position: relative;}#sk-container-id-1 div.sk-item::before, #sk-container-id-1 div.sk-parallel-item::before {content: \"\";position: absolute;border-left: 1px solid gray;box-sizing: border-box;top: 0;bottom: 0;left: 50%;z-index: -1;}#sk-container-id-1 div.sk-parallel-item {display: flex;flex-direction: column;z-index: 1;position: relative;background-color: white;}#sk-container-id-1 div.sk-parallel-item:first-child::after {align-self: flex-end;width: 50%;}#sk-container-id-1 div.sk-parallel-item:last-child::after {align-self: flex-start;width: 50%;}#sk-container-id-1 div.sk-parallel-item:only-child::after {width: 0;}#sk-container-id-1 div.sk-dashed-wrapped {border: 1px dashed gray;margin: 0 0.4em 0.5em 0.4em;box-sizing: border-box;padding-bottom: 0.4em;background-color: white;}#sk-container-id-1 div.sk-label label {font-family: monospace;font-weight: bold;display: inline-block;line-height: 1.2em;}#sk-container-id-1 div.sk-label-container {text-align: center;}#sk-container-id-1 div.sk-container {/* jupyter's `normalize.less` sets `[hidden] { display: none; }` but bootstrap.min.css set `[hidden] { display: none !important; }` so we also need the `!important` here to be able to override the default hidden behavior on the sphinx rendered scikit-learn.org. See: https://github.com/scikit-learn/scikit-learn/issues/21755 */display: inline-block !important;position: relative;}#sk-container-id-1 div.sk-text-repr-fallback {display: none;}</style><div id=\"sk-container-id-1\" class=\"sk-top-container\"><div class=\"sk-text-repr-fallback\"><pre>GridSearchCV(estimator=RandomForestClassifier(class_weight=&#x27;balanced&#x27;,\n",
              "                                              n_estimators=1000,\n",
              "                                              random_state=100),\n",
              "             n_jobs=-1,\n",
              "             param_grid={&#x27;criterion&#x27;: [&#x27;gini&#x27;], &#x27;min_samples_leaf&#x27;: [1]},\n",
              "             scoring=&#x27;accuracy&#x27;, verbose=True)</pre><b>In a Jupyter environment, please rerun this cell to show the HTML representation or trust the notebook. <br />On GitHub, the HTML representation is unable to render, please try loading this page with nbviewer.org.</b></div><div class=\"sk-container\" hidden><div class=\"sk-item sk-dashed-wrapped\"><div class=\"sk-label-container\"><div class=\"sk-label sk-toggleable\"><input class=\"sk-toggleable__control sk-hidden--visually\" id=\"sk-estimator-id-1\" type=\"checkbox\" ><label for=\"sk-estimator-id-1\" class=\"sk-toggleable__label sk-toggleable__label-arrow\">GridSearchCV</label><div class=\"sk-toggleable__content\"><pre>GridSearchCV(estimator=RandomForestClassifier(class_weight=&#x27;balanced&#x27;,\n",
              "                                              n_estimators=1000,\n",
              "                                              random_state=100),\n",
              "             n_jobs=-1,\n",
              "             param_grid={&#x27;criterion&#x27;: [&#x27;gini&#x27;], &#x27;min_samples_leaf&#x27;: [1]},\n",
              "             scoring=&#x27;accuracy&#x27;, verbose=True)</pre></div></div></div><div class=\"sk-parallel\"><div class=\"sk-parallel-item\"><div class=\"sk-item\"><div class=\"sk-label-container\"><div class=\"sk-label sk-toggleable\"><input class=\"sk-toggleable__control sk-hidden--visually\" id=\"sk-estimator-id-2\" type=\"checkbox\" ><label for=\"sk-estimator-id-2\" class=\"sk-toggleable__label sk-toggleable__label-arrow\">estimator: RandomForestClassifier</label><div class=\"sk-toggleable__content\"><pre>RandomForestClassifier(class_weight=&#x27;balanced&#x27;, n_estimators=1000,\n",
              "                       random_state=100)</pre></div></div></div><div class=\"sk-serial\"><div class=\"sk-item\"><div class=\"sk-estimator sk-toggleable\"><input class=\"sk-toggleable__control sk-hidden--visually\" id=\"sk-estimator-id-3\" type=\"checkbox\" ><label for=\"sk-estimator-id-3\" class=\"sk-toggleable__label sk-toggleable__label-arrow\">RandomForestClassifier</label><div class=\"sk-toggleable__content\"><pre>RandomForestClassifier(class_weight=&#x27;balanced&#x27;, n_estimators=1000,\n",
              "                       random_state=100)</pre></div></div></div></div></div></div></div></div></div></div>"
            ]
          },
          "metadata": {},
          "execution_count": 28
        }
      ],
      "id": "bp6WmGmnmAVB"
    },
    {
      "cell_type": "code",
      "source": [
        "print(gs_rfc.best_score_)\n",
        "print(gs_rfc.best_params_)\n",
        "randomforest = gs_rfc.best_estimator_"
      ],
      "metadata": {
        "colab": {
          "base_uri": "https://localhost:8080/"
        },
        "outputId": "a4bcdbd5-0e72-4d29-d199-10907152f0ab",
        "id": "qqq6ZIMSmAVD"
      },
      "execution_count": 29,
      "outputs": [
        {
          "output_type": "stream",
          "name": "stdout",
          "text": [
            "0.8849315068493151\n",
            "{'criterion': 'gini', 'min_samples_leaf': 1}\n"
          ]
        }
      ],
      "id": "qqq6ZIMSmAVD"
    },
    {
      "cell_type": "markdown",
      "source": [
        "## 3.1XGBClassifier"
      ],
      "metadata": {
        "id": "cWpGxkcdPGIq"
      },
      "id": "cWpGxkcdPGIq"
    },
    {
      "cell_type": "code",
      "source": [
        "xgb = XGBClassifier(random_state = 100,\n",
        "                    n_estimators = 1000)\n",
        "\n",
        "params = {\"learning_rate\" : [0.1, 0.3, 0.5, 0.7, 0.9],\n",
        "          \"max_depth\" :  [10, 15, 20, 25, 30],\n",
        "          \"subsample\" : [0.3, 0.5, 0.7, 0.9]}\n",
        "\n",
        "gs_xgb = GridSearchCV(estimator = xgb,\n",
        "                      param_grid = params,\n",
        "                      scoring = 'accuracy',\n",
        "                      refit = True,\n",
        "                      n_jobs = -1,\n",
        "                      verbose = True)\n",
        "\n",
        "gs_xgb.fit(X, y)"
      ],
      "metadata": {
        "colab": {
          "base_uri": "https://localhost:8080/",
          "height": 379
        },
        "id": "z9Zuk7r7qFFo",
        "outputId": "d3c00016-3d6b-4fd2-f787-6bcda858442e"
      },
      "id": "z9Zuk7r7qFFo",
      "execution_count": 30,
      "outputs": [
        {
          "output_type": "stream",
          "name": "stdout",
          "text": [
            "Fitting 5 folds for each of 100 candidates, totalling 500 fits\n"
          ]
        },
        {
          "output_type": "error",
          "ename": "KeyboardInterrupt",
          "evalue": "ignored",
          "traceback": [
            "\u001b[0;31m---------------------------------------------------------------------------\u001b[0m",
            "\u001b[0;31mKeyboardInterrupt\u001b[0m                         Traceback (most recent call last)",
            "\u001b[0;32m<ipython-input-30-51bfae9dd42d>\u001b[0m in \u001b[0;36m<cell line: 15>\u001b[0;34m()\u001b[0m\n\u001b[1;32m     13\u001b[0m                       verbose = True)\n\u001b[1;32m     14\u001b[0m \u001b[0;34m\u001b[0m\u001b[0m\n\u001b[0;32m---> 15\u001b[0;31m \u001b[0mgs_xgb\u001b[0m\u001b[0;34m.\u001b[0m\u001b[0mfit\u001b[0m\u001b[0;34m(\u001b[0m\u001b[0mX\u001b[0m\u001b[0;34m,\u001b[0m \u001b[0my\u001b[0m\u001b[0;34m)\u001b[0m\u001b[0;34m\u001b[0m\u001b[0;34m\u001b[0m\u001b[0m\n\u001b[0m",
            "\u001b[0;32m/usr/local/lib/python3.10/dist-packages/sklearn/model_selection/_search.py\u001b[0m in \u001b[0;36mfit\u001b[0;34m(self, X, y, groups, **fit_params)\u001b[0m\n\u001b[1;32m    872\u001b[0m                 \u001b[0;32mreturn\u001b[0m \u001b[0mresults\u001b[0m\u001b[0;34m\u001b[0m\u001b[0;34m\u001b[0m\u001b[0m\n\u001b[1;32m    873\u001b[0m \u001b[0;34m\u001b[0m\u001b[0m\n\u001b[0;32m--> 874\u001b[0;31m             \u001b[0mself\u001b[0m\u001b[0;34m.\u001b[0m\u001b[0m_run_search\u001b[0m\u001b[0;34m(\u001b[0m\u001b[0mevaluate_candidates\u001b[0m\u001b[0;34m)\u001b[0m\u001b[0;34m\u001b[0m\u001b[0;34m\u001b[0m\u001b[0m\n\u001b[0m\u001b[1;32m    875\u001b[0m \u001b[0;34m\u001b[0m\u001b[0m\n\u001b[1;32m    876\u001b[0m             \u001b[0;31m# multimetric is determined here because in the case of a callable\u001b[0m\u001b[0;34m\u001b[0m\u001b[0;34m\u001b[0m\u001b[0m\n",
            "\u001b[0;32m/usr/local/lib/python3.10/dist-packages/sklearn/model_selection/_search.py\u001b[0m in \u001b[0;36m_run_search\u001b[0;34m(self, evaluate_candidates)\u001b[0m\n\u001b[1;32m   1386\u001b[0m     \u001b[0;32mdef\u001b[0m \u001b[0m_run_search\u001b[0m\u001b[0;34m(\u001b[0m\u001b[0mself\u001b[0m\u001b[0;34m,\u001b[0m \u001b[0mevaluate_candidates\u001b[0m\u001b[0;34m)\u001b[0m\u001b[0;34m:\u001b[0m\u001b[0;34m\u001b[0m\u001b[0;34m\u001b[0m\u001b[0m\n\u001b[1;32m   1387\u001b[0m         \u001b[0;34m\"\"\"Search all candidates in param_grid\"\"\"\u001b[0m\u001b[0;34m\u001b[0m\u001b[0;34m\u001b[0m\u001b[0m\n\u001b[0;32m-> 1388\u001b[0;31m         \u001b[0mevaluate_candidates\u001b[0m\u001b[0;34m(\u001b[0m\u001b[0mParameterGrid\u001b[0m\u001b[0;34m(\u001b[0m\u001b[0mself\u001b[0m\u001b[0;34m.\u001b[0m\u001b[0mparam_grid\u001b[0m\u001b[0;34m)\u001b[0m\u001b[0;34m)\u001b[0m\u001b[0;34m\u001b[0m\u001b[0;34m\u001b[0m\u001b[0m\n\u001b[0m\u001b[1;32m   1389\u001b[0m \u001b[0;34m\u001b[0m\u001b[0m\n\u001b[1;32m   1390\u001b[0m \u001b[0;34m\u001b[0m\u001b[0m\n",
            "\u001b[0;32m/usr/local/lib/python3.10/dist-packages/sklearn/model_selection/_search.py\u001b[0m in \u001b[0;36mevaluate_candidates\u001b[0;34m(candidate_params, cv, more_results)\u001b[0m\n\u001b[1;32m    819\u001b[0m                     )\n\u001b[1;32m    820\u001b[0m \u001b[0;34m\u001b[0m\u001b[0m\n\u001b[0;32m--> 821\u001b[0;31m                 out = parallel(\n\u001b[0m\u001b[1;32m    822\u001b[0m                     delayed(_fit_and_score)(\n\u001b[1;32m    823\u001b[0m                         \u001b[0mclone\u001b[0m\u001b[0;34m(\u001b[0m\u001b[0mbase_estimator\u001b[0m\u001b[0;34m)\u001b[0m\u001b[0;34m,\u001b[0m\u001b[0;34m\u001b[0m\u001b[0;34m\u001b[0m\u001b[0m\n",
            "\u001b[0;32m/usr/local/lib/python3.10/dist-packages/sklearn/utils/parallel.py\u001b[0m in \u001b[0;36m__call__\u001b[0;34m(self, iterable)\u001b[0m\n\u001b[1;32m     61\u001b[0m             \u001b[0;32mfor\u001b[0m \u001b[0mdelayed_func\u001b[0m\u001b[0;34m,\u001b[0m \u001b[0margs\u001b[0m\u001b[0;34m,\u001b[0m \u001b[0mkwargs\u001b[0m \u001b[0;32min\u001b[0m \u001b[0miterable\u001b[0m\u001b[0;34m\u001b[0m\u001b[0;34m\u001b[0m\u001b[0m\n\u001b[1;32m     62\u001b[0m         )\n\u001b[0;32m---> 63\u001b[0;31m         \u001b[0;32mreturn\u001b[0m \u001b[0msuper\u001b[0m\u001b[0;34m(\u001b[0m\u001b[0;34m)\u001b[0m\u001b[0;34m.\u001b[0m\u001b[0m__call__\u001b[0m\u001b[0;34m(\u001b[0m\u001b[0miterable_with_config\u001b[0m\u001b[0;34m)\u001b[0m\u001b[0;34m\u001b[0m\u001b[0;34m\u001b[0m\u001b[0m\n\u001b[0m\u001b[1;32m     64\u001b[0m \u001b[0;34m\u001b[0m\u001b[0m\n\u001b[1;32m     65\u001b[0m \u001b[0;34m\u001b[0m\u001b[0m\n",
            "\u001b[0;32m/usr/local/lib/python3.10/dist-packages/joblib/parallel.py\u001b[0m in \u001b[0;36m__call__\u001b[0;34m(self, iterable)\u001b[0m\n\u001b[1;32m   1096\u001b[0m \u001b[0;34m\u001b[0m\u001b[0m\n\u001b[1;32m   1097\u001b[0m             \u001b[0;32mwith\u001b[0m \u001b[0mself\u001b[0m\u001b[0;34m.\u001b[0m\u001b[0m_backend\u001b[0m\u001b[0;34m.\u001b[0m\u001b[0mretrieval_context\u001b[0m\u001b[0;34m(\u001b[0m\u001b[0;34m)\u001b[0m\u001b[0;34m:\u001b[0m\u001b[0;34m\u001b[0m\u001b[0;34m\u001b[0m\u001b[0m\n\u001b[0;32m-> 1098\u001b[0;31m                 \u001b[0mself\u001b[0m\u001b[0;34m.\u001b[0m\u001b[0mretrieve\u001b[0m\u001b[0;34m(\u001b[0m\u001b[0;34m)\u001b[0m\u001b[0;34m\u001b[0m\u001b[0;34m\u001b[0m\u001b[0m\n\u001b[0m\u001b[1;32m   1099\u001b[0m             \u001b[0;31m# Make sure that we get a last message telling us we are done\u001b[0m\u001b[0;34m\u001b[0m\u001b[0;34m\u001b[0m\u001b[0m\n\u001b[1;32m   1100\u001b[0m             \u001b[0melapsed_time\u001b[0m \u001b[0;34m=\u001b[0m \u001b[0mtime\u001b[0m\u001b[0;34m.\u001b[0m\u001b[0mtime\u001b[0m\u001b[0;34m(\u001b[0m\u001b[0;34m)\u001b[0m \u001b[0;34m-\u001b[0m \u001b[0mself\u001b[0m\u001b[0;34m.\u001b[0m\u001b[0m_start_time\u001b[0m\u001b[0;34m\u001b[0m\u001b[0;34m\u001b[0m\u001b[0m\n",
            "\u001b[0;32m/usr/local/lib/python3.10/dist-packages/joblib/parallel.py\u001b[0m in \u001b[0;36mretrieve\u001b[0;34m(self)\u001b[0m\n\u001b[1;32m    973\u001b[0m             \u001b[0;32mtry\u001b[0m\u001b[0;34m:\u001b[0m\u001b[0;34m\u001b[0m\u001b[0;34m\u001b[0m\u001b[0m\n\u001b[1;32m    974\u001b[0m                 \u001b[0;32mif\u001b[0m \u001b[0mgetattr\u001b[0m\u001b[0;34m(\u001b[0m\u001b[0mself\u001b[0m\u001b[0;34m.\u001b[0m\u001b[0m_backend\u001b[0m\u001b[0;34m,\u001b[0m \u001b[0;34m'supports_timeout'\u001b[0m\u001b[0;34m,\u001b[0m \u001b[0;32mFalse\u001b[0m\u001b[0;34m)\u001b[0m\u001b[0;34m:\u001b[0m\u001b[0;34m\u001b[0m\u001b[0;34m\u001b[0m\u001b[0m\n\u001b[0;32m--> 975\u001b[0;31m                     \u001b[0mself\u001b[0m\u001b[0;34m.\u001b[0m\u001b[0m_output\u001b[0m\u001b[0;34m.\u001b[0m\u001b[0mextend\u001b[0m\u001b[0;34m(\u001b[0m\u001b[0mjob\u001b[0m\u001b[0;34m.\u001b[0m\u001b[0mget\u001b[0m\u001b[0;34m(\u001b[0m\u001b[0mtimeout\u001b[0m\u001b[0;34m=\u001b[0m\u001b[0mself\u001b[0m\u001b[0;34m.\u001b[0m\u001b[0mtimeout\u001b[0m\u001b[0;34m)\u001b[0m\u001b[0;34m)\u001b[0m\u001b[0;34m\u001b[0m\u001b[0;34m\u001b[0m\u001b[0m\n\u001b[0m\u001b[1;32m    976\u001b[0m                 \u001b[0;32melse\u001b[0m\u001b[0;34m:\u001b[0m\u001b[0;34m\u001b[0m\u001b[0;34m\u001b[0m\u001b[0m\n\u001b[1;32m    977\u001b[0m                     \u001b[0mself\u001b[0m\u001b[0;34m.\u001b[0m\u001b[0m_output\u001b[0m\u001b[0;34m.\u001b[0m\u001b[0mextend\u001b[0m\u001b[0;34m(\u001b[0m\u001b[0mjob\u001b[0m\u001b[0;34m.\u001b[0m\u001b[0mget\u001b[0m\u001b[0;34m(\u001b[0m\u001b[0;34m)\u001b[0m\u001b[0;34m)\u001b[0m\u001b[0;34m\u001b[0m\u001b[0;34m\u001b[0m\u001b[0m\n",
            "\u001b[0;32m/usr/local/lib/python3.10/dist-packages/joblib/_parallel_backends.py\u001b[0m in \u001b[0;36mwrap_future_result\u001b[0;34m(future, timeout)\u001b[0m\n\u001b[1;32m    565\u001b[0m         AsyncResults.get from multiprocessing.\"\"\"\n\u001b[1;32m    566\u001b[0m         \u001b[0;32mtry\u001b[0m\u001b[0;34m:\u001b[0m\u001b[0;34m\u001b[0m\u001b[0;34m\u001b[0m\u001b[0m\n\u001b[0;32m--> 567\u001b[0;31m             \u001b[0;32mreturn\u001b[0m \u001b[0mfuture\u001b[0m\u001b[0;34m.\u001b[0m\u001b[0mresult\u001b[0m\u001b[0;34m(\u001b[0m\u001b[0mtimeout\u001b[0m\u001b[0;34m=\u001b[0m\u001b[0mtimeout\u001b[0m\u001b[0;34m)\u001b[0m\u001b[0;34m\u001b[0m\u001b[0;34m\u001b[0m\u001b[0m\n\u001b[0m\u001b[1;32m    568\u001b[0m         \u001b[0;32mexcept\u001b[0m \u001b[0mCfTimeoutError\u001b[0m \u001b[0;32mas\u001b[0m \u001b[0me\u001b[0m\u001b[0;34m:\u001b[0m\u001b[0;34m\u001b[0m\u001b[0;34m\u001b[0m\u001b[0m\n\u001b[1;32m    569\u001b[0m             \u001b[0;32mraise\u001b[0m \u001b[0mTimeoutError\u001b[0m \u001b[0;32mfrom\u001b[0m \u001b[0me\u001b[0m\u001b[0;34m\u001b[0m\u001b[0;34m\u001b[0m\u001b[0m\n",
            "\u001b[0;32m/usr/lib/python3.10/concurrent/futures/_base.py\u001b[0m in \u001b[0;36mresult\u001b[0;34m(self, timeout)\u001b[0m\n\u001b[1;32m    451\u001b[0m                     \u001b[0;32mreturn\u001b[0m \u001b[0mself\u001b[0m\u001b[0;34m.\u001b[0m\u001b[0m__get_result\u001b[0m\u001b[0;34m(\u001b[0m\u001b[0;34m)\u001b[0m\u001b[0;34m\u001b[0m\u001b[0;34m\u001b[0m\u001b[0m\n\u001b[1;32m    452\u001b[0m \u001b[0;34m\u001b[0m\u001b[0m\n\u001b[0;32m--> 453\u001b[0;31m                 \u001b[0mself\u001b[0m\u001b[0;34m.\u001b[0m\u001b[0m_condition\u001b[0m\u001b[0;34m.\u001b[0m\u001b[0mwait\u001b[0m\u001b[0;34m(\u001b[0m\u001b[0mtimeout\u001b[0m\u001b[0;34m)\u001b[0m\u001b[0;34m\u001b[0m\u001b[0;34m\u001b[0m\u001b[0m\n\u001b[0m\u001b[1;32m    454\u001b[0m \u001b[0;34m\u001b[0m\u001b[0m\n\u001b[1;32m    455\u001b[0m                 \u001b[0;32mif\u001b[0m \u001b[0mself\u001b[0m\u001b[0;34m.\u001b[0m\u001b[0m_state\u001b[0m \u001b[0;32min\u001b[0m \u001b[0;34m[\u001b[0m\u001b[0mCANCELLED\u001b[0m\u001b[0;34m,\u001b[0m \u001b[0mCANCELLED_AND_NOTIFIED\u001b[0m\u001b[0;34m]\u001b[0m\u001b[0;34m:\u001b[0m\u001b[0;34m\u001b[0m\u001b[0;34m\u001b[0m\u001b[0m\n",
            "\u001b[0;32m/usr/lib/python3.10/threading.py\u001b[0m in \u001b[0;36mwait\u001b[0;34m(self, timeout)\u001b[0m\n\u001b[1;32m    318\u001b[0m         \u001b[0;32mtry\u001b[0m\u001b[0;34m:\u001b[0m    \u001b[0;31m# restore state no matter what (e.g., KeyboardInterrupt)\u001b[0m\u001b[0;34m\u001b[0m\u001b[0;34m\u001b[0m\u001b[0m\n\u001b[1;32m    319\u001b[0m             \u001b[0;32mif\u001b[0m \u001b[0mtimeout\u001b[0m \u001b[0;32mis\u001b[0m \u001b[0;32mNone\u001b[0m\u001b[0;34m:\u001b[0m\u001b[0;34m\u001b[0m\u001b[0;34m\u001b[0m\u001b[0m\n\u001b[0;32m--> 320\u001b[0;31m                 \u001b[0mwaiter\u001b[0m\u001b[0;34m.\u001b[0m\u001b[0macquire\u001b[0m\u001b[0;34m(\u001b[0m\u001b[0;34m)\u001b[0m\u001b[0;34m\u001b[0m\u001b[0;34m\u001b[0m\u001b[0m\n\u001b[0m\u001b[1;32m    321\u001b[0m                 \u001b[0mgotit\u001b[0m \u001b[0;34m=\u001b[0m \u001b[0;32mTrue\u001b[0m\u001b[0;34m\u001b[0m\u001b[0;34m\u001b[0m\u001b[0m\n\u001b[1;32m    322\u001b[0m             \u001b[0;32melse\u001b[0m\u001b[0;34m:\u001b[0m\u001b[0;34m\u001b[0m\u001b[0;34m\u001b[0m\u001b[0m\n",
            "\u001b[0;31mKeyboardInterrupt\u001b[0m: "
          ]
        }
      ]
    },
    {
      "cell_type": "code",
      "source": [
        "print(gs_xgb.best_score_)\n",
        "print(gs_xgb.best_params_)\n",
        "xgboost = gs_xgb.best_estimator_"
      ],
      "metadata": {
        "colab": {
          "base_uri": "https://localhost:8080/"
        },
        "id": "76BroxKCDxNe",
        "outputId": "f5dc4e59-2d14-464f-be81-4e63335e098c"
      },
      "id": "76BroxKCDxNe",
      "execution_count": 25,
      "outputs": [
        {
          "output_type": "stream",
          "name": "stdout",
          "text": [
            "0.8666666666666666\n",
            "{'learning_rate': 0.1, 'max_depth': 10, 'subsample': 0.7}\n"
          ]
        }
      ]
    },
    {
      "cell_type": "markdown",
      "source": [
        "## 3.2LGBMClassifier"
      ],
      "metadata": {
        "id": "7whLx8uuEuow"
      },
      "id": "7whLx8uuEuow"
    },
    {
      "cell_type": "code",
      "source": [
        "lgb = LGBMClassifier(random_state = 100,\n",
        "                    n_estimators = 1000)\n",
        "\n",
        "params = {\"learning_rate\" : [0.1],\n",
        "          \"max_depth\" :  [10, 15],\n",
        "          \"subsample\" : [0.3]}\n",
        "\n",
        "gs_lgb = GridSearchCV(estimator = lgb,\n",
        "                      param_grid = params,\n",
        "                      scoring = 'accuracy',\n",
        "                      n_jobs = -1,\n",
        "                      verbose = True)\n",
        "\n",
        "gs_lgb.fit(X, y)"
      ],
      "metadata": {
        "colab": {
          "base_uri": "https://localhost:8080/",
          "height": 135
        },
        "id": "2vpz9_aJE4jl",
        "outputId": "6c4b76b1-05fd-478f-d8dd-a9f4080ed9e0"
      },
      "id": "2vpz9_aJE4jl",
      "execution_count": 26,
      "outputs": [
        {
          "output_type": "stream",
          "name": "stdout",
          "text": [
            "Fitting 5 folds for each of 100 candidates, totalling 500 fits\n"
          ]
        },
        {
          "output_type": "execute_result",
          "data": {
            "text/plain": [
              "GridSearchCV(estimator=LGBMClassifier(n_estimators=1000, random_state=100),\n",
              "             n_jobs=-1,\n",
              "             param_grid={'learning_rate': [0.1, 0.3, 0.5, 0.7, 0.9],\n",
              "                         'max_depth': [10, 15, 20, 25, 30],\n",
              "                         'subsample': [0.3, 0.5, 0.7, 0.9]},\n",
              "             scoring='accuracy', verbose=True)"
            ],
            "text/html": [
              "<style>#sk-container-id-3 {color: black;background-color: white;}#sk-container-id-3 pre{padding: 0;}#sk-container-id-3 div.sk-toggleable {background-color: white;}#sk-container-id-3 label.sk-toggleable__label {cursor: pointer;display: block;width: 100%;margin-bottom: 0;padding: 0.3em;box-sizing: border-box;text-align: center;}#sk-container-id-3 label.sk-toggleable__label-arrow:before {content: \"▸\";float: left;margin-right: 0.25em;color: #696969;}#sk-container-id-3 label.sk-toggleable__label-arrow:hover:before {color: black;}#sk-container-id-3 div.sk-estimator:hover label.sk-toggleable__label-arrow:before {color: black;}#sk-container-id-3 div.sk-toggleable__content {max-height: 0;max-width: 0;overflow: hidden;text-align: left;background-color: #f0f8ff;}#sk-container-id-3 div.sk-toggleable__content pre {margin: 0.2em;color: black;border-radius: 0.25em;background-color: #f0f8ff;}#sk-container-id-3 input.sk-toggleable__control:checked~div.sk-toggleable__content {max-height: 200px;max-width: 100%;overflow: auto;}#sk-container-id-3 input.sk-toggleable__control:checked~label.sk-toggleable__label-arrow:before {content: \"▾\";}#sk-container-id-3 div.sk-estimator input.sk-toggleable__control:checked~label.sk-toggleable__label {background-color: #d4ebff;}#sk-container-id-3 div.sk-label input.sk-toggleable__control:checked~label.sk-toggleable__label {background-color: #d4ebff;}#sk-container-id-3 input.sk-hidden--visually {border: 0;clip: rect(1px 1px 1px 1px);clip: rect(1px, 1px, 1px, 1px);height: 1px;margin: -1px;overflow: hidden;padding: 0;position: absolute;width: 1px;}#sk-container-id-3 div.sk-estimator {font-family: monospace;background-color: #f0f8ff;border: 1px dotted black;border-radius: 0.25em;box-sizing: border-box;margin-bottom: 0.5em;}#sk-container-id-3 div.sk-estimator:hover {background-color: #d4ebff;}#sk-container-id-3 div.sk-parallel-item::after {content: \"\";width: 100%;border-bottom: 1px solid gray;flex-grow: 1;}#sk-container-id-3 div.sk-label:hover label.sk-toggleable__label {background-color: #d4ebff;}#sk-container-id-3 div.sk-serial::before {content: \"\";position: absolute;border-left: 1px solid gray;box-sizing: border-box;top: 0;bottom: 0;left: 50%;z-index: 0;}#sk-container-id-3 div.sk-serial {display: flex;flex-direction: column;align-items: center;background-color: white;padding-right: 0.2em;padding-left: 0.2em;position: relative;}#sk-container-id-3 div.sk-item {position: relative;z-index: 1;}#sk-container-id-3 div.sk-parallel {display: flex;align-items: stretch;justify-content: center;background-color: white;position: relative;}#sk-container-id-3 div.sk-item::before, #sk-container-id-3 div.sk-parallel-item::before {content: \"\";position: absolute;border-left: 1px solid gray;box-sizing: border-box;top: 0;bottom: 0;left: 50%;z-index: -1;}#sk-container-id-3 div.sk-parallel-item {display: flex;flex-direction: column;z-index: 1;position: relative;background-color: white;}#sk-container-id-3 div.sk-parallel-item:first-child::after {align-self: flex-end;width: 50%;}#sk-container-id-3 div.sk-parallel-item:last-child::after {align-self: flex-start;width: 50%;}#sk-container-id-3 div.sk-parallel-item:only-child::after {width: 0;}#sk-container-id-3 div.sk-dashed-wrapped {border: 1px dashed gray;margin: 0 0.4em 0.5em 0.4em;box-sizing: border-box;padding-bottom: 0.4em;background-color: white;}#sk-container-id-3 div.sk-label label {font-family: monospace;font-weight: bold;display: inline-block;line-height: 1.2em;}#sk-container-id-3 div.sk-label-container {text-align: center;}#sk-container-id-3 div.sk-container {/* jupyter's `normalize.less` sets `[hidden] { display: none; }` but bootstrap.min.css set `[hidden] { display: none !important; }` so we also need the `!important` here to be able to override the default hidden behavior on the sphinx rendered scikit-learn.org. See: https://github.com/scikit-learn/scikit-learn/issues/21755 */display: inline-block !important;position: relative;}#sk-container-id-3 div.sk-text-repr-fallback {display: none;}</style><div id=\"sk-container-id-3\" class=\"sk-top-container\"><div class=\"sk-text-repr-fallback\"><pre>GridSearchCV(estimator=LGBMClassifier(n_estimators=1000, random_state=100),\n",
              "             n_jobs=-1,\n",
              "             param_grid={&#x27;learning_rate&#x27;: [0.1, 0.3, 0.5, 0.7, 0.9],\n",
              "                         &#x27;max_depth&#x27;: [10, 15, 20, 25, 30],\n",
              "                         &#x27;subsample&#x27;: [0.3, 0.5, 0.7, 0.9]},\n",
              "             scoring=&#x27;accuracy&#x27;, verbose=True)</pre><b>In a Jupyter environment, please rerun this cell to show the HTML representation or trust the notebook. <br />On GitHub, the HTML representation is unable to render, please try loading this page with nbviewer.org.</b></div><div class=\"sk-container\" hidden><div class=\"sk-item sk-dashed-wrapped\"><div class=\"sk-label-container\"><div class=\"sk-label sk-toggleable\"><input class=\"sk-toggleable__control sk-hidden--visually\" id=\"sk-estimator-id-7\" type=\"checkbox\" ><label for=\"sk-estimator-id-7\" class=\"sk-toggleable__label sk-toggleable__label-arrow\">GridSearchCV</label><div class=\"sk-toggleable__content\"><pre>GridSearchCV(estimator=LGBMClassifier(n_estimators=1000, random_state=100),\n",
              "             n_jobs=-1,\n",
              "             param_grid={&#x27;learning_rate&#x27;: [0.1, 0.3, 0.5, 0.7, 0.9],\n",
              "                         &#x27;max_depth&#x27;: [10, 15, 20, 25, 30],\n",
              "                         &#x27;subsample&#x27;: [0.3, 0.5, 0.7, 0.9]},\n",
              "             scoring=&#x27;accuracy&#x27;, verbose=True)</pre></div></div></div><div class=\"sk-parallel\"><div class=\"sk-parallel-item\"><div class=\"sk-item\"><div class=\"sk-label-container\"><div class=\"sk-label sk-toggleable\"><input class=\"sk-toggleable__control sk-hidden--visually\" id=\"sk-estimator-id-8\" type=\"checkbox\" ><label for=\"sk-estimator-id-8\" class=\"sk-toggleable__label sk-toggleable__label-arrow\">estimator: LGBMClassifier</label><div class=\"sk-toggleable__content\"><pre>LGBMClassifier(n_estimators=1000, random_state=100)</pre></div></div></div><div class=\"sk-serial\"><div class=\"sk-item\"><div class=\"sk-estimator sk-toggleable\"><input class=\"sk-toggleable__control sk-hidden--visually\" id=\"sk-estimator-id-9\" type=\"checkbox\" ><label for=\"sk-estimator-id-9\" class=\"sk-toggleable__label sk-toggleable__label-arrow\">LGBMClassifier</label><div class=\"sk-toggleable__content\"><pre>LGBMClassifier(n_estimators=1000, random_state=100)</pre></div></div></div></div></div></div></div></div></div></div>"
            ]
          },
          "metadata": {},
          "execution_count": 26
        }
      ]
    },
    {
      "cell_type": "code",
      "source": [
        "print(gs_lgb.best_score_)\n",
        "print(gs_lgb.best_params_)\n",
        "lgbm = gs_lgb.best_estimator_"
      ],
      "metadata": {
        "colab": {
          "base_uri": "https://localhost:8080/"
        },
        "id": "cenObJM5E4hF",
        "outputId": "6044a65c-c598-414d-d5c7-72877f418b42"
      },
      "id": "cenObJM5E4hF",
      "execution_count": 27,
      "outputs": [
        {
          "output_type": "stream",
          "name": "stdout",
          "text": [
            "0.8666666666666666\n",
            "{'learning_rate': 0.1, 'max_depth': 15, 'subsample': 0.3}\n"
          ]
        }
      ]
    },
    {
      "cell_type": "markdown",
      "source": [
        "## 3.3CatboostClassifier\n"
      ],
      "metadata": {
        "id": "ebGdOiC3g9nr"
      },
      "id": "ebGdOiC3g9nr"
    },
    {
      "cell_type": "code",
      "source": [
        "cb = CatBoostClassifier(random_state = 100, iterations = 10)\n",
        "\n",
        "params = {\"learning_rate\" : [0.1, 0.3, 0.5, 0.7, 0.9],\n",
        "          \"max_depth\" :  [10, 15, 20, 25, 30],\n",
        "          \"subsample\" : [0.3, 0.5, 0.7, 0.9]}\n",
        "\n",
        "gs_cb = RandomizedSearchCV(estimator = cb,\n",
        "                            param_distributions= params,\n",
        "                            n_iter = 10,\n",
        "                            cv = 5,\n",
        "                            scoring = 'accuracy',\n",
        "                            n_jobs = -1,\n",
        "                            verbose = True)\n",
        "\n",
        "gs_cb.fit(X, y)"
      ],
      "metadata": {
        "colab": {
          "base_uri": "https://localhost:8080/",
          "height": 209
        },
        "outputId": "e22b6838-264e-449b-f818-0e3f4882250f",
        "id": "eYfijBvrg9ob"
      },
      "execution_count": 4,
      "outputs": [
        {
          "output_type": "error",
          "ename": "NameError",
          "evalue": "ignored",
          "traceback": [
            "\u001b[0;31m---------------------------------------------------------------------------\u001b[0m",
            "\u001b[0;31mNameError\u001b[0m                                 Traceback (most recent call last)",
            "\u001b[0;32m<ipython-input-4-8cc54470ac1f>\u001b[0m in \u001b[0;36m<cell line: 15>\u001b[0;34m()\u001b[0m\n\u001b[1;32m     13\u001b[0m                             verbose = True)\n\u001b[1;32m     14\u001b[0m \u001b[0;34m\u001b[0m\u001b[0m\n\u001b[0;32m---> 15\u001b[0;31m \u001b[0mgs_cb\u001b[0m\u001b[0;34m.\u001b[0m\u001b[0mfit\u001b[0m\u001b[0;34m(\u001b[0m\u001b[0mX\u001b[0m\u001b[0;34m,\u001b[0m \u001b[0my\u001b[0m\u001b[0;34m)\u001b[0m\u001b[0;34m\u001b[0m\u001b[0;34m\u001b[0m\u001b[0m\n\u001b[0m",
            "\u001b[0;31mNameError\u001b[0m: name 'X' is not defined"
          ]
        }
      ],
      "id": "eYfijBvrg9ob"
    },
    {
      "cell_type": "code",
      "source": [
        "print(gs_cb.best_score_)\n",
        "print(gs_cb.best_params_)\n",
        "catboost = gs_cb.best_estimator_"
      ],
      "metadata": {
        "id": "b5z4w9meg9oc"
      },
      "execution_count": null,
      "outputs": [],
      "id": "b5z4w9meg9oc"
    },
    {
      "cell_type": "markdown",
      "source": [
        "# 3.Oversampling with SMOTE"
      ],
      "metadata": {
        "id": "B1owhkmMJCQo"
      },
      "id": "B1owhkmMJCQo"
    },
    {
      "cell_type": "code",
      "source": [
        "from sklearn.datasets import make_classification\n",
        "from sklearn.decomposition import PCA\n",
        "from imblearn.over_sampling import SMOTE\n",
        "\n",
        "# SMOTE 객체\n",
        "sm = SMOTE(random_state = 100)\n",
        "\n",
        "# oversampling\n",
        "X_resampled, y_resampled = sm.fit_resample(X, y)\n",
        "\n",
        "print('Before OverSampling, the shape of train_X: {}'.format(X.shape))\n",
        "print('Before OverSampling, the shape of train_y: {} \\n'.format(y.shape))\n",
        "\n",
        "print('Before OverSampling, counts of label \"1\": {}'.format(sum(y==1)))\n",
        "print('Before OverSampling, counts of label \"0\": {} \\n'.format(sum(y==0)))\n",
        "\n",
        "print('After OverSampling, the shape of train_X: {}'.format(X_resampled.shape))\n",
        "print('After OverSampling, the shape of train_y: {} \\n'.format(y_resampled.shape))\n",
        "\n",
        "print(\"After OverSampling, counts of label '1': {}\".format(sum(y_resampled==1)))\n",
        "print(\"After OverSampling, counts of label '0': {}\".format(sum(y_resampled==0)))"
      ],
      "metadata": {
        "id": "0NvG2V8-JB2k"
      },
      "id": "0NvG2V8-JB2k",
      "execution_count": null,
      "outputs": []
    },
    {
      "cell_type": "code",
      "source": [
        "def oversampling(X, y):\n",
        "    # SMOTE 객체\n",
        "    sm = SMOTE(random_state = 100)\n",
        "\n",
        "    # oversampling\n",
        "    X_rs, y_rs = sm.fit_resample(X, y)\n",
        "\n",
        "    return X_rs, y_rs"
      ],
      "metadata": {
        "id": "3ZgEuhmGJB0P"
      },
      "id": "3ZgEuhmGJB0P",
      "execution_count": null,
      "outputs": []
    },
    {
      "cell_type": "markdown",
      "source": [
        "# 4.Stratified KFold 학습 "
      ],
      "metadata": {
        "id": "097qnWi-Pvfn"
      },
      "id": "097qnWi-Pvfn"
    },
    {
      "cell_type": "code",
      "execution_count": null,
      "metadata": {
        "id": "wzR6QNIeGUj6"
      },
      "outputs": [],
      "source": [
        "#stratified_learn함수 정의\n",
        "\n",
        "def stratified_learn(classification_models, num_split, random_state = 100):\n",
        "    #전체 데이터프레임 생성\n",
        "    df_total = pd.DataFrame({\"인덱스\": range(0,1095)})\n",
        "\n",
        "    #각 모델별로 stratified k-fold 학습 및 예측 수행\n",
        "    for model in classification_models:\n",
        "        # StratifiedKFold\n",
        "        skf = StratifiedKFold(n_splits = num_split, shuffle = True, random_state = random_state)\n",
        "        idx_list = []\n",
        "        proba_list = []\n",
        "\n",
        "        for i, (train_index, test_index) in enumerate(skf.split(X, y)):\n",
        "            X_train, y_train = X.iloc[train_index], y.iloc[train_index]\n",
        "            X_test, y_test = X.iloc[test_index], y.iloc[test_index]\n",
        "\n",
        "            #Oversampling작업\n",
        "            # X_train_rs, y_train_rs = oversampling(X_train, y_train)\n",
        "\n",
        "            #Scaling작업\n",
        "            ##############\n",
        "            \n",
        "            #XGBClassifier 학습 및 확률값 예측\n",
        "            # model.fit(X_train_rs, y_train_rs)\n",
        "            model.fit(X_train, y_train)            \n",
        "            proba = model.predict_proba(X_test)[:,1]\n",
        "\n",
        "            #test_index, proba를 리스트에 추가\n",
        "            idx_list.extend(test_index)\n",
        "            proba_list.extend(proba)\n",
        "            \n",
        "            print(f\"\\n{model.__class__.__name__}의{i+1}번째 fold 예측 완료\")\n",
        "            print(\"인덱스 개수\", len(idx_list), \"예측값 수\", len(proba_list))\n",
        "\n",
        "        df_model = pd.DataFrame({\"인덱스\": idx_list,\n",
        "                                 f\"{model.__class__.__name__}의 P(y=1)\": proba_list})\n",
        "        # print(df_model)\n",
        "        df_total = pd.merge(df_total, df_model, how = 'inner', on = '인덱스')\n",
        "            \n",
        "        print(f\"\\n{model.__class__.__name__}의 데이터프레임 생성 완료\")\n",
        "\n",
        "    df_total = df_total.sort_values(\"인덱스\").set_index(\"인덱스\")\n",
        "    df_total[\"평균 P(y=1)의 확률\"] = df_total.mean(axis = 1)\n",
        "    print(\"\\n최종 데이터프레임 생성 완료\")\n",
        "\n",
        "    return df_total   "
      ],
      "id": "wzR6QNIeGUj6"
    },
    {
      "cell_type": "code",
      "source": [
        "# pd.DataFrame({\"피처\" : xgboost.feature_names_in_, \"중요도\" : xgboost.feature_importances_}).sort_values('중요도', ascending = False)"
      ],
      "metadata": {
        "id": "kajSSZI7dXYJ"
      },
      "id": "kajSSZI7dXYJ",
      "execution_count": null,
      "outputs": []
    },
    {
      "cell_type": "code",
      "source": [
        "# 분류 모델 리스트\n",
        "classification_models = [randomforest, xgboost, lgbm, catboost]\n",
        "df_total = stratified_learn(classification_models, num_split=3, random_state = 100)"
      ],
      "metadata": {
        "id": "nDQ1M2_yOWLS"
      },
      "id": "nDQ1M2_yOWLS",
      "execution_count": null,
      "outputs": []
    },
    {
      "cell_type": "code",
      "source": [
        "df_total"
      ],
      "metadata": {
        "id": "V2RWvui6ZutI"
      },
      "id": "V2RWvui6ZutI",
      "execution_count": null,
      "outputs": []
    },
    {
      "cell_type": "code",
      "source": [
        "pd.options.display.float_format = '{:.7f}'.format\n",
        "df_total.sort_values(\"XGBClassifier의 P(y=1)\", ascending = False)"
      ],
      "metadata": {
        "id": "PDyYk3lISV9S"
      },
      "id": "PDyYk3lISV9S",
      "execution_count": null,
      "outputs": []
    },
    {
      "cell_type": "code",
      "source": [
        "df_total.corr()"
      ],
      "metadata": {
        "id": "NOGldEQRbwmi"
      },
      "id": "NOGldEQRbwmi",
      "execution_count": null,
      "outputs": []
    },
    {
      "cell_type": "code",
      "source": [
        "import seaborn as sns\n",
        "import plotly.express as px\n",
        "\n",
        "plt.figure(figsize=(3,1))\n",
        "px.box(df_total[\"평균 P(y=1)의 확률\"])"
      ],
      "metadata": {
        "id": "opHCTu-gZVbR"
      },
      "id": "opHCTu-gZVbR",
      "execution_count": null,
      "outputs": []
    },
    {
      "cell_type": "code",
      "source": [
        "df_total[df_total[\"평균 P(y=1)의 확률\"]>0.5].shape"
      ],
      "metadata": {
        "id": "MOW7py5rZ9lz"
      },
      "id": "MOW7py5rZ9lz",
      "execution_count": null,
      "outputs": []
    },
    {
      "cell_type": "code",
      "source": [
        "df[\"전기차충전기유무\"].value_counts()"
      ],
      "metadata": {
        "id": "kiYe917KaHGT"
      },
      "id": "kiYe917KaHGT",
      "execution_count": null,
      "outputs": []
    },
    {
      "cell_type": "code",
      "source": [
        "threshold = 0.5\n",
        "prediction = np.where(df_total[\"평균 P(y=1)의 확률\"] > threshold, 1, 0)\n",
        "print(\"f1값:\", f1_score(y, prediction))\n",
        "plt.figure(figsize = (5,5))\n",
        "cm_matrix = confusion_matrix(y, prediction, labels= [0,1])\n",
        "sns.heatmap(cm_matrix, annot=True, fmt = 'd')\n",
        "plt.show()"
      ],
      "metadata": {
        "id": "ivRP7O4OaP7P"
      },
      "id": "ivRP7O4OaP7P",
      "execution_count": null,
      "outputs": []
    },
    {
      "cell_type": "code",
      "source": [
        "feature_imp = pd.DataFrame({\"feature\":xgboost.feature_names_in_,\n",
        "                            \"randomforest중요도\" :randomforest.feature_importances_,\n",
        "                            \"xgboost중요도\" :xgboost.feature_importances_,\n",
        "                            \"lgbm중요도\" :lgbm.feature_importances_,\n",
        "                            \"catboost중요도\" :catboost.feature_importances_})"
      ],
      "metadata": {
        "id": "BMTpGXaCOULB"
      },
      "id": "BMTpGXaCOULB",
      "execution_count": null,
      "outputs": []
    },
    {
      "cell_type": "code",
      "source": [
        "feature_imp"
      ],
      "metadata": {
        "id": "stVvOTOD02r5"
      },
      "id": "stVvOTOD02r5",
      "execution_count": null,
      "outputs": []
    },
    {
      "cell_type": "code",
      "source": [],
      "metadata": {
        "id": "Br3t6Vml02pQ"
      },
      "id": "Br3t6Vml02pQ",
      "execution_count": null,
      "outputs": []
    },
    {
      "cell_type": "code",
      "source": [],
      "metadata": {
        "id": "SQtzzLEC02mS"
      },
      "id": "SQtzzLEC02mS",
      "execution_count": null,
      "outputs": []
    },
    {
      "cell_type": "code",
      "source": [
        "from sklearn.metrics import precision_score, recall_score"
      ],
      "metadata": {
        "id": "Z9QnPfs1IB3D"
      },
      "id": "Z9QnPfs1IB3D",
      "execution_count": null,
      "outputs": []
    },
    {
      "cell_type": "code",
      "source": [
        "thres_list = np.arange(0, 1, 0.1)\n",
        "precision_list = []\n",
        "recall_list = []\n",
        "\n",
        "for thres in thres_list:\n",
        "    prediction = np.where(df_total[\"평균 P(y=1)의 확률\"] > thres, 1, 0)\n",
        "    precision = precision_score(y, prediction)\n",
        "    recall = recall_score(y, prediction)\n",
        "\n",
        "    precision_list.append(precision)\n",
        "    recall_list.append(recall)\n",
        "\n",
        "plt.figure(figsize=(10,5))\n",
        "sns.lineplot(x = thres_list, y = precision_list, label = \"precision\")\n",
        "sns.lineplot(x = thres_list, y = recall_list, label = \"recall\")\n",
        "plt.legend()\n",
        "plt.show()"
      ],
      "metadata": {
        "id": "CN8lGtsz8Vp3"
      },
      "id": "CN8lGtsz8Vp3",
      "execution_count": null,
      "outputs": []
    },
    {
      "cell_type": "code",
      "source": [
        "prediction = np.where(df_total[\"평균 P(y=1)의 확률\"] > 0.5, 1, 0)\n",
        "df_total[\"prediction_0.22\"] = prediction.reshape(-1,1)"
      ],
      "metadata": {
        "id": "NoED4nw08VlT"
      },
      "id": "NoED4nw08VlT",
      "execution_count": null,
      "outputs": []
    },
    {
      "cell_type": "code",
      "source": [
        "df_total[\"actual\"] = y"
      ],
      "metadata": {
        "id": "Dj-A-cUz8VjW"
      },
      "id": "Dj-A-cUz8VjW",
      "execution_count": null,
      "outputs": []
    },
    {
      "cell_type": "code",
      "source": [
        "df_total"
      ],
      "metadata": {
        "colab": {
          "base_uri": "https://localhost:8080/",
          "height": 550
        },
        "id": "kfoXwJ-WTi30",
        "outputId": "20e00e38-a01a-4db5-9df7-bcbc99a3000f"
      },
      "id": "kfoXwJ-WTi30",
      "execution_count": null,
      "outputs": [
        {
          "output_type": "execute_result",
          "data": {
            "text/plain": [
              "      XGBClassifier의 P(y=1)  LGBMClassifier의 P(y=1)  \\\n",
              "인덱스                                                   \n",
              "0                 0.5563816               0.5882781   \n",
              "1                 0.0048319               0.0000015   \n",
              "2                 0.0033828               0.0000004   \n",
              "3                 0.1551217               0.0470225   \n",
              "4                 0.0007603               0.0000000   \n",
              "...                     ...                     ...   \n",
              "1090              0.0768837               0.0006426   \n",
              "1091              0.2593538               0.1574427   \n",
              "1092              0.0148800               0.0000026   \n",
              "1093              0.9258389               0.9884333   \n",
              "1094              0.0007323               0.0000041   \n",
              "\n",
              "      CatBoostClassifier의 P(y=1)  평균 P(y=1)의 확률  prediction_0.22  actual  \\\n",
              "인덱스                                                                        \n",
              "0                      0.5863778      0.5770125                1       0   \n",
              "1                      0.1244611      0.0430982                0       0   \n",
              "2                      0.6939414      0.2324415                1       0   \n",
              "3                      0.6016362      0.2679268                1       0   \n",
              "4                      0.0338786      0.0115463                0       0   \n",
              "...                          ...            ...              ...     ...   \n",
              "1090                   0.4441777      0.1739013                0       0   \n",
              "1091                   0.8161100      0.4109689                1       0   \n",
              "1092                   0.5562942      0.1903923                0       0   \n",
              "1093                   0.4740138      0.7960953                1       0   \n",
              "1094                   0.0378162      0.0128509                0       0   \n",
              "\n",
              "     confusion  \n",
              "인덱스             \n",
              "0           TN  \n",
              "1           TN  \n",
              "2           TN  \n",
              "3           TN  \n",
              "4           TN  \n",
              "...        ...  \n",
              "1090        TN  \n",
              "1091        TN  \n",
              "1092        TN  \n",
              "1093        TN  \n",
              "1094        TN  \n",
              "\n",
              "[1095 rows x 7 columns]"
            ],
            "text/html": [
              "\n",
              "  <div id=\"df-913fbe09-483c-4a70-9b8f-588db662c0cd\">\n",
              "    <div class=\"colab-df-container\">\n",
              "      <div>\n",
              "<style scoped>\n",
              "    .dataframe tbody tr th:only-of-type {\n",
              "        vertical-align: middle;\n",
              "    }\n",
              "\n",
              "    .dataframe tbody tr th {\n",
              "        vertical-align: top;\n",
              "    }\n",
              "\n",
              "    .dataframe thead th {\n",
              "        text-align: right;\n",
              "    }\n",
              "</style>\n",
              "<table border=\"1\" class=\"dataframe\">\n",
              "  <thead>\n",
              "    <tr style=\"text-align: right;\">\n",
              "      <th></th>\n",
              "      <th>XGBClassifier의 P(y=1)</th>\n",
              "      <th>LGBMClassifier의 P(y=1)</th>\n",
              "      <th>CatBoostClassifier의 P(y=1)</th>\n",
              "      <th>평균 P(y=1)의 확률</th>\n",
              "      <th>prediction_0.22</th>\n",
              "      <th>actual</th>\n",
              "      <th>confusion</th>\n",
              "    </tr>\n",
              "    <tr>\n",
              "      <th>인덱스</th>\n",
              "      <th></th>\n",
              "      <th></th>\n",
              "      <th></th>\n",
              "      <th></th>\n",
              "      <th></th>\n",
              "      <th></th>\n",
              "      <th></th>\n",
              "    </tr>\n",
              "  </thead>\n",
              "  <tbody>\n",
              "    <tr>\n",
              "      <th>0</th>\n",
              "      <td>0.5563816</td>\n",
              "      <td>0.5882781</td>\n",
              "      <td>0.5863778</td>\n",
              "      <td>0.5770125</td>\n",
              "      <td>1</td>\n",
              "      <td>0</td>\n",
              "      <td>TN</td>\n",
              "    </tr>\n",
              "    <tr>\n",
              "      <th>1</th>\n",
              "      <td>0.0048319</td>\n",
              "      <td>0.0000015</td>\n",
              "      <td>0.1244611</td>\n",
              "      <td>0.0430982</td>\n",
              "      <td>0</td>\n",
              "      <td>0</td>\n",
              "      <td>TN</td>\n",
              "    </tr>\n",
              "    <tr>\n",
              "      <th>2</th>\n",
              "      <td>0.0033828</td>\n",
              "      <td>0.0000004</td>\n",
              "      <td>0.6939414</td>\n",
              "      <td>0.2324415</td>\n",
              "      <td>1</td>\n",
              "      <td>0</td>\n",
              "      <td>TN</td>\n",
              "    </tr>\n",
              "    <tr>\n",
              "      <th>3</th>\n",
              "      <td>0.1551217</td>\n",
              "      <td>0.0470225</td>\n",
              "      <td>0.6016362</td>\n",
              "      <td>0.2679268</td>\n",
              "      <td>1</td>\n",
              "      <td>0</td>\n",
              "      <td>TN</td>\n",
              "    </tr>\n",
              "    <tr>\n",
              "      <th>4</th>\n",
              "      <td>0.0007603</td>\n",
              "      <td>0.0000000</td>\n",
              "      <td>0.0338786</td>\n",
              "      <td>0.0115463</td>\n",
              "      <td>0</td>\n",
              "      <td>0</td>\n",
              "      <td>TN</td>\n",
              "    </tr>\n",
              "    <tr>\n",
              "      <th>...</th>\n",
              "      <td>...</td>\n",
              "      <td>...</td>\n",
              "      <td>...</td>\n",
              "      <td>...</td>\n",
              "      <td>...</td>\n",
              "      <td>...</td>\n",
              "      <td>...</td>\n",
              "    </tr>\n",
              "    <tr>\n",
              "      <th>1090</th>\n",
              "      <td>0.0768837</td>\n",
              "      <td>0.0006426</td>\n",
              "      <td>0.4441777</td>\n",
              "      <td>0.1739013</td>\n",
              "      <td>0</td>\n",
              "      <td>0</td>\n",
              "      <td>TN</td>\n",
              "    </tr>\n",
              "    <tr>\n",
              "      <th>1091</th>\n",
              "      <td>0.2593538</td>\n",
              "      <td>0.1574427</td>\n",
              "      <td>0.8161100</td>\n",
              "      <td>0.4109689</td>\n",
              "      <td>1</td>\n",
              "      <td>0</td>\n",
              "      <td>TN</td>\n",
              "    </tr>\n",
              "    <tr>\n",
              "      <th>1092</th>\n",
              "      <td>0.0148800</td>\n",
              "      <td>0.0000026</td>\n",
              "      <td>0.5562942</td>\n",
              "      <td>0.1903923</td>\n",
              "      <td>0</td>\n",
              "      <td>0</td>\n",
              "      <td>TN</td>\n",
              "    </tr>\n",
              "    <tr>\n",
              "      <th>1093</th>\n",
              "      <td>0.9258389</td>\n",
              "      <td>0.9884333</td>\n",
              "      <td>0.4740138</td>\n",
              "      <td>0.7960953</td>\n",
              "      <td>1</td>\n",
              "      <td>0</td>\n",
              "      <td>TN</td>\n",
              "    </tr>\n",
              "    <tr>\n",
              "      <th>1094</th>\n",
              "      <td>0.0007323</td>\n",
              "      <td>0.0000041</td>\n",
              "      <td>0.0378162</td>\n",
              "      <td>0.0128509</td>\n",
              "      <td>0</td>\n",
              "      <td>0</td>\n",
              "      <td>TN</td>\n",
              "    </tr>\n",
              "  </tbody>\n",
              "</table>\n",
              "<p>1095 rows × 7 columns</p>\n",
              "</div>\n",
              "      <button class=\"colab-df-convert\" onclick=\"convertToInteractive('df-913fbe09-483c-4a70-9b8f-588db662c0cd')\"\n",
              "              title=\"Convert this dataframe to an interactive table.\"\n",
              "              style=\"display:none;\">\n",
              "        \n",
              "  <svg xmlns=\"http://www.w3.org/2000/svg\" height=\"24px\"viewBox=\"0 0 24 24\"\n",
              "       width=\"24px\">\n",
              "    <path d=\"M0 0h24v24H0V0z\" fill=\"none\"/>\n",
              "    <path d=\"M18.56 5.44l.94 2.06.94-2.06 2.06-.94-2.06-.94-.94-2.06-.94 2.06-2.06.94zm-11 1L8.5 8.5l.94-2.06 2.06-.94-2.06-.94L8.5 2.5l-.94 2.06-2.06.94zm10 10l.94 2.06.94-2.06 2.06-.94-2.06-.94-.94-2.06-.94 2.06-2.06.94z\"/><path d=\"M17.41 7.96l-1.37-1.37c-.4-.4-.92-.59-1.43-.59-.52 0-1.04.2-1.43.59L10.3 9.45l-7.72 7.72c-.78.78-.78 2.05 0 2.83L4 21.41c.39.39.9.59 1.41.59.51 0 1.02-.2 1.41-.59l7.78-7.78 2.81-2.81c.8-.78.8-2.07 0-2.86zM5.41 20L4 18.59l7.72-7.72 1.47 1.35L5.41 20z\"/>\n",
              "  </svg>\n",
              "      </button>\n",
              "      \n",
              "  <style>\n",
              "    .colab-df-container {\n",
              "      display:flex;\n",
              "      flex-wrap:wrap;\n",
              "      gap: 12px;\n",
              "    }\n",
              "\n",
              "    .colab-df-convert {\n",
              "      background-color: #E8F0FE;\n",
              "      border: none;\n",
              "      border-radius: 50%;\n",
              "      cursor: pointer;\n",
              "      display: none;\n",
              "      fill: #1967D2;\n",
              "      height: 32px;\n",
              "      padding: 0 0 0 0;\n",
              "      width: 32px;\n",
              "    }\n",
              "\n",
              "    .colab-df-convert:hover {\n",
              "      background-color: #E2EBFA;\n",
              "      box-shadow: 0px 1px 2px rgba(60, 64, 67, 0.3), 0px 1px 3px 1px rgba(60, 64, 67, 0.15);\n",
              "      fill: #174EA6;\n",
              "    }\n",
              "\n",
              "    [theme=dark] .colab-df-convert {\n",
              "      background-color: #3B4455;\n",
              "      fill: #D2E3FC;\n",
              "    }\n",
              "\n",
              "    [theme=dark] .colab-df-convert:hover {\n",
              "      background-color: #434B5C;\n",
              "      box-shadow: 0px 1px 3px 1px rgba(0, 0, 0, 0.15);\n",
              "      filter: drop-shadow(0px 1px 2px rgba(0, 0, 0, 0.3));\n",
              "      fill: #FFFFFF;\n",
              "    }\n",
              "  </style>\n",
              "\n",
              "      <script>\n",
              "        const buttonEl =\n",
              "          document.querySelector('#df-913fbe09-483c-4a70-9b8f-588db662c0cd button.colab-df-convert');\n",
              "        buttonEl.style.display =\n",
              "          google.colab.kernel.accessAllowed ? 'block' : 'none';\n",
              "\n",
              "        async function convertToInteractive(key) {\n",
              "          const element = document.querySelector('#df-913fbe09-483c-4a70-9b8f-588db662c0cd');\n",
              "          const dataTable =\n",
              "            await google.colab.kernel.invokeFunction('convertToInteractive',\n",
              "                                                     [key], {});\n",
              "          if (!dataTable) return;\n",
              "\n",
              "          const docLinkHtml = 'Like what you see? Visit the ' +\n",
              "            '<a target=\"_blank\" href=https://colab.research.google.com/notebooks/data_table.ipynb>data table notebook</a>'\n",
              "            + ' to learn more about interactive tables.';\n",
              "          element.innerHTML = '';\n",
              "          dataTable['output_type'] = 'display_data';\n",
              "          await google.colab.output.renderOutput(dataTable, element);\n",
              "          const docLink = document.createElement('div');\n",
              "          docLink.innerHTML = docLinkHtml;\n",
              "          element.appendChild(docLink);\n",
              "        }\n",
              "      </script>\n",
              "    </div>\n",
              "  </div>\n",
              "  "
            ]
          },
          "metadata": {},
          "execution_count": 473
        }
      ]
    },
    {
      "cell_type": "code",
      "source": [
        "def confusion(x):\n",
        "    if (x[\"actual\"] == 1) and (x[\"prediction_0.22\"] == 1):\n",
        "        return \"TP\"\n",
        "    elif (x[\"actual\"] == 0) and (x[\"prediction_0.22\"] == 0):\n",
        "        return \"TN\"\n",
        "    elif (x[\"actual\"] == 1) and (x[\"prediction_0.22\"] == 0):\n",
        "        return \"FN\"\n",
        "    else:\n",
        "        return \"FP\""
      ],
      "metadata": {
        "id": "f9R5rv2U8qsE"
      },
      "id": "f9R5rv2U8qsE",
      "execution_count": null,
      "outputs": []
    },
    {
      "cell_type": "code",
      "source": [
        "confusion_lst = []\n",
        "for i in df_total.values:\n",
        "    if (i[4] == 1) and (i[5] == 1):\n",
        "        confusion_lst.append(\"TP\")\n",
        "    elif (i[4] == 0) and (i[5] == 0):\n",
        "        confusion_lst.append(\"TN\")\n",
        "    elif (i[4] == 1) and (i[5] == 0):\n",
        "        confusion_lst.append(\"FP\")\n",
        "    elif (i[4] == 0) and (i[5] == 1):\n",
        "        confusion_lst.append(\"FN\")"
      ],
      "metadata": {
        "id": "sll0CAeXTVLJ"
      },
      "id": "sll0CAeXTVLJ",
      "execution_count": null,
      "outputs": []
    },
    {
      "cell_type": "code",
      "source": [
        "df_total[\"confusion\"] = confusion_lst"
      ],
      "metadata": {
        "id": "2Iv-GddyUFZ2"
      },
      "id": "2Iv-GddyUFZ2",
      "execution_count": null,
      "outputs": []
    },
    {
      "cell_type": "code",
      "source": [
        "df_total[df_total[\"prediction_0.22\"] == 1]"
      ],
      "metadata": {
        "colab": {
          "base_uri": "https://localhost:8080/",
          "height": 550
        },
        "id": "fGN2-j6KUFXu",
        "outputId": "37f6926a-5f60-4669-c73b-d8f467e2ca7d"
      },
      "id": "fGN2-j6KUFXu",
      "execution_count": null,
      "outputs": [
        {
          "output_type": "execute_result",
          "data": {
            "text/plain": [
              "      XGBClassifier의 P(y=1)  LGBMClassifier의 P(y=1)  \\\n",
              "인덱스                                                   \n",
              "0                 0.5563816               0.5882781   \n",
              "2                 0.0033828               0.0000004   \n",
              "3                 0.1551217               0.0470225   \n",
              "8                 0.8670504               0.2001493   \n",
              "9                 0.0538675               0.9374023   \n",
              "...                     ...                     ...   \n",
              "1081              0.4700207               0.0119907   \n",
              "1086              0.7914025               0.9985152   \n",
              "1089              0.7637722               0.9818164   \n",
              "1091              0.2593538               0.1574427   \n",
              "1093              0.9258389               0.9884333   \n",
              "\n",
              "      CatBoostClassifier의 P(y=1)  평균 P(y=1)의 확률  prediction_0.22  actual  \\\n",
              "인덱스                                                                        \n",
              "0                      0.5863778      0.5770125                1       0   \n",
              "2                      0.6939414      0.2324415                1       0   \n",
              "3                      0.6016362      0.2679268                1       0   \n",
              "8                      0.8582926      0.6418308                1       0   \n",
              "9                      0.4625987      0.4846228                1       1   \n",
              "...                          ...            ...              ...     ...   \n",
              "1081                   0.4683415      0.3167843                1       0   \n",
              "1086                   0.6314799      0.8071325                1       0   \n",
              "1089                   0.6096551      0.7850813                1       1   \n",
              "1091                   0.8161100      0.4109689                1       0   \n",
              "1093                   0.4740138      0.7960953                1       0   \n",
              "\n",
              "     confusion  \n",
              "인덱스             \n",
              "0           FP  \n",
              "2           FP  \n",
              "3           FP  \n",
              "8           FP  \n",
              "9           TP  \n",
              "...        ...  \n",
              "1081        FP  \n",
              "1086        FP  \n",
              "1089        TP  \n",
              "1091        FP  \n",
              "1093        FP  \n",
              "\n",
              "[295 rows x 7 columns]"
            ],
            "text/html": [
              "\n",
              "  <div id=\"df-6492eb76-576c-4705-9167-c1d1a5803758\">\n",
              "    <div class=\"colab-df-container\">\n",
              "      <div>\n",
              "<style scoped>\n",
              "    .dataframe tbody tr th:only-of-type {\n",
              "        vertical-align: middle;\n",
              "    }\n",
              "\n",
              "    .dataframe tbody tr th {\n",
              "        vertical-align: top;\n",
              "    }\n",
              "\n",
              "    .dataframe thead th {\n",
              "        text-align: right;\n",
              "    }\n",
              "</style>\n",
              "<table border=\"1\" class=\"dataframe\">\n",
              "  <thead>\n",
              "    <tr style=\"text-align: right;\">\n",
              "      <th></th>\n",
              "      <th>XGBClassifier의 P(y=1)</th>\n",
              "      <th>LGBMClassifier의 P(y=1)</th>\n",
              "      <th>CatBoostClassifier의 P(y=1)</th>\n",
              "      <th>평균 P(y=1)의 확률</th>\n",
              "      <th>prediction_0.22</th>\n",
              "      <th>actual</th>\n",
              "      <th>confusion</th>\n",
              "    </tr>\n",
              "    <tr>\n",
              "      <th>인덱스</th>\n",
              "      <th></th>\n",
              "      <th></th>\n",
              "      <th></th>\n",
              "      <th></th>\n",
              "      <th></th>\n",
              "      <th></th>\n",
              "      <th></th>\n",
              "    </tr>\n",
              "  </thead>\n",
              "  <tbody>\n",
              "    <tr>\n",
              "      <th>0</th>\n",
              "      <td>0.5563816</td>\n",
              "      <td>0.5882781</td>\n",
              "      <td>0.5863778</td>\n",
              "      <td>0.5770125</td>\n",
              "      <td>1</td>\n",
              "      <td>0</td>\n",
              "      <td>FP</td>\n",
              "    </tr>\n",
              "    <tr>\n",
              "      <th>2</th>\n",
              "      <td>0.0033828</td>\n",
              "      <td>0.0000004</td>\n",
              "      <td>0.6939414</td>\n",
              "      <td>0.2324415</td>\n",
              "      <td>1</td>\n",
              "      <td>0</td>\n",
              "      <td>FP</td>\n",
              "    </tr>\n",
              "    <tr>\n",
              "      <th>3</th>\n",
              "      <td>0.1551217</td>\n",
              "      <td>0.0470225</td>\n",
              "      <td>0.6016362</td>\n",
              "      <td>0.2679268</td>\n",
              "      <td>1</td>\n",
              "      <td>0</td>\n",
              "      <td>FP</td>\n",
              "    </tr>\n",
              "    <tr>\n",
              "      <th>8</th>\n",
              "      <td>0.8670504</td>\n",
              "      <td>0.2001493</td>\n",
              "      <td>0.8582926</td>\n",
              "      <td>0.6418308</td>\n",
              "      <td>1</td>\n",
              "      <td>0</td>\n",
              "      <td>FP</td>\n",
              "    </tr>\n",
              "    <tr>\n",
              "      <th>9</th>\n",
              "      <td>0.0538675</td>\n",
              "      <td>0.9374023</td>\n",
              "      <td>0.4625987</td>\n",
              "      <td>0.4846228</td>\n",
              "      <td>1</td>\n",
              "      <td>1</td>\n",
              "      <td>TP</td>\n",
              "    </tr>\n",
              "    <tr>\n",
              "      <th>...</th>\n",
              "      <td>...</td>\n",
              "      <td>...</td>\n",
              "      <td>...</td>\n",
              "      <td>...</td>\n",
              "      <td>...</td>\n",
              "      <td>...</td>\n",
              "      <td>...</td>\n",
              "    </tr>\n",
              "    <tr>\n",
              "      <th>1081</th>\n",
              "      <td>0.4700207</td>\n",
              "      <td>0.0119907</td>\n",
              "      <td>0.4683415</td>\n",
              "      <td>0.3167843</td>\n",
              "      <td>1</td>\n",
              "      <td>0</td>\n",
              "      <td>FP</td>\n",
              "    </tr>\n",
              "    <tr>\n",
              "      <th>1086</th>\n",
              "      <td>0.7914025</td>\n",
              "      <td>0.9985152</td>\n",
              "      <td>0.6314799</td>\n",
              "      <td>0.8071325</td>\n",
              "      <td>1</td>\n",
              "      <td>0</td>\n",
              "      <td>FP</td>\n",
              "    </tr>\n",
              "    <tr>\n",
              "      <th>1089</th>\n",
              "      <td>0.7637722</td>\n",
              "      <td>0.9818164</td>\n",
              "      <td>0.6096551</td>\n",
              "      <td>0.7850813</td>\n",
              "      <td>1</td>\n",
              "      <td>1</td>\n",
              "      <td>TP</td>\n",
              "    </tr>\n",
              "    <tr>\n",
              "      <th>1091</th>\n",
              "      <td>0.2593538</td>\n",
              "      <td>0.1574427</td>\n",
              "      <td>0.8161100</td>\n",
              "      <td>0.4109689</td>\n",
              "      <td>1</td>\n",
              "      <td>0</td>\n",
              "      <td>FP</td>\n",
              "    </tr>\n",
              "    <tr>\n",
              "      <th>1093</th>\n",
              "      <td>0.9258389</td>\n",
              "      <td>0.9884333</td>\n",
              "      <td>0.4740138</td>\n",
              "      <td>0.7960953</td>\n",
              "      <td>1</td>\n",
              "      <td>0</td>\n",
              "      <td>FP</td>\n",
              "    </tr>\n",
              "  </tbody>\n",
              "</table>\n",
              "<p>295 rows × 7 columns</p>\n",
              "</div>\n",
              "      <button class=\"colab-df-convert\" onclick=\"convertToInteractive('df-6492eb76-576c-4705-9167-c1d1a5803758')\"\n",
              "              title=\"Convert this dataframe to an interactive table.\"\n",
              "              style=\"display:none;\">\n",
              "        \n",
              "  <svg xmlns=\"http://www.w3.org/2000/svg\" height=\"24px\"viewBox=\"0 0 24 24\"\n",
              "       width=\"24px\">\n",
              "    <path d=\"M0 0h24v24H0V0z\" fill=\"none\"/>\n",
              "    <path d=\"M18.56 5.44l.94 2.06.94-2.06 2.06-.94-2.06-.94-.94-2.06-.94 2.06-2.06.94zm-11 1L8.5 8.5l.94-2.06 2.06-.94-2.06-.94L8.5 2.5l-.94 2.06-2.06.94zm10 10l.94 2.06.94-2.06 2.06-.94-2.06-.94-.94-2.06-.94 2.06-2.06.94z\"/><path d=\"M17.41 7.96l-1.37-1.37c-.4-.4-.92-.59-1.43-.59-.52 0-1.04.2-1.43.59L10.3 9.45l-7.72 7.72c-.78.78-.78 2.05 0 2.83L4 21.41c.39.39.9.59 1.41.59.51 0 1.02-.2 1.41-.59l7.78-7.78 2.81-2.81c.8-.78.8-2.07 0-2.86zM5.41 20L4 18.59l7.72-7.72 1.47 1.35L5.41 20z\"/>\n",
              "  </svg>\n",
              "      </button>\n",
              "      \n",
              "  <style>\n",
              "    .colab-df-container {\n",
              "      display:flex;\n",
              "      flex-wrap:wrap;\n",
              "      gap: 12px;\n",
              "    }\n",
              "\n",
              "    .colab-df-convert {\n",
              "      background-color: #E8F0FE;\n",
              "      border: none;\n",
              "      border-radius: 50%;\n",
              "      cursor: pointer;\n",
              "      display: none;\n",
              "      fill: #1967D2;\n",
              "      height: 32px;\n",
              "      padding: 0 0 0 0;\n",
              "      width: 32px;\n",
              "    }\n",
              "\n",
              "    .colab-df-convert:hover {\n",
              "      background-color: #E2EBFA;\n",
              "      box-shadow: 0px 1px 2px rgba(60, 64, 67, 0.3), 0px 1px 3px 1px rgba(60, 64, 67, 0.15);\n",
              "      fill: #174EA6;\n",
              "    }\n",
              "\n",
              "    [theme=dark] .colab-df-convert {\n",
              "      background-color: #3B4455;\n",
              "      fill: #D2E3FC;\n",
              "    }\n",
              "\n",
              "    [theme=dark] .colab-df-convert:hover {\n",
              "      background-color: #434B5C;\n",
              "      box-shadow: 0px 1px 3px 1px rgba(0, 0, 0, 0.15);\n",
              "      filter: drop-shadow(0px 1px 2px rgba(0, 0, 0, 0.3));\n",
              "      fill: #FFFFFF;\n",
              "    }\n",
              "  </style>\n",
              "\n",
              "      <script>\n",
              "        const buttonEl =\n",
              "          document.querySelector('#df-6492eb76-576c-4705-9167-c1d1a5803758 button.colab-df-convert');\n",
              "        buttonEl.style.display =\n",
              "          google.colab.kernel.accessAllowed ? 'block' : 'none';\n",
              "\n",
              "        async function convertToInteractive(key) {\n",
              "          const element = document.querySelector('#df-6492eb76-576c-4705-9167-c1d1a5803758');\n",
              "          const dataTable =\n",
              "            await google.colab.kernel.invokeFunction('convertToInteractive',\n",
              "                                                     [key], {});\n",
              "          if (!dataTable) return;\n",
              "\n",
              "          const docLinkHtml = 'Like what you see? Visit the ' +\n",
              "            '<a target=\"_blank\" href=https://colab.research.google.com/notebooks/data_table.ipynb>data table notebook</a>'\n",
              "            + ' to learn more about interactive tables.';\n",
              "          element.innerHTML = '';\n",
              "          dataTable['output_type'] = 'display_data';\n",
              "          await google.colab.output.renderOutput(dataTable, element);\n",
              "          const docLink = document.createElement('div');\n",
              "          docLink.innerHTML = docLinkHtml;\n",
              "          element.appendChild(docLink);\n",
              "        }\n",
              "      </script>\n",
              "    </div>\n",
              "  </div>\n",
              "  "
            ]
          },
          "metadata": {},
          "execution_count": 477
        }
      ]
    },
    {
      "cell_type": "code",
      "source": [
        "df_total[(df_total[\"confusion\"] == \"FP\") | (df_total[\"confusion\"] == \"TP\")].sort_values(by = \"평균 P(y=1)의 확률\", ascending = False)"
      ],
      "metadata": {
        "colab": {
          "base_uri": "https://localhost:8080/",
          "height": 550
        },
        "id": "xmFiXI8dUFVU",
        "outputId": "949bb996-f6b1-4ffb-a331-9e91908ccb69"
      },
      "id": "xmFiXI8dUFVU",
      "execution_count": null,
      "outputs": [
        {
          "output_type": "execute_result",
          "data": {
            "text/plain": [
              "      XGBClassifier의 P(y=1)  LGBMClassifier의 P(y=1)  \\\n",
              "인덱스                                                   \n",
              "1065              0.9838566               0.9999582   \n",
              "16                0.9958016               0.9999092   \n",
              "623               0.9750931               0.9996133   \n",
              "113               0.9806226               0.9987995   \n",
              "1020              0.9407344               0.9997773   \n",
              "...                     ...                     ...   \n",
              "1023              0.1568913               0.0018596   \n",
              "235               0.1546004               0.0314049   \n",
              "105               0.1305389               0.0798230   \n",
              "160               0.0307252               0.0062284   \n",
              "266               0.1788770               0.0988572   \n",
              "\n",
              "      CatBoostClassifier의 P(y=1)  평균 P(y=1)의 확률  prediction_0.22  actual  \\\n",
              "인덱스                                                                        \n",
              "1065                   0.9124633      0.9654260                1       0   \n",
              "16                     0.8816274      0.9591127                1       1   \n",
              "623                    0.8933925      0.9560330                1       0   \n",
              "113                    0.8871468      0.9555230                1       1   \n",
              "1020                   0.8326077      0.9243732                1       1   \n",
              "...                          ...            ...              ...     ...   \n",
              "1023                   0.5084033      0.2223848                1       0   \n",
              "235                    0.4810130      0.2223394                1       1   \n",
              "105                    0.4562910      0.2222177                1       0   \n",
              "160                    0.6268747      0.2212761                1       0   \n",
              "266                    0.3829670      0.2202337                1       0   \n",
              "\n",
              "     confusion  \n",
              "인덱스             \n",
              "1065        FP  \n",
              "16          TP  \n",
              "623         FP  \n",
              "113         TP  \n",
              "1020        TP  \n",
              "...        ...  \n",
              "1023        FP  \n",
              "235         TP  \n",
              "105         FP  \n",
              "160         FP  \n",
              "266         FP  \n",
              "\n",
              "[295 rows x 7 columns]"
            ],
            "text/html": [
              "\n",
              "  <div id=\"df-a8867a91-801d-44bd-aed9-b738d8440625\">\n",
              "    <div class=\"colab-df-container\">\n",
              "      <div>\n",
              "<style scoped>\n",
              "    .dataframe tbody tr th:only-of-type {\n",
              "        vertical-align: middle;\n",
              "    }\n",
              "\n",
              "    .dataframe tbody tr th {\n",
              "        vertical-align: top;\n",
              "    }\n",
              "\n",
              "    .dataframe thead th {\n",
              "        text-align: right;\n",
              "    }\n",
              "</style>\n",
              "<table border=\"1\" class=\"dataframe\">\n",
              "  <thead>\n",
              "    <tr style=\"text-align: right;\">\n",
              "      <th></th>\n",
              "      <th>XGBClassifier의 P(y=1)</th>\n",
              "      <th>LGBMClassifier의 P(y=1)</th>\n",
              "      <th>CatBoostClassifier의 P(y=1)</th>\n",
              "      <th>평균 P(y=1)의 확률</th>\n",
              "      <th>prediction_0.22</th>\n",
              "      <th>actual</th>\n",
              "      <th>confusion</th>\n",
              "    </tr>\n",
              "    <tr>\n",
              "      <th>인덱스</th>\n",
              "      <th></th>\n",
              "      <th></th>\n",
              "      <th></th>\n",
              "      <th></th>\n",
              "      <th></th>\n",
              "      <th></th>\n",
              "      <th></th>\n",
              "    </tr>\n",
              "  </thead>\n",
              "  <tbody>\n",
              "    <tr>\n",
              "      <th>1065</th>\n",
              "      <td>0.9838566</td>\n",
              "      <td>0.9999582</td>\n",
              "      <td>0.9124633</td>\n",
              "      <td>0.9654260</td>\n",
              "      <td>1</td>\n",
              "      <td>0</td>\n",
              "      <td>FP</td>\n",
              "    </tr>\n",
              "    <tr>\n",
              "      <th>16</th>\n",
              "      <td>0.9958016</td>\n",
              "      <td>0.9999092</td>\n",
              "      <td>0.8816274</td>\n",
              "      <td>0.9591127</td>\n",
              "      <td>1</td>\n",
              "      <td>1</td>\n",
              "      <td>TP</td>\n",
              "    </tr>\n",
              "    <tr>\n",
              "      <th>623</th>\n",
              "      <td>0.9750931</td>\n",
              "      <td>0.9996133</td>\n",
              "      <td>0.8933925</td>\n",
              "      <td>0.9560330</td>\n",
              "      <td>1</td>\n",
              "      <td>0</td>\n",
              "      <td>FP</td>\n",
              "    </tr>\n",
              "    <tr>\n",
              "      <th>113</th>\n",
              "      <td>0.9806226</td>\n",
              "      <td>0.9987995</td>\n",
              "      <td>0.8871468</td>\n",
              "      <td>0.9555230</td>\n",
              "      <td>1</td>\n",
              "      <td>1</td>\n",
              "      <td>TP</td>\n",
              "    </tr>\n",
              "    <tr>\n",
              "      <th>1020</th>\n",
              "      <td>0.9407344</td>\n",
              "      <td>0.9997773</td>\n",
              "      <td>0.8326077</td>\n",
              "      <td>0.9243732</td>\n",
              "      <td>1</td>\n",
              "      <td>1</td>\n",
              "      <td>TP</td>\n",
              "    </tr>\n",
              "    <tr>\n",
              "      <th>...</th>\n",
              "      <td>...</td>\n",
              "      <td>...</td>\n",
              "      <td>...</td>\n",
              "      <td>...</td>\n",
              "      <td>...</td>\n",
              "      <td>...</td>\n",
              "      <td>...</td>\n",
              "    </tr>\n",
              "    <tr>\n",
              "      <th>1023</th>\n",
              "      <td>0.1568913</td>\n",
              "      <td>0.0018596</td>\n",
              "      <td>0.5084033</td>\n",
              "      <td>0.2223848</td>\n",
              "      <td>1</td>\n",
              "      <td>0</td>\n",
              "      <td>FP</td>\n",
              "    </tr>\n",
              "    <tr>\n",
              "      <th>235</th>\n",
              "      <td>0.1546004</td>\n",
              "      <td>0.0314049</td>\n",
              "      <td>0.4810130</td>\n",
              "      <td>0.2223394</td>\n",
              "      <td>1</td>\n",
              "      <td>1</td>\n",
              "      <td>TP</td>\n",
              "    </tr>\n",
              "    <tr>\n",
              "      <th>105</th>\n",
              "      <td>0.1305389</td>\n",
              "      <td>0.0798230</td>\n",
              "      <td>0.4562910</td>\n",
              "      <td>0.2222177</td>\n",
              "      <td>1</td>\n",
              "      <td>0</td>\n",
              "      <td>FP</td>\n",
              "    </tr>\n",
              "    <tr>\n",
              "      <th>160</th>\n",
              "      <td>0.0307252</td>\n",
              "      <td>0.0062284</td>\n",
              "      <td>0.6268747</td>\n",
              "      <td>0.2212761</td>\n",
              "      <td>1</td>\n",
              "      <td>0</td>\n",
              "      <td>FP</td>\n",
              "    </tr>\n",
              "    <tr>\n",
              "      <th>266</th>\n",
              "      <td>0.1788770</td>\n",
              "      <td>0.0988572</td>\n",
              "      <td>0.3829670</td>\n",
              "      <td>0.2202337</td>\n",
              "      <td>1</td>\n",
              "      <td>0</td>\n",
              "      <td>FP</td>\n",
              "    </tr>\n",
              "  </tbody>\n",
              "</table>\n",
              "<p>295 rows × 7 columns</p>\n",
              "</div>\n",
              "      <button class=\"colab-df-convert\" onclick=\"convertToInteractive('df-a8867a91-801d-44bd-aed9-b738d8440625')\"\n",
              "              title=\"Convert this dataframe to an interactive table.\"\n",
              "              style=\"display:none;\">\n",
              "        \n",
              "  <svg xmlns=\"http://www.w3.org/2000/svg\" height=\"24px\"viewBox=\"0 0 24 24\"\n",
              "       width=\"24px\">\n",
              "    <path d=\"M0 0h24v24H0V0z\" fill=\"none\"/>\n",
              "    <path d=\"M18.56 5.44l.94 2.06.94-2.06 2.06-.94-2.06-.94-.94-2.06-.94 2.06-2.06.94zm-11 1L8.5 8.5l.94-2.06 2.06-.94-2.06-.94L8.5 2.5l-.94 2.06-2.06.94zm10 10l.94 2.06.94-2.06 2.06-.94-2.06-.94-.94-2.06-.94 2.06-2.06.94z\"/><path d=\"M17.41 7.96l-1.37-1.37c-.4-.4-.92-.59-1.43-.59-.52 0-1.04.2-1.43.59L10.3 9.45l-7.72 7.72c-.78.78-.78 2.05 0 2.83L4 21.41c.39.39.9.59 1.41.59.51 0 1.02-.2 1.41-.59l7.78-7.78 2.81-2.81c.8-.78.8-2.07 0-2.86zM5.41 20L4 18.59l7.72-7.72 1.47 1.35L5.41 20z\"/>\n",
              "  </svg>\n",
              "      </button>\n",
              "      \n",
              "  <style>\n",
              "    .colab-df-container {\n",
              "      display:flex;\n",
              "      flex-wrap:wrap;\n",
              "      gap: 12px;\n",
              "    }\n",
              "\n",
              "    .colab-df-convert {\n",
              "      background-color: #E8F0FE;\n",
              "      border: none;\n",
              "      border-radius: 50%;\n",
              "      cursor: pointer;\n",
              "      display: none;\n",
              "      fill: #1967D2;\n",
              "      height: 32px;\n",
              "      padding: 0 0 0 0;\n",
              "      width: 32px;\n",
              "    }\n",
              "\n",
              "    .colab-df-convert:hover {\n",
              "      background-color: #E2EBFA;\n",
              "      box-shadow: 0px 1px 2px rgba(60, 64, 67, 0.3), 0px 1px 3px 1px rgba(60, 64, 67, 0.15);\n",
              "      fill: #174EA6;\n",
              "    }\n",
              "\n",
              "    [theme=dark] .colab-df-convert {\n",
              "      background-color: #3B4455;\n",
              "      fill: #D2E3FC;\n",
              "    }\n",
              "\n",
              "    [theme=dark] .colab-df-convert:hover {\n",
              "      background-color: #434B5C;\n",
              "      box-shadow: 0px 1px 3px 1px rgba(0, 0, 0, 0.15);\n",
              "      filter: drop-shadow(0px 1px 2px rgba(0, 0, 0, 0.3));\n",
              "      fill: #FFFFFF;\n",
              "    }\n",
              "  </style>\n",
              "\n",
              "      <script>\n",
              "        const buttonEl =\n",
              "          document.querySelector('#df-a8867a91-801d-44bd-aed9-b738d8440625 button.colab-df-convert');\n",
              "        buttonEl.style.display =\n",
              "          google.colab.kernel.accessAllowed ? 'block' : 'none';\n",
              "\n",
              "        async function convertToInteractive(key) {\n",
              "          const element = document.querySelector('#df-a8867a91-801d-44bd-aed9-b738d8440625');\n",
              "          const dataTable =\n",
              "            await google.colab.kernel.invokeFunction('convertToInteractive',\n",
              "                                                     [key], {});\n",
              "          if (!dataTable) return;\n",
              "\n",
              "          const docLinkHtml = 'Like what you see? Visit the ' +\n",
              "            '<a target=\"_blank\" href=https://colab.research.google.com/notebooks/data_table.ipynb>data table notebook</a>'\n",
              "            + ' to learn more about interactive tables.';\n",
              "          element.innerHTML = '';\n",
              "          dataTable['output_type'] = 'display_data';\n",
              "          await google.colab.output.renderOutput(dataTable, element);\n",
              "          const docLink = document.createElement('div');\n",
              "          docLink.innerHTML = docLinkHtml;\n",
              "          element.appendChild(docLink);\n",
              "        }\n",
              "      </script>\n",
              "    </div>\n",
              "  </div>\n",
              "  "
            ]
          },
          "metadata": {},
          "execution_count": 479
        }
      ]
    },
    {
      "cell_type": "code",
      "source": [
        "df_total.to_csv(\"1차필터링.csv\", index = False)"
      ],
      "metadata": {
        "id": "vlzE3UijUFS2"
      },
      "id": "vlzE3UijUFS2",
      "execution_count": null,
      "outputs": []
    },
    {
      "cell_type": "code",
      "source": [
        "import spacy\n",
        "\n",
        "sentence = \"The first method failed because it caused the wires to melt, but the second method succeeded in bending the wires without causing the same issue.\"\n",
        "nlp = spacy.load(\"en_core_web_sm\")\n",
        "doc = nlp(sentence)\n",
        "s_v_count = 0\n",
        "token_list = [token.pos_ for token in doc]\n",
        "if (token_list.count(\"CCONJ\") > 0) and (token_list.count(\"SCONJ\") > 0):\n",
        "    print(\"Compound Complex\")\n",
        "elif (token_list.count(\"SCONJ\") > 0): \n",
        "    print(\"Complex\")\n",
        "\n",
        "\n",
        "\n",
        "\n",
        "\n",
        "\n",
        "\n",
        "# return \"Compound Complex\"\n",
        "\n",
        "    # else ()\n",
        "# print(token_list)"
      ],
      "metadata": {
        "colab": {
          "base_uri": "https://localhost:8080/"
        },
        "id": "pk19esiMAROr",
        "outputId": "7e4874ba-4b3f-4021-8607-4290a53f4ff1"
      },
      "id": "pk19esiMAROr",
      "execution_count": null,
      "outputs": [
        {
          "output_type": "stream",
          "name": "stdout",
          "text": [
            "Compound Complex\n"
          ]
        }
      ]
    },
    {
      "cell_type": "code",
      "source": [
        "\n"
      ],
      "metadata": {
        "id": "J6uA6554ARHe"
      },
      "id": "J6uA6554ARHe",
      "execution_count": null,
      "outputs": []
    },
    {
      "cell_type": "code",
      "source": [],
      "metadata": {
        "id": "hdOACvBcARBu"
      },
      "id": "hdOACvBcARBu",
      "execution_count": null,
      "outputs": []
    }
  ],
  "metadata": {
    "kernelspec": {
      "display_name": "Python 3",
      "language": "python",
      "name": "python3"
    },
    "language_info": {
      "codemirror_mode": {
        "name": "ipython",
        "version": 3
      },
      "file_extension": ".py",
      "mimetype": "text/x-python",
      "name": "python",
      "nbconvert_exporter": "python",
      "pygments_lexer": "ipython3",
      "version": "3.8.8"
    },
    "toc": {
      "base_numbering": 1,
      "nav_menu": {},
      "number_sections": true,
      "sideBar": true,
      "skip_h1_title": false,
      "title_cell": "Table of Contents",
      "title_sidebar": "Contents",
      "toc_cell": false,
      "toc_position": {},
      "toc_section_display": true,
      "toc_window_display": false
    },
    "colab": {
      "provenance": []
    }
  },
  "nbformat": 4,
  "nbformat_minor": 5
}