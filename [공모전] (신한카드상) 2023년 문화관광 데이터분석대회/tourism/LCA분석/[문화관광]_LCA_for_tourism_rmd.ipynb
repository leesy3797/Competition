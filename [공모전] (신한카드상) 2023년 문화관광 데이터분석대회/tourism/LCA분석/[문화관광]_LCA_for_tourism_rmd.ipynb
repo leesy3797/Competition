{
  "cells": [
    {
      "cell_type": "markdown",
      "metadata": {
        "id": "1DQk7i6eBexM"
      },
      "source": [
        "# Latent Class Analysis for Tourism\n",
        "\n",
        "## 1. 잠재계층분석(LCA) 진행\n",
        "\n",
        "- LCA 분석을 적용한 데이터는 문화체육관광부에서 시행한 '2022 외래관광객조사' 자료임."
      ]
    },
    {
      "cell_type": "markdown",
      "metadata": {
        "id": "8eJ2eRLaJrRl"
      },
      "source": []
    },
    {
      "cell_type": "markdown",
      "metadata": {
        "id": "7RbNJjqXDBox"
      },
      "source": [
        "## [참고] LCA 분석에 사용된 카테고리 변수 (2022 외래관광객조사 (코드북) 참고)\n",
        "\n",
        "### 1. RQ1: 문1. 방한횟수(카테고리)\n",
        "- **변수 내용/질문사항:** 문1. 방한횟수(카테고리)\n",
        "- **변수값/응답항목:**\n",
        "    - 1: 1회\n",
        "    - 2: 2회\n",
        "    - 3: 3회\n",
        "    - 4: 4회 이상\n",
        "\n",
        "### 2. Q3: 주요 방한 목적\n",
        "- **변수 내용/질문사항:** 주요 방한 목적\n",
        "- **변수값/응답항목:**\n",
        "    - 1: 여가/위락/휴식\n",
        "    - 2: 친구/친지 방문\n",
        "    - 3: 사업 또는 전문활동\n",
        "    - 4: 교육\n",
        "    - 5: 종교 및 순례\n",
        "    - 6: 기타\n",
        "\n",
        "### 3. Q4: 문4. 여행 형태\n",
        "- **변수 내용/질문사항:** 문4. 여행 형태\n",
        "- **변수값/응답항목:**\n",
        "    - 1: 개별여행\n",
        "    - 2: AIR-TEL\n",
        "    - 3: 단체여행\n",
        "\n",
        "### 4. RQ2A2: 문6-1. 총 체재기간(카테고리)\n",
        "- **변수 내용/질문사항:** 문6-1. 총 체재기간(카테고리)\n",
        "- **변수값/응답항목:**\n",
        "    - 1: 1~3일\n",
        "    - 2: 4~7일\n",
        "    - 3: 8~10일\n",
        "    - 11: 11~30일\n",
        "    - 12: 31~60일\n",
        "    - 13: 61~90일\n",
        "    - 14: 91일 이상\n",
        "\n",
        "### 5. C총액1인mis: 문7. 1인 평균 지출 경비_전체_총액 (최대금액 초과 결측, 카테고리)\n",
        "- **변수 내용/질문사항:** 문7. 1인 평균 지출 경비_전체_총액 (최대금액 초과 결측, 카테고리)\n",
        "- **변수값/응답항목:**\n",
        "    - 1: 1,000$ 이하\n",
        "    - 2: 1,000$ 초과 ~ 2,000$ 이하\n",
        "    - 3: 2,000$ 초과 ~ 3,000$ 이하\n",
        "    - 4: 3,000$ 초과 ~ 5,000$ 이하\n",
        "    - 5: 5,000$ 초과 ~ 10,000$ 이하\n",
        "    - 6: 10,000$ 초과\n",
        "    - 98: 최대금액 초과자\n",
        "\n",
        "### 6. RDAY평균: 문7. 1인 평균 지출 경비_전체_총액 (61일 이상 & 최대금액 초과 제외, 카테고리)\n",
        "- **변수 내용/질문사항:** 문7. 1인 평균 지출 경비_전체_총액 (61일 이상 & 최대금액 초과 제외, 카테고리)\n",
        "- **변수값/응답항목:**\n",
        "    - 1: 50\\$ 이하\n",
        "    - 2: 50\\$ 초과 ~ 100\\$ 이하\n",
        "    - 3: 100\\$ 초과 ~ 300\\$ 이하\n",
        "    - 4: 300\\$ 초과 ~ 500\\$ 이하\n",
        "    - 5: 500\\$ 초과\n",
        "\n",
        "### 7. Q7: 문7. 한국여행에 대한 전반적 만족도\n",
        "- **변수 내용/질문사항:** 문7. 한국여행에 대한 전반적 만족도\n",
        "- **변수값/응답항목:**\n",
        "    - 1: 매우 불만족\n",
        "    - 2: 대체로 불만족\n",
        "    - 3: 보통\n",
        "    - 4: 대체로 만족\n",
        "    - 5: 매우 만족\n",
        "\n",
        "### 8. D_BUN: 분기별\n",
        "- **변수 내용/질문사항:** 분기별\n",
        "- **변수값/응답항목:**\n",
        "    - 1: 1분기\n",
        "    - 2: 2분기\n",
        "    - 3: 3분기\n",
        "    - 4: 4분기\n",
        "\n",
        "### 9. D_SEX: 성별\n",
        "- **변수 내용/질문사항:** 성별\n",
        "- **변수값/응답항목:**\n",
        "    - 1: 남성\n",
        "    - 2: 여성\n",
        "\n",
        "### 10. D_AGE: 연령별\n",
        "- **변수 내용/질문사항:** 연령별\n",
        "- **변수값/응답항목:**\n",
        "    - 1: 15-20세\n",
        "    - 2: 21-30세\n",
        "    - 3: 31-40세\n",
        "    - 4: 41-50세\n",
        "    - 5: 51-60세\n",
        "    - 6: 61세 이상\n",
        "\n",
        "### 11. D_NAT_CLUST: 국가별 클러스터\n",
        "- **변수 내용/질문사항:** 국가별 클러스터 (D_NAT 변수를 기반으로 그룹화)\n",
        "- **변수값/응답항목:**\n",
        "    - 동아시아 (일본, 중국, 홍콩, 대만)\n",
        "    - 동남아시아 (싱가포르, 태국, 말레이시아, 필리핀, 인도네시아, 베트남, 몽골)\n",
        "    - 오세아니아,중동 (호주, 중동)\n",
        "    - 북아메리카 (미국, 캐나다)\n",
        "    - 유럽 (영국, 독일, 프랑스, 러시아)\n",
        "    - 기타 (위에 언급되지 않은 국가)\n",
        "\n",
        "### 12. 만족한 활동 변수들: Q4B1~Q4B3 (문5-1. 가장 만족한 활동)\n",
        "- **변수 내용/질문사항:** 문5-1. 가장 만족한 활동\n",
        "- **변수값/응답항목:**\n",
        "    - 1: 식도락 관광\n",
        "    - 2: 쇼핑\n",
        "    - 3: 자연경관 감상\n",
        "    - 4: 고궁/역사 유적지 방문\n",
        "    - 5: 전통문화체험\n",
        "    - 6: 박물관, 전시관 관람\n",
        "    - 7: K-POP/한류스타 관련 공연장 방문\n",
        "    - 8: 드라마/영화 촬영지 방문\n",
        "    - 9: 연극, 뮤지컬, 발레 등 공연 관람\n",
        "    - 10: 지역 축제 참여\n",
        "    - 11: 유흥/오락\n",
        "    - 12: 뷰티/의료관광\n",
        "    - 13: 스포츠/레포츠 관람 및 참가 비즈니스 활동\n",
        "    - 14: 업무수행\n",
        "    - 15: 연수/교육/연구\n",
        "    - 16: 시찰(산업시설 등)\n",
        "    - 17: 기타"
      ]
    },
    {
      "cell_type": "code",
      "execution_count": 1,
      "metadata": {
        "colab": {
          "base_uri": "https://localhost:8080/",
          "height": 34
        },
        "id": "2siAPKsAcIik",
        "outputId": "7760b41c-275a-4fb0-d02e-f220838f16e3",
        "vscode": {
          "languageId": "r"
        }
      },
      "outputs": [
        {
          "data": {
            "text/html": [
              "'/content'"
            ],
            "text/latex": [
              "'/content'"
            ],
            "text/markdown": [
              "'/content'"
            ],
            "text/plain": [
              "[1] \"/content\""
            ]
          },
          "metadata": {},
          "output_type": "display_data"
        }
      ],
      "source": [
        "# 작업 디렉토리 설정\n",
        "getwd()"
      ]
    },
    {
      "cell_type": "code",
      "execution_count": 2,
      "metadata": {
        "colab": {
          "base_uri": "https://localhost:8080/"
        },
        "id": "PXBPiVVo8TIx",
        "outputId": "2182cb64-a02e-4d96-aecd-be76edc65b4c",
        "vscode": {
          "languageId": "r"
        }
      },
      "outputs": [
        {
          "name": "stderr",
          "output_type": "stream",
          "text": [
            "\n",
            "Attaching package: ‘dplyr’\n",
            "\n",
            "\n",
            "The following objects are masked from ‘package:stats’:\n",
            "\n",
            "    filter, lag\n",
            "\n",
            "\n",
            "The following objects are masked from ‘package:base’:\n",
            "\n",
            "    intersect, setdiff, setequal, union\n",
            "\n",
            "\n"
          ]
        }
      ],
      "source": [
        "# 라이브러리 로드\n",
        "library(dplyr)\n",
        "library(readr)"
      ]
    },
    {
      "cell_type": "code",
      "execution_count": 3,
      "metadata": {
        "colab": {
          "base_uri": "https://localhost:8080/",
          "height": 34
        },
        "id": "E55MFxe89Ech",
        "outputId": "45661892-49df-4544-92f2-0c8e64a5c440",
        "vscode": {
          "languageId": "r"
        }
      },
      "outputs": [
        {
          "data": {
            "text/html": [
              "TRUE"
            ],
            "text/latex": [
              "TRUE"
            ],
            "text/markdown": [
              "TRUE"
            ],
            "text/plain": [
              "[1] TRUE"
            ]
          },
          "metadata": {},
          "output_type": "display_data"
        }
      ],
      "source": [
        "# 파일 유무 확인\n",
        "file.exists(\"/content/tour_전처리_0720.csv\")"
      ]
    },
    {
      "cell_type": "code",
      "execution_count": 4,
      "metadata": {
        "colab": {
          "base_uri": "https://localhost:8080/"
        },
        "id": "n7sKbLjW8dxm",
        "outputId": "6fd41d60-1b3b-4e4b-f7b9-c910558ca4e4",
        "vscode": {
          "languageId": "r"
        }
      },
      "outputs": [
        {
          "name": "stdout",
          "output_type": "stream",
          "text": [
            "'data.frame':\t15436 obs. of  14 variables:\n",
            " $ RQ1        : int  4 1 1 1 1 3 3 4 1 1 ...\n",
            " $ Q3         : int  2 3 2 1 3 2 2 2 3 3 ...\n",
            " $ Q4         : int  1 1 1 1 1 1 1 1 1 1 ...\n",
            " $ RQ2A2      : int  12 2 11 12 2 12 12 12 3 3 ...\n",
            " $ C총액1인MIS: int  3 3 1 3 3 3 3 3 2 2 ...\n",
            " $ RDAY평균   : num  2 4 1 2 4 2 2 2 3 3 ...\n",
            " $ Q7         : int  5 4 5 5 4 5 5 5 4 4 ...\n",
            " $ D_BUN      : int  1 1 1 1 1 1 1 1 1 1 ...\n",
            " $ D_SEX      : int  1 1 1 1 1 1 2 1 1 1 ...\n",
            " $ D_AGE      : int  2 5 2 5 5 6 5 4 2 2 ...\n",
            " $ 체류1순위  : chr  \"서울일TOT\" \"부산일TOT\" \"서울일TOT\" \"서울일TOT\" ...\n",
            " $ 체류2순위  : chr  \"없음\" \"없음\" \"없음\" \"없음\" ...\n",
            " $ D_NAT_CLUST: chr  \"유럽\" \"기타\" \"동아시아\" \"기타\" ...\n",
            " $ 만족한활동 : int  4 14 2 4 1 1 1 3 2 2 ...\n"
          ]
        }
      ],
      "source": [
        "# 데이터 불러오기\n",
        "tourism <- read.csv(\"/content/tour_전처리_0720.csv\")\n",
        "str(tourism)"
      ]
    },
    {
      "cell_type": "code",
      "execution_count": 5,
      "metadata": {
        "id": "h8oMXsLA8gG4",
        "vscode": {
          "languageId": "r"
        }
      },
      "outputs": [],
      "source": [
        "# 변수 타입 변환\n",
        "tourism$RQ1 <- as.factor(tourism$RQ1)\n",
        "tourism$Q3 <- as.factor(tourism$Q3)\n",
        "tourism$Q4 <- as.factor(tourism$Q4)\n",
        "tourism$RQ2A2 <- as.factor(tourism$RQ2A2)\n",
        "tourism$C총액1인MIS <- as.factor(tourism$C총액1인MIS)\n",
        "tourism$RDAY평균 <- as.factor(tourism$RDAY평균)\n",
        "tourism$Q7 <- as.factor(tourism$Q7)\n",
        "tourism$D_BUN <- as.factor(tourism$D_BUN)\n",
        "tourism$D_SEX <- as.factor(tourism$D_SEX)\n",
        "tourism$D_AGE <- as.factor(tourism$D_AGE)\n",
        "tourism$체류1순위 <- as.factor(tourism$체류1순위)\n",
        "tourism$체류2순위 <- as.factor(tourism$체류2순위)\n",
        "tourism$D_NAT_CLUST <- as.factor(tourism$D_NAT_CLUST)\n",
        "tourism$만족한활동 <- as.factor(tourism$만족한활동)"
      ]
    },
    {
      "cell_type": "code",
      "execution_count": 6,
      "metadata": {
        "colab": {
          "base_uri": "https://localhost:8080/"
        },
        "id": "e-fD_sz48kFp",
        "outputId": "5c0ca8e1-05b4-459e-d3cd-9d734950af64",
        "vscode": {
          "languageId": "r"
        }
      },
      "outputs": [
        {
          "name": "stdout",
          "output_type": "stream",
          "text": [
            "'data.frame':\t15436 obs. of  14 variables:\n",
            " $ RQ1        : Factor w/ 4 levels \"1\",\"2\",\"3\",\"4\": 4 1 1 1 1 3 3 4 1 1 ...\n",
            " $ Q3         : Factor w/ 6 levels \"1\",\"2\",\"3\",\"4\",..: 2 3 2 1 3 2 2 2 3 3 ...\n",
            " $ Q4         : Factor w/ 3 levels \"1\",\"2\",\"3\": 1 1 1 1 1 1 1 1 1 1 ...\n",
            " $ RQ2A2      : Factor w/ 5 levels \"1\",\"2\",\"3\",\"11\",..: 5 2 4 5 2 5 5 5 3 3 ...\n",
            " $ C총액1인MIS: Factor w/ 5 levels \"1\",\"2\",\"3\",\"4\",..: 3 3 1 3 3 3 3 3 2 2 ...\n",
            " $ RDAY평균   : Factor w/ 5 levels \"1\",\"2\",\"3\",\"4\",..: 2 4 1 2 4 2 2 2 3 3 ...\n",
            " $ Q7         : Factor w/ 5 levels \"1\",\"2\",\"3\",\"4\",..: 5 4 5 5 4 5 5 5 4 4 ...\n",
            " $ D_BUN      : Factor w/ 4 levels \"1\",\"2\",\"3\",\"4\": 1 1 1 1 1 1 1 1 1 1 ...\n",
            " $ D_SEX      : Factor w/ 2 levels \"1\",\"2\": 1 1 1 1 1 1 2 1 1 1 ...\n",
            " $ D_AGE      : Factor w/ 6 levels \"1\",\"2\",\"3\",\"4\",..: 2 5 2 5 5 6 5 4 2 2 ...\n",
            " $ 체류1순위  : Factor w/ 17 levels \"강원일TOT\",\"경기일TOT\",..: 9 8 9 9 8 9 9 12 9 9 ...\n",
            " $ 체류2순위  : Factor w/ 18 levels \"강원일TOT\",\"경기일TOT\",..: 11 11 11 11 11 11 11 8 11 11 ...\n",
            " $ D_NAT_CLUST: Factor w/ 6 levels \"기타\",\"동남아시아\",..: 6 1 3 1 1 1 1 6 1 1 ...\n",
            " $ 만족한활동 : Factor w/ 17 levels \"1\",\"2\",\"3\",\"4\",..: 4 14 2 4 1 1 1 3 2 2 ...\n"
          ]
        }
      ],
      "source": [
        "# 데이터 구조 확인\n",
        "str(tourism)"
      ]
    },
    {
      "cell_type": "code",
      "execution_count": 7,
      "metadata": {
        "colab": {
          "base_uri": "https://localhost:8080/",
          "height": 446
        },
        "id": "hvwDbxgg9lyG",
        "outputId": "c2148a62-0f30-46fe-92d0-8005a50230a4",
        "vscode": {
          "languageId": "r"
        }
      },
      "outputs": [
        {
          "data": {
            "text/plain": [
              " RQ1      Q3       Q4        RQ2A2     C총액1인MIS RDAY평균 Q7        D_BUN   \n",
              " 1:7143   1:7063   1:13998   1 :1106   1:1818      1: 387   1:   15   1:1092  \n",
              " 2:2680   2:2207   2:  738   2 :5950   2:3935      2:1202   2:   34   2:4073  \n",
              " 3:1530   3:5222   3:  700   3 :2620   3:4044      3:7140   3:  362   3:5049  \n",
              " 4:4083   4: 566             11:4829   4:3814      4:3684   4: 3768   4:5222  \n",
              "          5:  29             12: 931   5:1825      5:3023   5:11257           \n",
              "          6: 349                                                              \n",
              "                                                                              \n",
              " D_SEX    D_AGE        체류1순위         체류2순위             D_NAT_CLUST  \n",
              " 1:7658   1: 674   서울일TOT:11022   없음     :8681   기타           :2495  \n",
              " 2:7778   2:5284   경기일TOT: 1291   부산일TOT:1835   동남아시아     :3583  \n",
              "          3:4125   인천일TOT:  523   서울일TOT:1606   동아시아       :3257  \n",
              "          4:2793   부산일TOT:  477   제주일TOT: 884   북아메리카     :2773  \n",
              "          5:1893   제주일TOT:  416   경기일TOT: 583   오세아니아,중동: 956  \n",
              "          6: 667   대구일TOT:  290   강원일TOT: 475   유럽           :2372  \n",
              "                   (Other)  : 1417   (Other)  :1372                         \n",
              "   만족한활동  \n",
              " 2      :3095  \n",
              " 14     :2728  \n",
              " 1      :2594  \n",
              " 3      :1893  \n",
              " 4      :1759  \n",
              " 5      : 606  \n",
              " (Other):2761  "
            ]
          },
          "metadata": {},
          "output_type": "display_data"
        }
      ],
      "source": [
        "summary(tourism)"
      ]
    },
    {
      "cell_type": "markdown",
      "metadata": {
        "id": "brWlCirZDcBq"
      },
      "source": [
        "## 2. poLCA 패키지를 활용한 최적 클래스(군집) 수 결정\n",
        "\n",
        "### `poLCA` 함수 구조\n",
        "- `poLCA(formula, data, nclass=, verbose=, na.rm=)`\n",
        "  - `formula` : 군집을 나누기 위한 변수의 묶음\n",
        "  - `data` : 군집 분석을 수행할 데이터\n",
        "  - `nclass` : 군집 개수 지정\n",
        "  - `verbose` : 중간 결과 출력 여부 (`TRUE` / `FALSE`)\n",
        "  - `na.rm` : 결측치 제외 여부 (`TRUE` / `FALSE`)\n"
      ]
    },
    {
      "cell_type": "code",
      "execution_count": 8,
      "metadata": {
        "colab": {
          "base_uri": "https://localhost:8080/"
        },
        "id": "bMK8njRS8mIF",
        "outputId": "fa01d322-aafb-4886-c397-ab76679fd3c7",
        "vscode": {
          "languageId": "r"
        }
      },
      "outputs": [
        {
          "name": "stderr",
          "output_type": "stream",
          "text": [
            "Installing package into ‘/usr/local/lib/R/site-library’\n",
            "(as ‘lib’ is unspecified)\n",
            "\n",
            "Loading required package: scatterplot3d\n",
            "\n",
            "Loading required package: MASS\n",
            "\n",
            "\n",
            "Attaching package: ‘MASS’\n",
            "\n",
            "\n",
            "The following object is masked from ‘package:dplyr’:\n",
            "\n",
            "    select\n",
            "\n",
            "\n"
          ]
        }
      ],
      "source": [
        "# poLCA 패키지 설치 및 로드\n",
        "install.packages(\"poLCA\")\n",
        "library(poLCA)"
      ]
    },
    {
      "cell_type": "code",
      "execution_count": 9,
      "metadata": {
        "id": "vuaZYTMI8oB7",
        "vscode": {
          "languageId": "r"
        }
      },
      "outputs": [],
      "source": [
        "# LCA 분석을 위한 formula 설정\n",
        "tourism_formula <- cbind(RQ1, Q3, Q4, RQ2A2, C총액1인MIS, RDAY평균, Q7, D_BUN, D_SEX, D_AGE, 체류1순위, 체류2순위, D_NAT_CLUST, 만족한활동) ~ 1"
      ]
    },
    {
      "cell_type": "code",
      "execution_count": 10,
      "metadata": {
        "id": "s2Tola-Q8pkB",
        "vscode": {
          "languageId": "r"
        }
      },
      "outputs": [],
      "source": [
        "# 클래스(군집) 기준변수로만 이루어진 데이터 프레임 생성\n",
        "tourism_fac <- dplyr::select(tourism, RQ1, Q3, Q4, RQ2A2, C총액1인MIS, RDAY평균, Q7, D_BUN, D_SEX, D_AGE, 체류1순위, 체류2순위, D_NAT_CLUST, 만족한활동)"
      ]
    },
    {
      "cell_type": "code",
      "execution_count": 11,
      "metadata": {
        "id": "-1XjuDZE954v",
        "vscode": {
          "languageId": "r"
        }
      },
      "outputs": [],
      "source": [
        "# tourism_fac"
      ]
    },
    {
      "cell_type": "markdown",
      "metadata": {
        "id": "7SzhK3vjDhN5"
      },
      "source": [
        "### 군집 기준변수로 이루어진 데이터프레임 생성\n",
        "\n",
        "- 군집 수에 따른 AIC와 BIC 값을 비교하여 최적 군집 수 결정"
      ]
    },
    {
      "cell_type": "markdown",
      "metadata": {
        "id": "z0X93umVDsw1"
      },
      "source": [
        "### 군집 수 결정 과정\n",
        "1. 군집 수에 따른 정보를 저장할 빈 리스트 생성\n",
        "2. `for` 문을 이용하여 군집 수에 따른 반복 분석 실시 및 결과 저장\n",
        "3. 리스트에 저장된 결과에서 AIC와 BIC 값을 추출하여 비교"
      ]
    },
    {
      "cell_type": "code",
      "execution_count": 12,
      "metadata": {
        "id": "-0EMLSC88rOg",
        "vscode": {
          "languageId": "r"
        }
      },
      "outputs": [],
      "source": [
        "# 최적 클래스(군집) 수 결정 (AIC와 BIC 값 계산)\n",
        "tourism_lca_list <- list()\n",
        "set.seed(1234)\n",
        "for (k in 1:10) {\n",
        "  tourism_lca_list[[k]] <- poLCA(tourism_formula, tourism_fac, nclass = k, verbose = FALSE, na.rm = TRUE)\n",
        "}"
      ]
    },
    {
      "cell_type": "code",
      "execution_count": 13,
      "metadata": {
        "id": "5e-cX35-8sZ9",
        "vscode": {
          "languageId": "r"
        }
      },
      "outputs": [],
      "source": [
        "optimal_k_result <- data.frame(k = integer(), aic = numeric(), bic = numeric())\n",
        "for (k in 1:10) {\n",
        "  result <- data.frame(k = k, aic = tourism_lca_list[[k]]$aic, bic = tourism_lca_list[[k]]$bic)\n",
        "  optimal_k_result <- rbind(optimal_k_result, result)\n",
        "}"
      ]
    },
    {
      "cell_type": "code",
      "execution_count": 14,
      "metadata": {
        "colab": {
          "base_uri": "https://localhost:8080/",
          "height": 412
        },
        "id": "XYx1qvyE_PQh",
        "outputId": "101ec4fd-e2e2-45ec-f409-61302d364057",
        "vscode": {
          "languageId": "r"
        }
      },
      "outputs": [
        {
          "data": {
            "text/html": [
              "<table class=\"dataframe\">\n",
              "<caption>A data.frame: 10 × 3</caption>\n",
              "<thead>\n",
              "\t<tr><th scope=col>k</th><th scope=col>aic</th><th scope=col>bic</th></tr>\n",
              "\t<tr><th scope=col>&lt;int&gt;</th><th scope=col>&lt;dbl&gt;</th><th scope=col>&lt;dbl&gt;</th></tr>\n",
              "</thead>\n",
              "<tbody>\n",
              "\t<tr><td> 1</td><td>561130.9</td><td>561811.3</td></tr>\n",
              "\t<tr><td> 2</td><td>537967.4</td><td>539335.8</td></tr>\n",
              "\t<tr><td> 3</td><td>525417.6</td><td>527474.0</td></tr>\n",
              "\t<tr><td> 4</td><td>519678.2</td><td>522422.5</td></tr>\n",
              "\t<tr><td> 5</td><td>516446.1</td><td>519878.5</td></tr>\n",
              "\t<tr><td> 6</td><td>512732.2</td><td>516852.5</td></tr>\n",
              "\t<tr><td> 7</td><td>510072.6</td><td>514880.9</td></tr>\n",
              "\t<tr><td> 8</td><td>507694.9</td><td>513191.2</td></tr>\n",
              "\t<tr><td> 9</td><td>506323.7</td><td>512508.1</td></tr>\n",
              "\t<tr><td>10</td><td>504472.7</td><td>511345.1</td></tr>\n",
              "</tbody>\n",
              "</table>\n"
            ],
            "text/latex": [
              "A data.frame: 10 × 3\n",
              "\\begin{tabular}{lll}\n",
              " k & aic & bic\\\\\n",
              " <int> & <dbl> & <dbl>\\\\\n",
              "\\hline\n",
              "\t  1 & 561130.9 & 561811.3\\\\\n",
              "\t  2 & 537967.4 & 539335.8\\\\\n",
              "\t  3 & 525417.6 & 527474.0\\\\\n",
              "\t  4 & 519678.2 & 522422.5\\\\\n",
              "\t  5 & 516446.1 & 519878.5\\\\\n",
              "\t  6 & 512732.2 & 516852.5\\\\\n",
              "\t  7 & 510072.6 & 514880.9\\\\\n",
              "\t  8 & 507694.9 & 513191.2\\\\\n",
              "\t  9 & 506323.7 & 512508.1\\\\\n",
              "\t 10 & 504472.7 & 511345.1\\\\\n",
              "\\end{tabular}\n"
            ],
            "text/markdown": [
              "\n",
              "A data.frame: 10 × 3\n",
              "\n",
              "| k &lt;int&gt; | aic &lt;dbl&gt; | bic &lt;dbl&gt; |\n",
              "|---|---|---|\n",
              "|  1 | 561130.9 | 561811.3 |\n",
              "|  2 | 537967.4 | 539335.8 |\n",
              "|  3 | 525417.6 | 527474.0 |\n",
              "|  4 | 519678.2 | 522422.5 |\n",
              "|  5 | 516446.1 | 519878.5 |\n",
              "|  6 | 512732.2 | 516852.5 |\n",
              "|  7 | 510072.6 | 514880.9 |\n",
              "|  8 | 507694.9 | 513191.2 |\n",
              "|  9 | 506323.7 | 512508.1 |\n",
              "| 10 | 504472.7 | 511345.1 |\n",
              "\n"
            ],
            "text/plain": [
              "   k  aic      bic     \n",
              "1   1 561130.9 561811.3\n",
              "2   2 537967.4 539335.8\n",
              "3   3 525417.6 527474.0\n",
              "4   4 519678.2 522422.5\n",
              "5   5 516446.1 519878.5\n",
              "6   6 512732.2 516852.5\n",
              "7   7 510072.6 514880.9\n",
              "8   8 507694.9 513191.2\n",
              "9   9 506323.7 512508.1\n",
              "10 10 504472.7 511345.1"
            ]
          },
          "metadata": {},
          "output_type": "display_data"
        }
      ],
      "source": [
        "optimal_k_result"
      ]
    },
    {
      "cell_type": "markdown",
      "metadata": {
        "id": "pm0mTjnbDxjr"
      },
      "source": [
        "## 3. 최적 군집 수 결정\n",
        "\n",
        "- **AIC** 값은 클래스 수가 증가할수록 계속 감소하여 최적 모형을 찾기 어려움\n",
        "- **BIC** 기준으로 최적 군집 수는 **4개**\n",
        "- 따라서 군집 개수 4개일 때의 모형을 최적 모형으로 선정"
      ]
    },
    {
      "cell_type": "code",
      "execution_count": 15,
      "metadata": {
        "id": "FH9kSEqw8tRq",
        "vscode": {
          "languageId": "r"
        }
      },
      "outputs": [],
      "source": [
        "# 최적 군집 수 선택 (BIC 기준으로 4개 선택)\n",
        "tourism_optimal <- tourism_lca_list[[4]]  # k = 4"
      ]
    },
    {
      "cell_type": "code",
      "execution_count": 16,
      "metadata": {
        "colab": {
          "base_uri": "https://localhost:8080/",
          "height": 1000
        },
        "id": "nEnFGPak_dkE",
        "outputId": "bf0b1c2b-df78-4269-b8d2-2db7438a3bf8",
        "vscode": {
          "languageId": "r"
        }
      },
      "outputs": [
        {
          "data": {
            "text/plain": [
              "Conditional item response (column) probabilities,\n",
              " by outcome variable, for each class (row) \n",
              " \n",
              "$RQ1\n",
              "               1      2      3      4\n",
              "class 1:  0.6953 0.1561 0.0660 0.0826\n",
              "class 2:  0.4390 0.1725 0.0975 0.2910\n",
              "class 3:  0.3312 0.1959 0.1236 0.3493\n",
              "class 4:  0.3539 0.1721 0.1121 0.3619\n",
              "\n",
              "$Q3\n",
              "               1      2      3      4      5      6\n",
              "class 1:  0.7224 0.1801 0.0286 0.0689 0.0000 0.0000\n",
              "class 2:  0.1451 0.4500 0.1897 0.0896 0.0093 0.1161\n",
              "class 3:  0.8416 0.0670 0.0688 0.0070 0.0003 0.0153\n",
              "class 4:  0.0037 0.0044 0.9884 0.0010 0.0011 0.0013\n",
              "\n",
              "$Q4\n",
              "               1      2      3\n",
              "class 1:  0.9644 0.0064 0.0292\n",
              "class 2:  0.9255 0.0223 0.0522\n",
              "class 3:  0.8842 0.0364 0.0794\n",
              "class 4:  0.8573 0.1154 0.0273\n",
              "\n",
              "$RQ2A2\n",
              "               1      2      3     11     12\n",
              "class 1:  0.0002 0.1262 0.2293 0.5832 0.0611\n",
              "class 2:  0.0083 0.1267 0.1748 0.4907 0.1995\n",
              "class 3:  0.1716 0.6670 0.1224 0.0387 0.0003\n",
              "class 4:  0.0897 0.5410 0.1481 0.1836 0.0376\n",
              "\n",
              "$C총액1인MIS\n",
              "               1      2      3      4      5\n",
              "class 1:  0.0181 0.2231 0.3488 0.3180 0.0918\n",
              "class 2:  0.0897 0.2413 0.2967 0.2624 0.1100\n",
              "class 3:  0.3289 0.4033 0.1708 0.0669 0.0301\n",
              "class 4:  0.0443 0.1601 0.2357 0.3292 0.2307\n",
              "\n",
              "$RDAY평균\n",
              "               1      2      3      4      5\n",
              "class 1:  0.0075 0.0828 0.6332 0.2013 0.0752\n",
              "class 2:  0.0806 0.1924 0.5130 0.1600 0.0540\n",
              "class 3:  0.0284 0.0639 0.5013 0.2683 0.1381\n",
              "class 4:  0.0096 0.0224 0.2218 0.2939 0.4523\n",
              "\n",
              "$Q7\n",
              "               1      2      3      4      5\n",
              "class 1:  0.0008 0.0010 0.0074 0.1555 0.8353\n",
              "class 2:  0.0008 0.0035 0.0219 0.2005 0.7733\n",
              "class 3:  0.0010 0.0036 0.0237 0.2565 0.7153\n",
              "class 4:  0.0012 0.0016 0.0408 0.3490 0.6074\n",
              "\n",
              "$D_BUN\n",
              "               1      2      3      4\n",
              "class 1:  0.0375 0.2984 0.4156 0.2485\n",
              "class 2:  0.1404 0.3161 0.3414 0.2022\n",
              "class 3:  0.0179 0.1303 0.2492 0.6026\n",
              "class 4:  0.1152 0.3210 0.2981 0.2656\n",
              "\n",
              "$D_SEX\n",
              "               1      2\n",
              "class 1:  0.3486 0.6514\n",
              "class 2:  0.4946 0.5054\n",
              "class 3:  0.2701 0.7299\n",
              "class 4:  0.8568 0.1432\n",
              "\n",
              "$D_AGE\n",
              "               1      2      3      4      5      6\n",
              "class 1:  0.0767 0.5102 0.2035 0.0954 0.0822 0.0319\n",
              "class 2:  0.0664 0.3356 0.2794 0.1415 0.0975 0.0797\n",
              "class 3:  0.0394 0.3863 0.2644 0.1725 0.1028 0.0346\n",
              "class 4:  0.0007 0.1312 0.3294 0.2994 0.1966 0.0428\n",
              "\n",
              "$체류1순위\n",
              "          강원일TOT 경기일TOT 경남일TOT 경북일TOT 광주일TOT 대구일TOT 대전일TOT\n",
              "class 1:     0.0000    0.0004    0.0008    0.0000    0.0000    0.0016    0.0004\n",
              "class 2:     0.0274    0.2654    0.0329    0.0300    0.0204    0.0337    0.0324\n",
              "class 3:     0.0021    0.0012    0.0003    0.0007    0.0011    0.0017    0.0018\n",
              "class 4:     0.0095    0.1452    0.0435    0.0156    0.0062    0.0440    0.0218\n",
              "          부산일TOT 서울일TOT 세종일TOT 울산일TOT 인천일TOT 전남일TOT 전북일TOT\n",
              "class 1:     0.0002    0.9940    0.0000    0.0005    0.0000    0.0000    0.0000\n",
              "class 2:     0.0836    0.2567    0.0079    0.0129    0.0712    0.0194    0.0136\n",
              "class 3:     0.0136    0.8930    0.0000    0.0002    0.0191    0.0004    0.0014\n",
              "class 4:     0.0496    0.5116    0.0068    0.0197    0.0621    0.0109    0.0114\n",
              "          제주일TOT 충남일TOT 충북일TOT\n",
              "class 1:     0.0016    0.0005    0.0000\n",
              "class 2:     0.0512    0.0217    0.0197\n",
              "class 3:     0.0628    0.0000    0.0006\n",
              "class 4:     0.0072    0.0213    0.0136\n",
              "\n",
              "$체류2순위\n",
              "          강원일TOT 경기일TOT 경남일TOT 경북일TOT 광주일TOT 대구일TOT 대전일TOT\n",
              "class 1:     0.0483    0.0383    0.0110    0.0246    0.0073    0.0126    0.0072\n",
              "class 2:     0.0287    0.0287    0.0075    0.0118    0.0024    0.0076    0.0076\n",
              "class 3:     0.0395    0.0380    0.0004    0.0025    0.0010    0.0013    0.0004\n",
              "class 4:     0.0057    0.0421    0.0100    0.0071    0.0026    0.0173    0.0129\n",
              "          부산일TOT 서울일TOT 세종일TOT   없음 울산일TOT 인천일TOT 전남일TOT\n",
              "class 1:     0.3091    0.0000    0.0022 0.3416    0.0052    0.0281    0.0041\n",
              "class 2:     0.0303    0.3775    0.0026 0.4197    0.0010    0.0187    0.0065\n",
              "class 3:     0.0443    0.0201    0.0024 0.7901    0.0016    0.0218    0.0002\n",
              "class 4:     0.0378    0.1382    0.0036 0.6630    0.0104    0.0300    0.0056\n",
              "          전북일TOT 제주일TOT 충남일TOT 충북일TOT\n",
              "class 1:     0.0094    0.1465    0.0019    0.0027\n",
              "class 2:     0.0037    0.0349    0.0057    0.0053\n",
              "class 3:     0.0048    0.0291    0.0012    0.0011\n",
              "class 4:     0.0044    0.0025    0.0038    0.0030\n",
              "\n",
              "$D_NAT_CLUST\n",
              "            기타 동남아시아 동아시아 북아메리카 오세아니아,중동   유럽\n",
              "class 1:  0.2132     0.2352   0.0119     0.2161          0.0726 0.2510\n",
              "class 2:  0.1711     0.1214   0.1977     0.2876          0.0793 0.1428\n",
              "class 3:  0.0201     0.4267   0.4747     0.0454          0.0227 0.0104\n",
              "class 4:  0.2319     0.1124   0.1849     0.2047          0.0770 0.1891\n",
              "\n",
              "$만족한활동\n",
              "               1      2      3      4      5      6      7      8      9     10\n",
              "class 1:  0.1465 0.1669 0.1855 0.2053 0.0819 0.0496 0.0351 0.0151 0.0087 0.0056\n",
              "class 2:  0.1926 0.1892 0.1558 0.1149 0.0470 0.0373 0.0085 0.0033 0.0058 0.0085\n",
              "class 3:  0.2694 0.3435 0.1177 0.0470 0.0182 0.0125 0.0607 0.0193 0.0131 0.0014\n",
              "class 4:  0.0844 0.1112 0.0434 0.0794 0.0098 0.0215 0.0001 0.0000 0.0027 0.0018\n",
              "              11     12     13     14     15     16     17\n",
              "class 1:  0.0543 0.0155 0.0153 0.0004 0.0095 0.0002 0.0047\n",
              "class 2:  0.0226 0.0268 0.0934 0.0043 0.0310 0.0001 0.0586\n",
              "class 3:  0.0432 0.0343 0.0092 0.0012 0.0006 0.0002 0.0082\n",
              "class 4:  0.0147 0.0007 0.0014 0.6154 0.0070 0.0057 0.0007\n",
              "\n",
              "Estimated class population shares \n",
              " 0.2969 0.1573 0.2604 0.2853 \n",
              " \n",
              "Predicted class memberships (by modal posterior prob.) \n",
              " 0.3025 0.1473 0.2617 0.2885 \n",
              " \n",
              "========================================================= \n",
              "Fit for 4 latent classes: \n",
              "========================================================= \n",
              "number of observations: 15436 \n",
              "number of estimated parameters: 359 \n",
              "residual degrees of freedom: 15077 \n",
              "maximum log-likelihood: -259480.1 \n",
              " \n",
              "AIC(4): 519678.2\n",
              "BIC(4): 522422.5\n",
              "G^2(4): 223805.3 (Likelihood ratio/deviance statistic) \n",
              "X^2(4): 66401306031 (Chi-square goodness of fit) \n",
              " "
            ]
          },
          "metadata": {},
          "output_type": "display_data"
        }
      ],
      "source": [
        "tourism_optimal"
      ]
    },
    {
      "cell_type": "markdown",
      "metadata": {
        "id": "7H8kbM8RD009"
      },
      "source": [
        "## 4. 각 클래스 별 비율 분석\n",
        "\n",
        "- 군집별 응답자 비율 확인"
      ]
    },
    {
      "cell_type": "code",
      "execution_count": 17,
      "metadata": {
        "colab": {
          "base_uri": "https://localhost:8080/",
          "height": 34
        },
        "id": "MG6T7rr58wGi",
        "outputId": "776a68aa-fa33-4efd-a67f-6ba9aa466d0c",
        "vscode": {
          "languageId": "r"
        }
      },
      "outputs": [
        {
          "data": {
            "text/html": [
              "<style>\n",
              ".list-inline {list-style: none; margin:0; padding: 0}\n",
              ".list-inline>li {display: inline-block}\n",
              ".list-inline>li:not(:last-child)::after {content: \"\\00b7\"; padding: 0 .5ex}\n",
              "</style>\n",
              "<ol class=list-inline><li>0.297</li><li>0.157</li><li>0.26</li><li>0.285</li></ol>\n"
            ],
            "text/latex": [
              "\\begin{enumerate*}\n",
              "\\item 0.297\n",
              "\\item 0.157\n",
              "\\item 0.26\n",
              "\\item 0.285\n",
              "\\end{enumerate*}\n"
            ],
            "text/markdown": [
              "1. 0.297\n",
              "2. 0.157\n",
              "3. 0.26\n",
              "4. 0.285\n",
              "\n",
              "\n"
            ],
            "text/plain": [
              "[1] 0.297 0.157 0.260 0.285"
            ]
          },
          "metadata": {},
          "output_type": "display_data"
        }
      ],
      "source": [
        "# 세분시장 별 비율 출력\n",
        "round(tourism_optimal$P, digits = 3)"
      ]
    },
    {
      "cell_type": "markdown",
      "metadata": {
        "id": "bMzFKM_jD3Mu"
      },
      "source": [
        "## 5. 항목반응행렬 (Item-Response Matrix) 도출\n",
        "\n",
        "### 항목반응행렬 생성 과정\n",
        "1. `poLCA` 결과값 중 `probs` 값을 데이터프레임으로 저장\n",
        "2. 소수점 3째 자리까지 반올림\n",
        "3. 행렬을 전치 (`t()` 함수 사용)\n",
        "4. 데이터 타입을 `data.frame`으로 변환"
      ]
    },
    {
      "cell_type": "code",
      "execution_count": 18,
      "metadata": {
        "id": "mFzbTFdW8w17",
        "vscode": {
          "languageId": "r"
        }
      },
      "outputs": [],
      "source": [
        "# 항목반응행렬(Item-response matrix) 도출\n",
        "tourism_item_response <- as.data.frame(tourism_optimal$probs)\n",
        "tourism_item_response <- round(tourism_item_response, digits = 3)\n",
        "tourism_resp <- t(tourism_item_response)\n",
        "tourism_resp <- as.data.frame(tourism_resp)\n",
        "write.csv(tourism_resp, file = \"lca_output_4class.csv\")"
      ]
    },
    {
      "cell_type": "markdown",
      "metadata": {
        "id": "2VUX2hpED8Jg"
      },
      "source": [
        "## 6. 군집 정보 추가 및 활용\n",
        "\n",
        "- 각 군집의 속성은 항목반응행렬을 통해 확인 가능하며, 데이터 활용성을 높이기 위해 군집 변수 기준 결측치를 삭제한 원본 데이터 (`tour_전처리_0720.csv`)에 군집 정보를 추가하는 것이 유용함"
      ]
    },
    {
      "cell_type": "code",
      "execution_count": 19,
      "metadata": {
        "id": "JIUk852M8xlW",
        "vscode": {
          "languageId": "r"
        }
      },
      "outputs": [],
      "source": [
        "# 군집 정보를 원본 데이터에 추가\n",
        "tourism$class <- as.factor(tourism_optimal$predclass)"
      ]
    },
    {
      "cell_type": "code",
      "execution_count": 20,
      "metadata": {
        "id": "sDxejkKrLmBx",
        "vscode": {
          "languageId": "r"
        }
      },
      "outputs": [],
      "source": [
        "write.csv(tourism, file = \"tourism_with_4class.csv\")"
      ]
    },
    {
      "cell_type": "code",
      "execution_count": 21,
      "metadata": {
        "colab": {
          "base_uri": "https://localhost:8080/"
        },
        "id": "VXerq0sQ-7mq",
        "outputId": "3a629c64-6556-46ad-d4da-596e30ffd218",
        "vscode": {
          "languageId": "r"
        }
      },
      "outputs": [
        {
          "name": "stdout",
          "output_type": "stream",
          "text": [
            "'data.frame':\t103 obs. of  5 variables:\n",
            " $ X        : chr  \"RQ1.1\" \"RQ1.2\" \"RQ1.3\" \"RQ1.4\" ...\n",
            " $ class.1..: num  0.695 0.156 0.066 0.083 0.722 0.18 0.029 0.069 0 0 ...\n",
            " $ class.2..: num  0.439 0.172 0.098 0.291 0.145 0.45 0.19 0.09 0.009 0.116 ...\n",
            " $ class.3..: num  0.331 0.196 0.124 0.349 0.842 0.067 0.069 0.007 0 0.015 ...\n",
            " $ class.4..: num  0.354 0.172 0.112 0.362 0.004 0.004 0.988 0.001 0.001 0.001 ...\n"
          ]
        }
      ],
      "source": [
        "lca_output <- read.csv(\"/content/lca_output_4class.csv\")\n",
        "str(lca_output)"
      ]
    },
    {
      "cell_type": "code",
      "execution_count": 22,
      "metadata": {
        "colab": {
          "base_uri": "https://localhost:8080/",
          "height": 1000
        },
        "id": "PW1P3bGV_tux",
        "outputId": "3063ba79-9c96-44fa-db7d-239f34511b92",
        "vscode": {
          "languageId": "r"
        }
      },
      "outputs": [
        {
          "data": {
            "text/html": [
              "<table class=\"dataframe\">\n",
              "<caption>A data.frame: 15436 × 15</caption>\n",
              "<thead>\n",
              "\t<tr><th scope=col>RQ1</th><th scope=col>Q3</th><th scope=col>Q4</th><th scope=col>RQ2A2</th><th scope=col>C총액1인MIS</th><th scope=col>RDAY평균</th><th scope=col>Q7</th><th scope=col>D_BUN</th><th scope=col>D_SEX</th><th scope=col>D_AGE</th><th scope=col>체류1순위</th><th scope=col>체류2순위</th><th scope=col>D_NAT_CLUST</th><th scope=col>만족한활동</th><th scope=col>class</th></tr>\n",
              "\t<tr><th scope=col>&lt;fct&gt;</th><th scope=col>&lt;fct&gt;</th><th scope=col>&lt;fct&gt;</th><th scope=col>&lt;fct&gt;</th><th scope=col>&lt;fct&gt;</th><th scope=col>&lt;fct&gt;</th><th scope=col>&lt;fct&gt;</th><th scope=col>&lt;fct&gt;</th><th scope=col>&lt;fct&gt;</th><th scope=col>&lt;fct&gt;</th><th scope=col>&lt;fct&gt;</th><th scope=col>&lt;fct&gt;</th><th scope=col>&lt;fct&gt;</th><th scope=col>&lt;fct&gt;</th><th scope=col>&lt;fct&gt;</th></tr>\n",
              "</thead>\n",
              "<tbody>\n",
              "\t<tr><td>4</td><td>2</td><td>1</td><td>12</td><td>3</td><td>2</td><td>5</td><td>1</td><td>1</td><td>2</td><td>서울일TOT</td><td>없음     </td><td>유럽           </td><td>4 </td><td>2</td></tr>\n",
              "\t<tr><td>1</td><td>3</td><td>1</td><td>2 </td><td>3</td><td>4</td><td>4</td><td>1</td><td>1</td><td>5</td><td>부산일TOT</td><td>없음     </td><td>기타           </td><td>14</td><td>4</td></tr>\n",
              "\t<tr><td>1</td><td>2</td><td>1</td><td>11</td><td>1</td><td>1</td><td>5</td><td>1</td><td>1</td><td>2</td><td>서울일TOT</td><td>없음     </td><td>동아시아       </td><td>2 </td><td>2</td></tr>\n",
              "\t<tr><td>1</td><td>1</td><td>1</td><td>12</td><td>3</td><td>2</td><td>5</td><td>1</td><td>1</td><td>5</td><td>서울일TOT</td><td>없음     </td><td>기타           </td><td>4 </td><td>1</td></tr>\n",
              "\t<tr><td>1</td><td>3</td><td>1</td><td>2 </td><td>3</td><td>4</td><td>4</td><td>1</td><td>1</td><td>5</td><td>부산일TOT</td><td>없음     </td><td>기타           </td><td>1 </td><td>4</td></tr>\n",
              "\t<tr><td>3</td><td>2</td><td>1</td><td>12</td><td>3</td><td>2</td><td>5</td><td>1</td><td>1</td><td>6</td><td>서울일TOT</td><td>없음     </td><td>기타           </td><td>1 </td><td>2</td></tr>\n",
              "\t<tr><td>3</td><td>2</td><td>1</td><td>12</td><td>3</td><td>2</td><td>5</td><td>1</td><td>2</td><td>5</td><td>서울일TOT</td><td>없음     </td><td>기타           </td><td>1 </td><td>2</td></tr>\n",
              "\t<tr><td>4</td><td>2</td><td>1</td><td>12</td><td>3</td><td>2</td><td>5</td><td>1</td><td>1</td><td>4</td><td>인천일TOT</td><td>부산일TOT</td><td>유럽           </td><td>3 </td><td>2</td></tr>\n",
              "\t<tr><td>1</td><td>3</td><td>1</td><td>3 </td><td>2</td><td>3</td><td>4</td><td>1</td><td>1</td><td>2</td><td>서울일TOT</td><td>없음     </td><td>기타           </td><td>2 </td><td>4</td></tr>\n",
              "\t<tr><td>1</td><td>3</td><td>1</td><td>3 </td><td>2</td><td>3</td><td>4</td><td>1</td><td>1</td><td>2</td><td>서울일TOT</td><td>없음     </td><td>기타           </td><td>2 </td><td>4</td></tr>\n",
              "\t<tr><td>4</td><td>3</td><td>1</td><td>12</td><td>3</td><td>2</td><td>5</td><td>1</td><td>1</td><td>3</td><td>인천일TOT</td><td>없음     </td><td>오세아니아,중동</td><td>14</td><td>4</td></tr>\n",
              "\t<tr><td>1</td><td>3</td><td>1</td><td>11</td><td>5</td><td>3</td><td>4</td><td>1</td><td>1</td><td>2</td><td>세종일TOT</td><td>서울일TOT</td><td>기타           </td><td>14</td><td>4</td></tr>\n",
              "\t<tr><td>1</td><td>3</td><td>1</td><td>11</td><td>4</td><td>4</td><td>5</td><td>1</td><td>1</td><td>3</td><td>서울일TOT</td><td>부산일TOT</td><td>기타           </td><td>14</td><td>4</td></tr>\n",
              "\t<tr><td>2</td><td>2</td><td>1</td><td>12</td><td>5</td><td>3</td><td>5</td><td>1</td><td>2</td><td>5</td><td>인천일TOT</td><td>없음     </td><td>유럽           </td><td>1 </td><td>2</td></tr>\n",
              "\t<tr><td>4</td><td>2</td><td>1</td><td>12</td><td>4</td><td>2</td><td>5</td><td>1</td><td>2</td><td>3</td><td>서울일TOT</td><td>인천일TOT</td><td>유럽           </td><td>8 </td><td>2</td></tr>\n",
              "\t<tr><td>1</td><td>3</td><td>1</td><td>12</td><td>4</td><td>2</td><td>5</td><td>1</td><td>1</td><td>2</td><td>경기일TOT</td><td>없음     </td><td>북아메리카     </td><td>14</td><td>4</td></tr>\n",
              "\t<tr><td>1</td><td>3</td><td>1</td><td>11</td><td>5</td><td>3</td><td>4</td><td>1</td><td>1</td><td>4</td><td>제주일TOT</td><td>없음     </td><td>동아시아       </td><td>1 </td><td>4</td></tr>\n",
              "\t<tr><td>4</td><td>2</td><td>1</td><td>12</td><td>3</td><td>1</td><td>5</td><td>1</td><td>2</td><td>5</td><td>경기일TOT</td><td>없음     </td><td>동아시아       </td><td>1 </td><td>2</td></tr>\n",
              "\t<tr><td>1</td><td>4</td><td>1</td><td>12</td><td>4</td><td>2</td><td>5</td><td>1</td><td>1</td><td>2</td><td>서울일TOT</td><td>부산일TOT</td><td>동아시아       </td><td>1 </td><td>2</td></tr>\n",
              "\t<tr><td>2</td><td>4</td><td>1</td><td>11</td><td>5</td><td>3</td><td>5</td><td>1</td><td>2</td><td>2</td><td>서울일TOT</td><td>부산일TOT</td><td>동남아시아     </td><td>15</td><td>1</td></tr>\n",
              "\t<tr><td>2</td><td>3</td><td>1</td><td>3 </td><td>5</td><td>5</td><td>5</td><td>1</td><td>2</td><td>2</td><td>서울일TOT</td><td>없음     </td><td>동남아시아     </td><td>1 </td><td>4</td></tr>\n",
              "\t<tr><td>2</td><td>3</td><td>1</td><td>11</td><td>3</td><td>3</td><td>4</td><td>1</td><td>1</td><td>4</td><td>경기일TOT</td><td>없음     </td><td>북아메리카     </td><td>14</td><td>4</td></tr>\n",
              "\t<tr><td>2</td><td>1</td><td>1</td><td>3 </td><td>5</td><td>5</td><td>5</td><td>1</td><td>2</td><td>3</td><td>서울일TOT</td><td>없음     </td><td>동남아시아     </td><td>1 </td><td>3</td></tr>\n",
              "\t<tr><td>4</td><td>1</td><td>1</td><td>2 </td><td>1</td><td>3</td><td>5</td><td>1</td><td>1</td><td>3</td><td>서울일TOT</td><td>경기일TOT</td><td>동남아시아     </td><td>2 </td><td>3</td></tr>\n",
              "\t<tr><td>4</td><td>2</td><td>1</td><td>12</td><td>4</td><td>3</td><td>5</td><td>1</td><td>1</td><td>2</td><td>경기일TOT</td><td>없음     </td><td>오세아니아,중동</td><td>2 </td><td>2</td></tr>\n",
              "\t<tr><td>4</td><td>4</td><td>1</td><td>12</td><td>4</td><td>3</td><td>5</td><td>1</td><td>1</td><td>2</td><td>서울일TOT</td><td>전남일TOT</td><td>동남아시아     </td><td>15</td><td>2</td></tr>\n",
              "\t<tr><td>4</td><td>1</td><td>1</td><td>12</td><td>4</td><td>3</td><td>5</td><td>1</td><td>2</td><td>2</td><td>서울일TOT</td><td>부산일TOT</td><td>동남아시아     </td><td>3 </td><td>1</td></tr>\n",
              "\t<tr><td>4</td><td>1</td><td>1</td><td>12</td><td>4</td><td>3</td><td>5</td><td>1</td><td>1</td><td>2</td><td>서울일TOT</td><td>부산일TOT</td><td>동남아시아     </td><td>1 </td><td>1</td></tr>\n",
              "\t<tr><td>4</td><td>3</td><td>1</td><td>12</td><td>5</td><td>3</td><td>5</td><td>1</td><td>1</td><td>6</td><td>울산일TOT</td><td>없음     </td><td>동남아시아     </td><td>14</td><td>4</td></tr>\n",
              "\t<tr><td>2</td><td>2</td><td>1</td><td>12</td><td>5</td><td>3</td><td>5</td><td>1</td><td>1</td><td>2</td><td>서울일TOT</td><td>울산일TOT</td><td>북아메리카     </td><td>2 </td><td>2</td></tr>\n",
              "\t<tr><td>⋮</td><td>⋮</td><td>⋮</td><td>⋮</td><td>⋮</td><td>⋮</td><td>⋮</td><td>⋮</td><td>⋮</td><td>⋮</td><td>⋮</td><td>⋮</td><td>⋮</td><td>⋮</td><td>⋮</td></tr>\n",
              "\t<tr><td>2</td><td>1</td><td>1</td><td>2 </td><td>1</td><td>3</td><td>5</td><td>4</td><td>2</td><td>2</td><td>서울일TOT</td><td>없음     </td><td>동아시아       </td><td>5 </td><td>3</td></tr>\n",
              "\t<tr><td>2</td><td>1</td><td>1</td><td>2 </td><td>3</td><td>5</td><td>4</td><td>4</td><td>2</td><td>2</td><td>서울일TOT</td><td>없음     </td><td>동아시아       </td><td>2 </td><td>3</td></tr>\n",
              "\t<tr><td>2</td><td>1</td><td>1</td><td>2 </td><td>2</td><td>4</td><td>5</td><td>4</td><td>2</td><td>2</td><td>서울일TOT</td><td>제주일TOT</td><td>북아메리카     </td><td>4 </td><td>1</td></tr>\n",
              "\t<tr><td>4</td><td>2</td><td>1</td><td>11</td><td>1</td><td>2</td><td>5</td><td>4</td><td>2</td><td>3</td><td>서울일TOT</td><td>없음     </td><td>동아시아       </td><td>1 </td><td>3</td></tr>\n",
              "\t<tr><td>2</td><td>1</td><td>1</td><td>2 </td><td>3</td><td>5</td><td>5</td><td>4</td><td>2</td><td>4</td><td>서울일TOT</td><td>없음     </td><td>동아시아       </td><td>2 </td><td>3</td></tr>\n",
              "\t<tr><td>3</td><td>1</td><td>1</td><td>2 </td><td>2</td><td>3</td><td>4</td><td>4</td><td>2</td><td>2</td><td>서울일TOT</td><td>강원일TOT</td><td>동아시아       </td><td>7 </td><td>3</td></tr>\n",
              "\t<tr><td>4</td><td>3</td><td>1</td><td>11</td><td>4</td><td>3</td><td>4</td><td>4</td><td>1</td><td>5</td><td>서울일TOT</td><td>경남일TOT</td><td>기타           </td><td>14</td><td>4</td></tr>\n",
              "\t<tr><td>4</td><td>3</td><td>1</td><td>2 </td><td>4</td><td>5</td><td>5</td><td>4</td><td>2</td><td>5</td><td>서울일TOT</td><td>없음     </td><td>동아시아       </td><td>2 </td><td>4</td></tr>\n",
              "\t<tr><td>1</td><td>1</td><td>1</td><td>2 </td><td>3</td><td>4</td><td>5</td><td>4</td><td>2</td><td>2</td><td>서울일TOT</td><td>없음     </td><td>동아시아       </td><td>2 </td><td>3</td></tr>\n",
              "\t<tr><td>1</td><td>1</td><td>1</td><td>2 </td><td>1</td><td>3</td><td>5</td><td>4</td><td>2</td><td>2</td><td>전북일TOT</td><td>서울일TOT</td><td>동남아시아     </td><td>2 </td><td>3</td></tr>\n",
              "\t<tr><td>1</td><td>3</td><td>1</td><td>2 </td><td>4</td><td>5</td><td>5</td><td>4</td><td>1</td><td>5</td><td>서울일TOT</td><td>없음     </td><td>기타           </td><td>2 </td><td>4</td></tr>\n",
              "\t<tr><td>3</td><td>3</td><td>1</td><td>2 </td><td>4</td><td>4</td><td>4</td><td>4</td><td>1</td><td>2</td><td>경기일TOT</td><td>없음     </td><td>기타           </td><td>14</td><td>4</td></tr>\n",
              "\t<tr><td>1</td><td>2</td><td>1</td><td>3 </td><td>3</td><td>4</td><td>4</td><td>4</td><td>2</td><td>2</td><td>서울일TOT</td><td>경기일TOT</td><td>북아메리카     </td><td>11</td><td>1</td></tr>\n",
              "\t<tr><td>2</td><td>3</td><td>1</td><td>2 </td><td>4</td><td>5</td><td>5</td><td>4</td><td>1</td><td>2</td><td>서울일TOT</td><td>없음     </td><td>기타           </td><td>4 </td><td>4</td></tr>\n",
              "\t<tr><td>2</td><td>3</td><td>1</td><td>3 </td><td>5</td><td>5</td><td>5</td><td>4</td><td>2</td><td>2</td><td>서울일TOT</td><td>없음     </td><td>오세아니아,중동</td><td>6 </td><td>4</td></tr>\n",
              "\t<tr><td>2</td><td>3</td><td>2</td><td>3 </td><td>4</td><td>4</td><td>5</td><td>4</td><td>2</td><td>3</td><td>서울일TOT</td><td>부산일TOT</td><td>기타           </td><td>1 </td><td>4</td></tr>\n",
              "\t<tr><td>1</td><td>3</td><td>1</td><td>2 </td><td>5</td><td>5</td><td>4</td><td>4</td><td>1</td><td>4</td><td>충북일TOT</td><td>없음     </td><td>유럽           </td><td>2 </td><td>4</td></tr>\n",
              "\t<tr><td>1</td><td>1</td><td>1</td><td>11</td><td>3</td><td>3</td><td>5</td><td>4</td><td>2</td><td>2</td><td>서울일TOT</td><td>경남일TOT</td><td>기타           </td><td>2 </td><td>1</td></tr>\n",
              "\t<tr><td>1</td><td>1</td><td>1</td><td>2 </td><td>3</td><td>3</td><td>5</td><td>4</td><td>1</td><td>3</td><td>서울일TOT</td><td>부산일TOT</td><td>기타           </td><td>4 </td><td>1</td></tr>\n",
              "\t<tr><td>2</td><td>4</td><td>1</td><td>1 </td><td>1</td><td>3</td><td>5</td><td>4</td><td>1</td><td>2</td><td>부산일TOT</td><td>없음     </td><td>동아시아       </td><td>3 </td><td>3</td></tr>\n",
              "\t<tr><td>4</td><td>2</td><td>1</td><td>1 </td><td>1</td><td>3</td><td>5</td><td>4</td><td>2</td><td>4</td><td>부산일TOT</td><td>없음     </td><td>동아시아       </td><td>3 </td><td>3</td></tr>\n",
              "\t<tr><td>4</td><td>2</td><td>1</td><td>2 </td><td>2</td><td>3</td><td>5</td><td>4</td><td>2</td><td>5</td><td>광주일TOT</td><td>없음     </td><td>동아시아       </td><td>3 </td><td>3</td></tr>\n",
              "\t<tr><td>1</td><td>1</td><td>1</td><td>2 </td><td>2</td><td>4</td><td>5</td><td>4</td><td>2</td><td>2</td><td>서울일TOT</td><td>부산일TOT</td><td>유럽           </td><td>6 </td><td>1</td></tr>\n",
              "\t<tr><td>1</td><td>1</td><td>1</td><td>11</td><td>2</td><td>3</td><td>5</td><td>4</td><td>2</td><td>2</td><td>서울일TOT</td><td>부산일TOT</td><td>동남아시아     </td><td>4 </td><td>1</td></tr>\n",
              "\t<tr><td>2</td><td>1</td><td>1</td><td>2 </td><td>4</td><td>5</td><td>5</td><td>4</td><td>1</td><td>3</td><td>부산일TOT</td><td>경북일TOT</td><td>북아메리카     </td><td>3 </td><td>2</td></tr>\n",
              "\t<tr><td>4</td><td>3</td><td>1</td><td>11</td><td>3</td><td>3</td><td>4</td><td>4</td><td>1</td><td>6</td><td>서울일TOT</td><td>인천일TOT</td><td>북아메리카     </td><td>14</td><td>4</td></tr>\n",
              "\t<tr><td>3</td><td>1</td><td>1</td><td>1 </td><td>2</td><td>4</td><td>5</td><td>4</td><td>1</td><td>6</td><td>부산일TOT</td><td>없음     </td><td>동아시아       </td><td>3 </td><td>3</td></tr>\n",
              "\t<tr><td>4</td><td>1</td><td>1</td><td>1 </td><td>2</td><td>5</td><td>5</td><td>4</td><td>2</td><td>6</td><td>부산일TOT</td><td>없음     </td><td>동아시아       </td><td>2 </td><td>3</td></tr>\n",
              "\t<tr><td>4</td><td>3</td><td>1</td><td>12</td><td>1</td><td>1</td><td>4</td><td>4</td><td>1</td><td>3</td><td>부산일TOT</td><td>없음     </td><td>유럽           </td><td>14</td><td>4</td></tr>\n",
              "\t<tr><td>1</td><td>1</td><td>1</td><td>2 </td><td>3</td><td>4</td><td>5</td><td>4</td><td>1</td><td>3</td><td>서울일TOT</td><td>부산일TOT</td><td>유럽           </td><td>4 </td><td>1</td></tr>\n",
              "</tbody>\n",
              "</table>\n"
            ],
            "text/latex": [
              "A data.frame: 15436 × 15\n",
              "\\begin{tabular}{lllllllllllllll}\n",
              " RQ1 & Q3 & Q4 & RQ2A2 & C총액1인MIS & RDAY평균 & Q7 & D\\_BUN & D\\_SEX & D\\_AGE & 체류1순위 & 체류2순위 & D\\_NAT\\_CLUST & 만족한활동 & class\\\\\n",
              " <fct> & <fct> & <fct> & <fct> & <fct> & <fct> & <fct> & <fct> & <fct> & <fct> & <fct> & <fct> & <fct> & <fct> & <fct>\\\\\n",
              "\\hline\n",
              "\t 4 & 2 & 1 & 12 & 3 & 2 & 5 & 1 & 1 & 2 & 서울일TOT & 없음      & 유럽            & 4  & 2\\\\\n",
              "\t 1 & 3 & 1 & 2  & 3 & 4 & 4 & 1 & 1 & 5 & 부산일TOT & 없음      & 기타            & 14 & 4\\\\\n",
              "\t 1 & 2 & 1 & 11 & 1 & 1 & 5 & 1 & 1 & 2 & 서울일TOT & 없음      & 동아시아        & 2  & 2\\\\\n",
              "\t 1 & 1 & 1 & 12 & 3 & 2 & 5 & 1 & 1 & 5 & 서울일TOT & 없음      & 기타            & 4  & 1\\\\\n",
              "\t 1 & 3 & 1 & 2  & 3 & 4 & 4 & 1 & 1 & 5 & 부산일TOT & 없음      & 기타            & 1  & 4\\\\\n",
              "\t 3 & 2 & 1 & 12 & 3 & 2 & 5 & 1 & 1 & 6 & 서울일TOT & 없음      & 기타            & 1  & 2\\\\\n",
              "\t 3 & 2 & 1 & 12 & 3 & 2 & 5 & 1 & 2 & 5 & 서울일TOT & 없음      & 기타            & 1  & 2\\\\\n",
              "\t 4 & 2 & 1 & 12 & 3 & 2 & 5 & 1 & 1 & 4 & 인천일TOT & 부산일TOT & 유럽            & 3  & 2\\\\\n",
              "\t 1 & 3 & 1 & 3  & 2 & 3 & 4 & 1 & 1 & 2 & 서울일TOT & 없음      & 기타            & 2  & 4\\\\\n",
              "\t 1 & 3 & 1 & 3  & 2 & 3 & 4 & 1 & 1 & 2 & 서울일TOT & 없음      & 기타            & 2  & 4\\\\\n",
              "\t 4 & 3 & 1 & 12 & 3 & 2 & 5 & 1 & 1 & 3 & 인천일TOT & 없음      & 오세아니아,중동 & 14 & 4\\\\\n",
              "\t 1 & 3 & 1 & 11 & 5 & 3 & 4 & 1 & 1 & 2 & 세종일TOT & 서울일TOT & 기타            & 14 & 4\\\\\n",
              "\t 1 & 3 & 1 & 11 & 4 & 4 & 5 & 1 & 1 & 3 & 서울일TOT & 부산일TOT & 기타            & 14 & 4\\\\\n",
              "\t 2 & 2 & 1 & 12 & 5 & 3 & 5 & 1 & 2 & 5 & 인천일TOT & 없음      & 유럽            & 1  & 2\\\\\n",
              "\t 4 & 2 & 1 & 12 & 4 & 2 & 5 & 1 & 2 & 3 & 서울일TOT & 인천일TOT & 유럽            & 8  & 2\\\\\n",
              "\t 1 & 3 & 1 & 12 & 4 & 2 & 5 & 1 & 1 & 2 & 경기일TOT & 없음      & 북아메리카      & 14 & 4\\\\\n",
              "\t 1 & 3 & 1 & 11 & 5 & 3 & 4 & 1 & 1 & 4 & 제주일TOT & 없음      & 동아시아        & 1  & 4\\\\\n",
              "\t 4 & 2 & 1 & 12 & 3 & 1 & 5 & 1 & 2 & 5 & 경기일TOT & 없음      & 동아시아        & 1  & 2\\\\\n",
              "\t 1 & 4 & 1 & 12 & 4 & 2 & 5 & 1 & 1 & 2 & 서울일TOT & 부산일TOT & 동아시아        & 1  & 2\\\\\n",
              "\t 2 & 4 & 1 & 11 & 5 & 3 & 5 & 1 & 2 & 2 & 서울일TOT & 부산일TOT & 동남아시아      & 15 & 1\\\\\n",
              "\t 2 & 3 & 1 & 3  & 5 & 5 & 5 & 1 & 2 & 2 & 서울일TOT & 없음      & 동남아시아      & 1  & 4\\\\\n",
              "\t 2 & 3 & 1 & 11 & 3 & 3 & 4 & 1 & 1 & 4 & 경기일TOT & 없음      & 북아메리카      & 14 & 4\\\\\n",
              "\t 2 & 1 & 1 & 3  & 5 & 5 & 5 & 1 & 2 & 3 & 서울일TOT & 없음      & 동남아시아      & 1  & 3\\\\\n",
              "\t 4 & 1 & 1 & 2  & 1 & 3 & 5 & 1 & 1 & 3 & 서울일TOT & 경기일TOT & 동남아시아      & 2  & 3\\\\\n",
              "\t 4 & 2 & 1 & 12 & 4 & 3 & 5 & 1 & 1 & 2 & 경기일TOT & 없음      & 오세아니아,중동 & 2  & 2\\\\\n",
              "\t 4 & 4 & 1 & 12 & 4 & 3 & 5 & 1 & 1 & 2 & 서울일TOT & 전남일TOT & 동남아시아      & 15 & 2\\\\\n",
              "\t 4 & 1 & 1 & 12 & 4 & 3 & 5 & 1 & 2 & 2 & 서울일TOT & 부산일TOT & 동남아시아      & 3  & 1\\\\\n",
              "\t 4 & 1 & 1 & 12 & 4 & 3 & 5 & 1 & 1 & 2 & 서울일TOT & 부산일TOT & 동남아시아      & 1  & 1\\\\\n",
              "\t 4 & 3 & 1 & 12 & 5 & 3 & 5 & 1 & 1 & 6 & 울산일TOT & 없음      & 동남아시아      & 14 & 4\\\\\n",
              "\t 2 & 2 & 1 & 12 & 5 & 3 & 5 & 1 & 1 & 2 & 서울일TOT & 울산일TOT & 북아메리카      & 2  & 2\\\\\n",
              "\t ⋮ & ⋮ & ⋮ & ⋮ & ⋮ & ⋮ & ⋮ & ⋮ & ⋮ & ⋮ & ⋮ & ⋮ & ⋮ & ⋮ & ⋮\\\\\n",
              "\t 2 & 1 & 1 & 2  & 1 & 3 & 5 & 4 & 2 & 2 & 서울일TOT & 없음      & 동아시아        & 5  & 3\\\\\n",
              "\t 2 & 1 & 1 & 2  & 3 & 5 & 4 & 4 & 2 & 2 & 서울일TOT & 없음      & 동아시아        & 2  & 3\\\\\n",
              "\t 2 & 1 & 1 & 2  & 2 & 4 & 5 & 4 & 2 & 2 & 서울일TOT & 제주일TOT & 북아메리카      & 4  & 1\\\\\n",
              "\t 4 & 2 & 1 & 11 & 1 & 2 & 5 & 4 & 2 & 3 & 서울일TOT & 없음      & 동아시아        & 1  & 3\\\\\n",
              "\t 2 & 1 & 1 & 2  & 3 & 5 & 5 & 4 & 2 & 4 & 서울일TOT & 없음      & 동아시아        & 2  & 3\\\\\n",
              "\t 3 & 1 & 1 & 2  & 2 & 3 & 4 & 4 & 2 & 2 & 서울일TOT & 강원일TOT & 동아시아        & 7  & 3\\\\\n",
              "\t 4 & 3 & 1 & 11 & 4 & 3 & 4 & 4 & 1 & 5 & 서울일TOT & 경남일TOT & 기타            & 14 & 4\\\\\n",
              "\t 4 & 3 & 1 & 2  & 4 & 5 & 5 & 4 & 2 & 5 & 서울일TOT & 없음      & 동아시아        & 2  & 4\\\\\n",
              "\t 1 & 1 & 1 & 2  & 3 & 4 & 5 & 4 & 2 & 2 & 서울일TOT & 없음      & 동아시아        & 2  & 3\\\\\n",
              "\t 1 & 1 & 1 & 2  & 1 & 3 & 5 & 4 & 2 & 2 & 전북일TOT & 서울일TOT & 동남아시아      & 2  & 3\\\\\n",
              "\t 1 & 3 & 1 & 2  & 4 & 5 & 5 & 4 & 1 & 5 & 서울일TOT & 없음      & 기타            & 2  & 4\\\\\n",
              "\t 3 & 3 & 1 & 2  & 4 & 4 & 4 & 4 & 1 & 2 & 경기일TOT & 없음      & 기타            & 14 & 4\\\\\n",
              "\t 1 & 2 & 1 & 3  & 3 & 4 & 4 & 4 & 2 & 2 & 서울일TOT & 경기일TOT & 북아메리카      & 11 & 1\\\\\n",
              "\t 2 & 3 & 1 & 2  & 4 & 5 & 5 & 4 & 1 & 2 & 서울일TOT & 없음      & 기타            & 4  & 4\\\\\n",
              "\t 2 & 3 & 1 & 3  & 5 & 5 & 5 & 4 & 2 & 2 & 서울일TOT & 없음      & 오세아니아,중동 & 6  & 4\\\\\n",
              "\t 2 & 3 & 2 & 3  & 4 & 4 & 5 & 4 & 2 & 3 & 서울일TOT & 부산일TOT & 기타            & 1  & 4\\\\\n",
              "\t 1 & 3 & 1 & 2  & 5 & 5 & 4 & 4 & 1 & 4 & 충북일TOT & 없음      & 유럽            & 2  & 4\\\\\n",
              "\t 1 & 1 & 1 & 11 & 3 & 3 & 5 & 4 & 2 & 2 & 서울일TOT & 경남일TOT & 기타            & 2  & 1\\\\\n",
              "\t 1 & 1 & 1 & 2  & 3 & 3 & 5 & 4 & 1 & 3 & 서울일TOT & 부산일TOT & 기타            & 4  & 1\\\\\n",
              "\t 2 & 4 & 1 & 1  & 1 & 3 & 5 & 4 & 1 & 2 & 부산일TOT & 없음      & 동아시아        & 3  & 3\\\\\n",
              "\t 4 & 2 & 1 & 1  & 1 & 3 & 5 & 4 & 2 & 4 & 부산일TOT & 없음      & 동아시아        & 3  & 3\\\\\n",
              "\t 4 & 2 & 1 & 2  & 2 & 3 & 5 & 4 & 2 & 5 & 광주일TOT & 없음      & 동아시아        & 3  & 3\\\\\n",
              "\t 1 & 1 & 1 & 2  & 2 & 4 & 5 & 4 & 2 & 2 & 서울일TOT & 부산일TOT & 유럽            & 6  & 1\\\\\n",
              "\t 1 & 1 & 1 & 11 & 2 & 3 & 5 & 4 & 2 & 2 & 서울일TOT & 부산일TOT & 동남아시아      & 4  & 1\\\\\n",
              "\t 2 & 1 & 1 & 2  & 4 & 5 & 5 & 4 & 1 & 3 & 부산일TOT & 경북일TOT & 북아메리카      & 3  & 2\\\\\n",
              "\t 4 & 3 & 1 & 11 & 3 & 3 & 4 & 4 & 1 & 6 & 서울일TOT & 인천일TOT & 북아메리카      & 14 & 4\\\\\n",
              "\t 3 & 1 & 1 & 1  & 2 & 4 & 5 & 4 & 1 & 6 & 부산일TOT & 없음      & 동아시아        & 3  & 3\\\\\n",
              "\t 4 & 1 & 1 & 1  & 2 & 5 & 5 & 4 & 2 & 6 & 부산일TOT & 없음      & 동아시아        & 2  & 3\\\\\n",
              "\t 4 & 3 & 1 & 12 & 1 & 1 & 4 & 4 & 1 & 3 & 부산일TOT & 없음      & 유럽            & 14 & 4\\\\\n",
              "\t 1 & 1 & 1 & 2  & 3 & 4 & 5 & 4 & 1 & 3 & 서울일TOT & 부산일TOT & 유럽            & 4  & 1\\\\\n",
              "\\end{tabular}\n"
            ],
            "text/markdown": [
              "\n",
              "A data.frame: 15436 × 15\n",
              "\n",
              "| RQ1 &lt;fct&gt; | Q3 &lt;fct&gt; | Q4 &lt;fct&gt; | RQ2A2 &lt;fct&gt; | C총액1인MIS &lt;fct&gt; | RDAY평균 &lt;fct&gt; | Q7 &lt;fct&gt; | D_BUN &lt;fct&gt; | D_SEX &lt;fct&gt; | D_AGE &lt;fct&gt; | 체류1순위 &lt;fct&gt; | 체류2순위 &lt;fct&gt; | D_NAT_CLUST &lt;fct&gt; | 만족한활동 &lt;fct&gt; | class &lt;fct&gt; |\n",
              "|---|---|---|---|---|---|---|---|---|---|---|---|---|---|---|\n",
              "| 4 | 2 | 1 | 12 | 3 | 2 | 5 | 1 | 1 | 2 | 서울일TOT | 없음      | 유럽            | 4  | 2 |\n",
              "| 1 | 3 | 1 | 2  | 3 | 4 | 4 | 1 | 1 | 5 | 부산일TOT | 없음      | 기타            | 14 | 4 |\n",
              "| 1 | 2 | 1 | 11 | 1 | 1 | 5 | 1 | 1 | 2 | 서울일TOT | 없음      | 동아시아        | 2  | 2 |\n",
              "| 1 | 1 | 1 | 12 | 3 | 2 | 5 | 1 | 1 | 5 | 서울일TOT | 없음      | 기타            | 4  | 1 |\n",
              "| 1 | 3 | 1 | 2  | 3 | 4 | 4 | 1 | 1 | 5 | 부산일TOT | 없음      | 기타            | 1  | 4 |\n",
              "| 3 | 2 | 1 | 12 | 3 | 2 | 5 | 1 | 1 | 6 | 서울일TOT | 없음      | 기타            | 1  | 2 |\n",
              "| 3 | 2 | 1 | 12 | 3 | 2 | 5 | 1 | 2 | 5 | 서울일TOT | 없음      | 기타            | 1  | 2 |\n",
              "| 4 | 2 | 1 | 12 | 3 | 2 | 5 | 1 | 1 | 4 | 인천일TOT | 부산일TOT | 유럽            | 3  | 2 |\n",
              "| 1 | 3 | 1 | 3  | 2 | 3 | 4 | 1 | 1 | 2 | 서울일TOT | 없음      | 기타            | 2  | 4 |\n",
              "| 1 | 3 | 1 | 3  | 2 | 3 | 4 | 1 | 1 | 2 | 서울일TOT | 없음      | 기타            | 2  | 4 |\n",
              "| 4 | 3 | 1 | 12 | 3 | 2 | 5 | 1 | 1 | 3 | 인천일TOT | 없음      | 오세아니아,중동 | 14 | 4 |\n",
              "| 1 | 3 | 1 | 11 | 5 | 3 | 4 | 1 | 1 | 2 | 세종일TOT | 서울일TOT | 기타            | 14 | 4 |\n",
              "| 1 | 3 | 1 | 11 | 4 | 4 | 5 | 1 | 1 | 3 | 서울일TOT | 부산일TOT | 기타            | 14 | 4 |\n",
              "| 2 | 2 | 1 | 12 | 5 | 3 | 5 | 1 | 2 | 5 | 인천일TOT | 없음      | 유럽            | 1  | 2 |\n",
              "| 4 | 2 | 1 | 12 | 4 | 2 | 5 | 1 | 2 | 3 | 서울일TOT | 인천일TOT | 유럽            | 8  | 2 |\n",
              "| 1 | 3 | 1 | 12 | 4 | 2 | 5 | 1 | 1 | 2 | 경기일TOT | 없음      | 북아메리카      | 14 | 4 |\n",
              "| 1 | 3 | 1 | 11 | 5 | 3 | 4 | 1 | 1 | 4 | 제주일TOT | 없음      | 동아시아        | 1  | 4 |\n",
              "| 4 | 2 | 1 | 12 | 3 | 1 | 5 | 1 | 2 | 5 | 경기일TOT | 없음      | 동아시아        | 1  | 2 |\n",
              "| 1 | 4 | 1 | 12 | 4 | 2 | 5 | 1 | 1 | 2 | 서울일TOT | 부산일TOT | 동아시아        | 1  | 2 |\n",
              "| 2 | 4 | 1 | 11 | 5 | 3 | 5 | 1 | 2 | 2 | 서울일TOT | 부산일TOT | 동남아시아      | 15 | 1 |\n",
              "| 2 | 3 | 1 | 3  | 5 | 5 | 5 | 1 | 2 | 2 | 서울일TOT | 없음      | 동남아시아      | 1  | 4 |\n",
              "| 2 | 3 | 1 | 11 | 3 | 3 | 4 | 1 | 1 | 4 | 경기일TOT | 없음      | 북아메리카      | 14 | 4 |\n",
              "| 2 | 1 | 1 | 3  | 5 | 5 | 5 | 1 | 2 | 3 | 서울일TOT | 없음      | 동남아시아      | 1  | 3 |\n",
              "| 4 | 1 | 1 | 2  | 1 | 3 | 5 | 1 | 1 | 3 | 서울일TOT | 경기일TOT | 동남아시아      | 2  | 3 |\n",
              "| 4 | 2 | 1 | 12 | 4 | 3 | 5 | 1 | 1 | 2 | 경기일TOT | 없음      | 오세아니아,중동 | 2  | 2 |\n",
              "| 4 | 4 | 1 | 12 | 4 | 3 | 5 | 1 | 1 | 2 | 서울일TOT | 전남일TOT | 동남아시아      | 15 | 2 |\n",
              "| 4 | 1 | 1 | 12 | 4 | 3 | 5 | 1 | 2 | 2 | 서울일TOT | 부산일TOT | 동남아시아      | 3  | 1 |\n",
              "| 4 | 1 | 1 | 12 | 4 | 3 | 5 | 1 | 1 | 2 | 서울일TOT | 부산일TOT | 동남아시아      | 1  | 1 |\n",
              "| 4 | 3 | 1 | 12 | 5 | 3 | 5 | 1 | 1 | 6 | 울산일TOT | 없음      | 동남아시아      | 14 | 4 |\n",
              "| 2 | 2 | 1 | 12 | 5 | 3 | 5 | 1 | 1 | 2 | 서울일TOT | 울산일TOT | 북아메리카      | 2  | 2 |\n",
              "| ⋮ | ⋮ | ⋮ | ⋮ | ⋮ | ⋮ | ⋮ | ⋮ | ⋮ | ⋮ | ⋮ | ⋮ | ⋮ | ⋮ | ⋮ |\n",
              "| 2 | 1 | 1 | 2  | 1 | 3 | 5 | 4 | 2 | 2 | 서울일TOT | 없음      | 동아시아        | 5  | 3 |\n",
              "| 2 | 1 | 1 | 2  | 3 | 5 | 4 | 4 | 2 | 2 | 서울일TOT | 없음      | 동아시아        | 2  | 3 |\n",
              "| 2 | 1 | 1 | 2  | 2 | 4 | 5 | 4 | 2 | 2 | 서울일TOT | 제주일TOT | 북아메리카      | 4  | 1 |\n",
              "| 4 | 2 | 1 | 11 | 1 | 2 | 5 | 4 | 2 | 3 | 서울일TOT | 없음      | 동아시아        | 1  | 3 |\n",
              "| 2 | 1 | 1 | 2  | 3 | 5 | 5 | 4 | 2 | 4 | 서울일TOT | 없음      | 동아시아        | 2  | 3 |\n",
              "| 3 | 1 | 1 | 2  | 2 | 3 | 4 | 4 | 2 | 2 | 서울일TOT | 강원일TOT | 동아시아        | 7  | 3 |\n",
              "| 4 | 3 | 1 | 11 | 4 | 3 | 4 | 4 | 1 | 5 | 서울일TOT | 경남일TOT | 기타            | 14 | 4 |\n",
              "| 4 | 3 | 1 | 2  | 4 | 5 | 5 | 4 | 2 | 5 | 서울일TOT | 없음      | 동아시아        | 2  | 4 |\n",
              "| 1 | 1 | 1 | 2  | 3 | 4 | 5 | 4 | 2 | 2 | 서울일TOT | 없음      | 동아시아        | 2  | 3 |\n",
              "| 1 | 1 | 1 | 2  | 1 | 3 | 5 | 4 | 2 | 2 | 전북일TOT | 서울일TOT | 동남아시아      | 2  | 3 |\n",
              "| 1 | 3 | 1 | 2  | 4 | 5 | 5 | 4 | 1 | 5 | 서울일TOT | 없음      | 기타            | 2  | 4 |\n",
              "| 3 | 3 | 1 | 2  | 4 | 4 | 4 | 4 | 1 | 2 | 경기일TOT | 없음      | 기타            | 14 | 4 |\n",
              "| 1 | 2 | 1 | 3  | 3 | 4 | 4 | 4 | 2 | 2 | 서울일TOT | 경기일TOT | 북아메리카      | 11 | 1 |\n",
              "| 2 | 3 | 1 | 2  | 4 | 5 | 5 | 4 | 1 | 2 | 서울일TOT | 없음      | 기타            | 4  | 4 |\n",
              "| 2 | 3 | 1 | 3  | 5 | 5 | 5 | 4 | 2 | 2 | 서울일TOT | 없음      | 오세아니아,중동 | 6  | 4 |\n",
              "| 2 | 3 | 2 | 3  | 4 | 4 | 5 | 4 | 2 | 3 | 서울일TOT | 부산일TOT | 기타            | 1  | 4 |\n",
              "| 1 | 3 | 1 | 2  | 5 | 5 | 4 | 4 | 1 | 4 | 충북일TOT | 없음      | 유럽            | 2  | 4 |\n",
              "| 1 | 1 | 1 | 11 | 3 | 3 | 5 | 4 | 2 | 2 | 서울일TOT | 경남일TOT | 기타            | 2  | 1 |\n",
              "| 1 | 1 | 1 | 2  | 3 | 3 | 5 | 4 | 1 | 3 | 서울일TOT | 부산일TOT | 기타            | 4  | 1 |\n",
              "| 2 | 4 | 1 | 1  | 1 | 3 | 5 | 4 | 1 | 2 | 부산일TOT | 없음      | 동아시아        | 3  | 3 |\n",
              "| 4 | 2 | 1 | 1  | 1 | 3 | 5 | 4 | 2 | 4 | 부산일TOT | 없음      | 동아시아        | 3  | 3 |\n",
              "| 4 | 2 | 1 | 2  | 2 | 3 | 5 | 4 | 2 | 5 | 광주일TOT | 없음      | 동아시아        | 3  | 3 |\n",
              "| 1 | 1 | 1 | 2  | 2 | 4 | 5 | 4 | 2 | 2 | 서울일TOT | 부산일TOT | 유럽            | 6  | 1 |\n",
              "| 1 | 1 | 1 | 11 | 2 | 3 | 5 | 4 | 2 | 2 | 서울일TOT | 부산일TOT | 동남아시아      | 4  | 1 |\n",
              "| 2 | 1 | 1 | 2  | 4 | 5 | 5 | 4 | 1 | 3 | 부산일TOT | 경북일TOT | 북아메리카      | 3  | 2 |\n",
              "| 4 | 3 | 1 | 11 | 3 | 3 | 4 | 4 | 1 | 6 | 서울일TOT | 인천일TOT | 북아메리카      | 14 | 4 |\n",
              "| 3 | 1 | 1 | 1  | 2 | 4 | 5 | 4 | 1 | 6 | 부산일TOT | 없음      | 동아시아        | 3  | 3 |\n",
              "| 4 | 1 | 1 | 1  | 2 | 5 | 5 | 4 | 2 | 6 | 부산일TOT | 없음      | 동아시아        | 2  | 3 |\n",
              "| 4 | 3 | 1 | 12 | 1 | 1 | 4 | 4 | 1 | 3 | 부산일TOT | 없음      | 유럽            | 14 | 4 |\n",
              "| 1 | 1 | 1 | 2  | 3 | 4 | 5 | 4 | 1 | 3 | 서울일TOT | 부산일TOT | 유럽            | 4  | 1 |\n",
              "\n"
            ],
            "text/plain": [
              "      RQ1 Q3 Q4 RQ2A2 C총액1인MIS RDAY평균 Q7 D_BUN D_SEX D_AGE 체류1순위\n",
              "1     4   2  1  12    3           2        5  1     1     2     서울일TOT\n",
              "2     1   3  1  2     3           4        4  1     1     5     부산일TOT\n",
              "3     1   2  1  11    1           1        5  1     1     2     서울일TOT\n",
              "4     1   1  1  12    3           2        5  1     1     5     서울일TOT\n",
              "5     1   3  1  2     3           4        4  1     1     5     부산일TOT\n",
              "6     3   2  1  12    3           2        5  1     1     6     서울일TOT\n",
              "7     3   2  1  12    3           2        5  1     2     5     서울일TOT\n",
              "8     4   2  1  12    3           2        5  1     1     4     인천일TOT\n",
              "9     1   3  1  3     2           3        4  1     1     2     서울일TOT\n",
              "10    1   3  1  3     2           3        4  1     1     2     서울일TOT\n",
              "11    4   3  1  12    3           2        5  1     1     3     인천일TOT\n",
              "12    1   3  1  11    5           3        4  1     1     2     세종일TOT\n",
              "13    1   3  1  11    4           4        5  1     1     3     서울일TOT\n",
              "14    2   2  1  12    5           3        5  1     2     5     인천일TOT\n",
              "15    4   2  1  12    4           2        5  1     2     3     서울일TOT\n",
              "16    1   3  1  12    4           2        5  1     1     2     경기일TOT\n",
              "17    1   3  1  11    5           3        4  1     1     4     제주일TOT\n",
              "18    4   2  1  12    3           1        5  1     2     5     경기일TOT\n",
              "19    1   4  1  12    4           2        5  1     1     2     서울일TOT\n",
              "20    2   4  1  11    5           3        5  1     2     2     서울일TOT\n",
              "21    2   3  1  3     5           5        5  1     2     2     서울일TOT\n",
              "22    2   3  1  11    3           3        4  1     1     4     경기일TOT\n",
              "23    2   1  1  3     5           5        5  1     2     3     서울일TOT\n",
              "24    4   1  1  2     1           3        5  1     1     3     서울일TOT\n",
              "25    4   2  1  12    4           3        5  1     1     2     경기일TOT\n",
              "26    4   4  1  12    4           3        5  1     1     2     서울일TOT\n",
              "27    4   1  1  12    4           3        5  1     2     2     서울일TOT\n",
              "28    4   1  1  12    4           3        5  1     1     2     서울일TOT\n",
              "29    4   3  1  12    5           3        5  1     1     6     울산일TOT\n",
              "30    2   2  1  12    5           3        5  1     1     2     서울일TOT\n",
              "⋮     ⋮   ⋮  ⋮  ⋮     ⋮           ⋮        ⋮  ⋮     ⋮     ⋮     ⋮        \n",
              "15407 2   1  1  2     1           3        5  4     2     2     서울일TOT\n",
              "15408 2   1  1  2     3           5        4  4     2     2     서울일TOT\n",
              "15409 2   1  1  2     2           4        5  4     2     2     서울일TOT\n",
              "15410 4   2  1  11    1           2        5  4     2     3     서울일TOT\n",
              "15411 2   1  1  2     3           5        5  4     2     4     서울일TOT\n",
              "15412 3   1  1  2     2           3        4  4     2     2     서울일TOT\n",
              "15413 4   3  1  11    4           3        4  4     1     5     서울일TOT\n",
              "15414 4   3  1  2     4           5        5  4     2     5     서울일TOT\n",
              "15415 1   1  1  2     3           4        5  4     2     2     서울일TOT\n",
              "15416 1   1  1  2     1           3        5  4     2     2     전북일TOT\n",
              "15417 1   3  1  2     4           5        5  4     1     5     서울일TOT\n",
              "15418 3   3  1  2     4           4        4  4     1     2     경기일TOT\n",
              "15419 1   2  1  3     3           4        4  4     2     2     서울일TOT\n",
              "15420 2   3  1  2     4           5        5  4     1     2     서울일TOT\n",
              "15421 2   3  1  3     5           5        5  4     2     2     서울일TOT\n",
              "15422 2   3  2  3     4           4        5  4     2     3     서울일TOT\n",
              "15423 1   3  1  2     5           5        4  4     1     4     충북일TOT\n",
              "15424 1   1  1  11    3           3        5  4     2     2     서울일TOT\n",
              "15425 1   1  1  2     3           3        5  4     1     3     서울일TOT\n",
              "15426 2   4  1  1     1           3        5  4     1     2     부산일TOT\n",
              "15427 4   2  1  1     1           3        5  4     2     4     부산일TOT\n",
              "15428 4   2  1  2     2           3        5  4     2     5     광주일TOT\n",
              "15429 1   1  1  2     2           4        5  4     2     2     서울일TOT\n",
              "15430 1   1  1  11    2           3        5  4     2     2     서울일TOT\n",
              "15431 2   1  1  2     4           5        5  4     1     3     부산일TOT\n",
              "15432 4   3  1  11    3           3        4  4     1     6     서울일TOT\n",
              "15433 3   1  1  1     2           4        5  4     1     6     부산일TOT\n",
              "15434 4   1  1  1     2           5        5  4     2     6     부산일TOT\n",
              "15435 4   3  1  12    1           1        4  4     1     3     부산일TOT\n",
              "15436 1   1  1  2     3           4        5  4     1     3     서울일TOT\n",
              "      체류2순위 D_NAT_CLUST     만족한활동 class\n",
              "1     없음      유럽            4          2    \n",
              "2     없음      기타            14         4    \n",
              "3     없음      동아시아        2          2    \n",
              "4     없음      기타            4          1    \n",
              "5     없음      기타            1          4    \n",
              "6     없음      기타            1          2    \n",
              "7     없음      기타            1          2    \n",
              "8     부산일TOT 유럽            3          2    \n",
              "9     없음      기타            2          4    \n",
              "10    없음      기타            2          4    \n",
              "11    없음      오세아니아,중동 14         4    \n",
              "12    서울일TOT 기타            14         4    \n",
              "13    부산일TOT 기타            14         4    \n",
              "14    없음      유럽            1          2    \n",
              "15    인천일TOT 유럽            8          2    \n",
              "16    없음      북아메리카      14         4    \n",
              "17    없음      동아시아        1          4    \n",
              "18    없음      동아시아        1          2    \n",
              "19    부산일TOT 동아시아        1          2    \n",
              "20    부산일TOT 동남아시아      15         1    \n",
              "21    없음      동남아시아      1          4    \n",
              "22    없음      북아메리카      14         4    \n",
              "23    없음      동남아시아      1          3    \n",
              "24    경기일TOT 동남아시아      2          3    \n",
              "25    없음      오세아니아,중동 2          2    \n",
              "26    전남일TOT 동남아시아      15         2    \n",
              "27    부산일TOT 동남아시아      3          1    \n",
              "28    부산일TOT 동남아시아      1          1    \n",
              "29    없음      동남아시아      14         4    \n",
              "30    울산일TOT 북아메리카      2          2    \n",
              "⋮     ⋮         ⋮               ⋮          ⋮    \n",
              "15407 없음      동아시아        5          3    \n",
              "15408 없음      동아시아        2          3    \n",
              "15409 제주일TOT 북아메리카      4          1    \n",
              "15410 없음      동아시아        1          3    \n",
              "15411 없음      동아시아        2          3    \n",
              "15412 강원일TOT 동아시아        7          3    \n",
              "15413 경남일TOT 기타            14         4    \n",
              "15414 없음      동아시아        2          4    \n",
              "15415 없음      동아시아        2          3    \n",
              "15416 서울일TOT 동남아시아      2          3    \n",
              "15417 없음      기타            2          4    \n",
              "15418 없음      기타            14         4    \n",
              "15419 경기일TOT 북아메리카      11         1    \n",
              "15420 없음      기타            4          4    \n",
              "15421 없음      오세아니아,중동 6          4    \n",
              "15422 부산일TOT 기타            1          4    \n",
              "15423 없음      유럽            2          4    \n",
              "15424 경남일TOT 기타            2          1    \n",
              "15425 부산일TOT 기타            4          1    \n",
              "15426 없음      동아시아        3          3    \n",
              "15427 없음      동아시아        3          3    \n",
              "15428 없음      동아시아        3          3    \n",
              "15429 부산일TOT 유럽            6          1    \n",
              "15430 부산일TOT 동남아시아      4          1    \n",
              "15431 경북일TOT 북아메리카      3          2    \n",
              "15432 인천일TOT 북아메리카      14         4    \n",
              "15433 없음      동아시아        3          3    \n",
              "15434 없음      동아시아        2          3    \n",
              "15435 없음      유럽            14         4    \n",
              "15436 부산일TOT 유럽            4          1    "
            ]
          },
          "metadata": {},
          "output_type": "display_data"
        }
      ],
      "source": [
        "tourism"
      ]
    },
    {
      "cell_type": "code",
      "execution_count": 23,
      "metadata": {
        "id": "Edbu1ZB-MtLY",
        "vscode": {
          "languageId": "r"
        }
      },
      "outputs": [],
      "source": []
    }
  ],
  "metadata": {
    "colab": {
      "provenance": []
    },
    "kernelspec": {
      "display_name": "R",
      "name": "ir"
    },
    "language_info": {
      "name": "R"
    }
  },
  "nbformat": 4,
  "nbformat_minor": 0
}
