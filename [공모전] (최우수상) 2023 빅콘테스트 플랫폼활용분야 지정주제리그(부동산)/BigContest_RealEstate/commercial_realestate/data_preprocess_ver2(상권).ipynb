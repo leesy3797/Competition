{
 "cells": [
  {
   "cell_type": "code",
   "execution_count": null,
   "metadata": {
    "colab": {
     "base_uri": "https://localhost:8080/"
    },
    "executionInfo": {
     "elapsed": 20629,
     "status": "ok",
     "timestamp": 1695293094059,
     "user": {
      "displayName": "Rachel Lee",
      "userId": "18230890083877121646"
     },
     "user_tz": -540
    },
    "id": "Aezb4cn9VjVP",
    "outputId": "96d08b08-9000-49e8-e356-617604c703ee"
   },
   "outputs": [
    {
     "name": "stdout",
     "output_type": "stream",
     "text": [
      "Mounted at /content/drive\n"
     ]
    }
   ],
   "source": [
    "from google.colab import drive\n",
    "drive.mount('/content/drive')\n",
    "import pandas as pd\n",
    "import numpy as np"
   ]
  },
  {
   "cell_type": "code",
   "execution_count": null,
   "metadata": {
    "colab": {
     "base_uri": "https://localhost:8080/"
    },
    "executionInfo": {
     "elapsed": 3380,
     "status": "ok",
     "timestamp": 1695293704128,
     "user": {
      "displayName": "Rachel Lee",
      "userId": "18230890083877121646"
     },
     "user_tz": -540
    },
    "id": "0ejV0HMvV03X",
    "outputId": "6591819b-4db1-411c-fcb3-fb1c3a72f336"
   },
   "outputs": [
    {
     "name": "stderr",
     "output_type": "stream",
     "text": [
      "<ipython-input-8-c1fcd09266c7>:3: DtypeWarning: Columns (5) have mixed types. Specify dtype option on import or set low_memory=False.\n",
      "  df_추정매출 = pd.read_csv('/content/drive/MyDrive/ML프로젝트_우리사이/테스트 데이터/서울시 상권분석/Copy of 서울시 상권분석서비스(상권-추정매출).csv',encoding='CP949')\n"
     ]
    }
   ],
   "source": [
    "\n"
   ]
  },
  {
   "cell_type": "markdown",
   "metadata": {
    "id": "MRHeAEacXfxH"
   },
   "source": [
    "### 상권영역"
   ]
  },
  {
   "cell_type": "code",
   "execution_count": null,
   "metadata": {
    "id": "L5nzk3ANXnA7"
   },
   "outputs": [],
   "source": []
  },
  {
   "cell_type": "code",
   "execution_count": null,
   "metadata": {
    "id": "8VwaKeBZXubr"
   },
   "outputs": [],
   "source": [
    "# 상권구역 컬럼 정리\n",
    "상권구역.columns= ['기준_년_코드', '상권_구분_코드', '상권_구분_코드_명', '상권_코드', '상권_코드_명', '엑스좌표_값',\n",
    "        '와이좌표_값', '시군구_코드', '행정동_코드', '형태정보']"
   ]
  },
  {
   "cell_type": "markdown",
   "metadata": {
    "id": "LOA8pf08Ywni"
   },
   "source": [
    "### 직장인구\n"
   ]
  },
  {
   "cell_type": "code",
   "execution_count": null,
   "metadata": {
    "id": "qI_D213QY7gd"
   },
   "outputs": [],
   "source": [
    "# 직장인구 데이터 컬럼 정리 (필요한 데이터만 추출)\n",
    "직장인 = df_직장인구.drop(['연령대_10_직장_인구_수',\n",
    "        '연령대_20_직장_인구_수', '연령대_30_직장_인구_수', '연령대_40_직장_인구_수', '연령대_50_직장_인구_수',\n",
    "        '연령대_60_이상_직장_인구_수', '남성연령대_10_직장_인구_수', '남성연령대_20_직장_인구_수',\n",
    "        '남성연령대_30_직장_인구_수', '남성연령대_40_직장_인구_수', '남성연령대_50_직장_인구_수',\n",
    "        '남성연령대_60_이상_직장_인구_수', '여성연령대_10_직장_인구_수', '여성연령대_20_직장_인구_수',\n",
    "        '여성연령대_30_직장_인구_수', '여성연령대_40_직장_인구_수', '여성연령대_50_직장_인구_수',\n",
    "        '여성연령대_60_이상_직장_인구_수'],axis=1)\n"
   ]
  },
  {
   "cell_type": "code",
   "execution_count": null,
   "metadata": {
    "id": "gWDvJ7_0ZZAE"
   },
   "outputs": [],
   "source": [
    "\n",
    "찐직장인.columns = ['기준_년_코드', '기준_분기_코드', '상권_구분_코드', '상권_구분_코드_명', '상권_코드', '상권_코드_명',\n",
    "        '총_직장_인구_수', '남성_직장_인구_수', '여성_직장_인구_수']"
   ]
  },
  {
   "cell_type": "markdown",
   "metadata": {
    "id": "ulEDBdRmaAFP"
   },
   "source": [
    "### 점포"
   ]
  },
  {
   "cell_type": "code",
   "execution_count": null,
   "metadata": {
    "id": "vsFp0T6AaDL7"
   },
   "outputs": [],
   "source": []
  },
  {
   "cell_type": "markdown",
   "metadata": {
    "id": "LCvmVoOzaVA1"
   },
   "source": [
    "### 추정매출"
   ]
  },
  {
   "cell_type": "code",
   "execution_count": null,
   "metadata": {
    "id": "rQJpW1QbaYwC"
   },
   "outputs": [],
   "source": [
    "추정매출 = df_추정매출.drop(['월요일_매출_비율', '화요일_매출_비율', '수요일_매출_비율', '목요일_매출_비율',\n",
    "        '금요일_매출_비율', '토요일_매출_비율', '일요일_매출_비율', '시간대_00~06_매출_비율',\n",
    "        '시간대_06~11_매출_비율', '시간대_11~14_매출_비율', '시간대_14~17_매출_비율',\n",
    "        '시간대_17~21_매출_비율', '시간대_21~24_매출_비율', '남성_매출_비율', '여성_매출_비율',\n",
    "        '연령대_10_매출_비율', '연령대_20_매출_비율', '연령대_30_매출_비율', '연령대_40_매출_비율',\n",
    "        '연령대_50_매출_비율', '연령대_60_이상_매출_비율', '주중_매출_금액', '주말_매출_금액', '월요일_매출_금액',\n",
    "        '화요일_매출_금액', '수요일_매출_금액', '목요일_매출_금액', '금요일_매출_금액', '토요일_매출_금액',\n",
    "        '일요일_매출_금액', '시간대_00~06_매출_금액', '시간대_06~11_매출_금액', '시간대_11~14_매출_금액',\n",
    "        '시간대_14~17_매출_금액', '시간대_17~21_매출_금액', '시간대_21~24_매출_금액', '남성_매출_금액',\n",
    "        '여성_매출_금액', '연령대_10_매출_금액', '연령대_20_매출_금액', '연령대_30_매출_금액',\n",
    "        '연령대_40_매출_금액', '연령대_50_매출_금액', '연령대_60_이상_매출_금액', '주중_매출_건수',\n",
    "        '주말_매출_건수', '월요일_매출_건수', '화요일_매출_건수', '수요일_매출_건수', '목요일_매출_건수',\n",
    "        '금요일_매출_건수', '토요일_매출_건수', '일요일_매출_건수', '시간대_건수~06_매출_건수',\n",
    "        '시간대_건수~11_매출_건수', '시간대_건수~14_매출_건수', '시간대_건수~17_매출_건수',\n",
    "        '시간대_건수~21_매출_건수', '시간대_건수~24_매출_건수', '남성_매출_건수', '여성_매출_건수',\n",
    "        '연령대_10_매출_건수', '연령대_20_매출_건수', '연령대_30_매출_건수', '연령대_40_매출_건수',\n",
    "        '연령대_50_매출_건수', '연령대_60_이상_매출_건수'],axis=1)\n",
    "\n",
    "\n"
   ]
  },
  {
   "cell_type": "markdown",
   "metadata": {
    "id": "lK4EcadHbdUi"
   },
   "source": [
    "### 직장인 + 추정매출"
   ]
  },
  {
   "cell_type": "code",
   "execution_count": null,
   "metadata": {
    "id": "uvpqmMLUblZ8"
   },
   "outputs": [],
   "source": [
    "merge1 = 찐추정매출.merge(찐직장인, how = 'outer', on = ['기준_년_코드', '기준_분기_코드','상권_코드'] )"
   ]
  },
  {
   "cell_type": "markdown",
   "metadata": {
    "id": "DQQHOzi3dFzB"
   },
   "source": [
    "###  + 점포"
   ]
  },
  {
   "cell_type": "code",
   "execution_count": null,
   "metadata": {
    "id": "OyCPRn-rbo3L"
   },
   "outputs": [],
   "source": [
    "merge2 = merge1.merge(찐점포, how = 'outer', on = ['기준_년_코드', '기준_분기_코드','상권_코드'] )"
   ]
  },
  {
   "cell_type": "code",
   "execution_count": null,
   "metadata": {
    "colab": {
     "base_uri": "https://localhost:8080/",
     "height": 684
    },
    "executionInfo": {
     "elapsed": 1008,
     "status": "ok",
     "timestamp": 1695295276794,
     "user": {
      "displayName": "Rachel Lee",
      "userId": "18230890083877121646"
     },
     "user_tz": -540
    },
    "id": "_avVfOKXd5ra",
    "outputId": "8e8db136-eb90-4a7c-9323-484d12ba0f9b"
   },
   "outputs": [
    {
     "name": "stderr",
     "output_type": "stream",
     "text": [
      "<ipython-input-20-cee7ac3790ce>:1: FutureWarning: The default value of numeric_only in DataFrameGroupBy.mean is deprecated. In a future version, numeric_only will default to False. Either specify numeric_only or select only columns which should be valid for the function.\n",
      "  merge2.groupby(['기준_분기_코드', '상권_코드']).mean()\n"
     ]
    },
    {
     "data": {
      "text/html": [
       "\n",
       "  <div id=\"df-a229d137-7f52-4393-9235-c1bfc6f2bfff\" class=\"colab-df-container\">\n",
       "    <div>\n",
       "<style scoped>\n",
       "    .dataframe tbody tr th:only-of-type {\n",
       "        vertical-align: middle;\n",
       "    }\n",
       "\n",
       "    .dataframe tbody tr th {\n",
       "        vertical-align: top;\n",
       "    }\n",
       "\n",
       "    .dataframe thead th {\n",
       "        text-align: right;\n",
       "    }\n",
       "</style>\n",
       "<table border=\"1\" class=\"dataframe\">\n",
       "  <thead>\n",
       "    <tr style=\"text-align: right;\">\n",
       "      <th></th>\n",
       "      <th></th>\n",
       "      <th>기준_년_코드</th>\n",
       "      <th>분기당_매출_금액</th>\n",
       "      <th>분기당_매출_건수</th>\n",
       "      <th>주중_매출_비율</th>\n",
       "      <th>주말_매출_비율</th>\n",
       "      <th>총_직장_인구_수</th>\n",
       "      <th>남성_직장_인구_수</th>\n",
       "      <th>여성_직장_인구_수</th>\n",
       "      <th>점포_수</th>\n",
       "      <th>유사_업종_점포_수</th>\n",
       "      <th>개업_율</th>\n",
       "      <th>개업_점포_수</th>\n",
       "      <th>폐업_률</th>\n",
       "      <th>폐업_점포_수</th>\n",
       "      <th>프랜차이즈_점포_수</th>\n",
       "    </tr>\n",
       "    <tr>\n",
       "      <th>기준_분기_코드</th>\n",
       "      <th>상권_코드</th>\n",
       "      <th></th>\n",
       "      <th></th>\n",
       "      <th></th>\n",
       "      <th></th>\n",
       "      <th></th>\n",
       "      <th></th>\n",
       "      <th></th>\n",
       "      <th></th>\n",
       "      <th></th>\n",
       "      <th></th>\n",
       "      <th></th>\n",
       "      <th></th>\n",
       "      <th></th>\n",
       "      <th></th>\n",
       "      <th></th>\n",
       "    </tr>\n",
       "  </thead>\n",
       "  <tbody>\n",
       "    <tr>\n",
       "      <th rowspan=\"5\" valign=\"top\">1</th>\n",
       "      <th>1001491</th>\n",
       "      <td>2022.0</td>\n",
       "      <td>1.829545e+09</td>\n",
       "      <td>62099.955556</td>\n",
       "      <td>72.222222</td>\n",
       "      <td>27.800000</td>\n",
       "      <td>5839.0</td>\n",
       "      <td>3064.0</td>\n",
       "      <td>2775.0</td>\n",
       "      <td>20.228916</td>\n",
       "      <td>21.180723</td>\n",
       "      <td>3.337349</td>\n",
       "      <td>0.566265</td>\n",
       "      <td>1.614458</td>\n",
       "      <td>0.192771</td>\n",
       "      <td>0.951807</td>\n",
       "    </tr>\n",
       "    <tr>\n",
       "      <th>1001492</th>\n",
       "      <td>2022.0</td>\n",
       "      <td>5.529743e+09</td>\n",
       "      <td>203440.964912</td>\n",
       "      <td>81.929825</td>\n",
       "      <td>18.140351</td>\n",
       "      <td>104830.0</td>\n",
       "      <td>53674.0</td>\n",
       "      <td>51156.0</td>\n",
       "      <td>88.408602</td>\n",
       "      <td>94.806452</td>\n",
       "      <td>0.838710</td>\n",
       "      <td>0.795699</td>\n",
       "      <td>1.473118</td>\n",
       "      <td>0.946237</td>\n",
       "      <td>6.397849</td>\n",
       "    </tr>\n",
       "    <tr>\n",
       "      <th>1001493</th>\n",
       "      <td>2022.0</td>\n",
       "      <td>3.992969e+09</td>\n",
       "      <td>145743.863636</td>\n",
       "      <td>75.318182</td>\n",
       "      <td>24.795455</td>\n",
       "      <td>6054.0</td>\n",
       "      <td>2958.0</td>\n",
       "      <td>3096.0</td>\n",
       "      <td>135.931034</td>\n",
       "      <td>138.149425</td>\n",
       "      <td>2.172414</td>\n",
       "      <td>0.712644</td>\n",
       "      <td>0.747126</td>\n",
       "      <td>1.632184</td>\n",
       "      <td>2.218391</td>\n",
       "    </tr>\n",
       "    <tr>\n",
       "      <th>1001494</th>\n",
       "      <td>2022.0</td>\n",
       "      <td>3.815308e+09</td>\n",
       "      <td>100816.839286</td>\n",
       "      <td>80.571429</td>\n",
       "      <td>19.535714</td>\n",
       "      <td>32935.0</td>\n",
       "      <td>17150.0</td>\n",
       "      <td>15785.0</td>\n",
       "      <td>54.815217</td>\n",
       "      <td>57.239130</td>\n",
       "      <td>0.652174</td>\n",
       "      <td>0.586957</td>\n",
       "      <td>0.804348</td>\n",
       "      <td>0.554348</td>\n",
       "      <td>2.423913</td>\n",
       "    </tr>\n",
       "    <tr>\n",
       "      <th>1001495</th>\n",
       "      <td>2022.0</td>\n",
       "      <td>2.029947e+09</td>\n",
       "      <td>98633.428571</td>\n",
       "      <td>70.857143</td>\n",
       "      <td>29.238095</td>\n",
       "      <td>24375.0</td>\n",
       "      <td>14199.0</td>\n",
       "      <td>10176.0</td>\n",
       "      <td>24.450549</td>\n",
       "      <td>27.032967</td>\n",
       "      <td>1.505495</td>\n",
       "      <td>0.428571</td>\n",
       "      <td>1.538462</td>\n",
       "      <td>0.384615</td>\n",
       "      <td>2.582418</td>\n",
       "    </tr>\n",
       "    <tr>\n",
       "      <th>...</th>\n",
       "      <th>...</th>\n",
       "      <td>...</td>\n",
       "      <td>...</td>\n",
       "      <td>...</td>\n",
       "      <td>...</td>\n",
       "      <td>...</td>\n",
       "      <td>...</td>\n",
       "      <td>...</td>\n",
       "      <td>...</td>\n",
       "      <td>...</td>\n",
       "      <td>...</td>\n",
       "      <td>...</td>\n",
       "      <td>...</td>\n",
       "      <td>...</td>\n",
       "      <td>...</td>\n",
       "      <td>...</td>\n",
       "    </tr>\n",
       "    <tr>\n",
       "      <th rowspan=\"5\" valign=\"top\">4</th>\n",
       "      <th>2130322</th>\n",
       "      <td>2022.0</td>\n",
       "      <td>1.629318e+08</td>\n",
       "      <td>8404.600000</td>\n",
       "      <td>72.440000</td>\n",
       "      <td>27.720000</td>\n",
       "      <td>8.0</td>\n",
       "      <td>5.0</td>\n",
       "      <td>3.0</td>\n",
       "      <td>3.219512</td>\n",
       "      <td>3.341463</td>\n",
       "      <td>1.487805</td>\n",
       "      <td>0.073171</td>\n",
       "      <td>2.048780</td>\n",
       "      <td>0.097561</td>\n",
       "      <td>0.121951</td>\n",
       "    </tr>\n",
       "    <tr>\n",
       "      <th>2130323</th>\n",
       "      <td>2022.0</td>\n",
       "      <td>4.670885e+08</td>\n",
       "      <td>19232.517241</td>\n",
       "      <td>70.931034</td>\n",
       "      <td>29.241379</td>\n",
       "      <td>171.0</td>\n",
       "      <td>86.0</td>\n",
       "      <td>85.0</td>\n",
       "      <td>4.545455</td>\n",
       "      <td>4.840909</td>\n",
       "      <td>2.454545</td>\n",
       "      <td>0.113636</td>\n",
       "      <td>1.181818</td>\n",
       "      <td>0.045455</td>\n",
       "      <td>0.295455</td>\n",
       "    </tr>\n",
       "    <tr>\n",
       "      <th>2130324</th>\n",
       "      <td>2022.0</td>\n",
       "      <td>2.173042e+08</td>\n",
       "      <td>10353.296296</td>\n",
       "      <td>74.111111</td>\n",
       "      <td>25.925926</td>\n",
       "      <td>154.0</td>\n",
       "      <td>85.0</td>\n",
       "      <td>69.0</td>\n",
       "      <td>2.888889</td>\n",
       "      <td>3.000000</td>\n",
       "      <td>3.466667</td>\n",
       "      <td>0.088889</td>\n",
       "      <td>2.400000</td>\n",
       "      <td>0.111111</td>\n",
       "      <td>0.111111</td>\n",
       "    </tr>\n",
       "    <tr>\n",
       "      <th>2130325</th>\n",
       "      <td>2022.0</td>\n",
       "      <td>3.209493e+08</td>\n",
       "      <td>15874.250000</td>\n",
       "      <td>75.312500</td>\n",
       "      <td>24.937500</td>\n",
       "      <td>89.0</td>\n",
       "      <td>30.0</td>\n",
       "      <td>59.0</td>\n",
       "      <td>3.032258</td>\n",
       "      <td>3.129032</td>\n",
       "      <td>2.419355</td>\n",
       "      <td>0.064516</td>\n",
       "      <td>4.709677</td>\n",
       "      <td>0.096774</td>\n",
       "      <td>0.096774</td>\n",
       "    </tr>\n",
       "    <tr>\n",
       "      <th>2130326</th>\n",
       "      <td>2022.0</td>\n",
       "      <td>6.212800e+08</td>\n",
       "      <td>36537.160000</td>\n",
       "      <td>68.680000</td>\n",
       "      <td>31.320000</td>\n",
       "      <td>935.0</td>\n",
       "      <td>850.0</td>\n",
       "      <td>85.0</td>\n",
       "      <td>2.627451</td>\n",
       "      <td>3.078431</td>\n",
       "      <td>4.392157</td>\n",
       "      <td>0.215686</td>\n",
       "      <td>0.686275</td>\n",
       "      <td>0.058824</td>\n",
       "      <td>0.450980</td>\n",
       "    </tr>\n",
       "  </tbody>\n",
       "</table>\n",
       "<p>6668 rows × 15 columns</p>\n",
       "</div>\n",
       "    <div class=\"colab-df-buttons\">\n",
       "\n",
       "  <div class=\"colab-df-container\">\n",
       "    <button class=\"colab-df-convert\" onclick=\"convertToInteractive('df-a229d137-7f52-4393-9235-c1bfc6f2bfff')\"\n",
       "            title=\"Convert this dataframe to an interactive table.\"\n",
       "            style=\"display:none;\">\n",
       "\n",
       "  <svg xmlns=\"http://www.w3.org/2000/svg\" height=\"24px\" viewBox=\"0 -960 960 960\">\n",
       "    <path d=\"M120-120v-720h720v720H120Zm60-500h600v-160H180v160Zm220 220h160v-160H400v160Zm0 220h160v-160H400v160ZM180-400h160v-160H180v160Zm440 0h160v-160H620v160ZM180-180h160v-160H180v160Zm440 0h160v-160H620v160Z\"/>\n",
       "  </svg>\n",
       "    </button>\n",
       "\n",
       "  <style>\n",
       "    .colab-df-container {\n",
       "      display:flex;\n",
       "      gap: 12px;\n",
       "    }\n",
       "\n",
       "    .colab-df-convert {\n",
       "      background-color: #E8F0FE;\n",
       "      border: none;\n",
       "      border-radius: 50%;\n",
       "      cursor: pointer;\n",
       "      display: none;\n",
       "      fill: #1967D2;\n",
       "      height: 32px;\n",
       "      padding: 0 0 0 0;\n",
       "      width: 32px;\n",
       "    }\n",
       "\n",
       "    .colab-df-convert:hover {\n",
       "      background-color: #E2EBFA;\n",
       "      box-shadow: 0px 1px 2px rgba(60, 64, 67, 0.3), 0px 1px 3px 1px rgba(60, 64, 67, 0.15);\n",
       "      fill: #174EA6;\n",
       "    }\n",
       "\n",
       "    .colab-df-buttons div {\n",
       "      margin-bottom: 4px;\n",
       "    }\n",
       "\n",
       "    [theme=dark] .colab-df-convert {\n",
       "      background-color: #3B4455;\n",
       "      fill: #D2E3FC;\n",
       "    }\n",
       "\n",
       "    [theme=dark] .colab-df-convert:hover {\n",
       "      background-color: #434B5C;\n",
       "      box-shadow: 0px 1px 3px 1px rgba(0, 0, 0, 0.15);\n",
       "      filter: drop-shadow(0px 1px 2px rgba(0, 0, 0, 0.3));\n",
       "      fill: #FFFFFF;\n",
       "    }\n",
       "  </style>\n",
       "\n",
       "    <script>\n",
       "      const buttonEl =\n",
       "        document.querySelector('#df-a229d137-7f52-4393-9235-c1bfc6f2bfff button.colab-df-convert');\n",
       "      buttonEl.style.display =\n",
       "        google.colab.kernel.accessAllowed ? 'block' : 'none';\n",
       "\n",
       "      async function convertToInteractive(key) {\n",
       "        const element = document.querySelector('#df-a229d137-7f52-4393-9235-c1bfc6f2bfff');\n",
       "        const dataTable =\n",
       "          await google.colab.kernel.invokeFunction('convertToInteractive',\n",
       "                                                    [key], {});\n",
       "        if (!dataTable) return;\n",
       "\n",
       "        const docLinkHtml = 'Like what you see? Visit the ' +\n",
       "          '<a target=\"_blank\" href=https://colab.research.google.com/notebooks/data_table.ipynb>data table notebook</a>'\n",
       "          + ' to learn more about interactive tables.';\n",
       "        element.innerHTML = '';\n",
       "        dataTable['output_type'] = 'display_data';\n",
       "        await google.colab.output.renderOutput(dataTable, element);\n",
       "        const docLink = document.createElement('div');\n",
       "        docLink.innerHTML = docLinkHtml;\n",
       "        element.appendChild(docLink);\n",
       "      }\n",
       "    </script>\n",
       "  </div>\n",
       "\n",
       "\n",
       "<div id=\"df-505a6a98-025f-4867-8d86-5f4a13bd29ef\">\n",
       "  <button class=\"colab-df-quickchart\" onclick=\"quickchart('df-505a6a98-025f-4867-8d86-5f4a13bd29ef')\"\n",
       "            title=\"Suggest charts.\"\n",
       "            style=\"display:none;\">\n",
       "\n",
       "<svg xmlns=\"http://www.w3.org/2000/svg\" height=\"24px\"viewBox=\"0 0 24 24\"\n",
       "     width=\"24px\">\n",
       "    <g>\n",
       "        <path d=\"M19 3H5c-1.1 0-2 .9-2 2v14c0 1.1.9 2 2 2h14c1.1 0 2-.9 2-2V5c0-1.1-.9-2-2-2zM9 17H7v-7h2v7zm4 0h-2V7h2v10zm4 0h-2v-4h2v4z\"/>\n",
       "    </g>\n",
       "</svg>\n",
       "  </button>\n",
       "\n",
       "<style>\n",
       "  .colab-df-quickchart {\n",
       "      --bg-color: #E8F0FE;\n",
       "      --fill-color: #1967D2;\n",
       "      --hover-bg-color: #E2EBFA;\n",
       "      --hover-fill-color: #174EA6;\n",
       "      --disabled-fill-color: #AAA;\n",
       "      --disabled-bg-color: #DDD;\n",
       "  }\n",
       "\n",
       "  [theme=dark] .colab-df-quickchart {\n",
       "      --bg-color: #3B4455;\n",
       "      --fill-color: #D2E3FC;\n",
       "      --hover-bg-color: #434B5C;\n",
       "      --hover-fill-color: #FFFFFF;\n",
       "      --disabled-bg-color: #3B4455;\n",
       "      --disabled-fill-color: #666;\n",
       "  }\n",
       "\n",
       "  .colab-df-quickchart {\n",
       "    background-color: var(--bg-color);\n",
       "    border: none;\n",
       "    border-radius: 50%;\n",
       "    cursor: pointer;\n",
       "    display: none;\n",
       "    fill: var(--fill-color);\n",
       "    height: 32px;\n",
       "    padding: 0;\n",
       "    width: 32px;\n",
       "  }\n",
       "\n",
       "  .colab-df-quickchart:hover {\n",
       "    background-color: var(--hover-bg-color);\n",
       "    box-shadow: 0 1px 2px rgba(60, 64, 67, 0.3), 0 1px 3px 1px rgba(60, 64, 67, 0.15);\n",
       "    fill: var(--button-hover-fill-color);\n",
       "  }\n",
       "\n",
       "  .colab-df-quickchart-complete:disabled,\n",
       "  .colab-df-quickchart-complete:disabled:hover {\n",
       "    background-color: var(--disabled-bg-color);\n",
       "    fill: var(--disabled-fill-color);\n",
       "    box-shadow: none;\n",
       "  }\n",
       "\n",
       "  .colab-df-spinner {\n",
       "    border: 2px solid var(--fill-color);\n",
       "    border-color: transparent;\n",
       "    border-bottom-color: var(--fill-color);\n",
       "    animation:\n",
       "      spin 1s steps(1) infinite;\n",
       "  }\n",
       "\n",
       "  @keyframes spin {\n",
       "    0% {\n",
       "      border-color: transparent;\n",
       "      border-bottom-color: var(--fill-color);\n",
       "      border-left-color: var(--fill-color);\n",
       "    }\n",
       "    20% {\n",
       "      border-color: transparent;\n",
       "      border-left-color: var(--fill-color);\n",
       "      border-top-color: var(--fill-color);\n",
       "    }\n",
       "    30% {\n",
       "      border-color: transparent;\n",
       "      border-left-color: var(--fill-color);\n",
       "      border-top-color: var(--fill-color);\n",
       "      border-right-color: var(--fill-color);\n",
       "    }\n",
       "    40% {\n",
       "      border-color: transparent;\n",
       "      border-right-color: var(--fill-color);\n",
       "      border-top-color: var(--fill-color);\n",
       "    }\n",
       "    60% {\n",
       "      border-color: transparent;\n",
       "      border-right-color: var(--fill-color);\n",
       "    }\n",
       "    80% {\n",
       "      border-color: transparent;\n",
       "      border-right-color: var(--fill-color);\n",
       "      border-bottom-color: var(--fill-color);\n",
       "    }\n",
       "    90% {\n",
       "      border-color: transparent;\n",
       "      border-bottom-color: var(--fill-color);\n",
       "    }\n",
       "  }\n",
       "</style>\n",
       "\n",
       "  <script>\n",
       "    async function quickchart(key) {\n",
       "      const quickchartButtonEl =\n",
       "        document.querySelector('#' + key + ' button');\n",
       "      quickchartButtonEl.disabled = true;  // To prevent multiple clicks.\n",
       "      quickchartButtonEl.classList.add('colab-df-spinner');\n",
       "      try {\n",
       "        const charts = await google.colab.kernel.invokeFunction(\n",
       "            'suggestCharts', [key], {});\n",
       "      } catch (error) {\n",
       "        console.error('Error during call to suggestCharts:', error);\n",
       "      }\n",
       "      quickchartButtonEl.classList.remove('colab-df-spinner');\n",
       "      quickchartButtonEl.classList.add('colab-df-quickchart-complete');\n",
       "    }\n",
       "    (() => {\n",
       "      let quickchartButtonEl =\n",
       "        document.querySelector('#df-505a6a98-025f-4867-8d86-5f4a13bd29ef button');\n",
       "      quickchartButtonEl.style.display =\n",
       "        google.colab.kernel.accessAllowed ? 'block' : 'none';\n",
       "    })();\n",
       "  </script>\n",
       "</div>\n",
       "    </div>\n",
       "  </div>\n"
      ],
      "text/plain": [
       "                  기준_년_코드     분기당_매출_금액      분기당_매출_건수   주중_매출_비율   주말_매출_비율  \\\n",
       "기준_분기_코드 상권_코드                                                                 \n",
       "1        1001491   2022.0  1.829545e+09   62099.955556  72.222222  27.800000   \n",
       "         1001492   2022.0  5.529743e+09  203440.964912  81.929825  18.140351   \n",
       "         1001493   2022.0  3.992969e+09  145743.863636  75.318182  24.795455   \n",
       "         1001494   2022.0  3.815308e+09  100816.839286  80.571429  19.535714   \n",
       "         1001495   2022.0  2.029947e+09   98633.428571  70.857143  29.238095   \n",
       "...                   ...           ...            ...        ...        ...   \n",
       "4        2130322   2022.0  1.629318e+08    8404.600000  72.440000  27.720000   \n",
       "         2130323   2022.0  4.670885e+08   19232.517241  70.931034  29.241379   \n",
       "         2130324   2022.0  2.173042e+08   10353.296296  74.111111  25.925926   \n",
       "         2130325   2022.0  3.209493e+08   15874.250000  75.312500  24.937500   \n",
       "         2130326   2022.0  6.212800e+08   36537.160000  68.680000  31.320000   \n",
       "\n",
       "                  총_직장_인구_수  남성_직장_인구_수  여성_직장_인구_수        점포_수  유사_업종_점포_수  \\\n",
       "기준_분기_코드 상권_코드                                                                \n",
       "1        1001491     5839.0      3064.0      2775.0   20.228916   21.180723   \n",
       "         1001492   104830.0     53674.0     51156.0   88.408602   94.806452   \n",
       "         1001493     6054.0      2958.0      3096.0  135.931034  138.149425   \n",
       "         1001494    32935.0     17150.0     15785.0   54.815217   57.239130   \n",
       "         1001495    24375.0     14199.0     10176.0   24.450549   27.032967   \n",
       "...                     ...         ...         ...         ...         ...   \n",
       "4        2130322        8.0         5.0         3.0    3.219512    3.341463   \n",
       "         2130323      171.0        86.0        85.0    4.545455    4.840909   \n",
       "         2130324      154.0        85.0        69.0    2.888889    3.000000   \n",
       "         2130325       89.0        30.0        59.0    3.032258    3.129032   \n",
       "         2130326      935.0       850.0        85.0    2.627451    3.078431   \n",
       "\n",
       "                      개업_율   개업_점포_수      폐업_률   폐업_점포_수  프랜차이즈_점포_수  \n",
       "기준_분기_코드 상권_코드                                                        \n",
       "1        1001491  3.337349  0.566265  1.614458  0.192771    0.951807  \n",
       "         1001492  0.838710  0.795699  1.473118  0.946237    6.397849  \n",
       "         1001493  2.172414  0.712644  0.747126  1.632184    2.218391  \n",
       "         1001494  0.652174  0.586957  0.804348  0.554348    2.423913  \n",
       "         1001495  1.505495  0.428571  1.538462  0.384615    2.582418  \n",
       "...                    ...       ...       ...       ...         ...  \n",
       "4        2130322  1.487805  0.073171  2.048780  0.097561    0.121951  \n",
       "         2130323  2.454545  0.113636  1.181818  0.045455    0.295455  \n",
       "         2130324  3.466667  0.088889  2.400000  0.111111    0.111111  \n",
       "         2130325  2.419355  0.064516  4.709677  0.096774    0.096774  \n",
       "         2130326  4.392157  0.215686  0.686275  0.058824    0.450980  \n",
       "\n",
       "[6668 rows x 15 columns]"
      ]
     },
     "execution_count": 20,
     "metadata": {},
     "output_type": "execute_result"
    }
   ],
   "source": [
    "merge2.groupby(['기준_분기_코드', '상권_코드']).mean()"
   ]
  },
  {
   "cell_type": "code",
   "execution_count": null,
   "metadata": {
    "colab": {
     "base_uri": "https://localhost:8080/"
    },
    "executionInfo": {
     "elapsed": 11,
     "status": "ok",
     "timestamp": 1695295318272,
     "user": {
      "displayName": "Rachel Lee",
      "userId": "18230890083877121646"
     },
     "user_tz": -540
    },
    "id": "BVNySB24eDrk",
    "outputId": "7ea9716f-844b-48f3-915c-ed6d67fd4f4f"
   },
   "outputs": [
    {
     "data": {
      "text/plain": [
       "Index(['기준_년_코드', '기준_분기_코드', '상권_구분_코드_x', '상권_구분_코드_명_x', '상권_코드',\n",
       "       '상권_코드_명_x', '서비스_업종_코드_x', '서비스_업종_코드_명_x', '분기당_매출_금액', '분기당_매출_건수',\n",
       "       '주중_매출_비율', '주말_매출_비율', '점포수', '상권_구분_코드_y', '상권_구분_코드_명_y',\n",
       "       '상권_코드_명_y', '총_직장_인구_수', '남성_직장_인구_수', '여성_직장_인구_수', '상권_구분_코드',\n",
       "       '상권_구분_코드_명', '상권_코드_명', '서비스_업종_코드_y', '서비스_업종_코드_명_y', '점포_수',\n",
       "       '유사_업종_점포_수', '개업_율', '개업_점포_수', '폐업_률', '폐업_점포_수', '프랜차이즈_점포_수'],\n",
       "      dtype='object')"
      ]
     },
     "execution_count": 21,
     "metadata": {},
     "output_type": "execute_result"
    }
   ],
   "source": [
    "merge2.columns"
   ]
  },
  {
   "cell_type": "code",
   "execution_count": null,
   "metadata": {
    "id": "rBRe7mJVeaS0"
   },
   "outputs": [],
   "source": [
    "final = merge2.drop(['상권_코드_명','상권_구분_코드_명', '상권_구분_코드',\n",
    "                        '상권_구분_코드_y','상권_구분_코드_명_y',\n",
    "                        '상권_코드_명_y','상권_구분_코드_y', '상권_구분_코드_명_y', '상권_코드_명_y'],axis=1)"
   ]
  },
  {
   "cell_type": "code",
   "execution_count": null,
   "metadata": {
    "id": "OU_bu_-Ue0CE"
   },
   "outputs": [],
   "source": []
  }
 ],
 "metadata": {
  "colab": {
   "authorship_tag": "ABX9TyP2mdCdplHmSbG9JAbsZyK8",
   "provenance": []
  },
  "kernelspec": {
   "display_name": "Python 3 (ipykernel)",
   "language": "python",
   "name": "python3"
  },
  "language_info": {
   "codemirror_mode": {
    "name": "ipython",
    "version": 3
   },
   "file_extension": ".py",
   "mimetype": "text/x-python",
   "name": "python",
   "nbconvert_exporter": "python",
   "pygments_lexer": "ipython3",
   "version": "3.10.11"
  }
 },
 "nbformat": 4,
 "nbformat_minor": 4
}
