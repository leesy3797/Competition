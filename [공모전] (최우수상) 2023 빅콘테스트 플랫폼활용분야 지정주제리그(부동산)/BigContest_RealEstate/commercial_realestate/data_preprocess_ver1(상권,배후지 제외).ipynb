{
 "cells": [
  {
   "cell_type": "markdown",
   "metadata": {
    "id": "ZQyKbr6JBXie"
   },
   "source": [
    "# [0] 모듈, 데이터 로드"
   ]
  },
  {
   "cell_type": "markdown",
   "metadata": {
    "id": "QupPyFc8HqnS"
   },
   "source": [
    "## [+] 서드파트 모듈 설치"
   ]
  },
  {
   "cell_type": "code",
   "execution_count": 2,
   "metadata": {
    "colab": {
     "base_uri": "https://localhost:8080/"
    },
    "executionInfo": {
     "elapsed": 8305,
     "status": "ok",
     "timestamp": 1694960727838,
     "user": {
      "displayName": "Rachel Lee",
      "userId": "18230890083877121646"
     },
     "user_tz": -540
    },
    "id": "WFdYVUwKqwHZ",
    "outputId": "4ee214e4-c6af-4be3-d424-49c916cfc2c3"
   },
   "outputs": [
    {
     "name": "stdout",
     "output_type": "stream",
     "text": [
      "Collecting PublicDataReader\n",
      "  Obtaining dependency information for PublicDataReader from https://files.pythonhosted.org/packages/61/04/b049757e92549e8124cb4ca2a2e9de5fecba1ddda6e9d9493ef5b4e51d19/PublicDataReader-1.0.25-py3-none-any.whl.metadata\n",
      "  Downloading PublicDataReader-1.0.25-py3-none-any.whl.metadata (10 kB)\n",
      "Requirement already satisfied: beautifulsoup4 in c:\\users\\nt551xcj\\appdata\\local\\programs\\python\\python310\\lib\\site-packages (from PublicDataReader) (4.12.2)\n",
      "Collecting lxml (from PublicDataReader)\n",
      "  Obtaining dependency information for lxml from https://files.pythonhosted.org/packages/50/ba/cb7bc9728a3be4e00dfd658fc76dc64fd9dbc3d5492ff44cda70574329c6/lxml-4.9.3-cp310-cp310-win_amd64.whl.metadata\n",
      "  Downloading lxml-4.9.3-cp310-cp310-win_amd64.whl.metadata (3.9 kB)\n",
      "Requirement already satisfied: numpy in c:\\users\\nt551xcj\\appdata\\local\\programs\\python\\python310\\lib\\site-packages (from PublicDataReader) (1.23.5)\n",
      "Requirement already satisfied: pandas in c:\\users\\nt551xcj\\appdata\\local\\programs\\python\\python310\\lib\\site-packages (from PublicDataReader) (1.5.3)\n",
      "Requirement already satisfied: requests in c:\\users\\nt551xcj\\appdata\\local\\programs\\python\\python310\\lib\\site-packages (from PublicDataReader) (2.31.0)\n",
      "Collecting xmltodict (from PublicDataReader)\n",
      "  Downloading xmltodict-0.13.0-py2.py3-none-any.whl (10.0 kB)\n",
      "Requirement already satisfied: soupsieve>1.2 in c:\\users\\nt551xcj\\appdata\\local\\programs\\python\\python310\\lib\\site-packages (from beautifulsoup4->PublicDataReader) (2.5)\n",
      "Requirement already satisfied: python-dateutil>=2.8.1 in c:\\users\\nt551xcj\\appdata\\roaming\\python\\python310\\site-packages (from pandas->PublicDataReader) (2.8.2)\n",
      "Requirement already satisfied: pytz>=2020.1 in c:\\users\\nt551xcj\\appdata\\local\\programs\\python\\python310\\lib\\site-packages (from pandas->PublicDataReader) (2023.3)\n",
      "Requirement already satisfied: charset-normalizer<4,>=2 in c:\\users\\nt551xcj\\appdata\\local\\programs\\python\\python310\\lib\\site-packages (from requests->PublicDataReader) (3.2.0)\n",
      "Requirement already satisfied: idna<4,>=2.5 in c:\\users\\nt551xcj\\appdata\\local\\programs\\python\\python310\\lib\\site-packages (from requests->PublicDataReader) (3.4)\n",
      "Requirement already satisfied: urllib3<3,>=1.21.1 in c:\\users\\nt551xcj\\appdata\\local\\programs\\python\\python310\\lib\\site-packages (from requests->PublicDataReader) (1.26.16)\n",
      "Requirement already satisfied: certifi>=2017.4.17 in c:\\users\\nt551xcj\\appdata\\local\\programs\\python\\python310\\lib\\site-packages (from requests->PublicDataReader) (2023.7.22)\n",
      "Requirement already satisfied: six>=1.5 in c:\\users\\nt551xcj\\appdata\\roaming\\python\\python310\\site-packages (from python-dateutil>=2.8.1->pandas->PublicDataReader) (1.16.0)\n",
      "Downloading PublicDataReader-1.0.25-py3-none-any.whl (3.2 MB)\n",
      "   ---------------------------------------- 0.0/3.2 MB ? eta -:--:--\n",
      "   --- ------------------------------------ 0.3/3.2 MB 8.3 MB/s eta 0:00:01\n",
      "   -------- ------------------------------- 0.7/3.2 MB 8.3 MB/s eta 0:00:01\n",
      "   ---------------- ----------------------- 1.3/3.2 MB 10.6 MB/s eta 0:00:01\n",
      "   ---------------- ----------------------- 1.3/3.2 MB 10.6 MB/s eta 0:00:01\n",
      "   ------------------ --------------------- 1.5/3.2 MB 6.3 MB/s eta 0:00:01\n",
      "   ----------------------- ---------------- 1.9/3.2 MB 7.2 MB/s eta 0:00:01\n",
      "   ----------------------------- ---------- 2.4/3.2 MB 7.5 MB/s eta 0:00:01\n",
      "   ------------------------------ --------- 2.4/3.2 MB 6.7 MB/s eta 0:00:01\n",
      "   --------------------------------- ------ 2.7/3.2 MB 6.8 MB/s eta 0:00:01\n",
      "   ---------------------------------- ----- 2.8/3.2 MB 6.1 MB/s eta 0:00:01\n",
      "   ---------------------------------------  3.2/3.2 MB 6.3 MB/s eta 0:00:01\n",
      "   ---------------------------------------- 3.2/3.2 MB 5.9 MB/s eta 0:00:00\n",
      "Downloading lxml-4.9.3-cp310-cp310-win_amd64.whl (3.8 MB)\n",
      "   ---------------------------------------- 0.0/3.8 MB ? eta -:--:--\n",
      "   ------ --------------------------------- 0.6/3.8 MB 12.4 MB/s eta 0:00:01\n",
      "   -------- ------------------------------- 0.8/3.8 MB 17.0 MB/s eta 0:00:01\n",
      "   -------- ------------------------------- 0.8/3.8 MB 6.6 MB/s eta 0:00:01\n",
      "   ------------- -------------------------- 1.3/3.8 MB 6.9 MB/s eta 0:00:01\n",
      "   -------------------- ------------------- 1.9/3.8 MB 7.6 MB/s eta 0:00:01\n",
      "   ---------------------- ----------------- 2.2/3.8 MB 8.1 MB/s eta 0:00:01\n",
      "   ---------------------- ----------------- 2.2/3.8 MB 8.1 MB/s eta 0:00:01\n",
      "   ---------------------- ----------------- 2.2/3.8 MB 8.1 MB/s eta 0:00:01\n",
      "   ---------------------- ----------------- 2.2/3.8 MB 8.1 MB/s eta 0:00:01\n",
      "   ---------------------- ----------------- 2.2/3.8 MB 8.1 MB/s eta 0:00:01\n",
      "   ---------------------- ----------------- 2.2/3.8 MB 8.1 MB/s eta 0:00:01\n",
      "   ---------------------- ----------------- 2.2/3.8 MB 8.1 MB/s eta 0:00:01\n",
      "   ---------------------- ----------------- 2.2/3.8 MB 8.1 MB/s eta 0:00:01\n",
      "   ---------------------- ----------------- 2.2/3.8 MB 8.1 MB/s eta 0:00:01\n",
      "   ---------------------- ----------------- 2.2/3.8 MB 8.1 MB/s eta 0:00:01\n",
      "   ------------------------- -------------- 2.4/3.8 MB 3.3 MB/s eta 0:00:01\n",
      "   ------------------------------- -------- 2.9/3.8 MB 3.8 MB/s eta 0:00:01\n",
      "   ------------------------------------- -- 3.5/3.8 MB 4.3 MB/s eta 0:00:01\n",
      "   ------------------------------------- -- 3.5/3.8 MB 4.3 MB/s eta 0:00:01\n",
      "   ------------------------------------- -- 3.5/3.8 MB 4.3 MB/s eta 0:00:01\n",
      "   ------------------------------------- -- 3.5/3.8 MB 4.3 MB/s eta 0:00:01\n",
      "   ------------------------------------- -- 3.5/3.8 MB 4.3 MB/s eta 0:00:01\n",
      "   ------------------------------------- -- 3.5/3.8 MB 4.3 MB/s eta 0:00:01\n",
      "   ------------------------------------- -- 3.5/3.8 MB 3.3 MB/s eta 0:00:01\n",
      "   ---------------------------------------  3.8/3.8 MB 3.4 MB/s eta 0:00:01\n",
      "   ---------------------------------------- 3.8/3.8 MB 3.3 MB/s eta 0:00:00\n",
      "Installing collected packages: xmltodict, lxml, PublicDataReader\n",
      "Successfully installed PublicDataReader-1.0.25 lxml-4.9.3 xmltodict-0.13.0\n"
     ]
    }
   ],
   "source": [
    "!pip install PublicDataReader --upgrade \n",
    "# 공공데이터 사용 라이브러리"
   ]
  },
  {
   "cell_type": "markdown",
   "metadata": {
    "id": "CkwDzMsJHwue"
   },
   "source": [
    "## [+] 필요 라이브러리 호출"
   ]
  },
  {
   "cell_type": "code",
   "execution_count": 2,
   "metadata": {
    "colab": {
     "base_uri": "https://localhost:8080/"
    },
    "executionInfo": {
     "elapsed": 21035,
     "status": "ok",
     "timestamp": 1694960748869,
     "user": {
      "displayName": "Rachel Lee",
      "userId": "18230890083877121646"
     },
     "user_tz": -540
    },
    "id": "YmYbkIo8H-GE",
    "outputId": "f294c371-8f62-4872-ff20-0effc8a1d53c"
   },
   "outputs": [
    {
     "name": "stdout",
     "output_type": "stream",
     "text": [
      "Mounted at /content/drive\n"
     ]
    }
   ],
   "source": [
    "# 구글 드라이브 연동\n",
    "#from google.colab import drive\n",
    "#drive.mount('/content/drive')"
   ]
  },
  {
   "cell_type": "code",
   "execution_count": 3,
   "metadata": {
    "executionInfo": {
     "elapsed": 2035,
     "status": "ok",
     "timestamp": 1694960750899,
     "user": {
      "displayName": "Rachel Lee",
      "userId": "18230890083877121646"
     },
     "user_tz": -540
    },
    "id": "A3B0aWIHqzYy"
   },
   "outputs": [],
   "source": [
    "# 데이터분석용\n",
    "import pandas as pd\n",
    "import numpy as np\n",
    "import seaborn as sns\n",
    "import os\n",
    "import time\n",
    "from IPython.display import Image\n",
    "import glob\n",
    "\n",
    "\n",
    "# 시각화\n",
    "import matplotlib.pyplot as plt\n",
    "import seaborn as sns\n",
    "\n",
    "%matplotlib inline\n",
    "\n",
    "import PublicDataReader as pdr # 공공데이터 라이브러리"
   ]
  },
  {
   "cell_type": "markdown",
   "metadata": {
    "id": "KswYHvdDKL01"
   },
   "source": [
    "## [+] 원본 데이터 호출 (데이터명 : data)"
   ]
  },
  {
   "cell_type": "code",
   "execution_count": null,
   "metadata": {},
   "outputs": [],
   "source": [
    "cd"
   ]
  },
  {
   "cell_type": "code",
   "execution_count": 21,
   "metadata": {
    "colab": {
     "base_uri": "https://localhost:8080/",
     "height": 1000
    },
    "executionInfo": {
     "elapsed": 1480,
     "status": "ok",
     "timestamp": 1694961071443,
     "user": {
      "displayName": "Rachel Lee",
      "userId": "18230890083877121646"
     },
     "user_tz": -540
    },
    "id": "sCRjmd5tKKqj",
    "outputId": "82e0fd9d-b7f9-4e2e-f1d4-99220e57716a"
   },
   "outputs": [
    {
     "data": {
      "text/html": [
       "<div>\n",
       "<style scoped>\n",
       "    .dataframe tbody tr th:only-of-type {\n",
       "        vertical-align: middle;\n",
       "    }\n",
       "\n",
       "    .dataframe tbody tr th {\n",
       "        vertical-align: top;\n",
       "    }\n",
       "\n",
       "    .dataframe thead th {\n",
       "        text-align: right;\n",
       "    }\n",
       "</style>\n",
       "<table border=\"1\" class=\"dataframe\">\n",
       "  <thead>\n",
       "    <tr style=\"text-align: right;\">\n",
       "      <th></th>\n",
       "      <th>DATA_CRTR_YM</th>\n",
       "      <th>LT_UNQ_NO</th>\n",
       "      <th>STDG_EMD_CD</th>\n",
       "      <th>INDUSTRY_CD</th>\n",
       "      <th>SLS_GRD</th>\n",
       "    </tr>\n",
       "  </thead>\n",
       "  <tbody>\n",
       "    <tr>\n",
       "      <th>0</th>\n",
       "      <td>202201</td>\n",
       "      <td>1111010100100030100</td>\n",
       "      <td>11110101</td>\n",
       "      <td>A03</td>\n",
       "      <td>4</td>\n",
       "    </tr>\n",
       "    <tr>\n",
       "      <th>1</th>\n",
       "      <td>202201</td>\n",
       "      <td>1111010100100480000</td>\n",
       "      <td>11110101</td>\n",
       "      <td>A01</td>\n",
       "      <td>2</td>\n",
       "    </tr>\n",
       "    <tr>\n",
       "      <th>2</th>\n",
       "      <td>202201</td>\n",
       "      <td>1111010100100590001</td>\n",
       "      <td>11110101</td>\n",
       "      <td>A11</td>\n",
       "      <td>3</td>\n",
       "    </tr>\n",
       "    <tr>\n",
       "      <th>3</th>\n",
       "      <td>202201</td>\n",
       "      <td>1111010100100590005</td>\n",
       "      <td>11110101</td>\n",
       "      <td>A03</td>\n",
       "      <td>2</td>\n",
       "    </tr>\n",
       "    <tr>\n",
       "      <th>4</th>\n",
       "      <td>202201</td>\n",
       "      <td>1111010100100690000</td>\n",
       "      <td>11110101</td>\n",
       "      <td>A01</td>\n",
       "      <td>2</td>\n",
       "    </tr>\n",
       "    <tr>\n",
       "      <th>5</th>\n",
       "      <td>202201</td>\n",
       "      <td>1111010100100720000</td>\n",
       "      <td>11110101</td>\n",
       "      <td>A14</td>\n",
       "      <td>4</td>\n",
       "    </tr>\n",
       "    <tr>\n",
       "      <th>6</th>\n",
       "      <td>202201</td>\n",
       "      <td>1111010100100750000</td>\n",
       "      <td>11110101</td>\n",
       "      <td>A01</td>\n",
       "      <td>2</td>\n",
       "    </tr>\n",
       "    <tr>\n",
       "      <th>7</th>\n",
       "      <td>202201</td>\n",
       "      <td>1111010100100940001</td>\n",
       "      <td>11110101</td>\n",
       "      <td>A03</td>\n",
       "      <td>1</td>\n",
       "    </tr>\n",
       "    <tr>\n",
       "      <th>8</th>\n",
       "      <td>202201</td>\n",
       "      <td>1111010100100940002</td>\n",
       "      <td>11110101</td>\n",
       "      <td>A01</td>\n",
       "      <td>2</td>\n",
       "    </tr>\n",
       "    <tr>\n",
       "      <th>9</th>\n",
       "      <td>202201</td>\n",
       "      <td>1111010100100970000</td>\n",
       "      <td>11110101</td>\n",
       "      <td>A03</td>\n",
       "      <td>2</td>\n",
       "    </tr>\n",
       "    <tr>\n",
       "      <th>10</th>\n",
       "      <td>202201</td>\n",
       "      <td>1111010100101110001</td>\n",
       "      <td>11110101</td>\n",
       "      <td>A01</td>\n",
       "      <td>4</td>\n",
       "    </tr>\n",
       "    <tr>\n",
       "      <th>11</th>\n",
       "      <td>202201</td>\n",
       "      <td>1111010100101210000</td>\n",
       "      <td>11110101</td>\n",
       "      <td>A01</td>\n",
       "      <td>3</td>\n",
       "    </tr>\n",
       "    <tr>\n",
       "      <th>12</th>\n",
       "      <td>202201</td>\n",
       "      <td>1111010100101290000</td>\n",
       "      <td>11110101</td>\n",
       "      <td>A01</td>\n",
       "      <td>3</td>\n",
       "    </tr>\n",
       "    <tr>\n",
       "      <th>13</th>\n",
       "      <td>202201</td>\n",
       "      <td>1111010100101310000</td>\n",
       "      <td>11110101</td>\n",
       "      <td>A03</td>\n",
       "      <td>3</td>\n",
       "    </tr>\n",
       "    <tr>\n",
       "      <th>14</th>\n",
       "      <td>202201</td>\n",
       "      <td>1111010100101400001</td>\n",
       "      <td>11110101</td>\n",
       "      <td>A03</td>\n",
       "      <td>3</td>\n",
       "    </tr>\n",
       "    <tr>\n",
       "      <th>15</th>\n",
       "      <td>202201</td>\n",
       "      <td>1111010100101440003</td>\n",
       "      <td>11110101</td>\n",
       "      <td>A03</td>\n",
       "      <td>4</td>\n",
       "    </tr>\n",
       "    <tr>\n",
       "      <th>16</th>\n",
       "      <td>202201</td>\n",
       "      <td>1111010200100010028</td>\n",
       "      <td>11110102</td>\n",
       "      <td>A03</td>\n",
       "      <td>4</td>\n",
       "    </tr>\n",
       "    <tr>\n",
       "      <th>17</th>\n",
       "      <td>202201</td>\n",
       "      <td>1111010200100100000</td>\n",
       "      <td>11110102</td>\n",
       "      <td>A06</td>\n",
       "      <td>5</td>\n",
       "    </tr>\n",
       "    <tr>\n",
       "      <th>18</th>\n",
       "      <td>202201</td>\n",
       "      <td>1111010200100500001</td>\n",
       "      <td>11110102</td>\n",
       "      <td>A11</td>\n",
       "      <td>5</td>\n",
       "    </tr>\n",
       "    <tr>\n",
       "      <th>19</th>\n",
       "      <td>202201</td>\n",
       "      <td>1111010200100520000</td>\n",
       "      <td>11110102</td>\n",
       "      <td>A01</td>\n",
       "      <td>2</td>\n",
       "    </tr>\n",
       "    <tr>\n",
       "      <th>20</th>\n",
       "      <td>202201</td>\n",
       "      <td>1111010200100570000</td>\n",
       "      <td>11110102</td>\n",
       "      <td>A06</td>\n",
       "      <td>4</td>\n",
       "    </tr>\n",
       "    <tr>\n",
       "      <th>21</th>\n",
       "      <td>202201</td>\n",
       "      <td>1111010200100570000</td>\n",
       "      <td>11110102</td>\n",
       "      <td>A05</td>\n",
       "      <td>4</td>\n",
       "    </tr>\n",
       "    <tr>\n",
       "      <th>22</th>\n",
       "      <td>202201</td>\n",
       "      <td>1111010200100580001</td>\n",
       "      <td>11110102</td>\n",
       "      <td>A04</td>\n",
       "      <td>2</td>\n",
       "    </tr>\n",
       "    <tr>\n",
       "      <th>23</th>\n",
       "      <td>202201</td>\n",
       "      <td>1111010200100660000</td>\n",
       "      <td>11110102</td>\n",
       "      <td>A03</td>\n",
       "      <td>3</td>\n",
       "    </tr>\n",
       "    <tr>\n",
       "      <th>24</th>\n",
       "      <td>202201</td>\n",
       "      <td>1111010300100130008</td>\n",
       "      <td>11110103</td>\n",
       "      <td>A06</td>\n",
       "      <td>2</td>\n",
       "    </tr>\n",
       "    <tr>\n",
       "      <th>25</th>\n",
       "      <td>202201</td>\n",
       "      <td>1111010300100130031</td>\n",
       "      <td>11110103</td>\n",
       "      <td>A03</td>\n",
       "      <td>2</td>\n",
       "    </tr>\n",
       "    <tr>\n",
       "      <th>26</th>\n",
       "      <td>202201</td>\n",
       "      <td>1111010300100290002</td>\n",
       "      <td>11110103</td>\n",
       "      <td>A03</td>\n",
       "      <td>2</td>\n",
       "    </tr>\n",
       "    <tr>\n",
       "      <th>27</th>\n",
       "      <td>202201</td>\n",
       "      <td>1111010400100250000</td>\n",
       "      <td>11110104</td>\n",
       "      <td>A01</td>\n",
       "      <td>4</td>\n",
       "    </tr>\n",
       "    <tr>\n",
       "      <th>28</th>\n",
       "      <td>202201</td>\n",
       "      <td>1111010400100250000</td>\n",
       "      <td>11110104</td>\n",
       "      <td>A03</td>\n",
       "      <td>2</td>\n",
       "    </tr>\n",
       "    <tr>\n",
       "      <th>29</th>\n",
       "      <td>202201</td>\n",
       "      <td>1111010400100260000</td>\n",
       "      <td>11110104</td>\n",
       "      <td>A01</td>\n",
       "      <td>3</td>\n",
       "    </tr>\n",
       "    <tr>\n",
       "      <th>30</th>\n",
       "      <td>202201</td>\n",
       "      <td>1111010400100300000</td>\n",
       "      <td>11110104</td>\n",
       "      <td>A01</td>\n",
       "      <td>3</td>\n",
       "    </tr>\n",
       "    <tr>\n",
       "      <th>31</th>\n",
       "      <td>202201</td>\n",
       "      <td>1111010400100390001</td>\n",
       "      <td>11110104</td>\n",
       "      <td>A14</td>\n",
       "      <td>2</td>\n",
       "    </tr>\n",
       "    <tr>\n",
       "      <th>32</th>\n",
       "      <td>202201</td>\n",
       "      <td>1111010400100400002</td>\n",
       "      <td>11110104</td>\n",
       "      <td>A01</td>\n",
       "      <td>2</td>\n",
       "    </tr>\n",
       "    <tr>\n",
       "      <th>33</th>\n",
       "      <td>202201</td>\n",
       "      <td>1111010400100430000</td>\n",
       "      <td>11110104</td>\n",
       "      <td>A03</td>\n",
       "      <td>4</td>\n",
       "    </tr>\n",
       "    <tr>\n",
       "      <th>34</th>\n",
       "      <td>202201</td>\n",
       "      <td>1111010400100530000</td>\n",
       "      <td>11110104</td>\n",
       "      <td>A05</td>\n",
       "      <td>5</td>\n",
       "    </tr>\n",
       "    <tr>\n",
       "      <th>35</th>\n",
       "      <td>202201</td>\n",
       "      <td>1111010400100580000</td>\n",
       "      <td>11110104</td>\n",
       "      <td>A01</td>\n",
       "      <td>3</td>\n",
       "    </tr>\n",
       "    <tr>\n",
       "      <th>36</th>\n",
       "      <td>202201</td>\n",
       "      <td>1111010400100620000</td>\n",
       "      <td>11110104</td>\n",
       "      <td>A03</td>\n",
       "      <td>3</td>\n",
       "    </tr>\n",
       "    <tr>\n",
       "      <th>37</th>\n",
       "      <td>202201</td>\n",
       "      <td>1111010400101500000</td>\n",
       "      <td>11110104</td>\n",
       "      <td>A03</td>\n",
       "      <td>3</td>\n",
       "    </tr>\n",
       "    <tr>\n",
       "      <th>38</th>\n",
       "      <td>202201</td>\n",
       "      <td>1111010400101630001</td>\n",
       "      <td>11110104</td>\n",
       "      <td>A03</td>\n",
       "      <td>3</td>\n",
       "    </tr>\n",
       "    <tr>\n",
       "      <th>39</th>\n",
       "      <td>202201</td>\n",
       "      <td>1111010400101640007</td>\n",
       "      <td>11110104</td>\n",
       "      <td>A03</td>\n",
       "      <td>1</td>\n",
       "    </tr>\n",
       "    <tr>\n",
       "      <th>40</th>\n",
       "      <td>202201</td>\n",
       "      <td>1111010400101640008</td>\n",
       "      <td>11110104</td>\n",
       "      <td>A03</td>\n",
       "      <td>2</td>\n",
       "    </tr>\n",
       "    <tr>\n",
       "      <th>41</th>\n",
       "      <td>202201</td>\n",
       "      <td>1111010500100170001</td>\n",
       "      <td>11110105</td>\n",
       "      <td>A01</td>\n",
       "      <td>1</td>\n",
       "    </tr>\n",
       "    <tr>\n",
       "      <th>42</th>\n",
       "      <td>202201</td>\n",
       "      <td>1111010500100870001</td>\n",
       "      <td>11110105</td>\n",
       "      <td>A14</td>\n",
       "      <td>2</td>\n",
       "    </tr>\n",
       "    <tr>\n",
       "      <th>43</th>\n",
       "      <td>202201</td>\n",
       "      <td>1111010500100980003</td>\n",
       "      <td>11110105</td>\n",
       "      <td>A03</td>\n",
       "      <td>3</td>\n",
       "    </tr>\n",
       "    <tr>\n",
       "      <th>44</th>\n",
       "      <td>202201</td>\n",
       "      <td>1111010500100980006</td>\n",
       "      <td>11110105</td>\n",
       "      <td>A01</td>\n",
       "      <td>3</td>\n",
       "    </tr>\n",
       "    <tr>\n",
       "      <th>45</th>\n",
       "      <td>202201</td>\n",
       "      <td>1111010500100980019</td>\n",
       "      <td>11110105</td>\n",
       "      <td>A03</td>\n",
       "      <td>1</td>\n",
       "    </tr>\n",
       "    <tr>\n",
       "      <th>46</th>\n",
       "      <td>202201</td>\n",
       "      <td>1111010500100980020</td>\n",
       "      <td>11110105</td>\n",
       "      <td>A03</td>\n",
       "      <td>3</td>\n",
       "    </tr>\n",
       "    <tr>\n",
       "      <th>47</th>\n",
       "      <td>202201</td>\n",
       "      <td>1111010500101170012</td>\n",
       "      <td>11110105</td>\n",
       "      <td>A03</td>\n",
       "      <td>1</td>\n",
       "    </tr>\n",
       "    <tr>\n",
       "      <th>48</th>\n",
       "      <td>202201</td>\n",
       "      <td>1111010500101200000</td>\n",
       "      <td>11110105</td>\n",
       "      <td>A01</td>\n",
       "      <td>2</td>\n",
       "    </tr>\n",
       "    <tr>\n",
       "      <th>49</th>\n",
       "      <td>202201</td>\n",
       "      <td>1111010500101220002</td>\n",
       "      <td>11110105</td>\n",
       "      <td>A03</td>\n",
       "      <td>1</td>\n",
       "    </tr>\n",
       "    <tr>\n",
       "      <th>50</th>\n",
       "      <td>202201</td>\n",
       "      <td>1111010500101270004</td>\n",
       "      <td>11110105</td>\n",
       "      <td>A01</td>\n",
       "      <td>3</td>\n",
       "    </tr>\n",
       "    <tr>\n",
       "      <th>51</th>\n",
       "      <td>202201</td>\n",
       "      <td>1111010500101290002</td>\n",
       "      <td>11110105</td>\n",
       "      <td>A01</td>\n",
       "      <td>2</td>\n",
       "    </tr>\n",
       "    <tr>\n",
       "      <th>52</th>\n",
       "      <td>202201</td>\n",
       "      <td>1111010500101300005</td>\n",
       "      <td>11110105</td>\n",
       "      <td>A03</td>\n",
       "      <td>1</td>\n",
       "    </tr>\n",
       "    <tr>\n",
       "      <th>53</th>\n",
       "      <td>202201</td>\n",
       "      <td>1111010500101350000</td>\n",
       "      <td>11110105</td>\n",
       "      <td>A03</td>\n",
       "      <td>2</td>\n",
       "    </tr>\n",
       "    <tr>\n",
       "      <th>54</th>\n",
       "      <td>202201</td>\n",
       "      <td>1111010500101360000</td>\n",
       "      <td>11110105</td>\n",
       "      <td>A14</td>\n",
       "      <td>2</td>\n",
       "    </tr>\n",
       "    <tr>\n",
       "      <th>55</th>\n",
       "      <td>202201</td>\n",
       "      <td>1111010500101360000</td>\n",
       "      <td>11110105</td>\n",
       "      <td>A01</td>\n",
       "      <td>3</td>\n",
       "    </tr>\n",
       "    <tr>\n",
       "      <th>56</th>\n",
       "      <td>202201</td>\n",
       "      <td>1111010500101380001</td>\n",
       "      <td>11110105</td>\n",
       "      <td>A01</td>\n",
       "      <td>3</td>\n",
       "    </tr>\n",
       "    <tr>\n",
       "      <th>57</th>\n",
       "      <td>202201</td>\n",
       "      <td>1111010500101480000</td>\n",
       "      <td>11110105</td>\n",
       "      <td>A03</td>\n",
       "      <td>2</td>\n",
       "    </tr>\n",
       "    <tr>\n",
       "      <th>58</th>\n",
       "      <td>202201</td>\n",
       "      <td>1111010500101530001</td>\n",
       "      <td>11110105</td>\n",
       "      <td>A08</td>\n",
       "      <td>2</td>\n",
       "    </tr>\n",
       "    <tr>\n",
       "      <th>59</th>\n",
       "      <td>202201</td>\n",
       "      <td>1111010500101530002</td>\n",
       "      <td>11110105</td>\n",
       "      <td>A08</td>\n",
       "      <td>3</td>\n",
       "    </tr>\n",
       "    <tr>\n",
       "      <th>60</th>\n",
       "      <td>202201</td>\n",
       "      <td>1111010500101580007</td>\n",
       "      <td>11110105</td>\n",
       "      <td>A08</td>\n",
       "      <td>4</td>\n",
       "    </tr>\n",
       "    <tr>\n",
       "      <th>61</th>\n",
       "      <td>202201</td>\n",
       "      <td>1111010600100010001</td>\n",
       "      <td>11110106</td>\n",
       "      <td>A03</td>\n",
       "      <td>3</td>\n",
       "    </tr>\n",
       "    <tr>\n",
       "      <th>62</th>\n",
       "      <td>202201</td>\n",
       "      <td>1111010600100020001</td>\n",
       "      <td>11110106</td>\n",
       "      <td>A01</td>\n",
       "      <td>3</td>\n",
       "    </tr>\n",
       "    <tr>\n",
       "      <th>63</th>\n",
       "      <td>202201</td>\n",
       "      <td>1111010600100070023</td>\n",
       "      <td>11110106</td>\n",
       "      <td>A01</td>\n",
       "      <td>3</td>\n",
       "    </tr>\n",
       "    <tr>\n",
       "      <th>64</th>\n",
       "      <td>202201</td>\n",
       "      <td>1111010600100070033</td>\n",
       "      <td>11110106</td>\n",
       "      <td>A14</td>\n",
       "      <td>2</td>\n",
       "    </tr>\n",
       "    <tr>\n",
       "      <th>65</th>\n",
       "      <td>202201</td>\n",
       "      <td>1111010600100100000</td>\n",
       "      <td>11110106</td>\n",
       "      <td>A14</td>\n",
       "      <td>3</td>\n",
       "    </tr>\n",
       "    <tr>\n",
       "      <th>66</th>\n",
       "      <td>202201</td>\n",
       "      <td>1111010600100120000</td>\n",
       "      <td>11110106</td>\n",
       "      <td>A03</td>\n",
       "      <td>2</td>\n",
       "    </tr>\n",
       "    <tr>\n",
       "      <th>67</th>\n",
       "      <td>202201</td>\n",
       "      <td>1111010600100250002</td>\n",
       "      <td>11110106</td>\n",
       "      <td>A14</td>\n",
       "      <td>1</td>\n",
       "    </tr>\n",
       "    <tr>\n",
       "      <th>68</th>\n",
       "      <td>202201</td>\n",
       "      <td>1111010600100250003</td>\n",
       "      <td>11110106</td>\n",
       "      <td>A14</td>\n",
       "      <td>2</td>\n",
       "    </tr>\n",
       "    <tr>\n",
       "      <th>69</th>\n",
       "      <td>202201</td>\n",
       "      <td>1111010600100250004</td>\n",
       "      <td>11110106</td>\n",
       "      <td>A01</td>\n",
       "      <td>2</td>\n",
       "    </tr>\n",
       "    <tr>\n",
       "      <th>70</th>\n",
       "      <td>202201</td>\n",
       "      <td>1111010600100250017</td>\n",
       "      <td>11110106</td>\n",
       "      <td>A04</td>\n",
       "      <td>2</td>\n",
       "    </tr>\n",
       "    <tr>\n",
       "      <th>71</th>\n",
       "      <td>202201</td>\n",
       "      <td>1111010600100270000</td>\n",
       "      <td>11110106</td>\n",
       "      <td>A14</td>\n",
       "      <td>4</td>\n",
       "    </tr>\n",
       "    <tr>\n",
       "      <th>72</th>\n",
       "      <td>202201</td>\n",
       "      <td>1111010600100350002</td>\n",
       "      <td>11110106</td>\n",
       "      <td>A03</td>\n",
       "      <td>1</td>\n",
       "    </tr>\n",
       "    <tr>\n",
       "      <th>73</th>\n",
       "      <td>202201</td>\n",
       "      <td>1111010600100350004</td>\n",
       "      <td>11110106</td>\n",
       "      <td>A03</td>\n",
       "      <td>3</td>\n",
       "    </tr>\n",
       "    <tr>\n",
       "      <th>74</th>\n",
       "      <td>202201</td>\n",
       "      <td>1111010600100350011</td>\n",
       "      <td>11110106</td>\n",
       "      <td>A03</td>\n",
       "      <td>2</td>\n",
       "    </tr>\n",
       "    <tr>\n",
       "      <th>75</th>\n",
       "      <td>202201</td>\n",
       "      <td>1111010600100350012</td>\n",
       "      <td>11110106</td>\n",
       "      <td>A11</td>\n",
       "      <td>3</td>\n",
       "    </tr>\n",
       "    <tr>\n",
       "      <th>76</th>\n",
       "      <td>202201</td>\n",
       "      <td>1111010600100350021</td>\n",
       "      <td>11110106</td>\n",
       "      <td>A14</td>\n",
       "      <td>2</td>\n",
       "    </tr>\n",
       "    <tr>\n",
       "      <th>77</th>\n",
       "      <td>202201</td>\n",
       "      <td>1111010600100350023</td>\n",
       "      <td>11110106</td>\n",
       "      <td>A08</td>\n",
       "      <td>3</td>\n",
       "    </tr>\n",
       "    <tr>\n",
       "      <th>78</th>\n",
       "      <td>202201</td>\n",
       "      <td>1111010600100350029</td>\n",
       "      <td>11110106</td>\n",
       "      <td>A03</td>\n",
       "      <td>1</td>\n",
       "    </tr>\n",
       "    <tr>\n",
       "      <th>79</th>\n",
       "      <td>202201</td>\n",
       "      <td>1111010600100350042</td>\n",
       "      <td>11110106</td>\n",
       "      <td>A01</td>\n",
       "      <td>2</td>\n",
       "    </tr>\n",
       "    <tr>\n",
       "      <th>80</th>\n",
       "      <td>202201</td>\n",
       "      <td>1111010600100350068</td>\n",
       "      <td>11110106</td>\n",
       "      <td>A14</td>\n",
       "      <td>3</td>\n",
       "    </tr>\n",
       "    <tr>\n",
       "      <th>81</th>\n",
       "      <td>202201</td>\n",
       "      <td>1111010600100350084</td>\n",
       "      <td>11110106</td>\n",
       "      <td>A01</td>\n",
       "      <td>1</td>\n",
       "    </tr>\n",
       "    <tr>\n",
       "      <th>82</th>\n",
       "      <td>202201</td>\n",
       "      <td>1111010600100370000</td>\n",
       "      <td>11110106</td>\n",
       "      <td>A02</td>\n",
       "      <td>4</td>\n",
       "    </tr>\n",
       "    <tr>\n",
       "      <th>83</th>\n",
       "      <td>202201</td>\n",
       "      <td>1111010600100380000</td>\n",
       "      <td>11110106</td>\n",
       "      <td>A01</td>\n",
       "      <td>1</td>\n",
       "    </tr>\n",
       "    <tr>\n",
       "      <th>84</th>\n",
       "      <td>202201</td>\n",
       "      <td>1111010600100410001</td>\n",
       "      <td>11110106</td>\n",
       "      <td>A01</td>\n",
       "      <td>3</td>\n",
       "    </tr>\n",
       "    <tr>\n",
       "      <th>85</th>\n",
       "      <td>202201</td>\n",
       "      <td>1111010600100430003</td>\n",
       "      <td>11110106</td>\n",
       "      <td>A01</td>\n",
       "      <td>3</td>\n",
       "    </tr>\n",
       "    <tr>\n",
       "      <th>86</th>\n",
       "      <td>202201</td>\n",
       "      <td>1111010600100450000</td>\n",
       "      <td>11110106</td>\n",
       "      <td>A03</td>\n",
       "      <td>2</td>\n",
       "    </tr>\n",
       "    <tr>\n",
       "      <th>87</th>\n",
       "      <td>202201</td>\n",
       "      <td>1111010600100460002</td>\n",
       "      <td>11110106</td>\n",
       "      <td>A01</td>\n",
       "      <td>1</td>\n",
       "    </tr>\n",
       "    <tr>\n",
       "      <th>88</th>\n",
       "      <td>202201</td>\n",
       "      <td>1111010600100470000</td>\n",
       "      <td>11110106</td>\n",
       "      <td>A03</td>\n",
       "      <td>4</td>\n",
       "    </tr>\n",
       "    <tr>\n",
       "      <th>89</th>\n",
       "      <td>202201</td>\n",
       "      <td>1111010600100490001</td>\n",
       "      <td>11110106</td>\n",
       "      <td>A02</td>\n",
       "      <td>2</td>\n",
       "    </tr>\n",
       "    <tr>\n",
       "      <th>90</th>\n",
       "      <td>202201</td>\n",
       "      <td>1111010600100520000</td>\n",
       "      <td>11110106</td>\n",
       "      <td>A08</td>\n",
       "      <td>5</td>\n",
       "    </tr>\n",
       "    <tr>\n",
       "      <th>91</th>\n",
       "      <td>202201</td>\n",
       "      <td>1111010600100520000</td>\n",
       "      <td>11110106</td>\n",
       "      <td>A03</td>\n",
       "      <td>2</td>\n",
       "    </tr>\n",
       "    <tr>\n",
       "      <th>92</th>\n",
       "      <td>202201</td>\n",
       "      <td>1111010600100550000</td>\n",
       "      <td>11110106</td>\n",
       "      <td>A03</td>\n",
       "      <td>2</td>\n",
       "    </tr>\n",
       "    <tr>\n",
       "      <th>93</th>\n",
       "      <td>202201</td>\n",
       "      <td>1111010600100550000</td>\n",
       "      <td>11110106</td>\n",
       "      <td>A06</td>\n",
       "      <td>2</td>\n",
       "    </tr>\n",
       "    <tr>\n",
       "      <th>94</th>\n",
       "      <td>202201</td>\n",
       "      <td>1111010600100590000</td>\n",
       "      <td>11110106</td>\n",
       "      <td>A13</td>\n",
       "      <td>1</td>\n",
       "    </tr>\n",
       "    <tr>\n",
       "      <th>95</th>\n",
       "      <td>202201</td>\n",
       "      <td>1111010600100610001</td>\n",
       "      <td>11110106</td>\n",
       "      <td>A08</td>\n",
       "      <td>2</td>\n",
       "    </tr>\n",
       "    <tr>\n",
       "      <th>96</th>\n",
       "      <td>202201</td>\n",
       "      <td>1111010600100630000</td>\n",
       "      <td>11110106</td>\n",
       "      <td>A01</td>\n",
       "      <td>2</td>\n",
       "    </tr>\n",
       "    <tr>\n",
       "      <th>97</th>\n",
       "      <td>202201</td>\n",
       "      <td>1111010600100630000</td>\n",
       "      <td>11110106</td>\n",
       "      <td>A03</td>\n",
       "      <td>3</td>\n",
       "    </tr>\n",
       "    <tr>\n",
       "      <th>98</th>\n",
       "      <td>202201</td>\n",
       "      <td>1111010600100660000</td>\n",
       "      <td>11110106</td>\n",
       "      <td>A03</td>\n",
       "      <td>2</td>\n",
       "    </tr>\n",
       "    <tr>\n",
       "      <th>99</th>\n",
       "      <td>202201</td>\n",
       "      <td>1111010600100660000</td>\n",
       "      <td>11110106</td>\n",
       "      <td>A01</td>\n",
       "      <td>3</td>\n",
       "    </tr>\n",
       "  </tbody>\n",
       "</table>\n",
       "</div>"
      ],
      "text/plain": [
       "    DATA_CRTR_YM            LT_UNQ_NO  STDG_EMD_CD INDUSTRY_CD  SLS_GRD\n",
       "0         202201  1111010100100030100     11110101         A03        4\n",
       "1         202201  1111010100100480000     11110101         A01        2\n",
       "2         202201  1111010100100590001     11110101         A11        3\n",
       "3         202201  1111010100100590005     11110101         A03        2\n",
       "4         202201  1111010100100690000     11110101         A01        2\n",
       "5         202201  1111010100100720000     11110101         A14        4\n",
       "6         202201  1111010100100750000     11110101         A01        2\n",
       "7         202201  1111010100100940001     11110101         A03        1\n",
       "8         202201  1111010100100940002     11110101         A01        2\n",
       "9         202201  1111010100100970000     11110101         A03        2\n",
       "10        202201  1111010100101110001     11110101         A01        4\n",
       "11        202201  1111010100101210000     11110101         A01        3\n",
       "12        202201  1111010100101290000     11110101         A01        3\n",
       "13        202201  1111010100101310000     11110101         A03        3\n",
       "14        202201  1111010100101400001     11110101         A03        3\n",
       "15        202201  1111010100101440003     11110101         A03        4\n",
       "16        202201  1111010200100010028     11110102         A03        4\n",
       "17        202201  1111010200100100000     11110102         A06        5\n",
       "18        202201  1111010200100500001     11110102         A11        5\n",
       "19        202201  1111010200100520000     11110102         A01        2\n",
       "20        202201  1111010200100570000     11110102         A06        4\n",
       "21        202201  1111010200100570000     11110102         A05        4\n",
       "22        202201  1111010200100580001     11110102         A04        2\n",
       "23        202201  1111010200100660000     11110102         A03        3\n",
       "24        202201  1111010300100130008     11110103         A06        2\n",
       "25        202201  1111010300100130031     11110103         A03        2\n",
       "26        202201  1111010300100290002     11110103         A03        2\n",
       "27        202201  1111010400100250000     11110104         A01        4\n",
       "28        202201  1111010400100250000     11110104         A03        2\n",
       "29        202201  1111010400100260000     11110104         A01        3\n",
       "30        202201  1111010400100300000     11110104         A01        3\n",
       "31        202201  1111010400100390001     11110104         A14        2\n",
       "32        202201  1111010400100400002     11110104         A01        2\n",
       "33        202201  1111010400100430000     11110104         A03        4\n",
       "34        202201  1111010400100530000     11110104         A05        5\n",
       "35        202201  1111010400100580000     11110104         A01        3\n",
       "36        202201  1111010400100620000     11110104         A03        3\n",
       "37        202201  1111010400101500000     11110104         A03        3\n",
       "38        202201  1111010400101630001     11110104         A03        3\n",
       "39        202201  1111010400101640007     11110104         A03        1\n",
       "40        202201  1111010400101640008     11110104         A03        2\n",
       "41        202201  1111010500100170001     11110105         A01        1\n",
       "42        202201  1111010500100870001     11110105         A14        2\n",
       "43        202201  1111010500100980003     11110105         A03        3\n",
       "44        202201  1111010500100980006     11110105         A01        3\n",
       "45        202201  1111010500100980019     11110105         A03        1\n",
       "46        202201  1111010500100980020     11110105         A03        3\n",
       "47        202201  1111010500101170012     11110105         A03        1\n",
       "48        202201  1111010500101200000     11110105         A01        2\n",
       "49        202201  1111010500101220002     11110105         A03        1\n",
       "50        202201  1111010500101270004     11110105         A01        3\n",
       "51        202201  1111010500101290002     11110105         A01        2\n",
       "52        202201  1111010500101300005     11110105         A03        1\n",
       "53        202201  1111010500101350000     11110105         A03        2\n",
       "54        202201  1111010500101360000     11110105         A14        2\n",
       "55        202201  1111010500101360000     11110105         A01        3\n",
       "56        202201  1111010500101380001     11110105         A01        3\n",
       "57        202201  1111010500101480000     11110105         A03        2\n",
       "58        202201  1111010500101530001     11110105         A08        2\n",
       "59        202201  1111010500101530002     11110105         A08        3\n",
       "60        202201  1111010500101580007     11110105         A08        4\n",
       "61        202201  1111010600100010001     11110106         A03        3\n",
       "62        202201  1111010600100020001     11110106         A01        3\n",
       "63        202201  1111010600100070023     11110106         A01        3\n",
       "64        202201  1111010600100070033     11110106         A14        2\n",
       "65        202201  1111010600100100000     11110106         A14        3\n",
       "66        202201  1111010600100120000     11110106         A03        2\n",
       "67        202201  1111010600100250002     11110106         A14        1\n",
       "68        202201  1111010600100250003     11110106         A14        2\n",
       "69        202201  1111010600100250004     11110106         A01        2\n",
       "70        202201  1111010600100250017     11110106         A04        2\n",
       "71        202201  1111010600100270000     11110106         A14        4\n",
       "72        202201  1111010600100350002     11110106         A03        1\n",
       "73        202201  1111010600100350004     11110106         A03        3\n",
       "74        202201  1111010600100350011     11110106         A03        2\n",
       "75        202201  1111010600100350012     11110106         A11        3\n",
       "76        202201  1111010600100350021     11110106         A14        2\n",
       "77        202201  1111010600100350023     11110106         A08        3\n",
       "78        202201  1111010600100350029     11110106         A03        1\n",
       "79        202201  1111010600100350042     11110106         A01        2\n",
       "80        202201  1111010600100350068     11110106         A14        3\n",
       "81        202201  1111010600100350084     11110106         A01        1\n",
       "82        202201  1111010600100370000     11110106         A02        4\n",
       "83        202201  1111010600100380000     11110106         A01        1\n",
       "84        202201  1111010600100410001     11110106         A01        3\n",
       "85        202201  1111010600100430003     11110106         A01        3\n",
       "86        202201  1111010600100450000     11110106         A03        2\n",
       "87        202201  1111010600100460002     11110106         A01        1\n",
       "88        202201  1111010600100470000     11110106         A03        4\n",
       "89        202201  1111010600100490001     11110106         A02        2\n",
       "90        202201  1111010600100520000     11110106         A08        5\n",
       "91        202201  1111010600100520000     11110106         A03        2\n",
       "92        202201  1111010600100550000     11110106         A03        2\n",
       "93        202201  1111010600100550000     11110106         A06        2\n",
       "94        202201  1111010600100590000     11110106         A13        1\n",
       "95        202201  1111010600100610001     11110106         A08        2\n",
       "96        202201  1111010600100630000     11110106         A01        2\n",
       "97        202201  1111010600100630000     11110106         A03        3\n",
       "98        202201  1111010600100660000     11110106         A03        2\n",
       "99        202201  1111010600100660000     11110106         A01        3"
      ]
     },
     "execution_count": 21,
     "metadata": {},
     "output_type": "execute_result"
    }
   ],
   "source": [
    "data=pd.read_csv('C:\\\\Users\\\\NT551XCJ\\\\Desktop\\\\Code\\\\학습데이터 전처리\\\\대회제공데이터\\\\필지단위 소상공인 매출등급 정보.csv')\n",
    "pd.options.display.max_rows = 1000\n",
    "data.head(100)"
   ]
  },
  {
   "cell_type": "markdown",
   "metadata": {
    "id": "_uHZ0jVGIRAg"
   },
   "source": [
    "# [1] GIS 데이터 결합 [한석]"
   ]
  },
  {
   "cell_type": "markdown",
   "metadata": {
    "id": "VeFccvTFLNLv"
   },
   "source": [
    "## [1-1] 전처리"
   ]
  },
  {
   "cell_type": "markdown",
   "metadata": {
    "id": "vDsMqklfIpcS"
   },
   "source": [
    "### [+] 원본데이터 + 법정동 데이터\n",
    "\n",
    "- 원본데이터 법정동 코드 => 법정동명으로 변경, 구명칭 포함\n",
    "- 서울특별시 + 지역구 + 법정동명 + 본번 + 부번 => 주소 추출\n",
    "- 추출된 주소기반 지오코딩(주소를 좌표계로 변환) 작업\n",
    "- 지오코딩 완료된 csv파일 shp형식으로 변환 (맵기반 데이터)\n",
    "- 변환된 각 필지별 반경 1KM Buffer(원) 생성하여 각 요소가 해당 구역내에 얼마나 입점해있는지 분석\n",
    "- 추출된 GIS 데이터 다시 csv형태로 변환\n",
    "- 기존 데이터와 병합\n",
    "\n",
    "<br/>\n",
    "\n",
    "<참고>\n",
    "- 원본데이터에서 추출한 고유 필지 주소 '74303'개\n",
    "- QGIS(GIS분석 프로그램)이 74303개를 동시에 계산할 수 없고, 지오코딩도 최대 1만개까지 동시에 변환이 가능하기 때문에 부득이하게 데이터를 분할하여 작업, 마지막에 최종 병합"
   ]
  },
  {
   "cell_type": "code",
   "execution_count": 11,
   "metadata": {
    "colab": {
     "base_uri": "https://localhost:8080/",
     "height": 130
    },
    "executionInfo": {
     "elapsed": 1727,
     "status": "ok",
     "timestamp": 1694961082581,
     "user": {
      "displayName": "Rachel Lee",
      "userId": "18230890083877121646"
     },
     "user_tz": -540
    },
    "id": "mKOXoWN4q4Dy",
    "outputId": "88f833c0-3f86-4973-b0e1-c332444bc222"
   },
   "outputs": [
    {
     "name": "stdout",
     "output_type": "stream",
     "text": [
      "출처: 행정기관(행정동) 및 관할구역(법정동) 변경내역(2023. 7. 3. 시행)\n"
     ]
    },
    {
     "data": {
      "text/html": [
       "\n",
       "  <div id=\"df-219d590e-5188-40bf-9c3c-8c98fbbc5967\" class=\"colab-df-container\">\n",
       "    <div>\n",
       "<style scoped>\n",
       "    .dataframe tbody tr th:only-of-type {\n",
       "        vertical-align: middle;\n",
       "    }\n",
       "\n",
       "    .dataframe tbody tr th {\n",
       "        vertical-align: top;\n",
       "    }\n",
       "\n",
       "    .dataframe thead th {\n",
       "        text-align: right;\n",
       "    }\n",
       "</style>\n",
       "<table border=\"1\" class=\"dataframe\">\n",
       "  <thead>\n",
       "    <tr style=\"text-align: right;\">\n",
       "      <th></th>\n",
       "      <th>시도코드</th>\n",
       "      <th>시도명</th>\n",
       "      <th>시군구코드</th>\n",
       "      <th>시군구명</th>\n",
       "      <th>법정동코드</th>\n",
       "      <th>읍면동명</th>\n",
       "      <th>동리명</th>\n",
       "      <th>생성일자</th>\n",
       "      <th>말소일자</th>\n",
       "    </tr>\n",
       "  </thead>\n",
       "  <tbody>\n",
       "    <tr>\n",
       "      <th>0</th>\n",
       "      <td>11</td>\n",
       "      <td>서울특별시</td>\n",
       "      <td>11000</td>\n",
       "      <td></td>\n",
       "      <td>1100000000</td>\n",
       "      <td></td>\n",
       "      <td></td>\n",
       "      <td>19880423</td>\n",
       "      <td></td>\n",
       "    </tr>\n",
       "    <tr>\n",
       "      <th>1</th>\n",
       "      <td>11</td>\n",
       "      <td>서울특별시</td>\n",
       "      <td>11110</td>\n",
       "      <td>종로구</td>\n",
       "      <td>1111000000</td>\n",
       "      <td></td>\n",
       "      <td></td>\n",
       "      <td>19880423</td>\n",
       "      <td></td>\n",
       "    </tr>\n",
       "  </tbody>\n",
       "</table>\n",
       "</div>\n",
       "    <div class=\"colab-df-buttons\">\n",
       "\n",
       "  <div class=\"colab-df-container\">\n",
       "    <button class=\"colab-df-convert\" onclick=\"convertToInteractive('df-219d590e-5188-40bf-9c3c-8c98fbbc5967')\"\n",
       "            title=\"Convert this dataframe to an interactive table.\"\n",
       "            style=\"display:none;\">\n",
       "\n",
       "  <svg xmlns=\"http://www.w3.org/2000/svg\" height=\"24px\" viewBox=\"0 -960 960 960\">\n",
       "    <path d=\"M120-120v-720h720v720H120Zm60-500h600v-160H180v160Zm220 220h160v-160H400v160Zm0 220h160v-160H400v160ZM180-400h160v-160H180v160Zm440 0h160v-160H620v160ZM180-180h160v-160H180v160Zm440 0h160v-160H620v160Z\"/>\n",
       "  </svg>\n",
       "    </button>\n",
       "\n",
       "  <style>\n",
       "    .colab-df-container {\n",
       "      display:flex;\n",
       "      gap: 12px;\n",
       "    }\n",
       "\n",
       "    .colab-df-convert {\n",
       "      background-color: #E8F0FE;\n",
       "      border: none;\n",
       "      border-radius: 50%;\n",
       "      cursor: pointer;\n",
       "      display: none;\n",
       "      fill: #1967D2;\n",
       "      height: 32px;\n",
       "      padding: 0 0 0 0;\n",
       "      width: 32px;\n",
       "    }\n",
       "\n",
       "    .colab-df-convert:hover {\n",
       "      background-color: #E2EBFA;\n",
       "      box-shadow: 0px 1px 2px rgba(60, 64, 67, 0.3), 0px 1px 3px 1px rgba(60, 64, 67, 0.15);\n",
       "      fill: #174EA6;\n",
       "    }\n",
       "\n",
       "    .colab-df-buttons div {\n",
       "      margin-bottom: 4px;\n",
       "    }\n",
       "\n",
       "    [theme=dark] .colab-df-convert {\n",
       "      background-color: #3B4455;\n",
       "      fill: #D2E3FC;\n",
       "    }\n",
       "\n",
       "    [theme=dark] .colab-df-convert:hover {\n",
       "      background-color: #434B5C;\n",
       "      box-shadow: 0px 1px 3px 1px rgba(0, 0, 0, 0.15);\n",
       "      filter: drop-shadow(0px 1px 2px rgba(0, 0, 0, 0.3));\n",
       "      fill: #FFFFFF;\n",
       "    }\n",
       "  </style>\n",
       "\n",
       "    <script>\n",
       "      const buttonEl =\n",
       "        document.querySelector('#df-219d590e-5188-40bf-9c3c-8c98fbbc5967 button.colab-df-convert');\n",
       "      buttonEl.style.display =\n",
       "        google.colab.kernel.accessAllowed ? 'block' : 'none';\n",
       "\n",
       "      async function convertToInteractive(key) {\n",
       "        const element = document.querySelector('#df-219d590e-5188-40bf-9c3c-8c98fbbc5967');\n",
       "        const dataTable =\n",
       "          await google.colab.kernel.invokeFunction('convertToInteractive',\n",
       "                                                    [key], {});\n",
       "        if (!dataTable) return;\n",
       "\n",
       "        const docLinkHtml = 'Like what you see? Visit the ' +\n",
       "          '<a target=\"_blank\" href=https://colab.research.google.com/notebooks/data_table.ipynb>data table notebook</a>'\n",
       "          + ' to learn more about interactive tables.';\n",
       "        element.innerHTML = '';\n",
       "        dataTable['output_type'] = 'display_data';\n",
       "        await google.colab.output.renderOutput(dataTable, element);\n",
       "        const docLink = document.createElement('div');\n",
       "        docLink.innerHTML = docLinkHtml;\n",
       "        element.appendChild(docLink);\n",
       "      }\n",
       "    </script>\n",
       "  </div>\n",
       "\n",
       "\n",
       "<div id=\"df-fd6385fc-ab3b-4b82-acae-95986d8e91d7\">\n",
       "  <button class=\"colab-df-quickchart\" onclick=\"quickchart('df-fd6385fc-ab3b-4b82-acae-95986d8e91d7')\"\n",
       "            title=\"Suggest charts.\"\n",
       "            style=\"display:none;\">\n",
       "\n",
       "<svg xmlns=\"http://www.w3.org/2000/svg\" height=\"24px\"viewBox=\"0 0 24 24\"\n",
       "     width=\"24px\">\n",
       "    <g>\n",
       "        <path d=\"M19 3H5c-1.1 0-2 .9-2 2v14c0 1.1.9 2 2 2h14c1.1 0 2-.9 2-2V5c0-1.1-.9-2-2-2zM9 17H7v-7h2v7zm4 0h-2V7h2v10zm4 0h-2v-4h2v4z\"/>\n",
       "    </g>\n",
       "</svg>\n",
       "  </button>\n",
       "\n",
       "<style>\n",
       "  .colab-df-quickchart {\n",
       "      --bg-color: #E8F0FE;\n",
       "      --fill-color: #1967D2;\n",
       "      --hover-bg-color: #E2EBFA;\n",
       "      --hover-fill-color: #174EA6;\n",
       "      --disabled-fill-color: #AAA;\n",
       "      --disabled-bg-color: #DDD;\n",
       "  }\n",
       "\n",
       "  [theme=dark] .colab-df-quickchart {\n",
       "      --bg-color: #3B4455;\n",
       "      --fill-color: #D2E3FC;\n",
       "      --hover-bg-color: #434B5C;\n",
       "      --hover-fill-color: #FFFFFF;\n",
       "      --disabled-bg-color: #3B4455;\n",
       "      --disabled-fill-color: #666;\n",
       "  }\n",
       "\n",
       "  .colab-df-quickchart {\n",
       "    background-color: var(--bg-color);\n",
       "    border: none;\n",
       "    border-radius: 50%;\n",
       "    cursor: pointer;\n",
       "    display: none;\n",
       "    fill: var(--fill-color);\n",
       "    height: 32px;\n",
       "    padding: 0;\n",
       "    width: 32px;\n",
       "  }\n",
       "\n",
       "  .colab-df-quickchart:hover {\n",
       "    background-color: var(--hover-bg-color);\n",
       "    box-shadow: 0 1px 2px rgba(60, 64, 67, 0.3), 0 1px 3px 1px rgba(60, 64, 67, 0.15);\n",
       "    fill: var(--button-hover-fill-color);\n",
       "  }\n",
       "\n",
       "  .colab-df-quickchart-complete:disabled,\n",
       "  .colab-df-quickchart-complete:disabled:hover {\n",
       "    background-color: var(--disabled-bg-color);\n",
       "    fill: var(--disabled-fill-color);\n",
       "    box-shadow: none;\n",
       "  }\n",
       "\n",
       "  .colab-df-spinner {\n",
       "    border: 2px solid var(--fill-color);\n",
       "    border-color: transparent;\n",
       "    border-bottom-color: var(--fill-color);\n",
       "    animation:\n",
       "      spin 1s steps(1) infinite;\n",
       "  }\n",
       "\n",
       "  @keyframes spin {\n",
       "    0% {\n",
       "      border-color: transparent;\n",
       "      border-bottom-color: var(--fill-color);\n",
       "      border-left-color: var(--fill-color);\n",
       "    }\n",
       "    20% {\n",
       "      border-color: transparent;\n",
       "      border-left-color: var(--fill-color);\n",
       "      border-top-color: var(--fill-color);\n",
       "    }\n",
       "    30% {\n",
       "      border-color: transparent;\n",
       "      border-left-color: var(--fill-color);\n",
       "      border-top-color: var(--fill-color);\n",
       "      border-right-color: var(--fill-color);\n",
       "    }\n",
       "    40% {\n",
       "      border-color: transparent;\n",
       "      border-right-color: var(--fill-color);\n",
       "      border-top-color: var(--fill-color);\n",
       "    }\n",
       "    60% {\n",
       "      border-color: transparent;\n",
       "      border-right-color: var(--fill-color);\n",
       "    }\n",
       "    80% {\n",
       "      border-color: transparent;\n",
       "      border-right-color: var(--fill-color);\n",
       "      border-bottom-color: var(--fill-color);\n",
       "    }\n",
       "    90% {\n",
       "      border-color: transparent;\n",
       "      border-bottom-color: var(--fill-color);\n",
       "    }\n",
       "  }\n",
       "</style>\n",
       "\n",
       "  <script>\n",
       "    async function quickchart(key) {\n",
       "      const quickchartButtonEl =\n",
       "        document.querySelector('#' + key + ' button');\n",
       "      quickchartButtonEl.disabled = true;  // To prevent multiple clicks.\n",
       "      quickchartButtonEl.classList.add('colab-df-spinner');\n",
       "      try {\n",
       "        const charts = await google.colab.kernel.invokeFunction(\n",
       "            'suggestCharts', [key], {});\n",
       "      } catch (error) {\n",
       "        console.error('Error during call to suggestCharts:', error);\n",
       "      }\n",
       "      quickchartButtonEl.classList.remove('colab-df-spinner');\n",
       "      quickchartButtonEl.classList.add('colab-df-quickchart-complete');\n",
       "    }\n",
       "    (() => {\n",
       "      let quickchartButtonEl =\n",
       "        document.querySelector('#df-fd6385fc-ab3b-4b82-acae-95986d8e91d7 button');\n",
       "      quickchartButtonEl.style.display =\n",
       "        google.colab.kernel.accessAllowed ? 'block' : 'none';\n",
       "    })();\n",
       "  </script>\n",
       "</div>\n",
       "    </div>\n",
       "  </div>\n"
      ],
      "text/plain": [
       "  시도코드    시도명  시군구코드 시군구명       법정동코드 읍면동명 동리명      생성일자 말소일자\n",
       "0   11  서울특별시  11000       1100000000           19880423     \n",
       "1   11  서울특별시  11110  종로구  1111000000           19880423     "
      ]
     },
     "execution_count": 11,
     "metadata": {},
     "output_type": "execute_result"
    }
   ],
   "source": [
    "# 법정동 코드를 조회할 수 있는 공공데이터 호출\n",
    "법정동코드 = pdr.code_bdong()\n",
    "seoul_df = 법정동코드[법정동코드['시도명'] =='서울특별시']\n",
    "seoul_df.head(2)"
   ]
  },
  {
   "cell_type": "code",
   "execution_count": 12,
   "metadata": {
    "colab": {
     "base_uri": "https://localhost:8080/"
    },
    "executionInfo": {
     "elapsed": 4,
     "status": "ok",
     "timestamp": 1694961082582,
     "user": {
      "displayName": "Rachel Lee",
      "userId": "18230890083877121646"
     },
     "user_tz": -540
    },
    "id": "hlEtygy-r0jo",
    "outputId": "f740f772-661f-4c3c-acdf-a9955ff932ad"
   },
   "outputs": [
    {
     "name": "stderr",
     "output_type": "stream",
     "text": [
      "<ipython-input-12-e85f500b0009>:1: SettingWithCopyWarning: \n",
      "A value is trying to be set on a copy of a slice from a DataFrame.\n",
      "Try using .loc[row_indexer,col_indexer] = value instead\n",
      "\n",
      "See the caveats in the documentation: https://pandas.pydata.org/pandas-docs/stable/user_guide/indexing.html#returning-a-view-versus-a-copy\n",
      "  seoul_df['법정동코드'] = seoul_df['법정동코드'].astype('str') # 정확한 비교를 위한 문자열 변환\n"
     ]
    }
   ],
   "source": [
    "seoul_df['법정동코드'] = seoul_df['법정동코드'].astype('str') # 정확한 비교를 위한 문자열 변환"
   ]
  },
  {
   "cell_type": "code",
   "execution_count": 13,
   "metadata": {
    "executionInfo": {
     "elapsed": 3,
     "status": "ok",
     "timestamp": 1694961082582,
     "user": {
      "displayName": "Rachel Lee",
      "userId": "18230890083877121646"
     },
     "user_tz": -540
    },
    "id": "16Ujb39otO1h"
   },
   "outputs": [],
   "source": [
    "seoul_df = seoul_df[['법정동코드','시군구명','읍면동명']] # 필요 데이터만 추출"
   ]
  },
  {
   "cell_type": "markdown",
   "metadata": {
    "id": "CFd4cZAIX6gx"
   },
   "source": [
    "### [1-1-1] 분할, 원본 데이터와 법정동 데이터 병합\n",
    "\n",
    "- 시도 : 일괄적으로 '서울특별시'적용\n",
    "- 시군구 : 3~5번 코드 추출 <코드 -> 한글 변환> 필요\n",
    "- 읍면동(법정동) : 6~8번 코드 추출 <코드 -> 한글 변환> 필요\n",
    "- 리 : 9~10번 코드 그대로 사용\n",
    "- 필지 : 우선 생략, 필요시 추가\n",
    "- 본번 : 12~15번 그대로 사용\n",
    "- 부번 : 16~19번 그대로 사용"
   ]
  },
  {
   "cell_type": "code",
   "execution_count": 25,
   "metadata": {
    "colab": {
     "base_uri": "https://localhost:8080/",
     "height": 298
    },
    "executionInfo": {
     "elapsed": 4,
     "status": "ok",
     "timestamp": 1694961091874,
     "user": {
      "displayName": "Rachel Lee",
      "userId": "18230890083877121646"
     },
     "user_tz": -540
    },
    "id": "rzEFkpgVoSnU",
    "outputId": "89750743-3aed-4570-f357-5887b971a9ec"
   },
   "outputs": [
    {
     "data": {
      "image/png": "[encoded data removed]",
      "text/plain": [
       "<IPython.core.display.Image object>"
      ]
     },
     "execution_count": 25,
     "metadata": {},
     "output_type": "execute_result"
    }
   ],
   "source": [
    "Image('/content/drive/MyDrive/ML프로젝트_우리사이/한석/필지단위.png')"
   ]
  },
  {
   "cell_type": "code",
   "execution_count": 15,
   "metadata": {
    "colab": {
     "base_uri": "https://localhost:8080/",
     "height": 81
    },
    "executionInfo": {
     "elapsed": 3,
     "status": "ok",
     "timestamp": 1694961083100,
     "user": {
      "displayName": "Rachel Lee",
      "userId": "18230890083877121646"
     },
     "user_tz": -540
    },
    "id": "MKAWwb8bpD67",
    "outputId": "dfedb0f3-724e-4c7f-ecbd-ca1b0258f8fe"
   },
   "outputs": [
    {
     "data": {
      "text/html": [
       "\n",
       "  <div id=\"df-a8383514-099b-491b-b30b-5c4f43612e0e\" class=\"colab-df-container\">\n",
       "    <div>\n",
       "<style scoped>\n",
       "    .dataframe tbody tr th:only-of-type {\n",
       "        vertical-align: middle;\n",
       "    }\n",
       "\n",
       "    .dataframe tbody tr th {\n",
       "        vertical-align: top;\n",
       "    }\n",
       "\n",
       "    .dataframe thead th {\n",
       "        text-align: right;\n",
       "    }\n",
       "</style>\n",
       "<table border=\"1\" class=\"dataframe\">\n",
       "  <thead>\n",
       "    <tr style=\"text-align: right;\">\n",
       "      <th></th>\n",
       "      <th>DATA_CRTR_YM</th>\n",
       "      <th>LT_UNQ_NO</th>\n",
       "      <th>STDG_EMD_CD</th>\n",
       "      <th>INDUSTRY_CD</th>\n",
       "      <th>SLS_GRD</th>\n",
       "    </tr>\n",
       "  </thead>\n",
       "  <tbody>\n",
       "    <tr>\n",
       "      <th>0</th>\n",
       "      <td>202201</td>\n",
       "      <td>1111010100100030100</td>\n",
       "      <td>11110101</td>\n",
       "      <td>A03</td>\n",
       "      <td>4</td>\n",
       "    </tr>\n",
       "  </tbody>\n",
       "</table>\n",
       "</div>\n",
       "    <div class=\"colab-df-buttons\">\n",
       "\n",
       "  <div class=\"colab-df-container\">\n",
       "    <button class=\"colab-df-convert\" onclick=\"convertToInteractive('df-a8383514-099b-491b-b30b-5c4f43612e0e')\"\n",
       "            title=\"Convert this dataframe to an interactive table.\"\n",
       "            style=\"display:none;\">\n",
       "\n",
       "  <svg xmlns=\"http://www.w3.org/2000/svg\" height=\"24px\" viewBox=\"0 -960 960 960\">\n",
       "    <path d=\"M120-120v-720h720v720H120Zm60-500h600v-160H180v160Zm220 220h160v-160H400v160Zm0 220h160v-160H400v160ZM180-400h160v-160H180v160Zm440 0h160v-160H620v160ZM180-180h160v-160H180v160Zm440 0h160v-160H620v160Z\"/>\n",
       "  </svg>\n",
       "    </button>\n",
       "\n",
       "  <style>\n",
       "    .colab-df-container {\n",
       "      display:flex;\n",
       "      gap: 12px;\n",
       "    }\n",
       "\n",
       "    .colab-df-convert {\n",
       "      background-color: #E8F0FE;\n",
       "      border: none;\n",
       "      border-radius: 50%;\n",
       "      cursor: pointer;\n",
       "      display: none;\n",
       "      fill: #1967D2;\n",
       "      height: 32px;\n",
       "      padding: 0 0 0 0;\n",
       "      width: 32px;\n",
       "    }\n",
       "\n",
       "    .colab-df-convert:hover {\n",
       "      background-color: #E2EBFA;\n",
       "      box-shadow: 0px 1px 2px rgba(60, 64, 67, 0.3), 0px 1px 3px 1px rgba(60, 64, 67, 0.15);\n",
       "      fill: #174EA6;\n",
       "    }\n",
       "\n",
       "    .colab-df-buttons div {\n",
       "      margin-bottom: 4px;\n",
       "    }\n",
       "\n",
       "    [theme=dark] .colab-df-convert {\n",
       "      background-color: #3B4455;\n",
       "      fill: #D2E3FC;\n",
       "    }\n",
       "\n",
       "    [theme=dark] .colab-df-convert:hover {\n",
       "      background-color: #434B5C;\n",
       "      box-shadow: 0px 1px 3px 1px rgba(0, 0, 0, 0.15);\n",
       "      filter: drop-shadow(0px 1px 2px rgba(0, 0, 0, 0.3));\n",
       "      fill: #FFFFFF;\n",
       "    }\n",
       "  </style>\n",
       "\n",
       "    <script>\n",
       "      const buttonEl =\n",
       "        document.querySelector('#df-a8383514-099b-491b-b30b-5c4f43612e0e button.colab-df-convert');\n",
       "      buttonEl.style.display =\n",
       "        google.colab.kernel.accessAllowed ? 'block' : 'none';\n",
       "\n",
       "      async function convertToInteractive(key) {\n",
       "        const element = document.querySelector('#df-a8383514-099b-491b-b30b-5c4f43612e0e');\n",
       "        const dataTable =\n",
       "          await google.colab.kernel.invokeFunction('convertToInteractive',\n",
       "                                                    [key], {});\n",
       "        if (!dataTable) return;\n",
       "\n",
       "        const docLinkHtml = 'Like what you see? Visit the ' +\n",
       "          '<a target=\"_blank\" href=https://colab.research.google.com/notebooks/data_table.ipynb>data table notebook</a>'\n",
       "          + ' to learn more about interactive tables.';\n",
       "        element.innerHTML = '';\n",
       "        dataTable['output_type'] = 'display_data';\n",
       "        await google.colab.output.renderOutput(dataTable, element);\n",
       "        const docLink = document.createElement('div');\n",
       "        docLink.innerHTML = docLinkHtml;\n",
       "        element.appendChild(docLink);\n",
       "      }\n",
       "    </script>\n",
       "  </div>\n",
       "\n",
       "    </div>\n",
       "  </div>\n"
      ],
      "text/plain": [
       "   DATA_CRTR_YM            LT_UNQ_NO  STDG_EMD_CD INDUSTRY_CD  SLS_GRD\n",
       "0        202201  1111010100100030100     11110101         A03        4"
      ]
     },
     "execution_count": 15,
     "metadata": {},
     "output_type": "execute_result"
    }
   ],
   "source": [
    "data.head(1) # 데이터 확인"
   ]
  },
  {
   "cell_type": "code",
   "execution_count": 16,
   "metadata": {
    "executionInfo": {
     "elapsed": 1008,
     "status": "ok",
     "timestamp": 1694961084105,
     "user": {
      "displayName": "Rachel Lee",
      "userId": "18230890083877121646"
     },
     "user_tz": -540
    },
    "id": "HlUqw8tSZerD"
   },
   "outputs": [],
   "source": [
    "# 필지 코드 분할을 위해 문자열로 변환\n",
    "data['LT_UNQ_NO'] = data['LT_UNQ_NO'].astype('str')"
   ]
  },
  {
   "cell_type": "code",
   "execution_count": 17,
   "metadata": {
    "executionInfo": {
     "elapsed": 872,
     "status": "ok",
     "timestamp": 1694961084975,
     "user": {
      "displayName": "Rachel Lee",
      "userId": "18230890083877121646"
     },
     "user_tz": -540
    },
    "id": "RQDjUGB1sOh2"
   },
   "outputs": [],
   "source": [
    "# 시군구법정동코드 추출\n",
    "data['시군구동코드'] = data['LT_UNQ_NO'].str[:10]"
   ]
  },
  {
   "cell_type": "code",
   "execution_count": 18,
   "metadata": {
    "colab": {
     "base_uri": "https://localhost:8080/",
     "height": 81
    },
    "executionInfo": {
     "elapsed": 5,
     "status": "ok",
     "timestamp": 1694961084975,
     "user": {
      "displayName": "Rachel Lee",
      "userId": "18230890083877121646"
     },
     "user_tz": -540
    },
    "id": "74DTBuT0tAlV",
    "outputId": "c655a2d1-d497-45b0-cce9-a8a35bd5b8e2"
   },
   "outputs": [
    {
     "data": {
      "text/html": [
       "\n",
       "  <div id=\"df-6f05ca50-c1ed-482b-ab67-321ccbc9b538\" class=\"colab-df-container\">\n",
       "    <div>\n",
       "<style scoped>\n",
       "    .dataframe tbody tr th:only-of-type {\n",
       "        vertical-align: middle;\n",
       "    }\n",
       "\n",
       "    .dataframe tbody tr th {\n",
       "        vertical-align: top;\n",
       "    }\n",
       "\n",
       "    .dataframe thead th {\n",
       "        text-align: right;\n",
       "    }\n",
       "</style>\n",
       "<table border=\"1\" class=\"dataframe\">\n",
       "  <thead>\n",
       "    <tr style=\"text-align: right;\">\n",
       "      <th></th>\n",
       "      <th>DATA_CRTR_YM</th>\n",
       "      <th>LT_UNQ_NO</th>\n",
       "      <th>STDG_EMD_CD</th>\n",
       "      <th>INDUSTRY_CD</th>\n",
       "      <th>SLS_GRD</th>\n",
       "      <th>시군구동코드</th>\n",
       "    </tr>\n",
       "  </thead>\n",
       "  <tbody>\n",
       "    <tr>\n",
       "      <th>0</th>\n",
       "      <td>202201</td>\n",
       "      <td>1111010100100030100</td>\n",
       "      <td>11110101</td>\n",
       "      <td>A03</td>\n",
       "      <td>4</td>\n",
       "      <td>1111010100</td>\n",
       "    </tr>\n",
       "  </tbody>\n",
       "</table>\n",
       "</div>\n",
       "    <div class=\"colab-df-buttons\">\n",
       "\n",
       "  <div class=\"colab-df-container\">\n",
       "    <button class=\"colab-df-convert\" onclick=\"convertToInteractive('df-6f05ca50-c1ed-482b-ab67-321ccbc9b538')\"\n",
       "            title=\"Convert this dataframe to an interactive table.\"\n",
       "            style=\"display:none;\">\n",
       "\n",
       "  <svg xmlns=\"http://www.w3.org/2000/svg\" height=\"24px\" viewBox=\"0 -960 960 960\">\n",
       "    <path d=\"M120-120v-720h720v720H120Zm60-500h600v-160H180v160Zm220 220h160v-160H400v160Zm0 220h160v-160H400v160ZM180-400h160v-160H180v160Zm440 0h160v-160H620v160ZM180-180h160v-160H180v160Zm440 0h160v-160H620v160Z\"/>\n",
       "  </svg>\n",
       "    </button>\n",
       "\n",
       "  <style>\n",
       "    .colab-df-container {\n",
       "      display:flex;\n",
       "      gap: 12px;\n",
       "    }\n",
       "\n",
       "    .colab-df-convert {\n",
       "      background-color: #E8F0FE;\n",
       "      border: none;\n",
       "      border-radius: 50%;\n",
       "      cursor: pointer;\n",
       "      display: none;\n",
       "      fill: #1967D2;\n",
       "      height: 32px;\n",
       "      padding: 0 0 0 0;\n",
       "      width: 32px;\n",
       "    }\n",
       "\n",
       "    .colab-df-convert:hover {\n",
       "      background-color: #E2EBFA;\n",
       "      box-shadow: 0px 1px 2px rgba(60, 64, 67, 0.3), 0px 1px 3px 1px rgba(60, 64, 67, 0.15);\n",
       "      fill: #174EA6;\n",
       "    }\n",
       "\n",
       "    .colab-df-buttons div {\n",
       "      margin-bottom: 4px;\n",
       "    }\n",
       "\n",
       "    [theme=dark] .colab-df-convert {\n",
       "      background-color: #3B4455;\n",
       "      fill: #D2E3FC;\n",
       "    }\n",
       "\n",
       "    [theme=dark] .colab-df-convert:hover {\n",
       "      background-color: #434B5C;\n",
       "      box-shadow: 0px 1px 3px 1px rgba(0, 0, 0, 0.15);\n",
       "      filter: drop-shadow(0px 1px 2px rgba(0, 0, 0, 0.3));\n",
       "      fill: #FFFFFF;\n",
       "    }\n",
       "  </style>\n",
       "\n",
       "    <script>\n",
       "      const buttonEl =\n",
       "        document.querySelector('#df-6f05ca50-c1ed-482b-ab67-321ccbc9b538 button.colab-df-convert');\n",
       "      buttonEl.style.display =\n",
       "        google.colab.kernel.accessAllowed ? 'block' : 'none';\n",
       "\n",
       "      async function convertToInteractive(key) {\n",
       "        const element = document.querySelector('#df-6f05ca50-c1ed-482b-ab67-321ccbc9b538');\n",
       "        const dataTable =\n",
       "          await google.colab.kernel.invokeFunction('convertToInteractive',\n",
       "                                                    [key], {});\n",
       "        if (!dataTable) return;\n",
       "\n",
       "        const docLinkHtml = 'Like what you see? Visit the ' +\n",
       "          '<a target=\"_blank\" href=https://colab.research.google.com/notebooks/data_table.ipynb>data table notebook</a>'\n",
       "          + ' to learn more about interactive tables.';\n",
       "        element.innerHTML = '';\n",
       "        dataTable['output_type'] = 'display_data';\n",
       "        await google.colab.output.renderOutput(dataTable, element);\n",
       "        const docLink = document.createElement('div');\n",
       "        docLink.innerHTML = docLinkHtml;\n",
       "        element.appendChild(docLink);\n",
       "      }\n",
       "    </script>\n",
       "  </div>\n",
       "\n",
       "    </div>\n",
       "  </div>\n"
      ],
      "text/plain": [
       "   DATA_CRTR_YM            LT_UNQ_NO  STDG_EMD_CD INDUSTRY_CD  SLS_GRD  \\\n",
       "0        202201  1111010100100030100     11110101         A03        4   \n",
       "\n",
       "       시군구동코드  \n",
       "0  1111010100  "
      ]
     },
     "execution_count": 18,
     "metadata": {},
     "output_type": "execute_result"
    }
   ],
   "source": [
    "data.head(1)"
   ]
  },
  {
   "cell_type": "code",
   "execution_count": 19,
   "metadata": {
    "colab": {
     "base_uri": "https://localhost:8080/",
     "height": 81
    },
    "executionInfo": {
     "elapsed": 287,
     "status": "ok",
     "timestamp": 1694961085541,
     "user": {
      "displayName": "Rachel Lee",
      "userId": "18230890083877121646"
     },
     "user_tz": -540
    },
    "id": "YPJOTW0htl3h",
    "outputId": "e350fe41-2bc3-46c4-8c28-95cbc9d03e02"
   },
   "outputs": [
    {
     "data": {
      "text/html": [
       "\n",
       "  <div id=\"df-7a68785a-d1b1-4647-930e-7cb2835bcec0\" class=\"colab-df-container\">\n",
       "    <div>\n",
       "<style scoped>\n",
       "    .dataframe tbody tr th:only-of-type {\n",
       "        vertical-align: middle;\n",
       "    }\n",
       "\n",
       "    .dataframe tbody tr th {\n",
       "        vertical-align: top;\n",
       "    }\n",
       "\n",
       "    .dataframe thead th {\n",
       "        text-align: right;\n",
       "    }\n",
       "</style>\n",
       "<table border=\"1\" class=\"dataframe\">\n",
       "  <thead>\n",
       "    <tr style=\"text-align: right;\">\n",
       "      <th></th>\n",
       "      <th>DATA_CRTR_YM</th>\n",
       "      <th>LT_UNQ_NO</th>\n",
       "      <th>STDG_EMD_CD</th>\n",
       "      <th>INDUSTRY_CD</th>\n",
       "      <th>SLS_GRD</th>\n",
       "      <th>시군구동코드</th>\n",
       "      <th>법정동코드</th>\n",
       "      <th>시군구명</th>\n",
       "      <th>읍면동명</th>\n",
       "    </tr>\n",
       "  </thead>\n",
       "  <tbody>\n",
       "    <tr>\n",
       "      <th>0</th>\n",
       "      <td>202201</td>\n",
       "      <td>1111010100100030100</td>\n",
       "      <td>11110101</td>\n",
       "      <td>A03</td>\n",
       "      <td>4</td>\n",
       "      <td>1111010100</td>\n",
       "      <td>1111010100</td>\n",
       "      <td>종로구</td>\n",
       "      <td>청운동</td>\n",
       "    </tr>\n",
       "  </tbody>\n",
       "</table>\n",
       "</div>\n",
       "    <div class=\"colab-df-buttons\">\n",
       "\n",
       "  <div class=\"colab-df-container\">\n",
       "    <button class=\"colab-df-convert\" onclick=\"convertToInteractive('df-7a68785a-d1b1-4647-930e-7cb2835bcec0')\"\n",
       "            title=\"Convert this dataframe to an interactive table.\"\n",
       "            style=\"display:none;\">\n",
       "\n",
       "  <svg xmlns=\"http://www.w3.org/2000/svg\" height=\"24px\" viewBox=\"0 -960 960 960\">\n",
       "    <path d=\"M120-120v-720h720v720H120Zm60-500h600v-160H180v160Zm220 220h160v-160H400v160Zm0 220h160v-160H400v160ZM180-400h160v-160H180v160Zm440 0h160v-160H620v160ZM180-180h160v-160H180v160Zm440 0h160v-160H620v160Z\"/>\n",
       "  </svg>\n",
       "    </button>\n",
       "\n",
       "  <style>\n",
       "    .colab-df-container {\n",
       "      display:flex;\n",
       "      gap: 12px;\n",
       "    }\n",
       "\n",
       "    .colab-df-convert {\n",
       "      background-color: #E8F0FE;\n",
       "      border: none;\n",
       "      border-radius: 50%;\n",
       "      cursor: pointer;\n",
       "      display: none;\n",
       "      fill: #1967D2;\n",
       "      height: 32px;\n",
       "      padding: 0 0 0 0;\n",
       "      width: 32px;\n",
       "    }\n",
       "\n",
       "    .colab-df-convert:hover {\n",
       "      background-color: #E2EBFA;\n",
       "      box-shadow: 0px 1px 2px rgba(60, 64, 67, 0.3), 0px 1px 3px 1px rgba(60, 64, 67, 0.15);\n",
       "      fill: #174EA6;\n",
       "    }\n",
       "\n",
       "    .colab-df-buttons div {\n",
       "      margin-bottom: 4px;\n",
       "    }\n",
       "\n",
       "    [theme=dark] .colab-df-convert {\n",
       "      background-color: #3B4455;\n",
       "      fill: #D2E3FC;\n",
       "    }\n",
       "\n",
       "    [theme=dark] .colab-df-convert:hover {\n",
       "      background-color: #434B5C;\n",
       "      box-shadow: 0px 1px 3px 1px rgba(0, 0, 0, 0.15);\n",
       "      filter: drop-shadow(0px 1px 2px rgba(0, 0, 0, 0.3));\n",
       "      fill: #FFFFFF;\n",
       "    }\n",
       "  </style>\n",
       "\n",
       "    <script>\n",
       "      const buttonEl =\n",
       "        document.querySelector('#df-7a68785a-d1b1-4647-930e-7cb2835bcec0 button.colab-df-convert');\n",
       "      buttonEl.style.display =\n",
       "        google.colab.kernel.accessAllowed ? 'block' : 'none';\n",
       "\n",
       "      async function convertToInteractive(key) {\n",
       "        const element = document.querySelector('#df-7a68785a-d1b1-4647-930e-7cb2835bcec0');\n",
       "        const dataTable =\n",
       "          await google.colab.kernel.invokeFunction('convertToInteractive',\n",
       "                                                    [key], {});\n",
       "        if (!dataTable) return;\n",
       "\n",
       "        const docLinkHtml = 'Like what you see? Visit the ' +\n",
       "          '<a target=\"_blank\" href=https://colab.research.google.com/notebooks/data_table.ipynb>data table notebook</a>'\n",
       "          + ' to learn more about interactive tables.';\n",
       "        element.innerHTML = '';\n",
       "        dataTable['output_type'] = 'display_data';\n",
       "        await google.colab.output.renderOutput(dataTable, element);\n",
       "        const docLink = document.createElement('div');\n",
       "        docLink.innerHTML = docLinkHtml;\n",
       "        element.appendChild(docLink);\n",
       "      }\n",
       "    </script>\n",
       "  </div>\n",
       "\n",
       "    </div>\n",
       "  </div>\n"
      ],
      "text/plain": [
       "   DATA_CRTR_YM            LT_UNQ_NO  STDG_EMD_CD INDUSTRY_CD  SLS_GRD  \\\n",
       "0        202201  1111010100100030100     11110101         A03        4   \n",
       "\n",
       "       시군구동코드       법정동코드 시군구명 읍면동명  \n",
       "0  1111010100  1111010100  종로구  청운동  "
      ]
     },
     "execution_count": 19,
     "metadata": {},
     "output_type": "execute_result"
    }
   ],
   "source": [
    "data = pd.merge(data, seoul_df, how='left', left_on='시군구동코드', right_on = '법정동코드')\n",
    "data.head(1)"
   ]
  },
  {
   "cell_type": "code",
   "execution_count": 20,
   "metadata": {
    "executionInfo": {
     "elapsed": 1048,
     "status": "ok",
     "timestamp": 1694961086587,
     "user": {
      "displayName": "Rachel Lee",
      "userId": "18230890083877121646"
     },
     "user_tz": -540
    },
    "id": "sd_AZef22YX1"
   },
   "outputs": [],
   "source": [
    "# 본번, 부번(세부주소) 추출\n",
    "data['본번'] = data['LT_UNQ_NO'].str[11:15].astype(int)\n",
    "data['부번'] = data['LT_UNQ_NO'].str[15:19].astype(int)"
   ]
  },
  {
   "cell_type": "code",
   "execution_count": 21,
   "metadata": {
    "colab": {
     "base_uri": "https://localhost:8080/",
     "height": 81
    },
    "executionInfo": {
     "elapsed": 3,
     "status": "ok",
     "timestamp": 1694961086587,
     "user": {
      "displayName": "Rachel Lee",
      "userId": "18230890083877121646"
     },
     "user_tz": -540
    },
    "id": "TR4bEuop3PFt",
    "outputId": "7d648789-7a99-40f2-de84-a50a0d1caf32"
   },
   "outputs": [
    {
     "data": {
      "text/html": [
       "\n",
       "  <div id=\"df-eaf2e1b9-5766-4e24-a3ff-eab3a02d0410\" class=\"colab-df-container\">\n",
       "    <div>\n",
       "<style scoped>\n",
       "    .dataframe tbody tr th:only-of-type {\n",
       "        vertical-align: middle;\n",
       "    }\n",
       "\n",
       "    .dataframe tbody tr th {\n",
       "        vertical-align: top;\n",
       "    }\n",
       "\n",
       "    .dataframe thead th {\n",
       "        text-align: right;\n",
       "    }\n",
       "</style>\n",
       "<table border=\"1\" class=\"dataframe\">\n",
       "  <thead>\n",
       "    <tr style=\"text-align: right;\">\n",
       "      <th></th>\n",
       "      <th>DATA_CRTR_YM</th>\n",
       "      <th>LT_UNQ_NO</th>\n",
       "      <th>STDG_EMD_CD</th>\n",
       "      <th>INDUSTRY_CD</th>\n",
       "      <th>SLS_GRD</th>\n",
       "      <th>시군구동코드</th>\n",
       "      <th>법정동코드</th>\n",
       "      <th>시군구명</th>\n",
       "      <th>읍면동명</th>\n",
       "      <th>본번</th>\n",
       "      <th>부번</th>\n",
       "    </tr>\n",
       "  </thead>\n",
       "  <tbody>\n",
       "    <tr>\n",
       "      <th>0</th>\n",
       "      <td>202201</td>\n",
       "      <td>1111010100100030100</td>\n",
       "      <td>11110101</td>\n",
       "      <td>A03</td>\n",
       "      <td>4</td>\n",
       "      <td>1111010100</td>\n",
       "      <td>1111010100</td>\n",
       "      <td>종로구</td>\n",
       "      <td>청운동</td>\n",
       "      <td>3</td>\n",
       "      <td>100</td>\n",
       "    </tr>\n",
       "  </tbody>\n",
       "</table>\n",
       "</div>\n",
       "    <div class=\"colab-df-buttons\">\n",
       "\n",
       "  <div class=\"colab-df-container\">\n",
       "    <button class=\"colab-df-convert\" onclick=\"convertToInteractive('df-eaf2e1b9-5766-4e24-a3ff-eab3a02d0410')\"\n",
       "            title=\"Convert this dataframe to an interactive table.\"\n",
       "            style=\"display:none;\">\n",
       "\n",
       "  <svg xmlns=\"http://www.w3.org/2000/svg\" height=\"24px\" viewBox=\"0 -960 960 960\">\n",
       "    <path d=\"M120-120v-720h720v720H120Zm60-500h600v-160H180v160Zm220 220h160v-160H400v160Zm0 220h160v-160H400v160ZM180-400h160v-160H180v160Zm440 0h160v-160H620v160ZM180-180h160v-160H180v160Zm440 0h160v-160H620v160Z\"/>\n",
       "  </svg>\n",
       "    </button>\n",
       "\n",
       "  <style>\n",
       "    .colab-df-container {\n",
       "      display:flex;\n",
       "      gap: 12px;\n",
       "    }\n",
       "\n",
       "    .colab-df-convert {\n",
       "      background-color: #E8F0FE;\n",
       "      border: none;\n",
       "      border-radius: 50%;\n",
       "      cursor: pointer;\n",
       "      display: none;\n",
       "      fill: #1967D2;\n",
       "      height: 32px;\n",
       "      padding: 0 0 0 0;\n",
       "      width: 32px;\n",
       "    }\n",
       "\n",
       "    .colab-df-convert:hover {\n",
       "      background-color: #E2EBFA;\n",
       "      box-shadow: 0px 1px 2px rgba(60, 64, 67, 0.3), 0px 1px 3px 1px rgba(60, 64, 67, 0.15);\n",
       "      fill: #174EA6;\n",
       "    }\n",
       "\n",
       "    .colab-df-buttons div {\n",
       "      margin-bottom: 4px;\n",
       "    }\n",
       "\n",
       "    [theme=dark] .colab-df-convert {\n",
       "      background-color: #3B4455;\n",
       "      fill: #D2E3FC;\n",
       "    }\n",
       "\n",
       "    [theme=dark] .colab-df-convert:hover {\n",
       "      background-color: #434B5C;\n",
       "      box-shadow: 0px 1px 3px 1px rgba(0, 0, 0, 0.15);\n",
       "      filter: drop-shadow(0px 1px 2px rgba(0, 0, 0, 0.3));\n",
       "      fill: #FFFFFF;\n",
       "    }\n",
       "  </style>\n",
       "\n",
       "    <script>\n",
       "      const buttonEl =\n",
       "        document.querySelector('#df-eaf2e1b9-5766-4e24-a3ff-eab3a02d0410 button.colab-df-convert');\n",
       "      buttonEl.style.display =\n",
       "        google.colab.kernel.accessAllowed ? 'block' : 'none';\n",
       "\n",
       "      async function convertToInteractive(key) {\n",
       "        const element = document.querySelector('#df-eaf2e1b9-5766-4e24-a3ff-eab3a02d0410');\n",
       "        const dataTable =\n",
       "          await google.colab.kernel.invokeFunction('convertToInteractive',\n",
       "                                                    [key], {});\n",
       "        if (!dataTable) return;\n",
       "\n",
       "        const docLinkHtml = 'Like what you see? Visit the ' +\n",
       "          '<a target=\"_blank\" href=https://colab.research.google.com/notebooks/data_table.ipynb>data table notebook</a>'\n",
       "          + ' to learn more about interactive tables.';\n",
       "        element.innerHTML = '';\n",
       "        dataTable['output_type'] = 'display_data';\n",
       "        await google.colab.output.renderOutput(dataTable, element);\n",
       "        const docLink = document.createElement('div');\n",
       "        docLink.innerHTML = docLinkHtml;\n",
       "        element.appendChild(docLink);\n",
       "      }\n",
       "    </script>\n",
       "  </div>\n",
       "\n",
       "    </div>\n",
       "  </div>\n"
      ],
      "text/plain": [
       "   DATA_CRTR_YM            LT_UNQ_NO  STDG_EMD_CD INDUSTRY_CD  SLS_GRD  \\\n",
       "0        202201  1111010100100030100     11110101         A03        4   \n",
       "\n",
       "       시군구동코드       법정동코드 시군구명 읍면동명  본번   부번  \n",
       "0  1111010100  1111010100  종로구  청운동   3  100  "
      ]
     },
     "execution_count": 21,
     "metadata": {},
     "output_type": "execute_result"
    }
   ],
   "source": [
    "data.head(1)"
   ]
  },
  {
   "cell_type": "code",
   "execution_count": 22,
   "metadata": {
    "colab": {
     "base_uri": "https://localhost:8080/",
     "height": 81
    },
    "executionInfo": {
     "elapsed": 2251,
     "status": "ok",
     "timestamp": 1694961088836,
     "user": {
      "displayName": "Rachel Lee",
      "userId": "18230890083877121646"
     },
     "user_tz": -540
    },
    "id": "Zr42rfDj3w-s",
    "outputId": "559ee85d-54bb-4914-8163-6865e9de40bd"
   },
   "outputs": [
    {
     "data": {
      "text/html": [
       "\n",
       "  <div id=\"df-e6bc6b28-bfd7-404e-88a4-7344e95992d5\" class=\"colab-df-container\">\n",
       "    <div>\n",
       "<style scoped>\n",
       "    .dataframe tbody tr th:only-of-type {\n",
       "        vertical-align: middle;\n",
       "    }\n",
       "\n",
       "    .dataframe tbody tr th {\n",
       "        vertical-align: top;\n",
       "    }\n",
       "\n",
       "    .dataframe thead th {\n",
       "        text-align: right;\n",
       "    }\n",
       "</style>\n",
       "<table border=\"1\" class=\"dataframe\">\n",
       "  <thead>\n",
       "    <tr style=\"text-align: right;\">\n",
       "      <th></th>\n",
       "      <th>DATA_CRTR_YM</th>\n",
       "      <th>LT_UNQ_NO</th>\n",
       "      <th>STDG_EMD_CD</th>\n",
       "      <th>INDUSTRY_CD</th>\n",
       "      <th>SLS_GRD</th>\n",
       "      <th>시군구동코드</th>\n",
       "      <th>법정동코드</th>\n",
       "      <th>시군구명</th>\n",
       "      <th>읍면동명</th>\n",
       "      <th>본번</th>\n",
       "      <th>부번</th>\n",
       "      <th>도로명주소</th>\n",
       "    </tr>\n",
       "  </thead>\n",
       "  <tbody>\n",
       "    <tr>\n",
       "      <th>0</th>\n",
       "      <td>202201</td>\n",
       "      <td>1111010100100030100</td>\n",
       "      <td>11110101</td>\n",
       "      <td>A03</td>\n",
       "      <td>4</td>\n",
       "      <td>1111010100</td>\n",
       "      <td>1111010100</td>\n",
       "      <td>종로구</td>\n",
       "      <td>청운동</td>\n",
       "      <td>3</td>\n",
       "      <td>100</td>\n",
       "      <td>서울특별시 종로구 청운동 3-100</td>\n",
       "    </tr>\n",
       "  </tbody>\n",
       "</table>\n",
       "</div>\n",
       "    <div class=\"colab-df-buttons\">\n",
       "\n",
       "  <div class=\"colab-df-container\">\n",
       "    <button class=\"colab-df-convert\" onclick=\"convertToInteractive('df-e6bc6b28-bfd7-404e-88a4-7344e95992d5')\"\n",
       "            title=\"Convert this dataframe to an interactive table.\"\n",
       "            style=\"display:none;\">\n",
       "\n",
       "  <svg xmlns=\"http://www.w3.org/2000/svg\" height=\"24px\" viewBox=\"0 -960 960 960\">\n",
       "    <path d=\"M120-120v-720h720v720H120Zm60-500h600v-160H180v160Zm220 220h160v-160H400v160Zm0 220h160v-160H400v160ZM180-400h160v-160H180v160Zm440 0h160v-160H620v160ZM180-180h160v-160H180v160Zm440 0h160v-160H620v160Z\"/>\n",
       "  </svg>\n",
       "    </button>\n",
       "\n",
       "  <style>\n",
       "    .colab-df-container {\n",
       "      display:flex;\n",
       "      gap: 12px;\n",
       "    }\n",
       "\n",
       "    .colab-df-convert {\n",
       "      background-color: #E8F0FE;\n",
       "      border: none;\n",
       "      border-radius: 50%;\n",
       "      cursor: pointer;\n",
       "      display: none;\n",
       "      fill: #1967D2;\n",
       "      height: 32px;\n",
       "      padding: 0 0 0 0;\n",
       "      width: 32px;\n",
       "    }\n",
       "\n",
       "    .colab-df-convert:hover {\n",
       "      background-color: #E2EBFA;\n",
       "      box-shadow: 0px 1px 2px rgba(60, 64, 67, 0.3), 0px 1px 3px 1px rgba(60, 64, 67, 0.15);\n",
       "      fill: #174EA6;\n",
       "    }\n",
       "\n",
       "    .colab-df-buttons div {\n",
       "      margin-bottom: 4px;\n",
       "    }\n",
       "\n",
       "    [theme=dark] .colab-df-convert {\n",
       "      background-color: #3B4455;\n",
       "      fill: #D2E3FC;\n",
       "    }\n",
       "\n",
       "    [theme=dark] .colab-df-convert:hover {\n",
       "      background-color: #434B5C;\n",
       "      box-shadow: 0px 1px 3px 1px rgba(0, 0, 0, 0.15);\n",
       "      filter: drop-shadow(0px 1px 2px rgba(0, 0, 0, 0.3));\n",
       "      fill: #FFFFFF;\n",
       "    }\n",
       "  </style>\n",
       "\n",
       "    <script>\n",
       "      const buttonEl =\n",
       "        document.querySelector('#df-e6bc6b28-bfd7-404e-88a4-7344e95992d5 button.colab-df-convert');\n",
       "      buttonEl.style.display =\n",
       "        google.colab.kernel.accessAllowed ? 'block' : 'none';\n",
       "\n",
       "      async function convertToInteractive(key) {\n",
       "        const element = document.querySelector('#df-e6bc6b28-bfd7-404e-88a4-7344e95992d5');\n",
       "        const dataTable =\n",
       "          await google.colab.kernel.invokeFunction('convertToInteractive',\n",
       "                                                    [key], {});\n",
       "        if (!dataTable) return;\n",
       "\n",
       "        const docLinkHtml = 'Like what you see? Visit the ' +\n",
       "          '<a target=\"_blank\" href=https://colab.research.google.com/notebooks/data_table.ipynb>data table notebook</a>'\n",
       "          + ' to learn more about interactive tables.';\n",
       "        element.innerHTML = '';\n",
       "        dataTable['output_type'] = 'display_data';\n",
       "        await google.colab.output.renderOutput(dataTable, element);\n",
       "        const docLink = document.createElement('div');\n",
       "        docLink.innerHTML = docLinkHtml;\n",
       "        element.appendChild(docLink);\n",
       "      }\n",
       "    </script>\n",
       "  </div>\n",
       "\n",
       "    </div>\n",
       "  </div>\n"
      ],
      "text/plain": [
       "   DATA_CRTR_YM            LT_UNQ_NO  STDG_EMD_CD INDUSTRY_CD  SLS_GRD  \\\n",
       "0        202201  1111010100100030100     11110101         A03        4   \n",
       "\n",
       "       시군구동코드       법정동코드 시군구명 읍면동명  본번   부번                도로명주소  \n",
       "0  1111010100  1111010100  종로구  청운동   3  100  서울특별시 종로구 청운동 3-100  "
      ]
     },
     "execution_count": 22,
     "metadata": {},
     "output_type": "execute_result"
    }
   ],
   "source": [
    "# 최종 주소 생성\n",
    "data['도로명주소'] = '서울특별시'+ ' ' +data['시군구명']+ ' '+data['읍면동명']+ ' '+data['본번'].astype(str)+ '-'+data['부번'].astype(str)\n",
    "data.head(1)"
   ]
  },
  {
   "cell_type": "code",
   "execution_count": 23,
   "metadata": {
    "colab": {
     "base_uri": "https://localhost:8080/",
     "height": 81
    },
    "executionInfo": {
     "elapsed": 483,
     "status": "ok",
     "timestamp": 1694961089316,
     "user": {
      "displayName": "Rachel Lee",
      "userId": "18230890083877121646"
     },
     "user_tz": -540
    },
    "id": "m8e0GZQ_4HGY",
    "outputId": "82f1d623-601f-4fde-a48f-a90aabe56ca1"
   },
   "outputs": [
    {
     "data": {
      "text/html": [
       "\n",
       "  <div id=\"df-3725620a-ba37-4f5e-99cc-e73920d0547c\" class=\"colab-df-container\">\n",
       "    <div>\n",
       "<style scoped>\n",
       "    .dataframe tbody tr th:only-of-type {\n",
       "        vertical-align: middle;\n",
       "    }\n",
       "\n",
       "    .dataframe tbody tr th {\n",
       "        vertical-align: top;\n",
       "    }\n",
       "\n",
       "    .dataframe thead th {\n",
       "        text-align: right;\n",
       "    }\n",
       "</style>\n",
       "<table border=\"1\" class=\"dataframe\">\n",
       "  <thead>\n",
       "    <tr style=\"text-align: right;\">\n",
       "      <th></th>\n",
       "      <th>DATA_CRTR_YM</th>\n",
       "      <th>LT_UNQ_NO</th>\n",
       "      <th>STDG_EMD_CD</th>\n",
       "      <th>INDUSTRY_CD</th>\n",
       "      <th>SLS_GRD</th>\n",
       "      <th>시군구명</th>\n",
       "      <th>읍면동명</th>\n",
       "      <th>도로명주소</th>\n",
       "    </tr>\n",
       "  </thead>\n",
       "  <tbody>\n",
       "    <tr>\n",
       "      <th>0</th>\n",
       "      <td>202201</td>\n",
       "      <td>1111010100100030100</td>\n",
       "      <td>11110101</td>\n",
       "      <td>A03</td>\n",
       "      <td>4</td>\n",
       "      <td>종로구</td>\n",
       "      <td>청운동</td>\n",
       "      <td>서울특별시 종로구 청운동 3-100</td>\n",
       "    </tr>\n",
       "  </tbody>\n",
       "</table>\n",
       "</div>\n",
       "    <div class=\"colab-df-buttons\">\n",
       "\n",
       "  <div class=\"colab-df-container\">\n",
       "    <button class=\"colab-df-convert\" onclick=\"convertToInteractive('df-3725620a-ba37-4f5e-99cc-e73920d0547c')\"\n",
       "            title=\"Convert this dataframe to an interactive table.\"\n",
       "            style=\"display:none;\">\n",
       "\n",
       "  <svg xmlns=\"http://www.w3.org/2000/svg\" height=\"24px\" viewBox=\"0 -960 960 960\">\n",
       "    <path d=\"M120-120v-720h720v720H120Zm60-500h600v-160H180v160Zm220 220h160v-160H400v160Zm0 220h160v-160H400v160ZM180-400h160v-160H180v160Zm440 0h160v-160H620v160ZM180-180h160v-160H180v160Zm440 0h160v-160H620v160Z\"/>\n",
       "  </svg>\n",
       "    </button>\n",
       "\n",
       "  <style>\n",
       "    .colab-df-container {\n",
       "      display:flex;\n",
       "      gap: 12px;\n",
       "    }\n",
       "\n",
       "    .colab-df-convert {\n",
       "      background-color: #E8F0FE;\n",
       "      border: none;\n",
       "      border-radius: 50%;\n",
       "      cursor: pointer;\n",
       "      display: none;\n",
       "      fill: #1967D2;\n",
       "      height: 32px;\n",
       "      padding: 0 0 0 0;\n",
       "      width: 32px;\n",
       "    }\n",
       "\n",
       "    .colab-df-convert:hover {\n",
       "      background-color: #E2EBFA;\n",
       "      box-shadow: 0px 1px 2px rgba(60, 64, 67, 0.3), 0px 1px 3px 1px rgba(60, 64, 67, 0.15);\n",
       "      fill: #174EA6;\n",
       "    }\n",
       "\n",
       "    .colab-df-buttons div {\n",
       "      margin-bottom: 4px;\n",
       "    }\n",
       "\n",
       "    [theme=dark] .colab-df-convert {\n",
       "      background-color: #3B4455;\n",
       "      fill: #D2E3FC;\n",
       "    }\n",
       "\n",
       "    [theme=dark] .colab-df-convert:hover {\n",
       "      background-color: #434B5C;\n",
       "      box-shadow: 0px 1px 3px 1px rgba(0, 0, 0, 0.15);\n",
       "      filter: drop-shadow(0px 1px 2px rgba(0, 0, 0, 0.3));\n",
       "      fill: #FFFFFF;\n",
       "    }\n",
       "  </style>\n",
       "\n",
       "    <script>\n",
       "      const buttonEl =\n",
       "        document.querySelector('#df-3725620a-ba37-4f5e-99cc-e73920d0547c button.colab-df-convert');\n",
       "      buttonEl.style.display =\n",
       "        google.colab.kernel.accessAllowed ? 'block' : 'none';\n",
       "\n",
       "      async function convertToInteractive(key) {\n",
       "        const element = document.querySelector('#df-3725620a-ba37-4f5e-99cc-e73920d0547c');\n",
       "        const dataTable =\n",
       "          await google.colab.kernel.invokeFunction('convertToInteractive',\n",
       "                                                    [key], {});\n",
       "        if (!dataTable) return;\n",
       "\n",
       "        const docLinkHtml = 'Like what you see? Visit the ' +\n",
       "          '<a target=\"_blank\" href=https://colab.research.google.com/notebooks/data_table.ipynb>data table notebook</a>'\n",
       "          + ' to learn more about interactive tables.';\n",
       "        element.innerHTML = '';\n",
       "        dataTable['output_type'] = 'display_data';\n",
       "        await google.colab.output.renderOutput(dataTable, element);\n",
       "        const docLink = document.createElement('div');\n",
       "        docLink.innerHTML = docLinkHtml;\n",
       "        element.appendChild(docLink);\n",
       "      }\n",
       "    </script>\n",
       "  </div>\n",
       "\n",
       "    </div>\n",
       "  </div>\n"
      ],
      "text/plain": [
       "   DATA_CRTR_YM            LT_UNQ_NO  STDG_EMD_CD INDUSTRY_CD  SLS_GRD 시군구명  \\\n",
       "0        202201  1111010100100030100     11110101         A03        4  종로구   \n",
       "\n",
       "  읍면동명                도로명주소  \n",
       "0  청운동  서울특별시 종로구 청운동 3-100  "
      ]
     },
     "execution_count": 23,
     "metadata": {},
     "output_type": "execute_result"
    }
   ],
   "source": [
    "# 필요 주소 제외하고 데이터 생성\n",
    "data_plus = data[['DATA_CRTR_YM','LT_UNQ_NO','STDG_EMD_CD', 'INDUSTRY_CD', 'SLS_GRD','시군구명','읍면동명','도로명주소']]\n",
    "data_plus.head(1)"
   ]
  },
  {
   "cell_type": "code",
   "execution_count": 27,
   "metadata": {
    "executionInfo": {
     "elapsed": 7826,
     "status": "ok",
     "timestamp": 1694961116634,
     "user": {
      "displayName": "Rachel Lee",
      "userId": "18230890083877121646"
     },
     "user_tz": -540
    },
    "id": "lEb1BHsr6y-P"
   },
   "outputs": [],
   "source": [
    "# 원본데이터 + 시군구 + 법정동명 + 도로명주소 까지 포함된 데이터\n",
    "data_plus.to_csv('/content/drive/MyDrive/ML프로젝트_우리사이/data/gis_datas/data_구동주소추가.csv', encoding = 'cp949')"
   ]
  },
  {
   "cell_type": "markdown",
   "metadata": {
    "id": "7bkoMIf7LKEG"
   },
   "source": [
    "### [1-2] 지오코딩용 데이터 생성"
   ]
  },
  {
   "cell_type": "code",
   "execution_count": null,
   "metadata": {
    "executionInfo": {
     "elapsed": 7,
     "status": "aborted",
     "timestamp": 1694961089316,
     "user": {
      "displayName": "Rachel Lee",
      "userId": "18230890083877121646"
     },
     "user_tz": -540
    },
    "id": "9piha_p8-_Op"
   },
   "outputs": [],
   "source": [
    "# 지오코딩용 데이터\n",
    "data_for_geo= data[['LT_UNQ_NO','도로명주소']]\n",
    "data_for_geo = data_for_geo.drop_duplicates()\n",
    "data_for_geo = data_for_geo.reset_index()[['LT_UNQ_NO','도로명주소']]"
   ]
  },
  {
   "cell_type": "code",
   "execution_count": null,
   "metadata": {
    "executionInfo": {
     "elapsed": 7,
     "status": "aborted",
     "timestamp": 1694961089316,
     "user": {
      "displayName": "Rachel Lee",
      "userId": "18230890083877121646"
     },
     "user_tz": -540
    },
    "id": "nKQGi1x-A-zW"
   },
   "outputs": [],
   "source": [
    "data_for_geo.to_csv('C:\\\\Users\\\\NT551XCJ\\\\Desktop\\\\Code\\\\학습데이터 전처리\\\\대회제공데이터\\\\필지단위 소상공인 매출등급 정보.csv', encoding = 'cp949')"
   ]
  },
  {
   "cell_type": "code",
   "execution_count": null,
   "metadata": {
    "executionInfo": {
     "elapsed": 8,
     "status": "aborted",
     "timestamp": 1694961089317,
     "user": {
      "displayName": "Rachel Lee",
      "userId": "18230890083877121646"
     },
     "user_tz": -540
    },
    "id": "jvphcsZV-5bg"
   },
   "outputs": [],
   "source": [
    "data_for_geo.shape[0]"
   ]
  },
  {
   "cell_type": "code",
   "execution_count": null,
   "metadata": {
    "executionInfo": {
     "elapsed": 8,
     "status": "aborted",
     "timestamp": 1694961089317,
     "user": {
      "displayName": "Rachel Lee",
      "userId": "18230890083877121646"
     },
     "user_tz": -540
    },
    "id": "mB9wtZfBCAT3"
   },
   "outputs": [],
   "source": [
    "data_for_geo_1 = data_for_geo.iloc[:5000, :]\n",
    "data_for_geo_2 = data_for_geo.iloc[5000:10000, :]\n",
    "data_for_geo_3 = data_for_geo.iloc[10000:20000, :]\n",
    "data_for_geo_4 = data_for_geo.iloc[20000:30000, :]\n",
    "data_for_geo_5 = data_for_geo.iloc[30000:40000, :]\n",
    "data_for_geo_6 = data_for_geo.iloc[40000:50000, :]\n",
    "data_for_geo_7 = data_for_geo.iloc[50000:60000,:]\n",
    "data_for_geo_8 = data_for_geo.iloc[60000:,:]"
   ]
  },
  {
   "cell_type": "code",
   "execution_count": null,
   "metadata": {
    "executionInfo": {
     "elapsed": 8,
     "status": "aborted",
     "timestamp": 1694961089317,
     "user": {
      "displayName": "Rachel Lee",
      "userId": "18230890083877121646"
     },
     "user_tz": -540
    },
    "id": "TWREGu10B5iT"
   },
   "outputs": [],
   "source": [
    "data_for_geo_1.shape[0] + data_for_geo_2.shape[0] + data_for_geo_3.shape[0] + data_for_geo_4.shape[0] + data_for_geo_5.shape[0] + data_for_geo_6.shape[0] +  data_for_geo_7.shape[0] + data_for_geo_8.shape[0]"
   ]
  },
  {
   "cell_type": "code",
   "execution_count": null,
   "metadata": {
    "executionInfo": {
     "elapsed": 8,
     "status": "aborted",
     "timestamp": 1694961089318,
     "user": {
      "displayName": "Rachel Lee",
      "userId": "18230890083877121646"
     },
     "user_tz": -540
    },
    "id": "wGYP2UmX-Vne"
   },
   "outputs": [],
   "source": [
    "data_for_geo_1.to_csv('/content/drive/MyDrive/ASAC/ML프로젝트_우리사이/data/gis_datas/data_for_geo_1.csv', encoding = 'cp949', index = False)\n",
    "data_for_geo_2.to_csv('/content/drive/MyDrive/ASAC/ML프로젝트_우리사이/data/gis_datas/data_for_geo_2.csv', encoding = 'cp949', index = False)\n",
    "data_for_geo_3.to_csv('/content/drive/MyDrive/ASAC/ML프로젝트_우리사이/data/gis_datas/data_for_geo_3.csv', encoding = 'cp949', index = False)\n",
    "data_for_geo_4.to_csv('/content/drive/MyDrive/ASAC/ML프로젝트_우리사이/data/gis_datas/data_for_geo_4.csv', encoding = 'cp949', index = False)\n",
    "data_for_geo_5.to_csv('/content/drive/MyDrive/ASAC/ML프로젝트_우리사이/data/gis_datas/data_for_geo_5.csv', encoding = 'cp949', index = False)\n",
    "data_for_geo_6.to_csv('/content/drive/MyDrive/ASAC/ML프로젝트_우리사이/data/gis_datas/data_for_geo_6.csv', encoding = 'cp949', index = False)\n",
    "data_for_geo_7.to_csv('/content/drive/MyDrive/ASAC/ML프로젝트_우리사이/data/gis_datas/data_for_geo_7.csv', encoding = 'cp949', index = False)\n",
    "data_for_geo_8.to_csv('/content/drive/MyDrive/ASAC/ML프로젝트_우리사이/data/gis_datas/data_for_geo_8.csv', encoding = 'cp949', index = False)"
   ]
  },
  {
   "cell_type": "markdown",
   "metadata": {
    "id": "RtrHKmrGgxry"
   },
   "source": [
    "### [1-3] 원본데이터와 QGIS로 계산한 피처 결합"
   ]
  },
  {
   "cell_type": "markdown",
   "metadata": {
    "id": "kzpAovXThB7b"
   },
   "source": [
    "#### 원본데이터"
   ]
  },
  {
   "cell_type": "code",
   "execution_count": null,
   "metadata": {
    "executionInfo": {
     "elapsed": 8,
     "status": "aborted",
     "timestamp": 1694961089318,
     "user": {
      "displayName": "Rachel Lee",
      "userId": "18230890083877121646"
     },
     "user_tz": -540
    },
    "id": "j0YezORX_Ano"
   },
   "outputs": [],
   "source": [
    "data_for_geo_1 = pd.read_csv('/content/drive/MyDrive/ASAC/ML프로젝트_우리사이/data/gis_datas/data_for_geo_1.csv', encoding = 'cp949')\n",
    "data_for_geo_2 = pd.read_csv('/content/drive/MyDrive/ASAC/ML프로젝트_우리사이/data/gis_datas/data_for_geo_2.csv', encoding = 'cp949')\n",
    "data_for_geo_3 = pd.read_csv('/content/drive/MyDrive/ASAC/ML프로젝트_우리사이/data/gis_datas/data_for_geo_3.csv', encoding = 'cp949')\n",
    "data_for_geo_4 = pd.read_csv('/content/drive/MyDrive/ASAC/ML프로젝트_우리사이/data/gis_datas/data_for_geo_4.csv', encoding = 'cp949')\n",
    "data_for_geo_5 = pd.read_csv('/content/drive/MyDrive/ASAC/ML프로젝트_우리사이/data/gis_datas/data_for_geo_5.csv', encoding = 'cp949')\n",
    "data_for_geo_6 = pd.read_csv('/content/drive/MyDrive/ASAC/ML프로젝트_우리사이/data/gis_datas/data_for_geo_6.csv', encoding = 'cp949')\n",
    "data_for_geo_7 = pd.read_csv('/content/drive/MyDrive/ASAC/ML프로젝트_우리사이/data/gis_datas/data_for_geo_7.csv', encoding = 'cp949')\n",
    "data_for_geo_8 = pd.read_csv('/content/drive/MyDrive/ASAC/ML프로젝트_우리사이/data/gis_datas/data_for_geo_8.csv', encoding = 'cp949')"
   ]
  },
  {
   "cell_type": "markdown",
   "metadata": {
    "id": "isznfWn1hER4"
   },
   "source": [
    "#### QGIS작업데이터"
   ]
  },
  {
   "cell_type": "code",
   "execution_count": null,
   "metadata": {
    "executionInfo": {
     "elapsed": 8,
     "status": "aborted",
     "timestamp": 1694961089318,
     "user": {
      "displayName": "Rachel Lee",
      "userId": "18230890083877121646"
     },
     "user_tz": -540
    },
    "id": "nzymLnFmhE0p"
   },
   "outputs": [],
   "source": [
    "data_geo_1 = pd.read_csv('/content/drive/MyDrive/ASAC/ML프로젝트_우리사이/data/gis_완료_data/1번_버스지하철시설아파트.csv', encoding = 'cp949')\n",
    "data_geo_2 = pd.read_csv('/content/drive/MyDrive/ASAC/ML프로젝트_우리사이/data/gis_완료_data/2번_버스지하철시설아파트.csv', encoding = 'cp949')\n",
    "data_geo_3 = pd.read_csv('/content/drive/MyDrive/ASAC/ML프로젝트_우리사이/data/gis_완료_data/3번_버스지하철시설아파트.csv', encoding = 'cp949')\n",
    "data_geo_4 = pd.read_csv('/content/drive/MyDrive/ASAC/ML프로젝트_우리사이/data/gis_완료_data/4번_버스지하철시설아파트.csv', encoding = 'cp949')\n",
    "data_geo_5 = pd.read_csv('/content/drive/MyDrive/ASAC/ML프로젝트_우리사이/data/gis_완료_data/5번_버스지하철시설아파트.csv', encoding = 'cp949')\n",
    "data_geo_6 = pd.read_csv('/content/drive/MyDrive/ASAC/ML프로젝트_우리사이/data/gis_완료_data/6번_버스지하철시설아파트.csv', encoding = 'cp949')\n",
    "data_geo_7 = pd.read_csv('/content/drive/MyDrive/ASAC/ML프로젝트_우리사이/data/gis_완료_data/7번_버스지하철시설아파트.csv', encoding = 'cp949')\n",
    "data_geo_8 = pd.read_csv('/content/drive/MyDrive/ASAC/ML프로젝트_우리사이/data/gis_완료_data/8번_버스지하철시설아파트.csv', encoding = 'cp949')"
   ]
  },
  {
   "cell_type": "code",
   "execution_count": null,
   "metadata": {
    "executionInfo": {
     "elapsed": 8,
     "status": "aborted",
     "timestamp": 1694961089318,
     "user": {
      "displayName": "Rachel Lee",
      "userId": "18230890083877121646"
     },
     "user_tz": -540
    },
    "id": "ULtxfMxdhE9i"
   },
   "outputs": [],
   "source": [
    "data_for_geo_1"
   ]
  },
  {
   "cell_type": "code",
   "execution_count": null,
   "metadata": {
    "executionInfo": {
     "elapsed": 9,
     "status": "aborted",
     "timestamp": 1694961089319,
     "user": {
      "displayName": "Rachel Lee",
      "userId": "18230890083877121646"
     },
     "user_tz": -540
    },
    "id": "9DyyLiqGhE_q"
   },
   "outputs": [],
   "source": [
    "data_geo_2"
   ]
  },
  {
   "cell_type": "markdown",
   "metadata": {
    "id": "skYG3v1JteAu"
   },
   "source": [
    "#### GIS데이터, 원본데이터 결합"
   ]
  },
  {
   "cell_type": "code",
   "execution_count": null,
   "metadata": {
    "executionInfo": {
     "elapsed": 8877,
     "status": "aborted",
     "timestamp": 1694961089319,
     "user": {
      "displayName": "Rachel Lee",
      "userId": "18230890083877121646"
     },
     "user_tz": -540
    },
    "id": "32ykZdeJkrdl"
   },
   "outputs": [],
   "source": [
    "data_for_geo_1['bus_counts'] = data_geo_1['bus_counts']\n",
    "data_for_geo_1['subway_counts'] = data_geo_1['subway_counts']\n",
    "data_for_geo_1['sisul_counts'] = data_geo_1['sisul_counts']\n",
    "data_for_geo_1['apt_doors_counts'] = data_geo_1['apt_doors_counts']"
   ]
  },
  {
   "cell_type": "code",
   "execution_count": null,
   "metadata": {
    "executionInfo": {
     "elapsed": 8877,
     "status": "aborted",
     "timestamp": 1694961089319,
     "user": {
      "displayName": "Rachel Lee",
      "userId": "18230890083877121646"
     },
     "user_tz": -540
    },
    "id": "Y8i5tdrgn5rx"
   },
   "outputs": [],
   "source": [
    "data_for_geo_2['bus_counts'] = data_geo_2['bus_counts']\n",
    "data_for_geo_2['subway_counts'] = data_geo_2['subway_counts']\n",
    "data_for_geo_2['sisul_counts'] = data_geo_2['sisul_counts']\n",
    "data_for_geo_2['apt_doors_counts'] = data_geo_2['apt_doors_counts']"
   ]
  },
  {
   "cell_type": "code",
   "execution_count": null,
   "metadata": {
    "executionInfo": {
     "elapsed": 8876,
     "status": "aborted",
     "timestamp": 1694961089319,
     "user": {
      "displayName": "Rachel Lee",
      "userId": "18230890083877121646"
     },
     "user_tz": -540
    },
    "id": "MH9Pm0O-n7NT"
   },
   "outputs": [],
   "source": [
    "data_for_geo_3['bus_counts'] = data_geo_3['bus_counts']\n",
    "data_for_geo_3['subway_counts'] = data_geo_3['subway_counts']\n",
    "data_for_geo_3['sisul_counts'] = data_geo_3['sisul_counts']\n",
    "data_for_geo_3['apt_doors_counts'] = data_geo_3['apt_doors_counts']"
   ]
  },
  {
   "cell_type": "code",
   "execution_count": null,
   "metadata": {
    "executionInfo": {
     "elapsed": 8875,
     "status": "aborted",
     "timestamp": 1694961089319,
     "user": {
      "displayName": "Rachel Lee",
      "userId": "18230890083877121646"
     },
     "user_tz": -540
    },
    "id": "hxq6tPcEoHzf"
   },
   "outputs": [],
   "source": [
    "data_for_geo_4['bus_counts'] = data_geo_4['bus_counts']\n",
    "data_for_geo_4['subway_counts'] = data_geo_4['subway_counts']\n",
    "data_for_geo_4['sisul_counts'] = data_geo_4['sisul_counts']\n",
    "data_for_geo_4['apt_doors_counts'] = data_geo_4['apt_doors_counts']"
   ]
  },
  {
   "cell_type": "code",
   "execution_count": null,
   "metadata": {
    "executionInfo": {
     "elapsed": 8874,
     "status": "aborted",
     "timestamp": 1694961089319,
     "user": {
      "displayName": "Rachel Lee",
      "userId": "18230890083877121646"
     },
     "user_tz": -540
    },
    "id": "cxDwUenXoJJ7"
   },
   "outputs": [],
   "source": [
    "data_for_geo_5['bus_counts'] = data_geo_5['bus_counts']\n",
    "data_for_geo_5['subway_counts'] = data_geo_5['subway_counts']\n",
    "data_for_geo_5['sisul_counts'] = data_geo_5['sisul_counts']\n",
    "data_for_geo_5['apt_doors_counts'] = data_geo_5['apt_doors_counts']"
   ]
  },
  {
   "cell_type": "code",
   "execution_count": null,
   "metadata": {
    "executionInfo": {
     "elapsed": 8874,
     "status": "aborted",
     "timestamp": 1694961089320,
     "user": {
      "displayName": "Rachel Lee",
      "userId": "18230890083877121646"
     },
     "user_tz": -540
    },
    "id": "mqcZnP9BoJie"
   },
   "outputs": [],
   "source": [
    "data_for_geo_6['bus_counts'] = data_geo_6['bus_counts']\n",
    "data_for_geo_6['subway_counts'] = data_geo_6['subway_counts']\n",
    "data_for_geo_6['sisul_counts'] = data_geo_6['sisul_counts']\n",
    "data_for_geo_6['apt_doors_counts'] = data_geo_6['apt_doors_counts']"
   ]
  },
  {
   "cell_type": "code",
   "execution_count": null,
   "metadata": {
    "executionInfo": {
     "elapsed": 8873,
     "status": "aborted",
     "timestamp": 1694961089320,
     "user": {
      "displayName": "Rachel Lee",
      "userId": "18230890083877121646"
     },
     "user_tz": -540
    },
    "id": "zobfQt8AoLHd"
   },
   "outputs": [],
   "source": [
    "data_for_geo_7['bus_counts'] = data_geo_7['bus_counts']\n",
    "data_for_geo_7['subway_counts'] = data_geo_7['subway_counts']\n",
    "data_for_geo_7['sisul_counts'] = data_geo_7['sisul_counts']\n",
    "data_for_geo_7['apt_doors_counts'] = data_geo_7['apt_doors_counts']"
   ]
  },
  {
   "cell_type": "code",
   "execution_count": null,
   "metadata": {
    "executionInfo": {
     "elapsed": 8872,
     "status": "aborted",
     "timestamp": 1694961089320,
     "user": {
      "displayName": "Rachel Lee",
      "userId": "18230890083877121646"
     },
     "user_tz": -540
    },
    "id": "HPXaRKdPoLkm"
   },
   "outputs": [],
   "source": [
    "data_for_geo_8['bus_counts'] = data_geo_8['bus_counts']\n",
    "data_for_geo_8['subway_counts'] = data_geo_8['subway_counts']\n",
    "data_for_geo_8['sisul_counts'] = data_geo_8['sisul_counts']\n",
    "data_for_geo_8['apt_doors_counts'] = data_geo_8['apt_doors_counts']"
   ]
  },
  {
   "cell_type": "markdown",
   "metadata": {
    "id": "Y-WNnEzotof9"
   },
   "source": [
    "#### GIS정보 결합된 최종 데이터 정리"
   ]
  },
  {
   "cell_type": "code",
   "execution_count": null,
   "metadata": {
    "executionInfo": {
     "elapsed": 8871,
     "status": "aborted",
     "timestamp": 1694961089320,
     "user": {
      "displayName": "Rachel Lee",
      "userId": "18230890083877121646"
     },
     "user_tz": -540
    },
    "id": "wjor8s7soVyW"
   },
   "outputs": [],
   "source": [
    "data_with_gis = pd.concat([data_for_geo_1, data_for_geo_2, data_for_geo_3, data_for_geo_4, data_for_geo_5, data_for_geo_6, data_for_geo_7, data_for_geo_8])"
   ]
  },
  {
   "cell_type": "code",
   "execution_count": null,
   "metadata": {
    "executionInfo": {
     "elapsed": 8870,
     "status": "aborted",
     "timestamp": 1694961089320,
     "user": {
      "displayName": "Rachel Lee",
      "userId": "18230890083877121646"
     },
     "user_tz": -540
    },
    "id": "Q8evKxnPoXty"
   },
   "outputs": [],
   "source": [
    "data_with_gis"
   ]
  },
  {
   "cell_type": "code",
   "execution_count": null,
   "metadata": {
    "executionInfo": {
     "elapsed": 8871,
     "status": "aborted",
     "timestamp": 1694961089321,
     "user": {
      "displayName": "Rachel Lee",
      "userId": "18230890083877121646"
     },
     "user_tz": -540
    },
    "id": "fL5xR6airUhK"
   },
   "outputs": [],
   "source": [
    "data_plus = pd.read_csv('/content/drive/MyDrive/ASAC/ML프로젝트_우리사이/data/gis_datas/data_구동주소추가.csv', encoding = 'cp949', index_col = 0)\n",
    "data_plus"
   ]
  },
  {
   "cell_type": "code",
   "execution_count": null,
   "metadata": {
    "executionInfo": {
     "elapsed": 7,
     "status": "aborted",
     "timestamp": 1694961089953,
     "user": {
      "displayName": "Rachel Lee",
      "userId": "18230890083877121646"
     },
     "user_tz": -540
    },
    "id": "Fl06r1w6roGo"
   },
   "outputs": [],
   "source": [
    "data_plus.info() # 문제 없음"
   ]
  },
  {
   "cell_type": "code",
   "execution_count": null,
   "metadata": {
    "executionInfo": {
     "elapsed": 7,
     "status": "aborted",
     "timestamp": 1694961089953,
     "user": {
      "displayName": "Rachel Lee",
      "userId": "18230890083877121646"
     },
     "user_tz": -540
    },
    "id": "JvKuVC0xsBTZ"
   },
   "outputs": [],
   "source": [
    "data_with_gis.info() # 문제 없음"
   ]
  },
  {
   "cell_type": "code",
   "execution_count": null,
   "metadata": {
    "executionInfo": {
     "elapsed": 7,
     "status": "aborted",
     "timestamp": 1694961089953,
     "user": {
      "displayName": "Rachel Lee",
      "userId": "18230890083877121646"
     },
     "user_tz": -540
    },
    "id": "3KTBiZ9UsC2z"
   },
   "outputs": [],
   "source": [
    "data_with_gis_final = pd.merge(data_plus, data_with_gis, how = 'left', on = 'LT_UNQ_NO')\n",
    "data_with_gis_final.info()"
   ]
  },
  {
   "cell_type": "markdown",
   "metadata": {
    "id": "_2bFfQPtL4wt"
   },
   "source": [
    "#### GIS 정보 결합된 최종 데이터 : GIS결합_full_data"
   ]
  },
  {
   "cell_type": "code",
   "execution_count": null,
   "metadata": {
    "executionInfo": {
     "elapsed": 7,
     "status": "aborted",
     "timestamp": 1694961089953,
     "user": {
      "displayName": "Rachel Lee",
      "userId": "18230890083877121646"
     },
     "user_tz": -540
    },
    "id": "HkBIjcNqsR_I"
   },
   "outputs": [],
   "source": [
    "data_with_gis_final.to_csv('/content/drive/MyDrive/ASAC/ML프로젝트_우리사이/data/GIS결합_full_data.csv')"
   ]
  },
  {
   "cell_type": "markdown",
   "metadata": {
    "id": "RN4h4MyhMA9J"
   },
   "source": [
    "## [1-2] 피처 설명\n",
    "\n",
    "- bus_counts : 0.005(반지름500M이내) 위치한 버스장류장 갯수\n",
    "- subway_counts\n",
    "- sisul_counts\n",
    "- apt_doors_counts (아파트 동수로 가중치)\n"
   ]
  },
  {
   "cell_type": "markdown",
   "metadata": {
    "id": "biDm_7ioMPAk"
   },
   "source": [
    "### bus_counts\n",
    "- 필지별 반지름500M(반경 1KM)이내 위치한 버스정류장 갯수\n",
    "- 원본 데이터명 : 서울시 정류장마스터 정보.csv\n",
    "- 출처 : https://data.seoul.go.kr/dataList/OA-21231/S/1/datasetView.do\n",
    "- 결합방식 : 위치정보 기반 필지별 1KM이내 위치한 고유한 버스정류장 갯수 count"
   ]
  },
  {
   "cell_type": "markdown",
   "metadata": {
    "id": "f_dWpxfJNIdp"
   },
   "source": [
    "### subway_counts\n",
    "- 필지별 반지름500M(반경 1KM)이내 위치한 지하철정류장 갯수\n",
    "- 원본 데이터명 : 서울시 역사 마스터 정보.csv\n",
    "- 출처 : https://data.seoul.go.kr/dataList/OA-21232/S/1/datasetView.do\n",
    "- 결합방식 : 위치정보 기반 필지별 1KM이내 위치한 고유한 지하철정류장 갯수 count"
   ]
  },
  {
   "cell_type": "markdown",
   "metadata": {
    "id": "KnptC-9jNIhL"
   },
   "source": [
    "### sisul_counts\n",
    "- 필지별 반지름500M(반경 1KM)이내 위치한 시설물(공원, 건물, 하천) 갯수\n",
    "- 원본 데이터명 : 서울시 시설물 정보.csv\n",
    "- 출처 : hhttps://data.seoul.go.kr/dataList/OA-21698/S/1/datasetView.do\n",
    "- 결합방식 : 위치정보 기반 필지별 1KM이내 위치한 고유한 시설물 갯수 count"
   ]
  },
  {
   "cell_type": "markdown",
   "metadata": {
    "id": "V-Ru6wttNIob"
   },
   "source": [
    "### apt_doors_counts\n",
    "- 필지별 반지름500M(반경 1KM)이내 위치한 공동주택 갯수 (호단위로 가중치 부여)\n",
    "- 원본 데이터명 : 서울시 공동주택 아파트 정보.csv\n",
    "- 출처 :https://data.seoul.go.kr/dataList/OA-15818/S/1/datasetView.do\n",
    "- 결합방식 : 위치정보 기반 필지별 1KM이내 위치한 고유한 아파트(호수) 갯수 count"
   ]
  },
  {
   "cell_type": "markdown",
   "metadata": {
    "id": "VX5DO74qOtY6"
   },
   "source": [
    "# [2] 데이터 결합"
   ]
  },
  {
   "cell_type": "markdown",
   "metadata": {
    "id": "cUTVex3GO6n7"
   },
   "source": [
    "## [+] 데이터 설명\n",
    "- 공실률 대비 매매가,임대료.csv\n",
    "    - 전국 배후지의 인구 데이터와 업종별 상업용 부동산의 건물 데이터를 활용하여 법정동 단위의 상업용 부동산 공실률 대비 매매가 스코어 정보\n",
    "\n",
    "- 부동산 거래량 금액대비 유동인구.csv\n",
    "    - 전국 배후지의 인구 데이터와 업종별 상업용 부동산의 건물 데이터를 활용하여 법정동 단위의 부동산 거래량 대비 유동인구 스코어 정보\n",
    "\n",
    "- SNS 노출대비 유동인구.csv\n",
    "    - 전국 배후지의 인구 데이터와 업종별 상업용 부동산의 건물 데이터를 활용하여 법정동 단위의 지역별 SNS 노출량에 따른 해당 지역의 유동인구 스코어 정보\n"
   ]
  },
  {
   "cell_type": "markdown",
   "metadata": {
    "id": "PTctYXvO94Kd"
   },
   "source": [
    "## 전처리\n",
    "- 공실률 대비 매매가,임대료.csv\n",
    "- 부동산 거래량 금액대비 유동인구.csv\n",
    "- SNS 노출대비 유동인구.csv\n",
    "    - 달(month)를 분기로 변환\n",
    "    - 메인데이터와 분기, 필지고유번호, 산업코드 비교 및 merge\n",
    "    \n"
   ]
  },
  {
   "cell_type": "markdown",
   "metadata": {
    "id": "SULzc-ELPwRl"
   },
   "source": [
    "## [+] 전처리 완료 데이터 (data_with_gis_final)"
   ]
  },
  {
   "cell_type": "code",
   "execution_count": null,
   "metadata": {
    "executionInfo": {
     "elapsed": 7,
     "status": "aborted",
     "timestamp": 1694961089953,
     "user": {
      "displayName": "Rachel Lee",
      "userId": "18230890083877121646"
     },
     "user_tz": -540
    },
    "id": "kE-pxTl8ME5I"
   },
   "outputs": [],
   "source": [
    "data_with_gis_final = pd.read_csv('/content/drive/MyDrive/ASAC/ML프로젝트_우리사이/data/GIS결합_full_data.csv', index_col = 0)"
   ]
  },
  {
   "cell_type": "code",
   "execution_count": null,
   "metadata": {
    "executionInfo": {
     "elapsed": 7,
     "status": "aborted",
     "timestamp": 1694961089953,
     "user": {
      "displayName": "Rachel Lee",
      "userId": "18230890083877121646"
     },
     "user_tz": -540
    },
    "id": "-IhZcDaQPGjT"
   },
   "outputs": [],
   "source": [
    "data_with_gis_final.drop(['도로명주소_y'], axis = 1, inplace = True)\n",
    "data_with_gis_final.head(1)"
   ]
  },
  {
   "cell_type": "markdown",
   "metadata": {
    "id": "3TgnxpmoQXDx"
   },
   "source": [
    "## [2-1] 공실률 대비 매매가 임대료\n",
    "- 피처 설명 추가"
   ]
  },
  {
   "cell_type": "markdown",
   "metadata": {
    "id": "zUzSAKxuRIiO"
   },
   "source": [
    "#### 데이터 호출"
   ]
  },
  {
   "cell_type": "code",
   "execution_count": null,
   "metadata": {
    "executionInfo": {
     "elapsed": 7,
     "status": "aborted",
     "timestamp": 1694961089953,
     "user": {
      "displayName": "Rachel Lee",
      "userId": "18230890083877121646"
     },
     "user_tz": -540
    },
    "id": "noUbT4rDPrbc"
   },
   "outputs": [],
   "source": [
    "df_2201 = pd.read_csv('/content/drive/MyDrive/ASAC/ML프로젝트_우리사이/혜준/전처리/공실률 대비 매매가/ES1007AG00101QY2201_csv.csv',sep=\"|\")\n",
    "df_2202 = pd.read_csv('/content/drive/MyDrive/ASAC/ML프로젝트_우리사이/혜준/전처리/공실률 대비 매매가/ES1007AG00101QY2202_csv.csv',sep=\"|\")\n",
    "df_2203 = pd.read_csv('/content/drive/MyDrive/ASAC/ML프로젝트_우리사이/혜준/전처리/공실률 대비 매매가/ES1007AG00101QY2203_csv.csv',sep=\"|\")\n",
    "df_2204 = pd.read_csv('/content/drive/MyDrive/ASAC/ML프로젝트_우리사이/혜준/전처리/공실률 대비 매매가/ES1007AG00101QY2204_csv.csv',sep=\"|\")\n",
    "df_2301 = pd.read_csv('/content/drive/MyDrive/ASAC/ML프로젝트_우리사이/혜준/전처리/공실률 대비 매매가/ES1007AG00101QY2301_csv.csv',sep=\"|\")\n",
    "df_2302 = pd.read_csv('/content/drive/MyDrive/ASAC/ML프로젝트_우리사이/혜준/전처리/공실률 대비 매매가/ES1007AG00101QY2302_csv.csv',sep=\"|\")\n",
    "mapping= pd.read_csv('/content/drive/MyDrive/ASAC/ML프로젝트_우리사이/혜준/전처리/서울시 건축물대장 법정동 코드정보.csv', encoding = 'cp949')\n",
    "rate = pd.read_csv('/content/drive/MyDrive/ASAC/ML프로젝트_우리사이/혜준/전처리/필지단위 소상공인 매출등급 정보.csv')"
   ]
  },
  {
   "cell_type": "code",
   "execution_count": null,
   "metadata": {
    "executionInfo": {
     "elapsed": 8,
     "status": "aborted",
     "timestamp": 1694961089954,
     "user": {
      "displayName": "Rachel Lee",
      "userId": "18230890083877121646"
     },
     "user_tz": -540
    },
    "id": "a1CHtlLJQs5x"
   },
   "outputs": [],
   "source": [
    "rent = pd.concat([df_2201, df_2202, df_2203, df_2204], axis = 0)"
   ]
  },
  {
   "cell_type": "markdown",
   "metadata": {
    "id": "quc6fhPjRKtr"
   },
   "source": [
    "#### 데이터 결합을 위한 분기 생성"
   ]
  },
  {
   "cell_type": "code",
   "execution_count": null,
   "metadata": {
    "executionInfo": {
     "elapsed": 8,
     "status": "aborted",
     "timestamp": 1694961089954,
     "user": {
      "displayName": "Rachel Lee",
      "userId": "18230890083877121646"
     },
     "user_tz": -540
    },
    "id": "jrmcaLOJQvH0"
   },
   "outputs": [],
   "source": [
    "rent['분기'] = rent['data_strd_ym'].apply(lambda x : str(x)[-2:]).map({'03':1,'06':2,'09':3,'12':4})"
   ]
  },
  {
   "cell_type": "code",
   "execution_count": null,
   "metadata": {
    "executionInfo": {
     "elapsed": 8,
     "status": "aborted",
     "timestamp": 1694961089954,
     "user": {
      "displayName": "Rachel Lee",
      "userId": "18230890083877121646"
     },
     "user_tz": -540
    },
    "id": "dL-XjuX5Qwza"
   },
   "outputs": [],
   "source": [
    "def to_quarter( x ):\n",
    "    if x in ['01', '02', '03']:\n",
    "        return 1\n",
    "    elif x in ['04', '05', '06']:\n",
    "        return 2\n",
    "    elif x in ['07', '08', '09']:\n",
    "        return 3\n",
    "    else:\n",
    "        return 4\n",
    "    pass\n",
    "\n",
    "rate['분기'] = rate['DATA_CRTR_YM'].apply(lambda x : to_quarter(str(x)[-2:]))"
   ]
  },
  {
   "cell_type": "code",
   "execution_count": null,
   "metadata": {
    "executionInfo": {
     "elapsed": 8,
     "status": "aborted",
     "timestamp": 1694961089954,
     "user": {
      "displayName": "Rachel Lee",
      "userId": "18230890083877121646"
     },
     "user_tz": -540
    },
    "id": "V6o-AJTDQyQR"
   },
   "outputs": [],
   "source": [
    "rent.head(1)"
   ]
  },
  {
   "cell_type": "code",
   "execution_count": null,
   "metadata": {
    "executionInfo": {
     "elapsed": 7,
     "status": "aborted",
     "timestamp": 1694961089954,
     "user": {
      "displayName": "Rachel Lee",
      "userId": "18230890083877121646"
     },
     "user_tz": -540
    },
    "id": "n5sUUS1gQ22e"
   },
   "outputs": [],
   "source": [
    "rent.columns = ['DATA_CRTR_YM', 'LT_UNQ_NO', 'STDG_EMD_CD', 'INDUSTRY_CD', 'snp_price_scor','분기']"
   ]
  },
  {
   "cell_type": "code",
   "execution_count": null,
   "metadata": {
    "executionInfo": {
     "elapsed": 7,
     "status": "aborted",
     "timestamp": 1694961089954,
     "user": {
      "displayName": "Rachel Lee",
      "userId": "18230890083877121646"
     },
     "user_tz": -540
    },
    "id": "FcZM8Pg_Q4-D"
   },
   "outputs": [],
   "source": [
    "rent.head(1)"
   ]
  },
  {
   "cell_type": "markdown",
   "metadata": {
    "id": "lV5TKE7PRNl1"
   },
   "source": [
    "#### rent, rate 병합"
   ]
  },
  {
   "cell_type": "code",
   "execution_count": null,
   "metadata": {
    "executionInfo": {
     "elapsed": 7,
     "status": "aborted",
     "timestamp": 1694961089954,
     "user": {
      "displayName": "Rachel Lee",
      "userId": "18230890083877121646"
     },
     "user_tz": -540
    },
    "id": "NKW87ZJBQ7FZ"
   },
   "outputs": [],
   "source": [
    "# rent와 rate 조인작업\n",
    "merge1 = pd.merge(rate, rent, how = 'left', on = ['분기', 'LT_UNQ_NO','INDUSTRY_CD'] )\n",
    "merge1.head(3)"
   ]
  },
  {
   "cell_type": "code",
   "execution_count": null,
   "metadata": {
    "executionInfo": {
     "elapsed": 7,
     "status": "aborted",
     "timestamp": 1694961089954,
     "user": {
      "displayName": "Rachel Lee",
      "userId": "18230890083877121646"
     },
     "user_tz": -540
    },
    "id": "t4xHk5HVRBjn"
   },
   "outputs": [],
   "source": [
    "# 중복 제거\n",
    "merge1.drop_duplicates()"
   ]
  },
  {
   "cell_type": "markdown",
   "metadata": {
    "id": "bm90v-8eREmQ"
   },
   "source": [
    "## [2-2] 부동산 거래량 금액대비 유동인구\n",
    "- 피처설명 추가"
   ]
  },
  {
   "cell_type": "markdown",
   "metadata": {
    "id": "qZx6Q367RgM4"
   },
   "source": [
    "#### 데이터 호출"
   ]
  },
  {
   "cell_type": "code",
   "execution_count": null,
   "metadata": {
    "executionInfo": {
     "elapsed": 7,
     "status": "aborted",
     "timestamp": 1694961089954,
     "user": {
      "displayName": "Rachel Lee",
      "userId": "18230890083877121646"
     },
     "user_tz": -540
    },
    "id": "iNe8fcpSRfA6"
   },
   "outputs": [],
   "source": [
    "df_2201 = pd.read_csv('/content/drive/MyDrive/ASAC/ML프로젝트_우리사이/혜준/전처리/부동산 거래량 금액대비 유동인구/ES1007AH00101QY2201_csv.csv',sep=\"|\")\n",
    "df_2202 = pd.read_csv('/content/drive/MyDrive/ASAC/ML프로젝트_우리사이/혜준/전처리/부동산 거래량 금액대비 유동인구/ES1007AH00101QY2202_csv.csv',sep=\"|\")\n",
    "df_2203 = pd.read_csv('/content/drive/MyDrive/ASAC/ML프로젝트_우리사이/혜준/전처리/부동산 거래량 금액대비 유동인구/ES1007AH00101QY2203_csv.csv',sep=\"|\")\n",
    "df_2204 = pd.read_csv('/content/drive/MyDrive/ASAC/ML프로젝트_우리사이/혜준/전처리/부동산 거래량 금액대비 유동인구/ES1007AH00101QY2204_csv.csv',sep=\"|\")\n",
    "res = pd.concat([df_2201, df_2202, df_2203, df_2204], axis = 0)\n",
    "res.head(2)"
   ]
  },
  {
   "cell_type": "markdown",
   "metadata": {
    "id": "taGlGgm8SEk0"
   },
   "source": [
    "#### 분기 전처리"
   ]
  },
  {
   "cell_type": "code",
   "execution_count": null,
   "metadata": {
    "executionInfo": {
     "elapsed": 7,
     "status": "aborted",
     "timestamp": 1694961089954,
     "user": {
      "displayName": "Rachel Lee",
      "userId": "18230890083877121646"
     },
     "user_tz": -540
    },
    "id": "h2LazYHtRnYX"
   },
   "outputs": [],
   "source": [
    "# 위에서 사용하던 rate 데이터\n",
    "rate.head(2)"
   ]
  },
  {
   "cell_type": "code",
   "execution_count": null,
   "metadata": {
    "executionInfo": {
     "elapsed": 7,
     "status": "aborted",
     "timestamp": 1694961089954,
     "user": {
      "displayName": "Rachel Lee",
      "userId": "18230890083877121646"
     },
     "user_tz": -540
    },
    "id": "6wlnDjvvRwBs"
   },
   "outputs": [],
   "source": [
    "res['분기'] = res['data_strd_ym'].apply(lambda x : str(x)[-2:]).map({'03':1,'06':2,'09':3,'12':4})"
   ]
  },
  {
   "cell_type": "code",
   "execution_count": null,
   "metadata": {
    "executionInfo": {
     "elapsed": 7,
     "status": "aborted",
     "timestamp": 1694961089954,
     "user": {
      "displayName": "Rachel Lee",
      "userId": "18230890083877121646"
     },
     "user_tz": -540
    },
    "id": "JjW8e8vGR2WN"
   },
   "outputs": [],
   "source": [
    "res.head(2)"
   ]
  },
  {
   "cell_type": "code",
   "execution_count": null,
   "metadata": {
    "executionInfo": {
     "elapsed": 7,
     "status": "aborted",
     "timestamp": 1694961089954,
     "user": {
      "displayName": "Rachel Lee",
      "userId": "18230890083877121646"
     },
     "user_tz": -540
    },
    "id": "rsn78jvuR2Ym"
   },
   "outputs": [],
   "source": [
    "res.columns = ['DATA_CRTR_YM','LT_UNQ_NO','STDG_EMD_CD','INDUSTRY_CD','fpop_scor','분기']"
   ]
  },
  {
   "cell_type": "markdown",
   "metadata": {
    "id": "L_4DVJGgSGYI"
   },
   "source": [
    "#### 직전 작업 데이터와 병합"
   ]
  },
  {
   "cell_type": "code",
   "execution_count": null,
   "metadata": {
    "executionInfo": {
     "elapsed": 7,
     "status": "aborted",
     "timestamp": 1694961089954,
     "user": {
      "displayName": "Rachel Lee",
      "userId": "18230890083877121646"
     },
     "user_tz": -540
    },
    "id": "KDC1VnuOR2bE"
   },
   "outputs": [],
   "source": [
    "# 위의 작업과 병합\n",
    "merge2 = pd.merge(merge1, res, how = 'left', on = ['분기', 'LT_UNQ_NO','INDUSTRY_CD'] )\n",
    "merge2.drop_duplicates()"
   ]
  },
  {
   "cell_type": "markdown",
   "metadata": {
    "id": "z8Ac11g6SIwW"
   },
   "source": [
    "## [2-3] SNS 노출대비 유동인구\n",
    "- 피처 설명 추가"
   ]
  },
  {
   "cell_type": "markdown",
   "metadata": {
    "id": "l_wvDV07SNUo"
   },
   "source": [
    "#### 데이터 호출"
   ]
  },
  {
   "cell_type": "code",
   "execution_count": null,
   "metadata": {
    "executionInfo": {
     "elapsed": 7,
     "status": "aborted",
     "timestamp": 1694961089954,
     "user": {
      "displayName": "Rachel Lee",
      "userId": "18230890083877121646"
     },
     "user_tz": -540
    },
    "id": "53VcEcPtR2dI"
   },
   "outputs": [],
   "source": [
    "df_2201 = pd.read_csv('/content/drive/MyDrive/ASAC/ML프로젝트_우리사이/혜준/전처리/sns 노출대비 유동인구/ES1007AD00101MM2201_csv.csv',sep=\"|\")\n",
    "df_2202 = pd.read_csv('/content/drive/MyDrive/ASAC/ML프로젝트_우리사이/혜준/전처리/sns 노출대비 유동인구/ES1007AD00101MM2202_csv.csv',sep=\"|\")\n",
    "df_2203 = pd.read_csv('/content/drive/MyDrive/ASAC/ML프로젝트_우리사이/혜준/전처리/sns 노출대비 유동인구/ES1007AD00101MM2203_csv.csv',sep=\"|\")\n",
    "df_2204 = pd.read_csv('/content/drive/MyDrive/ASAC/ML프로젝트_우리사이/혜준/전처리/sns 노출대비 유동인구/ES1007AD00101MM2204_csv.csv',sep=\"|\")\n",
    "df_2205 = pd.read_csv('/content/drive/MyDrive/ASAC/ML프로젝트_우리사이/혜준/전처리/sns 노출대비 유동인구/ES1007AD00101MM2205_csv.csv',sep=\"|\")\n",
    "df_2206 = pd.read_csv('/content/drive/MyDrive/ASAC/ML프로젝트_우리사이/혜준/전처리/sns 노출대비 유동인구/ES1007AD00101MM2206_csv.csv',sep=\"|\")\n",
    "df_2207 = pd.read_csv('/content/drive/MyDrive/ASAC/ML프로젝트_우리사이/혜준/전처리/sns 노출대비 유동인구/ES1007AD00101MM2207_csv.csv',sep=\"|\")\n",
    "df_2208 = pd.read_csv('/content/drive/MyDrive/ASAC/ML프로젝트_우리사이/혜준/전처리/sns 노출대비 유동인구/ES1007AD00101MM2208_csv.csv',sep=\"|\")\n",
    "df_2209 = pd.read_csv('/content/drive/MyDrive/ASAC/ML프로젝트_우리사이/혜준/전처리/sns 노출대비 유동인구/ES1007AD00101MM2209_csv.csv',sep=\"|\")\n",
    "df_2210 = pd.read_csv('/content/drive/MyDrive/ASAC/ML프로젝트_우리사이/혜준/전처리/sns 노출대비 유동인구/ES1007AD00101MM2210_csv.csv',sep=\"|\")\n",
    "df_2211 = pd.read_csv('/content/drive/MyDrive/ASAC/ML프로젝트_우리사이/혜준/전처리/sns 노출대비 유동인구/ES1007AD00101MM2211_csv.csv',sep=\"|\")\n",
    "df_2212 = pd.read_csv('/content/drive/MyDrive/ASAC/ML프로젝트_우리사이/혜준/전처리/sns 노출대비 유동인구/ES1007AD00101MM2212_csv.csv',sep=\"|\")\n",
    "df_2201.head(3).T"
   ]
  },
  {
   "cell_type": "code",
   "execution_count": null,
   "metadata": {
    "executionInfo": {
     "elapsed": 7,
     "status": "aborted",
     "timestamp": 1694961089954,
     "user": {
      "displayName": "Rachel Lee",
      "userId": "18230890083877121646"
     },
     "user_tz": -540
    },
    "id": "j6OBvxeJSPQu"
   },
   "outputs": [],
   "source": [
    "sns = pd.concat([df_2201, df_2202, df_2203, df_2204,df_2205,df_2206,df_2207,df_2208,df_2209,df_2210,df_2211,df_2212], axis = 0)\n",
    "sns.head(2)"
   ]
  },
  {
   "cell_type": "code",
   "execution_count": null,
   "metadata": {
    "executionInfo": {
     "elapsed": 7,
     "status": "aborted",
     "timestamp": 1694961089954,
     "user": {
      "displayName": "Rachel Lee",
      "userId": "18230890083877121646"
     },
     "user_tz": -540
    },
    "id": "OkSE-BZASPS8"
   },
   "outputs": [],
   "source": [
    "sns['분기'] = sns['data_strd_ym'].apply(lambda x : str(x)[-2:]).map({'03':1,'06':2,'09':3,'12':4})\n",
    "sns.columns=['DATA_CRTR_YM','LT_UNQ_NO','STDG_EMD_CD','INDUSTRY_CD','sns_score','분기']\n",
    "sns.head(2)"
   ]
  },
  {
   "cell_type": "markdown",
   "metadata": {
    "id": "yCeF5tl1ShTW"
   },
   "source": [
    "#### 사전 작업 데이터와 병합 (data_with_gis_final)"
   ]
  },
  {
   "cell_type": "code",
   "execution_count": null,
   "metadata": {
    "executionInfo": {
     "elapsed": 8,
     "status": "aborted",
     "timestamp": 1694961089955,
     "user": {
      "displayName": "Rachel Lee",
      "userId": "18230890083877121646"
     },
     "user_tz": -540
    },
    "id": "-uZAGizFSPVR"
   },
   "outputs": [],
   "source": [
    "merge3 = pd.merge(merge2, sns, how = 'left', on = ['분기', 'LT_UNQ_NO','INDUSTRY_CD'] )\n",
    "final1=merge3.drop_duplicates()"
   ]
  },
  {
   "cell_type": "code",
   "execution_count": null,
   "metadata": {
    "executionInfo": {
     "elapsed": 8,
     "status": "aborted",
     "timestamp": 1694961089955,
     "user": {
      "displayName": "Rachel Lee",
      "userId": "18230890083877121646"
     },
     "user_tz": -540
    },
    "id": "17ztDloUSPXY"
   },
   "outputs": [],
   "source": [
    "final = final1.drop(['DATA_CRTR_YM_y', 'STDG_EMD_CD_y', 'STDG_EMD_CD_x', 'DATA_CRTR_YM_y', 'STDG_EMD_CD_y'], axis=1)\n",
    "final"
   ]
  },
  {
   "cell_type": "code",
   "execution_count": null,
   "metadata": {
    "executionInfo": {
     "elapsed": 8,
     "status": "aborted",
     "timestamp": 1694961089955,
     "user": {
      "displayName": "Rachel Lee",
      "userId": "18230890083877121646"
     },
     "user_tz": -540
    },
    "id": "353ksE21SPcT"
   },
   "outputs": [],
   "source": [
    "data_with_gis_final['분기'] = final['분기']\n",
    "data_with_gis_final['snp_price_score'] = final['snp_price_scor']\n",
    "data_with_gis_final['fpop_score'] = final['fpop_scor']\n",
    "data_with_gis_final['sns_score'] = final['sns_score']\n",
    "data_with_gis_final.head(3)"
   ]
  },
  {
   "cell_type": "markdown",
   "metadata": {
    "id": "AW_J4dIYWloE"
   },
   "source": [
    "# [3] 데이터 결합\n"
   ]
  },
  {
   "cell_type": "markdown",
   "metadata": {
    "id": "jfezwdNWWtsY"
   },
   "source": [
    "## 데이터 설명\n",
    "- 공시지가_2022년.csv\n",
    "    - 매년 토지소재지 자치구청장이 결정공시하는 1㎡당 토지단가(원/㎡) 제공\n",
    "    - 해당 지역의 필지구분명과 기준년월, 공시지가 정보 등 포함\n",
    "\n",
    "- 서울시 대로변 횡단보도 위치정보.csv\n",
    "    - 서울시내 대로변의 횡단보도 위치정보 제공\n",
    "    - 횡단보도의 위치 및 각 횡단보도의 길이 등 포함"
   ]
  },
  {
   "cell_type": "markdown",
   "metadata": {
    "id": "9VciD38n6BGh"
   },
   "source": [
    "## 전처리\n",
    "- 공시지가_2022년\n",
    "    - '토지코드' <-> 메인 데이터 필지번호와 비교 및 merge\n",
    "- 대로변 횡단보도 데이터\n",
    "    - '읍면동 코드' 편집(뒤의 2자리 삭제 => 자리수 통일)\n",
    "    - 메인 데이터의 읍면동 코드 비교 및 merge"
   ]
  },
  {
   "cell_type": "markdown",
   "metadata": {
    "id": "6mCf9z5yWwVi"
   },
   "source": [
    "## [+] 전처리 완료 파일\n",
    "- data_with_gis_final"
   ]
  },
  {
   "cell_type": "code",
   "execution_count": null,
   "metadata": {
    "executionInfo": {
     "elapsed": 7,
     "status": "aborted",
     "timestamp": 1694961089955,
     "user": {
      "displayName": "Rachel Lee",
      "userId": "18230890083877121646"
     },
     "user_tz": -540
    },
    "id": "D0jR31ccX7us"
   },
   "outputs": [],
   "source": [
    "# 대회 데이터\n",
    "main_df = pd.read_csv('/content/drive/MyDrive/ASAC/ML프로젝트_우리사이/혜준/전처리/필지단위 소상공인 매출등급 정보.csv')"
   ]
  },
  {
   "cell_type": "markdown",
   "metadata": {
    "id": "2ffTvEZCXhxg"
   },
   "source": [
    "## [3-1] 공시지가 '22"
   ]
  },
  {
   "cell_type": "markdown",
   "metadata": {
    "id": "AGGUFfuNYqoY"
   },
   "source": [
    "#### 데이터 로드"
   ]
  },
  {
   "cell_type": "code",
   "execution_count": null,
   "metadata": {
    "executionInfo": {
     "elapsed": 7,
     "status": "aborted",
     "timestamp": 1694961089955,
     "user": {
      "displayName": "Rachel Lee",
      "userId": "18230890083877121646"
     },
     "user_tz": -540
    },
    "id": "JBkQx-HUXmE2"
   },
   "outputs": [],
   "source": [
    "land22_df = pd.read_csv('/content/drive/MyDrive/ASAC/ML프로젝트_우리사이/data/사전_조인작업/join_features/공시지가_2022년.csv',  encoding='EUC-KR')\n",
    "print(land22_df.info())"
   ]
  },
  {
   "cell_type": "code",
   "execution_count": null,
   "metadata": {
    "executionInfo": {
     "elapsed": 7,
     "status": "aborted",
     "timestamp": 1694961089955,
     "user": {
      "displayName": "Rachel Lee",
      "userId": "18230890083877121646"
     },
     "user_tz": -540
    },
    "id": "scWrLUVIWYXT"
   },
   "outputs": [],
   "source": [
    "land22_df.head(3).T"
   ]
  },
  {
   "cell_type": "code",
   "execution_count": null,
   "metadata": {
    "executionInfo": {
     "elapsed": 7,
     "status": "aborted",
     "timestamp": 1694961089955,
     "user": {
      "displayName": "Rachel Lee",
      "userId": "18230890083877121646"
     },
     "user_tz": -540
    },
    "id": "2UQfhGIpZRQf"
   },
   "outputs": [],
   "source": [
    "main_df = pd.merge(main_df, land22_df, left_on='LT_UNQ_NO', right_on='토지코드', how='left')  # 필지번호-토지코드 대조해서 merge\n",
    "main_df.info()"
   ]
  },
  {
   "cell_type": "markdown",
   "metadata": {
    "id": "HEIwv95aXmfW"
   },
   "source": [
    "## [3-2] 공시지가 '23 - 우선 대기"
   ]
  },
  {
   "cell_type": "code",
   "execution_count": null,
   "metadata": {
    "executionInfo": {
     "elapsed": 7,
     "status": "aborted",
     "timestamp": 1694961089955,
     "user": {
      "displayName": "Rachel Lee",
      "userId": "18230890083877121646"
     },
     "user_tz": -540
    },
    "id": "l3niXqG5XsAn"
   },
   "outputs": [],
   "source": []
  },
  {
   "cell_type": "markdown",
   "metadata": {
    "id": "e0oFBx6kXmhs"
   },
   "source": [
    "## [3-3] 횡단보도"
   ]
  },
  {
   "cell_type": "code",
   "execution_count": null,
   "metadata": {
    "executionInfo": {
     "elapsed": 7,
     "status": "aborted",
     "timestamp": 1694961089955,
     "user": {
      "displayName": "Rachel Lee",
      "userId": "18230890083877121646"
     },
     "user_tz": -540
    },
    "id": "YjVLYPqWXrQG"
   },
   "outputs": [],
   "source": [
    "crossing_df = pd.read_csv('/content/drive/MyDrive/ASAC/ML프로젝트_우리사이/data/사전_조인작업/join_features/서울시 대로변 횡단보도 위치정보.csv',  encoding='EUC-KR')\n",
    "crossing_df.head(2)"
   ]
  },
  {
   "cell_type": "code",
   "execution_count": null,
   "metadata": {
    "executionInfo": {
     "elapsed": 7,
     "status": "aborted",
     "timestamp": 1694961089955,
     "user": {
      "displayName": "Rachel Lee",
      "userId": "18230890083877121646"
     },
     "user_tz": -540
    },
    "id": "Jcb4xxkMaS3N"
   },
   "outputs": [],
   "source": [
    "# 횡단보도 위치정보의 읍면동코드 확인 => 뒷 두자리는 모두 => 00 확인\n",
    "crossing_df['읍면동코드'] = crossing_df['읍면동코드'].astype(str).str[:-2]\n",
    "crossing_df.head(2)"
   ]
  },
  {
   "cell_type": "code",
   "execution_count": null,
   "metadata": {
    "executionInfo": {
     "elapsed": 7,
     "status": "aborted",
     "timestamp": 1694961089955,
     "user": {
      "displayName": "Rachel Lee",
      "userId": "18230890083877121646"
     },
     "user_tz": -540
    },
    "id": "hepw1znjaXRD"
   },
   "outputs": [],
   "source": [
    "# str => int 형변환\n",
    "crossing_df['읍면동코드'] = crossing_df['읍면동코드'].astype(int)"
   ]
  },
  {
   "cell_type": "code",
   "execution_count": null,
   "metadata": {
    "executionInfo": {
     "elapsed": 7,
     "status": "aborted",
     "timestamp": 1694961089955,
     "user": {
      "displayName": "Rachel Lee",
      "userId": "18230890083877121646"
     },
     "user_tz": -540
    },
    "id": "lobgM1Ykaaj0"
   },
   "outputs": [],
   "source": [
    "# 읍면동코드 카운트 집계로 그룹화\n",
    "grouped_df = crossing_df.groupby('읍면동코드').count()\n",
    "main_df = pd.merge(main_df, grouped_df, left_on='STDG_EMD_CD', right_index=True, how='inner')\n",
    "main_df.info()"
   ]
  },
  {
   "cell_type": "code",
   "execution_count": null,
   "metadata": {
    "executionInfo": {
     "elapsed": 7,
     "status": "aborted",
     "timestamp": 1694961089955,
     "user": {
      "displayName": "Rachel Lee",
      "userId": "18230890083877121646"
     },
     "user_tz": -540
    },
    "id": "Rh0ng72QagqB"
   },
   "outputs": [],
   "source": [
    "# 기찬 제작 피처 2개\n",
    "ki_chan = main_df[['LT_UNQ_NO','공시지가(원/㎡)','링크 ID']]\n",
    "ki_chan.head(3)"
   ]
  },
  {
   "cell_type": "markdown",
   "metadata": {
    "id": "bvliOtOkb5Bb"
   },
   "source": [
    "## [3-3] 사전 작업 데이터와 병합 (data_with_gis_final)"
   ]
  },
  {
   "cell_type": "code",
   "execution_count": null,
   "metadata": {
    "executionInfo": {
     "elapsed": 7,
     "status": "aborted",
     "timestamp": 1694961089955,
     "user": {
      "displayName": "Rachel Lee",
      "userId": "18230890083877121646"
     },
     "user_tz": -540
    },
    "id": "bhkcPrnmb7-d"
   },
   "outputs": [],
   "source": [
    "data_with_gis_final.head(1)"
   ]
  },
  {
   "cell_type": "code",
   "execution_count": null,
   "metadata": {
    "executionInfo": {
     "elapsed": 8,
     "status": "aborted",
     "timestamp": 1694961089956,
     "user": {
      "displayName": "Rachel Lee",
      "userId": "18230890083877121646"
     },
     "user_tz": -540
    },
    "id": "LZ4Ja74dcEhU"
   },
   "outputs": [],
   "source": [
    "data_with_gis_final['공시지가'] = ki_chan['공시지가(원/㎡)']\n",
    "data_with_gis_final['횡단보도갯수'] = ki_chan['링크 ID'].astype(int)\n",
    "data_with_gis_final.head(5).T"
   ]
  },
  {
   "cell_type": "markdown",
   "metadata": {
    "id": "BH_k5G870wDY"
   },
   "source": [
    "## [3-4] 피처 설명\n",
    "\n",
    "- 공시지가(원/㎡) : 개별토지의 단위면적당(㎡) 가격\n",
    "- 링크 ID : 서울시내 대로변의 횡단보도 개수"
   ]
  },
  {
   "cell_type": "markdown",
   "metadata": {
    "id": "08gLmgf31aug"
   },
   "source": [
    "### 공시지가(원/㎡)"
   ]
  },
  {
   "cell_type": "markdown",
   "metadata": {
    "id": "rCpW-s3-1Twq"
   },
   "source": [
    "- 개별토지의 단위면적당(㎡) 가격\n",
    "- 원본 데이터명 : 공시지가_2022년.csv\n",
    "- 출처 : https://data.seoul.go.kr/dataList/OA-1180/F/1/datasetView.do\n",
    "- 결합방식 : 필지번호와 토지코드를 비교하여 left merge"
   ]
  },
  {
   "cell_type": "markdown",
   "metadata": {
    "id": "3tkGByef1d55"
   },
   "source": [
    "### 링크ID"
   ]
  },
  {
   "cell_type": "markdown",
   "metadata": {
    "id": "zqWjHpV51gJ9"
   },
   "source": [
    "- 서울시내 대로변의 횡단보도 개수\n",
    "- 원본 데이터명 : 서울시 대로변 횡단보도 위치정보.csv\n",
    "- 출처 : https://data.seoul.go.kr/dataList/OA-21209/S/1/datasetView.do\n",
    "- 결합방식 : # 읍면동코드 카운트 집계로 그룹화하여 결합"
   ]
  },
  {
   "cell_type": "markdown",
   "metadata": {
    "id": "LshPmH3YchWo"
   },
   "source": [
    "# [4] 데이터 결합"
   ]
  },
  {
   "cell_type": "markdown",
   "metadata": {
    "id": "cWsUryWRcl5s"
   },
   "source": [
    "## [+] 데이터 설명"
   ]
  },
  {
   "cell_type": "markdown",
   "metadata": {
    "id": "xTlWz2BmcoWo"
   },
   "source": [
    "## [+] 전처리 완료 파일"
   ]
  },
  {
   "cell_type": "code",
   "execution_count": null,
   "metadata": {
    "executionInfo": {
     "elapsed": 8,
     "status": "aborted",
     "timestamp": 1694961089956,
     "user": {
      "displayName": "Rachel Lee",
      "userId": "18230890083877121646"
     },
     "user_tz": -540
    },
    "id": "eZ07_38lcY9X"
   },
   "outputs": [],
   "source": [
    "data_with_gis_final.head(5).T"
   ]
  },
  {
   "cell_type": "markdown",
   "metadata": {
    "id": "ugrPf1HsdCPw"
   },
   "source": [
    "## [4-1] 공기질"
   ]
  },
  {
   "cell_type": "markdown",
   "metadata": {
    "id": "R-kxzqFqdhTF"
   },
   "source": [
    "### 데이터 로드"
   ]
  },
  {
   "cell_type": "code",
   "execution_count": null,
   "metadata": {
    "executionInfo": {
     "elapsed": 8,
     "status": "aborted",
     "timestamp": 1694961089956,
     "user": {
      "displayName": "Rachel Lee",
      "userId": "18230890083877121646"
     },
     "user_tz": -540
    },
    "id": "Bf5I0YQkdDjp"
   },
   "outputs": [],
   "source": [
    "# 대회 원본 데이터\n",
    "rate = pd.read_csv('/content/drive/MyDrive/ASAC/ML프로젝트_우리사이/혜준/전처리/필지단위 소상공인 매출등급 정보.csv')\n",
    "# 공기질 데이터\n",
    "air = pd.read_csv(\"/content/drive/MyDrive/ASAC/ML프로젝트_우리사이/승용/data/공공데이터/서울시 월별 평균 대기오염도 정보.csv\", encoding = 'cp949')\n",
    "# 법정동 매칭용 데이터\n",
    "mapping = pd.read_csv(\"/content/drive/MyDrive/ASAC/ML프로젝트_우리사이/승용/data/공공데이터/서울시 건축물대장 법정동 코드정보.csv\", encoding = 'cp949')"
   ]
  },
  {
   "cell_type": "markdown",
   "metadata": {
    "id": "j-C86WUHdihc"
   },
   "source": [
    "### 법정동 매칭"
   ]
  },
  {
   "cell_type": "code",
   "execution_count": null,
   "metadata": {
    "executionInfo": {
     "elapsed": 8,
     "status": "aborted",
     "timestamp": 1694961089956,
     "user": {
      "displayName": "Rachel Lee",
      "userId": "18230890083877121646"
     },
     "user_tz": -540
    },
    "id": "HxyA_Swmdf-7"
   },
   "outputs": [],
   "source": [
    "mapper = mapping[['시군구코드', '시군구명']]\n",
    "mapper.head()"
   ]
  },
  {
   "cell_type": "markdown",
   "metadata": {
    "id": "Vyq8n_Rndpf8"
   },
   "source": [
    "### 22년도 데이터 추출"
   ]
  },
  {
   "cell_type": "code",
   "execution_count": null,
   "metadata": {
    "executionInfo": {
     "elapsed": 8,
     "status": "aborted",
     "timestamp": 1694961089956,
     "user": {
      "displayName": "Rachel Lee",
      "userId": "18230890083877121646"
     },
     "user_tz": -540
    },
    "id": "gcC3t33mdr0Z"
   },
   "outputs": [],
   "source": [
    "air_2022 = air[air['측정월'].astype('str').str.startswith('2022')]\n",
    "air_2022_gu = air_2022[air_2022[\"측정소명\"].str.endswith('구')].rename(columns = {'측정소명': '시군구명', '측정월': 'DATA_CRTR_YM'})\n",
    "air_2022_gu = air_2022_gu.reset_index(drop=True)\n",
    "air_2022_gu = air_2022_gu.merge(mapper, how = 'left', on = '시군구명')\n",
    "air_2022_gu['DATA_CRTR_YM'] = air_2022_gu['DATA_CRTR_YM']\n",
    "air_2022_gu.head(2)"
   ]
  },
  {
   "cell_type": "code",
   "execution_count": null,
   "metadata": {
    "executionInfo": {
     "elapsed": 8,
     "status": "aborted",
     "timestamp": 1694961089956,
     "user": {
      "displayName": "Rachel Lee",
      "userId": "18230890083877121646"
     },
     "user_tz": -540
    },
    "id": "8uZ3879AdsKM"
   },
   "outputs": [],
   "source": [
    "air_2022_gu = air_2022_gu.drop_duplicates()\n",
    "rate['시군구코드'] = rate['STDG_EMD_CD'].apply(lambda x : str(x)[:5]).astype('int64')"
   ]
  },
  {
   "cell_type": "code",
   "execution_count": null,
   "metadata": {
    "executionInfo": {
     "elapsed": 8,
     "status": "aborted",
     "timestamp": 1694961089956,
     "user": {
      "displayName": "Rachel Lee",
      "userId": "18230890083877121646"
     },
     "user_tz": -540
    },
    "id": "4Z4FQGjHdsMb"
   },
   "outputs": [],
   "source": [
    "# 공기데이터와 원본 결합\n",
    "merger1 = rate.merge(air_2022_gu, how = 'left', on = ['DATA_CRTR_YM', '시군구코드'])\n",
    "merger1.head(3)"
   ]
  },
  {
   "cell_type": "markdown",
   "metadata": {
    "id": "SrVXs5yNdGXc"
   },
   "source": [
    "## [4-2] 시설물"
   ]
  },
  {
   "cell_type": "markdown",
   "metadata": {
    "id": "f-V01d9ge8Gs"
   },
   "source": [
    "### 데이터 로드"
   ]
  },
  {
   "cell_type": "code",
   "execution_count": null,
   "metadata": {
    "executionInfo": {
     "elapsed": 8,
     "status": "aborted",
     "timestamp": 1694961089956,
     "user": {
      "displayName": "Rachel Lee",
      "userId": "18230890083877121646"
     },
     "user_tz": -540
    },
    "id": "dh9cQNhCdHg0"
   },
   "outputs": [],
   "source": [
    "area = pd.read_csv(\"/content/drive/MyDrive/ASAC/ML프로젝트_우리사이/승용/data/공공데이터/서울시 상권분석서비스(자치구별 상권변화지표).csv\", encoding = 'cp949')\n",
    "area_2022 = area[area['기준_년_코드'] == 2022]\n",
    "area_2023 = area[area['기준_년_코드'] == 2023]"
   ]
  },
  {
   "cell_type": "code",
   "execution_count": null,
   "metadata": {
    "executionInfo": {
     "elapsed": 8,
     "status": "aborted",
     "timestamp": 1694961089956,
     "user": {
      "displayName": "Rachel Lee",
      "userId": "18230890083877121646"
     },
     "user_tz": -540
    },
    "id": "tgniEhkOe7ax"
   },
   "outputs": [],
   "source": [
    "area_2022.info()"
   ]
  },
  {
   "cell_type": "code",
   "execution_count": null,
   "metadata": {
    "executionInfo": {
     "elapsed": 8,
     "status": "aborted",
     "timestamp": 1694961089956,
     "user": {
      "displayName": "Rachel Lee",
      "userId": "18230890083877121646"
     },
     "user_tz": -540
    },
    "id": "GyueghDAe7c1"
   },
   "outputs": [],
   "source": [
    "area_2022.head(2)"
   ]
  },
  {
   "cell_type": "markdown",
   "metadata": {
    "id": "m6KX9kqefmEJ"
   },
   "source": [
    "### 분기 단위 전처리 (위에서 정의된 to_quater 함수 사용)"
   ]
  },
  {
   "cell_type": "code",
   "execution_count": null,
   "metadata": {
    "executionInfo": {
     "elapsed": 8,
     "status": "aborted",
     "timestamp": 1694961089956,
     "user": {
      "displayName": "Rachel Lee",
      "userId": "18230890083877121646"
     },
     "user_tz": -540
    },
    "id": "atnO6Nwae7fS"
   },
   "outputs": [],
   "source": [
    "merger1['월'] = merger1['DATA_CRTR_YM'].apply(lambda x : str(x)[-2:])\n",
    "merger1['기준_년_코드'] = merger1['DATA_CRTR_YM'].apply(lambda x : str(x)[:-2]).astype('int64')"
   ]
  },
  {
   "cell_type": "code",
   "execution_count": null,
   "metadata": {
    "executionInfo": {
     "elapsed": 8,
     "status": "aborted",
     "timestamp": 1694961089956,
     "user": {
      "displayName": "Rachel Lee",
      "userId": "18230890083877121646"
     },
     "user_tz": -540
    },
    "id": "VH8u6n8qe7hV"
   },
   "outputs": [],
   "source": [
    "# 분기 적용\n",
    "merger1['기준_분기_코드'] = merger1['월'].apply(lambda x : to_quarter(x))"
   ]
  },
  {
   "cell_type": "code",
   "execution_count": null,
   "metadata": {
    "executionInfo": {
     "elapsed": 8,
     "status": "aborted",
     "timestamp": 1694961089956,
     "user": {
      "displayName": "Rachel Lee",
      "userId": "18230890083877121646"
     },
     "user_tz": -540
    },
    "id": "u36hvIy_e7je"
   },
   "outputs": [],
   "source": [
    "merger1 = merger1.rename(columns = {'시군구코드':'시군구_코드'})\n",
    "merger2 = merger1.merge(area_2022, how = 'left', on = ['기준_년_코드', '시군구_코드', '기준_분기_코드'])"
   ]
  },
  {
   "cell_type": "code",
   "execution_count": null,
   "metadata": {
    "executionInfo": {
     "elapsed": 8,
     "status": "aborted",
     "timestamp": 1694961089956,
     "user": {
      "displayName": "Rachel Lee",
      "userId": "18230890083877121646"
     },
     "user_tz": -540
    },
    "id": "WTW2BfMde7li"
   },
   "outputs": [],
   "source": [
    "merger2.head(2).T"
   ]
  },
  {
   "cell_type": "markdown",
   "metadata": {
    "id": "fXbTefKcdKIs"
   },
   "source": [
    "## [4-3] 코로나"
   ]
  },
  {
   "cell_type": "markdown",
   "metadata": {
    "id": "zpXfdJnff_Md"
   },
   "source": []
  },
  {
   "cell_type": "markdown",
   "metadata": {
    "id": "XqpHi6cKf-GD"
   },
   "source": [
    "### 데이터로드"
   ]
  },
  {
   "cell_type": "code",
   "execution_count": null,
   "metadata": {
    "executionInfo": {
     "elapsed": 9,
     "status": "aborted",
     "timestamp": 1694961089957,
     "user": {
      "displayName": "Rachel Lee",
      "userId": "18230890083877121646"
     },
     "user_tz": -540
    },
    "id": "vDy5G_VNdLFr"
   },
   "outputs": [],
   "source": [
    "covid = pd.read_csv(\"/content/drive/MyDrive/ASAC/ML프로젝트_우리사이/승용/data/공공데이터/서울시 코로나19 자치구별 확진자 발생동향.csv\", encoding = 'cp949')\n",
    "covid.head(2)"
   ]
  },
  {
   "cell_type": "markdown",
   "metadata": {
    "id": "ezEwxcGbgLob"
   },
   "source": [
    "### 월별 처리를 위한 전처리"
   ]
  },
  {
   "cell_type": "code",
   "execution_count": null,
   "metadata": {
    "executionInfo": {
     "elapsed": 9,
     "status": "aborted",
     "timestamp": 1694961089957,
     "user": {
      "displayName": "Rachel Lee",
      "userId": "18230890083877121646"
     },
     "user_tz": -540
    },
    "id": "qFGPCebdgJMx"
   },
   "outputs": [],
   "source": [
    "covid['연도'] = covid['자치구 기준일'].str.split('.').apply(lambda x : x[0])\n",
    "covid['월'] = covid['자치구 기준일'].str.split('.').apply(lambda x : x[1])\n",
    "covid_2022 = covid[covid['연도'] == '2022'].reset_index(drop = True)\n",
    "covid_2022.head(2)"
   ]
  },
  {
   "cell_type": "code",
   "execution_count": null,
   "metadata": {
    "executionInfo": {
     "elapsed": 9,
     "status": "aborted",
     "timestamp": 1694961089957,
     "user": {
      "displayName": "Rachel Lee",
      "userId": "18230890083877121646"
     },
     "user_tz": -540
    },
    "id": "QyTNtT5lgNk-"
   },
   "outputs": [],
   "source": [
    "covid_2022_new = covid_2022[[col for col in covid_2022.columns if not col.endswith('전체')]]\n",
    "covid_2022_new = covid_2022_new.groupby(['연도', '월']).sum().reset_index()\n",
    "# np.sum(covid_2022[covid_2022['월'] == '12']['종로구 추가'])"
   ]
  },
  {
   "cell_type": "code",
   "execution_count": null,
   "metadata": {
    "executionInfo": {
     "elapsed": 9,
     "status": "aborted",
     "timestamp": 1694961089957,
     "user": {
      "displayName": "Rachel Lee",
      "userId": "18230890083877121646"
     },
     "user_tz": -540
    },
    "id": "C57bqMY3gYzi"
   },
   "outputs": [],
   "source": [
    "covid_2022_new.columns = [col.replace('추가', '').strip() for col in covid_2022_new.columns]"
   ]
  },
  {
   "cell_type": "code",
   "execution_count": null,
   "metadata": {
    "executionInfo": {
     "elapsed": 9,
     "status": "aborted",
     "timestamp": 1694961089957,
     "user": {
      "displayName": "Rachel Lee",
      "userId": "18230890083877121646"
     },
     "user_tz": -540
    },
    "id": "PomWHH1YgZGm"
   },
   "outputs": [],
   "source": [
    "covid_2022_new"
   ]
  },
  {
   "cell_type": "code",
   "execution_count": null,
   "metadata": {
    "executionInfo": {
     "elapsed": 9,
     "status": "aborted",
     "timestamp": 1694961089957,
     "user": {
      "displayName": "Rachel Lee",
      "userId": "18230890083877121646"
     },
     "user_tz": -540
    },
    "id": "lM8m6uzdgZId"
   },
   "outputs": [],
   "source": [
    "covid_2022_new = covid_2022_new[['연도', '월', '종로구', '중구', '용산구', '성동구', '광진구', '동대문구', '중랑구', '성북구',\n",
    "       '강북구', '도봉구', '노원구', '은평구', '서대문구', '마포구', '양천구', '강서구', '구로구', '금천구',\n",
    "       '영등포구', '동작구', '관악구', '서초구', '강남구', '송파구', '강동구']]\n",
    "\n",
    "covid_2022_new['DATA_CRTR_YM'] = (covid_2022_new['연도'] + covid_2022_new['월']).astype('int64')\n",
    "covid_2022_new.columns"
   ]
  },
  {
   "cell_type": "code",
   "execution_count": null,
   "metadata": {
    "executionInfo": {
     "elapsed": 9,
     "status": "aborted",
     "timestamp": 1694961089957,
     "user": {
      "displayName": "Rachel Lee",
      "userId": "18230890083877121646"
     },
     "user_tz": -540
    },
    "id": "xWSFCqk6gZKw"
   },
   "outputs": [],
   "source": [
    "covid_2022_new = covid_2022_new[['DATA_CRTR_YM','종로구', '중구', '용산구', '성동구', '광진구', '동대문구', '중랑구', '성북구',\n",
    "       '강북구', '도봉구', '노원구', '은평구', '서대문구', '마포구', '양천구', '강서구', '구로구', '금천구',\n",
    "       '영등포구', '동작구', '관악구', '서초구', '강남구', '송파구', '강동구']]\n",
    "covid_2022_new"
   ]
  },
  {
   "cell_type": "code",
   "execution_count": null,
   "metadata": {
    "executionInfo": {
     "elapsed": 9,
     "status": "aborted",
     "timestamp": 1694961089957,
     "user": {
      "displayName": "Rachel Lee",
      "userId": "18230890083877121646"
     },
     "user_tz": -540
    },
    "id": "fDvsDxkugZM-"
   },
   "outputs": [],
   "source": [
    "covid_2022_final = pd.melt(\n",
    "    covid_2022_new,\n",
    "    id_vars=['DATA_CRTR_YM'],\n",
    "    var_name='시군구명',\n",
    "    value_name='월별코로나환자수'\n",
    ")"
   ]
  },
  {
   "cell_type": "code",
   "execution_count": null,
   "metadata": {
    "executionInfo": {
     "elapsed": 9,
     "status": "aborted",
     "timestamp": 1694961089957,
     "user": {
      "displayName": "Rachel Lee",
      "userId": "18230890083877121646"
     },
     "user_tz": -540
    },
    "id": "8mrkOzFqgZO7"
   },
   "outputs": [],
   "source": [
    "merger3 = merger2.merge(covid_2022_final, how = 'left', on = ['DATA_CRTR_YM', '시군구명'])"
   ]
  },
  {
   "cell_type": "code",
   "execution_count": null,
   "metadata": {
    "executionInfo": {
     "elapsed": 9,
     "status": "aborted",
     "timestamp": 1694961089957,
     "user": {
      "displayName": "Rachel Lee",
      "userId": "18230890083877121646"
     },
     "user_tz": -540
    },
    "id": "ZfQ_dYuKgqT7"
   },
   "outputs": [],
   "source": [
    "merger2.info()"
   ]
  },
  {
   "cell_type": "code",
   "execution_count": null,
   "metadata": {
    "executionInfo": {
     "elapsed": 8,
     "status": "aborted",
     "timestamp": 1694961089957,
     "user": {
      "displayName": "Rachel Lee",
      "userId": "18230890083877121646"
     },
     "user_tz": -540
    },
    "id": "O_elNg1Sgr7X"
   },
   "outputs": [],
   "source": [
    "covid_2022_final"
   ]
  },
  {
   "cell_type": "code",
   "execution_count": null,
   "metadata": {
    "executionInfo": {
     "elapsed": 8,
     "status": "aborted",
     "timestamp": 1694961089957,
     "user": {
      "displayName": "Rachel Lee",
      "userId": "18230890083877121646"
     },
     "user_tz": -540
    },
    "id": "NOEu0iyvgyVf"
   },
   "outputs": [],
   "source": [
    "merger3.head(2).T"
   ]
  },
  {
   "cell_type": "markdown",
   "metadata": {
    "id": "Z00RmPANg396"
   },
   "source": [
    "## [4-4] 여기까지 우선 기존 데이터와 병합 (data_with_gis_final)\n",
    "\n",
    "- 우선 다 넣어두고 나중에 논의해보고 제외할거 제외합시다!"
   ]
  },
  {
   "cell_type": "code",
   "execution_count": null,
   "metadata": {
    "executionInfo": {
     "elapsed": 8,
     "status": "aborted",
     "timestamp": 1694961089957,
     "user": {
      "displayName": "Rachel Lee",
      "userId": "18230890083877121646"
     },
     "user_tz": -540
    },
    "id": "_8IRMWkDg0Oj"
   },
   "outputs": [],
   "source": [
    "data_with_gis_final.head(3).T"
   ]
  },
  {
   "cell_type": "code",
   "execution_count": null,
   "metadata": {
    "executionInfo": {
     "elapsed": 8,
     "status": "aborted",
     "timestamp": 1694961089957,
     "user": {
      "displayName": "Rachel Lee",
      "userId": "18230890083877121646"
     },
     "user_tz": -540
    },
    "id": "r_dO280ahCH8"
   },
   "outputs": [],
   "source": [
    "data_with_gis_final['이산화질소농도(ppm)'] = merger3['이산화질소농도(ppm)']\n",
    "data_with_gis_final['오존농도(ppm)'] = merger3['오존농도(ppm)']\n",
    "data_with_gis_final['일산화탄소농도(ppm)'] = merger3['일산화탄소농도(ppm)']\n",
    "data_with_gis_final['아황산가스(ppm)'] = merger3['아황산가스(ppm)']\n",
    "data_with_gis_final['미세먼지'] = merger3['미세먼지(㎍/㎥)']\n",
    "data_with_gis_final['초미세먼지'] = merger3['초미세먼지(㎍/㎥)']\n",
    "data_with_gis_final['상권_변화_지표'] = merger3['상권_변화_지표']\n",
    "data_with_gis_final['상권_변화_지표_명'] = merger3['상권_변화_지표_명']\n",
    "data_with_gis_final['운영_영업_개월_평균'] = merger3['운영_영업_개월_평균']\n",
    "data_with_gis_final['폐업_영업_개월_평균'] = merger3['폐업_영업_개월_평균']\n",
    "data_with_gis_final['서울_운영_영업_개월_평균'] = merger3['서울_운영_영업_개월_평균']\n",
    "data_with_gis_final['서울_폐업_영업_개월_평균'] = merger3['서울_폐업_영업_개월_평균']\n",
    "data_with_gis_final['월별코로나환자수'] = merger3['월별코로나환자수']"
   ]
  },
  {
   "cell_type": "code",
   "execution_count": null,
   "metadata": {
    "executionInfo": {
     "elapsed": 9,
     "status": "aborted",
     "timestamp": 1694961089958,
     "user": {
      "displayName": "Rachel Lee",
      "userId": "18230890083877121646"
     },
     "user_tz": -540
    },
    "id": "IwpkCG-QibkH"
   },
   "outputs": [],
   "source": [
    "data_with_gis_final.head(3).T"
   ]
  },
  {
   "cell_type": "markdown",
   "metadata": {
    "id": "q8ggsqwsjKpe"
   },
   "source": [
    "## [4-5] 유동인구상가공급 데이터"
   ]
  },
  {
   "cell_type": "code",
   "execution_count": null,
   "metadata": {
    "executionInfo": {
     "elapsed": 9,
     "status": "aborted",
     "timestamp": 1694961089958,
     "user": {
      "displayName": "Rachel Lee",
      "userId": "18230890083877121646"
     },
     "user_tz": -540
    },
    "id": "LEp6gNqyidva"
   },
   "outputs": [],
   "source": [
    "files = glob.glob('/content/drive/MyDrive/ASAC/ML프로젝트_우리사이/승용/data/유동인구상가공급/ES1007AC00101QY22*.csv')\n",
    "files.sort()\n",
    "files"
   ]
  },
  {
   "cell_type": "code",
   "execution_count": null,
   "metadata": {
    "executionInfo": {
     "elapsed": 9,
     "status": "aborted",
     "timestamp": 1694961089958,
     "user": {
      "displayName": "Rachel Lee",
      "userId": "18230890083877121646"
     },
     "user_tz": -540
    },
    "id": "3lYj5BWSjbkW"
   },
   "outputs": [],
   "source": [
    "pop = pd.DataFrame()\n",
    "\n",
    "for file in files:\n",
    "    pop = pd.concat([pop,pd.read_csv(file, sep = '|')])\n",
    "\n",
    "pop"
   ]
  },
  {
   "cell_type": "markdown",
   "metadata": {
    "id": "vS1TwhR6jq6W"
   },
   "source": [
    "## [4-6] 배후지인구당상가면적"
   ]
  },
  {
   "cell_type": "code",
   "execution_count": null,
   "metadata": {
    "executionInfo": {
     "elapsed": 9,
     "status": "aborted",
     "timestamp": 1694961089958,
     "user": {
      "displayName": "Rachel Lee",
      "userId": "18230890083877121646"
     },
     "user_tz": -540
    },
    "id": "QACmflz8jktv"
   },
   "outputs": [],
   "source": [
    "files = glob.glob('/content/drive/MyDrive/ASAC/ML프로젝트_우리사이/승용/data/배후지인구당상가면적/ES1007AA00101QY22*.csv')\n",
    "files.sort()\n",
    "files"
   ]
  },
  {
   "cell_type": "code",
   "execution_count": null,
   "metadata": {
    "executionInfo": {
     "elapsed": 9,
     "status": "aborted",
     "timestamp": 1694961089958,
     "user": {
      "displayName": "Rachel Lee",
      "userId": "18230890083877121646"
     },
     "user_tz": -540
    },
    "id": "Ebrkt6Y-juxH"
   },
   "outputs": [],
   "source": [
    "building = pd.DataFrame()\n",
    "\n",
    "for file in files:\n",
    "    building = pd.concat([building,pd.read_csv(file, sep = '|')])"
   ]
  },
  {
   "cell_type": "code",
   "execution_count": null,
   "metadata": {
    "executionInfo": {
     "elapsed": 9449,
     "status": "aborted",
     "timestamp": 1694961089958,
     "user": {
      "displayName": "Rachel Lee",
      "userId": "18230890083877121646"
     },
     "user_tz": -540
    },
    "id": "y3PAcW1VjvvA"
   },
   "outputs": [],
   "source": [
    "building"
   ]
  },
  {
   "cell_type": "markdown",
   "metadata": {
    "id": "tixkULc7jwtc"
   },
   "source": [
    "## [4-7] 젠트리피케이션위험지수"
   ]
  },
  {
   "cell_type": "code",
   "execution_count": null,
   "metadata": {
    "executionInfo": {
     "elapsed": 9448,
     "status": "aborted",
     "timestamp": 1694961089958,
     "user": {
      "displayName": "Rachel Lee",
      "userId": "18230890083877121646"
     },
     "user_tz": -540
    },
    "id": "1ROXsGqnjzwt"
   },
   "outputs": [],
   "source": [
    "files = glob.glob('/content/drive/MyDrive/ASAC/ML프로젝트_우리사이/승용/data/젠트리피케이션위험지수/ES1007AJ00101MM22*.csv')\n",
    "files.sort()\n",
    "files"
   ]
  },
  {
   "cell_type": "code",
   "execution_count": null,
   "metadata": {
    "executionInfo": {
     "elapsed": 9447,
     "status": "aborted",
     "timestamp": 1694961089958,
     "user": {
      "displayName": "Rachel Lee",
      "userId": "18230890083877121646"
     },
     "user_tz": -540
    },
    "id": "ADH4mDgnjzy7"
   },
   "outputs": [],
   "source": [
    "gen = pd.DataFrame()\n",
    "\n",
    "for file in files:\n",
    "    gen = pd.concat([gen,pd.read_csv(file, sep = '|')])\n",
    "\n",
    "gen"
   ]
  },
  {
   "cell_type": "markdown",
   "metadata": {
    "id": "JJAeeH9mkFNj"
   },
   "source": [
    "## [4-8] 유동인구상가공급, 배후지운구당상가면적, 젠트리피케이션위험지수, 원본데이터 결합"
   ]
  },
  {
   "cell_type": "code",
   "execution_count": null,
   "metadata": {
    "executionInfo": {
     "elapsed": 9445,
     "status": "aborted",
     "timestamp": 1694961089958,
     "user": {
      "displayName": "Rachel Lee",
      "userId": "18230890083877121646"
     },
     "user_tz": -540
    },
    "id": "lrCkTgyHk7b6"
   },
   "outputs": [],
   "source": [
    "# 분기값 부여\n",
    "rate['분기'] = rate['DATA_CRTR_YM'].apply(lambda x : to_quarter(str(x)[-2:]))"
   ]
  },
  {
   "cell_type": "code",
   "execution_count": null,
   "metadata": {
    "executionInfo": {
     "elapsed": 9444,
     "status": "aborted",
     "timestamp": 1694961089958,
     "user": {
      "displayName": "Rachel Lee",
      "userId": "18230890083877121646"
     },
     "user_tz": -540
    },
    "id": "1TNefScljz1F"
   },
   "outputs": [],
   "source": [
    "pop.columns = ['DATA_CRTR_YM', 'LT_UNQ_NO', 'STDG_EMD_CD', 'INDUSTRY_CD', 'sopsrt_spl_dims']\n",
    "building.columns = ['DATA_CRTR_YM', 'LT_UNQ_NO', 'STDG_EMD_CD', 'INDUSTRY_CD', 'pul_party_sopsrt_dims']\n",
    "gen.columns = ['DATA_CRTR_YM', 'LT_UNQ_NO', 'STDG_EMD_CD', 'INDUSTRY_CD', 'gtfc_scor']"
   ]
  },
  {
   "cell_type": "markdown",
   "metadata": {
    "id": "fwpPP5tSkU1V"
   },
   "source": [
    "### pop 병합"
   ]
  },
  {
   "cell_type": "code",
   "execution_count": null,
   "metadata": {
    "executionInfo": {
     "elapsed": 9444,
     "status": "aborted",
     "timestamp": 1694961089959,
     "user": {
      "displayName": "Rachel Lee",
      "userId": "18230890083877121646"
     },
     "user_tz": -540
    },
    "id": "RZ2Fruw9jz3O"
   },
   "outputs": [],
   "source": [
    "pop['분기'] = pop['DATA_CRTR_YM'].apply(lambda x : str(x)[-2:]).map({'03':1,'06':2,'09':3,'12':4})\n",
    "pop.head(2)"
   ]
  },
  {
   "cell_type": "code",
   "execution_count": null,
   "metadata": {
    "executionInfo": {
     "elapsed": 9442,
     "status": "aborted",
     "timestamp": 1694961089959,
     "user": {
      "displayName": "Rachel Lee",
      "userId": "18230890083877121646"
     },
     "user_tz": -540
    },
    "id": "Tu7pLi74jz5K"
   },
   "outputs": [],
   "source": [
    "merger1 = rate.merge(pop, how = 'left', on = ['분기', 'LT_UNQ_NO', 'STDG_EMD_CD', 'INDUSTRY_CD' ], suffixes = ('', \"_right\"))"
   ]
  },
  {
   "cell_type": "code",
   "execution_count": null,
   "metadata": {
    "executionInfo": {
     "elapsed": 9441,
     "status": "aborted",
     "timestamp": 1694961089959,
     "user": {
      "displayName": "Rachel Lee",
      "userId": "18230890083877121646"
     },
     "user_tz": -540
    },
    "id": "frwPuVZxjz7V"
   },
   "outputs": [],
   "source": [
    "display(merger1.head(2)), merger1.shape"
   ]
  },
  {
   "cell_type": "markdown",
   "metadata": {
    "id": "HibuhdTikZwH"
   },
   "source": [
    "### building 병합"
   ]
  },
  {
   "cell_type": "code",
   "execution_count": null,
   "metadata": {
    "executionInfo": {
     "elapsed": 9440,
     "status": "aborted",
     "timestamp": 1694961089959,
     "user": {
      "displayName": "Rachel Lee",
      "userId": "18230890083877121646"
     },
     "user_tz": -540
    },
    "id": "QYVWuuImkZ7e"
   },
   "outputs": [],
   "source": [
    "building['분기'] = building['DATA_CRTR_YM'].apply(lambda x : str(x)[-2:]).map({'03':1,'06':2,'09':3,'12':4})\n",
    "building.head(2)"
   ]
  },
  {
   "cell_type": "code",
   "execution_count": null,
   "metadata": {
    "executionInfo": {
     "elapsed": 9439,
     "status": "aborted",
     "timestamp": 1694961089959,
     "user": {
      "displayName": "Rachel Lee",
      "userId": "18230890083877121646"
     },
     "user_tz": -540
    },
    "id": "nYS4klOgkZ9g"
   },
   "outputs": [],
   "source": [
    "merger2 = merger1.merge(building, how = 'left', on = ['분기', 'LT_UNQ_NO', 'STDG_EMD_CD', 'INDUSTRY_CD' ], suffixes = ('', \"_right\"))\n",
    "display(merger2.head(2)), merger2.shape"
   ]
  },
  {
   "cell_type": "markdown",
   "metadata": {
    "id": "gzIuj1GhkaFQ"
   },
   "source": [
    "### gen 병합"
   ]
  },
  {
   "cell_type": "code",
   "execution_count": null,
   "metadata": {
    "executionInfo": {
     "elapsed": 9438,
     "status": "aborted",
     "timestamp": 1694961089959,
     "user": {
      "displayName": "Rachel Lee",
      "userId": "18230890083877121646"
     },
     "user_tz": -540
    },
    "id": "e_s5MdCjke2M"
   },
   "outputs": [],
   "source": [
    "merger3 = merger2.merge(gen, how = 'left', on = ['DATA_CRTR_YM', 'LT_UNQ_NO', 'STDG_EMD_CD', 'INDUSTRY_CD' ], suffixes = ('','_right'))\n",
    "display(merger3.head(2)), merger3.shape"
   ]
  },
  {
   "cell_type": "markdown",
   "metadata": {
    "id": "bsXBDuUtklhE"
   },
   "source": [
    "### 최종 정리"
   ]
  },
  {
   "cell_type": "code",
   "execution_count": null,
   "metadata": {
    "executionInfo": {
     "elapsed": 9436,
     "status": "aborted",
     "timestamp": 1694961089959,
     "user": {
      "displayName": "Rachel Lee",
      "userId": "18230890083877121646"
     },
     "user_tz": -540
    },
    "id": "YKztLzJwkom9"
   },
   "outputs": [],
   "source": [
    "merger3.drop_duplicates()"
   ]
  },
  {
   "cell_type": "code",
   "execution_count": null,
   "metadata": {
    "executionInfo": {
     "elapsed": 9435,
     "status": "aborted",
     "timestamp": 1694961089959,
     "user": {
      "displayName": "Rachel Lee",
      "userId": "18230890083877121646"
     },
     "user_tz": -540
    },
    "id": "41iV553Ykor4"
   },
   "outputs": [],
   "source": [
    "merger_final = merger3[['DATA_CRTR_YM', 'LT_UNQ_NO', 'STDG_EMD_CD', 'INDUSTRY_CD', 'SLS_GRD','sopsrt_spl_dims', 'pul_party_sopsrt_dims', 'gtfc_scor']]\n",
    "merger_final.columns = ['DATA_CRTR_YM', 'LT_UNQ_NO', 'STDG_EMD_CD', 'INDUSTRY_CD', 'SLS_GRD','유동인구상가공급', '배후지인구당상가면적', '젠트리피케이션위험지수']\n",
    "merger_final"
   ]
  },
  {
   "cell_type": "code",
   "execution_count": null,
   "metadata": {
    "executionInfo": {
     "elapsed": 9434,
     "status": "aborted",
     "timestamp": 1694961089959,
     "user": {
      "displayName": "Rachel Lee",
      "userId": "18230890083877121646"
     },
     "user_tz": -540
    },
    "id": "GTlR0bB0kouP"
   },
   "outputs": [],
   "source": [
    "merger_final.info()"
   ]
  },
  {
   "cell_type": "markdown",
   "metadata": {
    "id": "AC76s13dlVRp"
   },
   "source": [
    "## [4-9] 최종 데이터 병합 (data_with_gis_final)\n"
   ]
  },
  {
   "cell_type": "code",
   "execution_count": null,
   "metadata": {
    "executionInfo": {
     "elapsed": 9432,
     "status": "aborted",
     "timestamp": 1694961089959,
     "user": {
      "displayName": "Rachel Lee",
      "userId": "18230890083877121646"
     },
     "user_tz": -540
    },
    "id": "DQ4s4YLakowt"
   },
   "outputs": [],
   "source": [
    "data_with_gis_final.head(3).T"
   ]
  },
  {
   "cell_type": "code",
   "execution_count": null,
   "metadata": {
    "executionInfo": {
     "elapsed": 9431,
     "status": "aborted",
     "timestamp": 1694961089959,
     "user": {
      "displayName": "Rachel Lee",
      "userId": "18230890083877121646"
     },
     "user_tz": -540
    },
    "id": "EKuL9wgNluYD"
   },
   "outputs": [],
   "source": [
    "merger_final.head(3)"
   ]
  },
  {
   "cell_type": "code",
   "execution_count": null,
   "metadata": {
    "executionInfo": {
     "elapsed": 9429,
     "status": "aborted",
     "timestamp": 1694961089959,
     "user": {
      "displayName": "Rachel Lee",
      "userId": "18230890083877121646"
     },
     "user_tz": -540
    },
    "id": "ExzBg0l1lh3G"
   },
   "outputs": [],
   "source": [
    "data_with_gis_final['유동인구상가공급'] = merger_final['유동인구상가공급']\n",
    "data_with_gis_final['배후지인구당상가면적'] = merger_final['배후지인구당상가면적']\n",
    "data_with_gis_final['젠트리피케이션위험지수'] = merger_final['젠트리피케이션위험지수']\n",
    "data_with_gis_final.head(3).T"
   ]
  },
  {
   "cell_type": "code",
   "execution_count": null,
   "metadata": {
    "executionInfo": {
     "elapsed": 9427,
     "status": "aborted",
     "timestamp": 1694961089959,
     "user": {
      "displayName": "Rachel Lee",
      "userId": "18230890083877121646"
     },
     "user_tz": -540
    },
    "id": "p1MPqc5_mE82"
   },
   "outputs": [],
   "source": [
    "data_with_gis_final.drop(['도로명주소_x'], axis = 1, inplace = True)\n",
    "data_with_gis_final"
   ]
  },
  {
   "cell_type": "markdown",
   "metadata": {
    "id": "D1oyTRaTmhS2"
   },
   "source": [
    "# [5] 23.09.09 기준 전처리 코드 및 데이터 통합\n",
    "\n",
    "- 파일명 : data_with_gis_final / 전처리완료_230909_한석.csv"
   ]
  },
  {
   "cell_type": "code",
   "execution_count": null,
   "metadata": {
    "executionInfo": {
     "elapsed": 9427,
     "status": "aborted",
     "timestamp": 1694961089960,
     "user": {
      "displayName": "Rachel Lee",
      "userId": "18230890083877121646"
     },
     "user_tz": -540
    },
    "id": "w3Le-Ha6mSJC"
   },
   "outputs": [],
   "source": [
    "data_with_gis_final.to_csv('/content/drive/MyDrive/ASAC/ML프로젝트_우리사이/data/사전_조인작업/join_features/전처리완료_230909_한석.csv', index = False, encoding = 'cp949')"
   ]
  },
  {
   "cell_type": "markdown",
   "metadata": {
    "id": "XFKrkoBbp8E6"
   },
   "source": [
    "# [6] 상권코드 결합\n",
    "- 병합 결과 : 전처리완료_230911_한석.csv"
   ]
  },
  {
   "cell_type": "markdown",
   "metadata": {
    "id": "Dr4fKc455BlM"
   },
   "source": [
    "## 데이터로드"
   ]
  },
  {
   "cell_type": "code",
   "execution_count": null,
   "metadata": {
    "executionInfo": {
     "elapsed": 9425,
     "status": "aborted",
     "timestamp": 1694961089960,
     "user": {
      "displayName": "Rachel Lee",
      "userId": "18230890083877121646"
     },
     "user_tz": -540
    },
    "id": "-oKmO6iUmM5i"
   },
   "outputs": [],
   "source": [
    "data_with_gis_final = pd.read_csv('/content/drive/MyDrive/ASAC/ML프로젝트_우리사이/data/사전_조인작업/join_features/전처리완료_230909_한석.csv', encoding = 'cp949')"
   ]
  },
  {
   "cell_type": "code",
   "execution_count": null,
   "metadata": {
    "executionInfo": {
     "elapsed": 9424,
     "status": "aborted",
     "timestamp": 1694961089960,
     "user": {
      "displayName": "Rachel Lee",
      "userId": "18230890083877121646"
     },
     "user_tz": -540
    },
    "id": "5hV1ezdQqFeQ"
   },
   "outputs": [],
   "source": [
    "data_with_gis_final"
   ]
  },
  {
   "cell_type": "markdown",
   "metadata": {
    "id": "1kxDHB7m5Lr7"
   },
   "source": [
    "## GIS 툴을 활용한 매핑 데이터 로드\n",
    "\n",
    "- 상권 중심 좌표가 소속된 법정동 추출\n",
    "- 각 필지가 어떤 상권에 소속되는지 추출"
   ]
  },
  {
   "cell_type": "code",
   "execution_count": null,
   "metadata": {
    "executionInfo": {
     "elapsed": 9423,
     "status": "aborted",
     "timestamp": 1694961089960,
     "user": {
      "displayName": "Rachel Lee",
      "userId": "18230890083877121646"
     },
     "user_tz": -540
    },
    "id": "6QdQZSOjqTmG"
   },
   "outputs": [],
   "source": [
    "market_code_1 = pd.read_csv('/content/drive/MyDrive/ASAC/ML프로젝트_우리사이/data/gis_완료_data/1번_상권매핑.csv', encoding = 'cp949')\n",
    "market_code_2 = pd.read_csv('/content/drive/MyDrive/ASAC/ML프로젝트_우리사이/data/gis_완료_data/2번_상권매핑.csv', encoding = 'cp949')\n",
    "market_code_3 = pd.read_csv('/content/drive/MyDrive/ASAC/ML프로젝트_우리사이/data/gis_완료_data/3번_상권매핑.csv', encoding = 'cp949')\n",
    "market_code_4 = pd.read_csv('/content/drive/MyDrive/ASAC/ML프로젝트_우리사이/data/gis_완료_data/4번_상권매핑.csv', encoding = 'cp949')\n",
    "market_code_5 = pd.read_csv('/content/drive/MyDrive/ASAC/ML프로젝트_우리사이/data/gis_완료_data/5번_상권매핑.csv', encoding = 'cp949')\n",
    "market_code_6 = pd.read_csv('/content/drive/MyDrive/ASAC/ML프로젝트_우리사이/data/gis_완료_data/6번_상권매핑.csv', encoding = 'cp949')\n",
    "market_code_7 = pd.read_csv('/content/drive/MyDrive/ASAC/ML프로젝트_우리사이/data/gis_완료_data/7번_상권매핑.csv', encoding = 'cp949')\n",
    "market_code_8 = pd.read_csv('/content/drive/MyDrive/ASAC/ML프로젝트_우리사이/data/gis_완료_data/8번_상권매핑.csv', encoding = 'cp949')"
   ]
  },
  {
   "cell_type": "code",
   "execution_count": null,
   "metadata": {
    "executionInfo": {
     "elapsed": 9422,
     "status": "aborted",
     "timestamp": 1694961089960,
     "user": {
      "displayName": "Rachel Lee",
      "userId": "18230890083877121646"
     },
     "user_tz": -540
    },
    "id": "uI0tHRb2t8OZ"
   },
   "outputs": [],
   "source": [
    "market_code_1 = market_code_1.drop_duplicates(['field1']).reset_index().drop(['index'], axis = 1)\n",
    "market_code_2 = market_code_2.drop_duplicates(['field1']).reset_index().drop(['index'], axis = 1)\n",
    "market_code_3 = market_code_3.drop_duplicates(['field1']).reset_index().drop(['index'], axis = 1)\n",
    "market_code_4 = market_code_4.drop_duplicates(['field1']).reset_index().drop(['index'], axis = 1)\n",
    "market_code_5 = market_code_5.drop_duplicates(['field1']).reset_index().drop(['index'], axis = 1)\n",
    "market_code_6 = market_code_6.drop_duplicates(['field1']).reset_index().drop(['index'], axis = 1)\n",
    "market_code_7 = market_code_7.drop_duplicates(['field1']).reset_index().drop(['index'], axis = 1)\n",
    "market_code_8 = market_code_8.drop_duplicates(['field1']).reset_index().drop(['index'], axis = 1)"
   ]
  },
  {
   "cell_type": "code",
   "execution_count": null,
   "metadata": {
    "executionInfo": {
     "elapsed": 9420,
     "status": "aborted",
     "timestamp": 1694961089960,
     "user": {
      "displayName": "Rachel Lee",
      "userId": "18230890083877121646"
     },
     "user_tz": -540
    },
    "id": "TRm410zh1XRz"
   },
   "outputs": [],
   "source": [
    "data_with_gis.reset_index()"
   ]
  },
  {
   "cell_type": "code",
   "execution_count": null,
   "metadata": {
    "executionInfo": {
     "elapsed": 9419,
     "status": "aborted",
     "timestamp": 1694961089960,
     "user": {
      "displayName": "Rachel Lee",
      "userId": "18230890083877121646"
     },
     "user_tz": -540
    },
    "id": "gLo5DPdLvxIY"
   },
   "outputs": [],
   "source": [
    "# gis데이터 병합\n",
    "dataframes = [market_code_1, market_code_2, market_code_3, market_code_4,market_code_5, market_code_6, market_code_7, market_code_8]\n",
    "combined_df = pd.concat(dataframes, axis=0, ignore_index=True)"
   ]
  },
  {
   "cell_type": "code",
   "execution_count": null,
   "metadata": {
    "executionInfo": {
     "elapsed": 9418,
     "status": "aborted",
     "timestamp": 1694961089960,
     "user": {
      "displayName": "Rachel Lee",
      "userId": "18230890083877121646"
     },
     "user_tz": -540
    },
    "id": "V6FDK5FZzgxL"
   },
   "outputs": [],
   "source": [
    "# 결합을 위한 인덱스 초기화\n",
    "combined_df['LT_UNQ_NO'] = data_with_gis.reset_index()['LT_UNQ_NO']"
   ]
  },
  {
   "cell_type": "code",
   "execution_count": null,
   "metadata": {
    "executionInfo": {
     "elapsed": 9417,
     "status": "aborted",
     "timestamp": 1694961089960,
     "user": {
      "displayName": "Rachel Lee",
      "userId": "18230890083877121646"
     },
     "user_tz": -540
    },
    "id": "agnl09u02NXo"
   },
   "outputs": [],
   "source": [
    "data_with_gis_final.columns"
   ]
  },
  {
   "cell_type": "code",
   "execution_count": null,
   "metadata": {
    "executionInfo": {
     "elapsed": 9416,
     "status": "aborted",
     "timestamp": 1694961089960,
     "user": {
      "displayName": "Rachel Lee",
      "userId": "18230890083877121646"
     },
     "user_tz": -540
    },
    "id": "9FyLfuH6xy6l"
   },
   "outputs": [],
   "source": [
    "# 원 데이터와 결합\n",
    "data_with_gis_final = pd.merge(data_with_gis_final, combined_df, how = 'left', on = 'LT_UNQ_NO')\n",
    "data_with_gis_final = data_with_gis_final.drop([ 'field1', 'field2','TRDAR_SE_C', 'TRDAR_SE_1', 'TRDAR_CD_N', 'XCNTS_VALU','YDNTS_VALU', 'SIGNGU_CD', 'ADSTRD_CD'], axis = 1)\n",
    "data_with_gis_final.info()"
   ]
  },
  {
   "cell_type": "code",
   "execution_count": null,
   "metadata": {
    "executionInfo": {
     "elapsed": 9414,
     "status": "aborted",
     "timestamp": 1694961089960,
     "user": {
      "displayName": "Rachel Lee",
      "userId": "18230890083877121646"
     },
     "user_tz": -540
    },
    "id": "xJfJbDI03eln"
   },
   "outputs": [],
   "source": [
    "# 22년 데이터로 전환 위해 우선 na값은 1000000으로 채워줌. (이후 1000000을 뺄것이기 때문)\n",
    "data_with_gis_final['TRDAR_CD'] = data_with_gis_final['TRDAR_CD'].fillna(1000000)"
   ]
  },
  {
   "cell_type": "code",
   "execution_count": null,
   "metadata": {
    "executionInfo": {
     "elapsed": 9413,
     "status": "aborted",
     "timestamp": 1694961089960,
     "user": {
      "displayName": "Rachel Lee",
      "userId": "18230890083877121646"
     },
     "user_tz": -540
    },
    "id": "1RhyiT-qwLMx"
   },
   "outputs": [],
   "source": [
    "data_with_gis_final['TRDAR_CD'] = data_with_gis_final['TRDAR_CD'].astype(int) - 1000000\n",
    "data_with_gis_final.head(2)"
   ]
  },
  {
   "cell_type": "code",
   "execution_count": null,
   "metadata": {
    "executionInfo": {
     "elapsed": 9411,
     "status": "aborted",
     "timestamp": 1694961089960,
     "user": {
      "displayName": "Rachel Lee",
      "userId": "18230890083877121646"
     },
     "user_tz": -540
    },
    "id": "r6X79hGGwLQb"
   },
   "outputs": [],
   "source": [
    "# 병합완료된 전처리 파일\n",
    "data_with_gis_final.to_csv('/content/drive/MyDrive/ASAC/ML프로젝트_우리사이/data/사전_조인작업/join_features/전처리완료_230911_한석.csv', index = False, encoding = 'cp949')"
   ]
  },
  {
   "cell_type": "code",
   "execution_count": null,
   "metadata": {
    "executionInfo": {
     "elapsed": 9411,
     "status": "aborted",
     "timestamp": 1694961089961,
     "user": {
      "displayName": "Rachel Lee",
      "userId": "18230890083877121646"
     },
     "user_tz": -540
    },
    "id": "RKZuFxrPrQc4"
   },
   "outputs": [],
   "source": [
    "# mapping용 데이터 추가 생성\n",
    "data_for_sg = data_with_gis_final[['DATA_CRTR_YM', 'LT_UNQ_NO','TRDAR_CD','STDG_EMD_CD']]\n",
    "data_for_dong = data_with_gis_final[['DATA_CRTR_YM', 'LT_UNQ_NO','STDG_EMD_CD']]\n",
    "data_for_sg.head()"
   ]
  },
  {
   "cell_type": "code",
   "execution_count": null,
   "metadata": {
    "executionInfo": {
     "elapsed": 9409,
     "status": "aborted",
     "timestamp": 1694961089961,
     "user": {
      "displayName": "Rachel Lee",
      "userId": "18230890083877121646"
     },
     "user_tz": -540
    },
    "id": "5AR5xg7-40bY"
   },
   "outputs": [],
   "source": [
    "data_for_dong.head()"
   ]
  },
  {
   "cell_type": "code",
   "execution_count": null,
   "metadata": {
    "executionInfo": {
     "elapsed": 9408,
     "status": "aborted",
     "timestamp": 1694961089961,
     "user": {
      "displayName": "Rachel Lee",
      "userId": "18230890083877121646"
     },
     "user_tz": -540
    },
    "id": "guOgVolw7863"
   },
   "outputs": [],
   "source": [
    "data_for_sg[data_for_sg['TRDAR_CD'] != 0]"
   ]
  },
  {
   "cell_type": "code",
   "execution_count": null,
   "metadata": {
    "executionInfo": {
     "elapsed": 9407,
     "status": "aborted",
     "timestamp": 1694961089961,
     "user": {
      "displayName": "Rachel Lee",
      "userId": "18230890083877121646"
     },
     "user_tz": -540
    },
    "id": "QTtVOb7C4qRR"
   },
   "outputs": [],
   "source": [
    "data_for_sg.to_csv('/content/drive/MyDrive/ASAC/ML프로젝트_우리사이/data/사전_조인작업/join_features/상권코드결합용_230911_한석.csv', index = False, encoding = 'cp949')\n",
    "data_for_dong.to_csv('/content/drive/MyDrive/ASAC/ML프로젝트_우리사이/data/사전_조인작업/join_features/법정동코드결합용_230911_한석.csv', index = False, encoding = 'cp949')"
   ]
  }
 ],
 "metadata": {
  "colab": {
   "provenance": []
  },
  "kernelspec": {
   "display_name": "Python 3 (ipykernel)",
   "language": "python",
   "name": "python3"
  },
  "language_info": {
   "codemirror_mode": {
    "name": "ipython",
    "version": 3
   },
   "file_extension": ".py",
   "mimetype": "text/x-python",
   "name": "python",
   "nbconvert_exporter": "python",
   "pygments_lexer": "ipython3",
   "version": "3.10.11"
  }
 },
 "nbformat": 4,
 "nbformat_minor": 4
}
